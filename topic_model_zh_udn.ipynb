{
 "cells": [
  {
   "cell_type": "markdown",
   "metadata": {},
   "source": [
    "## 第X組：期末報告\n",
    "\n"
   ]
  },
  {
   "cell_type": "markdown",
   "metadata": {},
   "source": [
    "## 1. 載入必要套件\n"
   ]
  },
  {
   "cell_type": "code",
   "execution_count": 1,
   "metadata": {},
   "outputs": [],
   "source": [
    "import time \n",
    "from functools import reduce\n",
    "from collections import Counter\n",
    "from pprint import pprint\n",
    "\n",
    "import numpy as np\n",
    "import pandas as pd\n",
    "import matplotlib.pyplot as plt\n",
    "import jieba\n",
    "from sklearn.feature_extraction.text import TfidfVectorizer, CountVectorizer\n",
    "from gensim.corpora import Dictionary\n",
    "from gensim.models import LdaModel, CoherenceModel\n",
    "from gensim.models.ldamulticore import LdaMulticore\n",
    "from gensim.matutils import corpus2csc, corpus2dense, Sparse2Corpus\n",
    "from wordcloud import WordCloud\n",
    "import pyLDAvis\n",
    "import pyLDAvis.gensim_models"
   ]
  },
  {
   "cell_type": "code",
   "execution_count": 2,
   "metadata": {},
   "outputs": [],
   "source": [
    "import logging\n",
    "logging.basicConfig(format='%(asctime)s : %(levelname)s : %(message)s', level=logging.INFO)"
   ]
  },
  {
   "cell_type": "code",
   "execution_count": 3,
   "metadata": {},
   "outputs": [],
   "source": [
    "plt.rcParams['font.sans-serif'] = ['Microsoft JhengHei']  # 微軟正黑體\n",
    "plt.rcParams['axes.unicode_minus'] = False\n"
   ]
  },
  {
   "cell_type": "markdown",
   "metadata": {},
   "source": [
    "## 2. 資料前處理"
   ]
  },
  {
   "cell_type": "code",
   "execution_count": 7,
   "metadata": {},
   "outputs": [
    {
     "data": {
      "text/html": [
       "<div>\n",
       "<style scoped>\n",
       "    .dataframe tbody tr th:only-of-type {\n",
       "        vertical-align: middle;\n",
       "    }\n",
       "\n",
       "    .dataframe tbody tr th {\n",
       "        vertical-align: top;\n",
       "    }\n",
       "\n",
       "    .dataframe thead th {\n",
       "        text-align: right;\n",
       "    }\n",
       "</style>\n",
       "<table border=\"1\" class=\"dataframe\">\n",
       "  <thead>\n",
       "    <tr style=\"text-align: right;\">\n",
       "      <th></th>\n",
       "      <th>reviewId</th>\n",
       "      <th>score</th>\n",
       "      <th>content</th>\n",
       "      <th>at</th>\n",
       "      <th>appVersion</th>\n",
       "      <th>userName</th>\n",
       "    </tr>\n",
       "  </thead>\n",
       "  <tbody>\n",
       "    <tr>\n",
       "      <th>0</th>\n",
       "      <td>179e2c16-8898-4086-96ff-b897f0284ac4</td>\n",
       "      <td>1</td>\n",
       "      <td>更新後完全登入不進去，請立即改善。</td>\n",
       "      <td>2017-12-29 18:17:05</td>\n",
       "      <td>3.15.1219</td>\n",
       "      <td>Google 使用者</td>\n",
       "    </tr>\n",
       "    <tr>\n",
       "      <th>1</th>\n",
       "      <td>781b02f8-bc78-4240-bb9e-45b2d9ccd61f</td>\n",
       "      <td>3</td>\n",
       "      <td>希望可以新增圖形手勢或是指紋登入</td>\n",
       "      <td>2017-12-22 16:00:34</td>\n",
       "      <td>3.15.1219</td>\n",
       "      <td>Google 使用者</td>\n",
       "    </tr>\n",
       "    <tr>\n",
       "      <th>2</th>\n",
       "      <td>ed390033-a91c-4146-bde7-d4533145e9ba</td>\n",
       "      <td>1</td>\n",
       "      <td>按五顆星的自己員工逆？ 載入都無法進入的app 有沒有搞錯啊 錢不是這樣花的阿大哥</td>\n",
       "      <td>2017-12-21 12:25:16</td>\n",
       "      <td>3.15.1219</td>\n",
       "      <td>Google 使用者</td>\n",
       "    </tr>\n",
       "  </tbody>\n",
       "</table>\n",
       "</div>"
      ],
      "text/plain": [
       "                               reviewId  score  \\\n",
       "0  179e2c16-8898-4086-96ff-b897f0284ac4      1   \n",
       "1  781b02f8-bc78-4240-bb9e-45b2d9ccd61f      3   \n",
       "2  ed390033-a91c-4146-bde7-d4533145e9ba      1   \n",
       "\n",
       "                                     content                   at appVersion  \\\n",
       "0                          更新後完全登入不進去，請立即改善。  2017-12-29 18:17:05  3.15.1219   \n",
       "1                           希望可以新增圖形手勢或是指紋登入  2017-12-22 16:00:34  3.15.1219   \n",
       "2  按五顆星的自己員工逆？ 載入都無法進入的app 有沒有搞錯啊 錢不是這樣花的阿大哥  2017-12-21 12:25:16  3.15.1219   \n",
       "\n",
       "     userName  \n",
       "0  Google 使用者  \n",
       "1  Google 使用者  \n",
       "2  Google 使用者  "
      ]
     },
     "execution_count": 7,
     "metadata": {},
     "output_type": "execute_result"
    }
   ],
   "source": [
    "udn = pd.read_csv(\"merged_data.csv\")  # 匯資料\n",
    "\n",
    "udn = udn[['reviewId', 'score', 'content', 'at', 'appVersion','userName']]\n",
    "udn.head(3)"
   ]
  },
  {
   "cell_type": "code",
   "execution_count": 8,
   "metadata": {},
   "outputs": [
    {
     "data": {
      "text/html": [
       "<div>\n",
       "<style scoped>\n",
       "    .dataframe tbody tr th:only-of-type {\n",
       "        vertical-align: middle;\n",
       "    }\n",
       "\n",
       "    .dataframe tbody tr th {\n",
       "        vertical-align: top;\n",
       "    }\n",
       "\n",
       "    .dataframe thead th {\n",
       "        text-align: right;\n",
       "    }\n",
       "</style>\n",
       "<table border=\"1\" class=\"dataframe\">\n",
       "  <thead>\n",
       "    <tr style=\"text-align: right;\">\n",
       "      <th></th>\n",
       "      <th>reviewId</th>\n",
       "      <th>score</th>\n",
       "      <th>content</th>\n",
       "      <th>artDate</th>\n",
       "      <th>appVersion</th>\n",
       "      <th>userName</th>\n",
       "    </tr>\n",
       "  </thead>\n",
       "  <tbody>\n",
       "    <tr>\n",
       "      <th>0</th>\n",
       "      <td>179e2c16-8898-4086-96ff-b897f0284ac4</td>\n",
       "      <td>1</td>\n",
       "      <td>更新後完全登入不進去，請立即改善。</td>\n",
       "      <td>2017-12-29 18:17:05</td>\n",
       "      <td>3.15</td>\n",
       "      <td>Google 使用者</td>\n",
       "    </tr>\n",
       "    <tr>\n",
       "      <th>1</th>\n",
       "      <td>781b02f8-bc78-4240-bb9e-45b2d9ccd61f</td>\n",
       "      <td>3</td>\n",
       "      <td>希望可以新增圖形手勢或是指紋登入</td>\n",
       "      <td>2017-12-22 16:00:34</td>\n",
       "      <td>3.15</td>\n",
       "      <td>Google 使用者</td>\n",
       "    </tr>\n",
       "    <tr>\n",
       "      <th>2</th>\n",
       "      <td>ed390033-a91c-4146-bde7-d4533145e9ba</td>\n",
       "      <td>1</td>\n",
       "      <td>按五顆星的自己員工逆？ 載入都無法進入的app 有沒有搞錯啊 錢不是這樣花的阿大哥</td>\n",
       "      <td>2017-12-21 12:25:16</td>\n",
       "      <td>3.15</td>\n",
       "      <td>Google 使用者</td>\n",
       "    </tr>\n",
       "  </tbody>\n",
       "</table>\n",
       "</div>"
      ],
      "text/plain": [
       "                               reviewId  score  \\\n",
       "0  179e2c16-8898-4086-96ff-b897f0284ac4      1   \n",
       "1  781b02f8-bc78-4240-bb9e-45b2d9ccd61f      3   \n",
       "2  ed390033-a91c-4146-bde7-d4533145e9ba      1   \n",
       "\n",
       "                                     content             artDate appVersion  \\\n",
       "0                          更新後完全登入不進去，請立即改善。 2017-12-29 18:17:05       3.15   \n",
       "1                           希望可以新增圖形手勢或是指紋登入 2017-12-22 16:00:34       3.15   \n",
       "2  按五顆星的自己員工逆？ 載入都無法進入的app 有沒有搞錯啊 錢不是這樣花的阿大哥 2017-12-21 12:25:16       3.15   \n",
       "\n",
       "     userName  \n",
       "0  Google 使用者  \n",
       "1  Google 使用者  \n",
       "2  Google 使用者  "
      ]
     },
     "execution_count": 8,
     "metadata": {},
     "output_type": "execute_result"
    }
   ],
   "source": [
    "# 只留下中文字\n",
    "udn[\"content\"] = udn[\"content\"].str.replace(\"(http|https)://.*\", \"\", regex=True)\n",
    "udn['artDate'] = pd.to_datetime(udn['at'])\n",
    "udn['appVersion'] = udn['appVersion'].str.split('.').str[:2].str.join('.')\n",
    "\n",
    "udn = udn.loc[:,['reviewId', 'score', 'content', 'artDate', 'appVersion','userName']]  # 文章內容 文章連結\n",
    "udn.head(3)"
   ]
  },
  {
   "cell_type": "code",
   "execution_count": 9,
   "metadata": {},
   "outputs": [
    {
     "name": "stderr",
     "output_type": "stream",
     "text": [
      "Building prefix dict from c:\\Users\\hank\\Desktop\\sb\\dict\\dict.txt.big ...\n",
      "2025-05-19 11:32:54,837 : DEBUG : Building prefix dict from c:\\Users\\hank\\Desktop\\sb\\dict\\dict.txt.big ...\n",
      "Loading model from cache C:\\Users\\hank\\AppData\\Local\\Temp\\jieba.u465ee282b7ba9db18471e8710c3c9621.cache\n",
      "2025-05-19 11:32:54,839 : DEBUG : Loading model from cache C:\\Users\\hank\\AppData\\Local\\Temp\\jieba.u465ee282b7ba9db18471e8710c3c9621.cache\n",
      "Loading model cost 0.948 seconds.\n",
      "2025-05-19 11:32:55,787 : DEBUG : Loading model cost 0.948 seconds.\n",
      "Prefix dict has been built successfully.\n",
      "2025-05-19 11:32:55,788 : DEBUG : Prefix dict has been built successfully.\n"
     ]
    },
    {
     "data": {
      "text/html": [
       "<div>\n",
       "<style scoped>\n",
       "    .dataframe tbody tr th:only-of-type {\n",
       "        vertical-align: middle;\n",
       "    }\n",
       "\n",
       "    .dataframe tbody tr th {\n",
       "        vertical-align: top;\n",
       "    }\n",
       "\n",
       "    .dataframe thead th {\n",
       "        text-align: right;\n",
       "    }\n",
       "</style>\n",
       "<table border=\"1\" class=\"dataframe\">\n",
       "  <thead>\n",
       "    <tr style=\"text-align: right;\">\n",
       "      <th></th>\n",
       "      <th>reviewId</th>\n",
       "      <th>score</th>\n",
       "      <th>content</th>\n",
       "      <th>artDate</th>\n",
       "      <th>appVersion</th>\n",
       "      <th>userName</th>\n",
       "      <th>words</th>\n",
       "    </tr>\n",
       "  </thead>\n",
       "  <tbody>\n",
       "    <tr>\n",
       "      <th>0</th>\n",
       "      <td>179e2c16-8898-4086-96ff-b897f0284ac4</td>\n",
       "      <td>1</td>\n",
       "      <td>更新後完全登入不進去，請立即改善。</td>\n",
       "      <td>2017-12-29 18:17:05</td>\n",
       "      <td>3.15</td>\n",
       "      <td>Google 使用者</td>\n",
       "      <td>[更新, 完全, 登入, 立即, 改善]</td>\n",
       "    </tr>\n",
       "    <tr>\n",
       "      <th>1</th>\n",
       "      <td>781b02f8-bc78-4240-bb9e-45b2d9ccd61f</td>\n",
       "      <td>3</td>\n",
       "      <td>希望可以新增圖形手勢或是指紋登入</td>\n",
       "      <td>2017-12-22 16:00:34</td>\n",
       "      <td>3.15</td>\n",
       "      <td>Google 使用者</td>\n",
       "      <td>[希望, 新增, 圖形, 手勢, 指紋, 登入]</td>\n",
       "    </tr>\n",
       "    <tr>\n",
       "      <th>2</th>\n",
       "      <td>ed390033-a91c-4146-bde7-d4533145e9ba</td>\n",
       "      <td>1</td>\n",
       "      <td>按五顆星的自己員工逆？ 載入都無法進入的app 有沒有搞錯啊 錢不是這樣花的阿大哥</td>\n",
       "      <td>2017-12-21 12:25:16</td>\n",
       "      <td>3.15</td>\n",
       "      <td>Google 使用者</td>\n",
       "      <td>[五顆星, 員工, 載入, 無法, 進入, app, 有沒有, 搞錯, 大哥]</td>\n",
       "    </tr>\n",
       "    <tr>\n",
       "      <th>3</th>\n",
       "      <td>7eb57a03-e2dc-4bba-a0bd-9a059d6c0254</td>\n",
       "      <td>5</td>\n",
       "      <td>平安，很好。</td>\n",
       "      <td>2017-12-20 16:00:13</td>\n",
       "      <td>3.15</td>\n",
       "      <td>Google 使用者</td>\n",
       "      <td>[平安]</td>\n",
       "    </tr>\n",
       "    <tr>\n",
       "      <th>4</th>\n",
       "      <td>90a8f503-05a0-4459-9b53-a9d57439cc7b</td>\n",
       "      <td>3</td>\n",
       "      <td>為什麼沒有台幣定存</td>\n",
       "      <td>2017-12-20 08:43:32</td>\n",
       "      <td>3.15</td>\n",
       "      <td>Google 使用者</td>\n",
       "      <td>[台幣, 定存]</td>\n",
       "    </tr>\n",
       "  </tbody>\n",
       "</table>\n",
       "</div>"
      ],
      "text/plain": [
       "                               reviewId  score  \\\n",
       "0  179e2c16-8898-4086-96ff-b897f0284ac4      1   \n",
       "1  781b02f8-bc78-4240-bb9e-45b2d9ccd61f      3   \n",
       "2  ed390033-a91c-4146-bde7-d4533145e9ba      1   \n",
       "3  7eb57a03-e2dc-4bba-a0bd-9a059d6c0254      5   \n",
       "4  90a8f503-05a0-4459-9b53-a9d57439cc7b      3   \n",
       "\n",
       "                                     content             artDate appVersion  \\\n",
       "0                          更新後完全登入不進去，請立即改善。 2017-12-29 18:17:05       3.15   \n",
       "1                           希望可以新增圖形手勢或是指紋登入 2017-12-22 16:00:34       3.15   \n",
       "2  按五顆星的自己員工逆？ 載入都無法進入的app 有沒有搞錯啊 錢不是這樣花的阿大哥 2017-12-21 12:25:16       3.15   \n",
       "3                                     平安，很好。 2017-12-20 16:00:13       3.15   \n",
       "4                                  為什麼沒有台幣定存 2017-12-20 08:43:32       3.15   \n",
       "\n",
       "     userName                                    words  \n",
       "0  Google 使用者                     [更新, 完全, 登入, 立即, 改善]  \n",
       "1  Google 使用者                 [希望, 新增, 圖形, 手勢, 指紋, 登入]  \n",
       "2  Google 使用者  [五顆星, 員工, 載入, 無法, 進入, app, 有沒有, 搞錯, 大哥]  \n",
       "3  Google 使用者                                     [平安]  \n",
       "4  Google 使用者                                 [台幣, 定存]  "
      ]
     },
     "execution_count": 9,
     "metadata": {},
     "output_type": "execute_result"
    }
   ],
   "source": [
    "# 設定繁體中文詞庫\n",
    "jieba.set_dictionary(\"./dict/dict.txt.big\")\n",
    "\n",
    "# 新增stopwords\n",
    "# jieba.analyse.set_stop_words('./dict/stop_words.txt') #jieba.analyse.extract_tags才會作用\n",
    "with open(\"./dict/stop_words.txt\", encoding=\"utf-8\") as f:\n",
    "    stopWords = [line.strip() for line in f.readlines()]\n",
    "\n",
    "# 設定斷詞 function\n",
    "def getToken(row):\n",
    "    seg_list = jieba.cut(row, cut_all=False)\n",
    "    seg_list = [\n",
    "        w for w in seg_list if w not in stopWords and len(w) > 1\n",
    "    ]  # 篩選掉停用字與字元數大於1的詞彙\n",
    "    return seg_list\n",
    "\n",
    "udn[\"words\"] = udn[\"content\"].apply(getToken)\n",
    "udn.head()"
   ]
  },
  {
   "cell_type": "markdown",
   "metadata": {},
   "source": [
    "## 文字雲"
   ]
  },
  {
   "cell_type": "code",
   "execution_count": 168,
   "metadata": {},
   "outputs": [
    {
     "data": {
      "image/png": "[encoded data removed]",
      "text/plain": [
       "<Figure size 1000x700 with 1 Axes>"
      ]
     },
     "metadata": {},
     "output_type": "display_data"
    }
   ],
   "source": [
    "from collections import Counter\n",
    "\n",
    "ontPath = 'SourceHanSansTW-Regular.otf' # 設定字型\n",
    "wordcloud = WordCloud(background_color = 'white', width = 800, height = 400, font_path = FontPath, max_words = 100)\n",
    "\n",
    "# 以斷詞後的詞彙統計出現次數，製作文字雲\n",
    "\n",
    "# 將所有 words 欄位展平成一個 list\n",
    "all_words = [word for words in udn['words'] for word in words]\n",
    "freq_dict = Counter(all_words)\n",
    "\n",
    "wordcloud.generate_from_frequencies(freq_dict)\n",
    "\n",
    "plt.figure(figsize = (10,7))\n",
    "plt.imshow(wordcloud)\n",
    "plt.axis('off')\n",
    "plt.show()"
   ]
  },
  {
   "cell_type": "markdown",
   "metadata": {},
   "source": [
    "## 3. Lexicon-based / 人工給定主題的主題模型"
   ]
  },
  {
   "cell_type": "markdown",
   "metadata": {},
   "source": [
    "#### 用各個頻分常見的詞來作為主題的代表詞"
   ]
  },
  {
   "cell_type": "code",
   "execution_count": null,
   "metadata": {},
   "outputs": [
    {
     "data": {
      "text/plain": [
       "Index(['方便', '好用', '更新', '轉帳', '功能', '不錯', '使用', '介面', '銀行', '無法', '操作', '實用',\n",
       "       '問題', 'APP', '看看', '謝謝', 'app', '加油', '手機', '合庫', '指紋', '顯示', '服務',\n",
       "       '一直', '希望', '快速', '改版', '真的', '登入', '網銀', '正常', '直接', 'Good', '設定',\n",
       "       '便利', 'good', '親切', '安全', 'App', '辨識', '建議', '還好', '新增', '查詢', '很棒',\n",
       "       '使用者', '進步', '簡單', '行動', '現在', '選擇', '知道', '繼續', '明細', '選項', '系統', '畫面',\n",
       "       '網路', '麻煩', 'pay', '台灣', '已經', '自動', '資料', '錯誤', '覺得', '客服', '處理', '辦法',\n",
       "       '開啟', '金融', '帳號', '改善', '之後', '比較', '反應', 'Android', '重新', '今天', '解決',\n",
       "       '需要', '頁面', '10', '投資', '清楚', '感謝', '感覺', '密碼', 'ok', '簡單明瞭', '合作金庫',\n",
       "       '行員', '進入', '通知', '登錄', '截圖', '餘額', '成功', '業務', 'VISA'],\n",
       "      dtype='object', name='words')"
      ]
     },
     "execution_count": 14,
     "metadata": {},
     "output_type": "execute_result"
    }
   ],
   "source": [
    "## 定義主題 好棒棒的評論\n",
    "sport_cnt = udn.loc[udn['score'] == 5,:]['words'].explode().value_counts().head(100)\n",
    "sport_cnt.index"
   ]
  },
  {
   "cell_type": "code",
   "execution_count": 27,
   "metadata": {},
   "outputs": [
    {
     "name": "stdout",
     "output_type": "stream",
     "text": [
      "('無法 使用 登入 更新 app 設定 功能 方便 Android 通知 請問 銀行 希望 定存 問題 10 一直 建議 顯示 交易 正常 不錯 已經 '\n",
      " '伺服器 每次 App 好用 轉帳 資料 目前 之前 APP 支援 開啟 指紋 帳戶 憑證 新增 優惠 修改 直接 辨識 pay 手機 權限 增加 錯誤 '\n",
      " '今天 進步 介面 自動 截圖 合庫 一下 常用 需要 謝謝 線上 不到 解鎖 改善 螢幕 客服 出現 之後 操作 新版 台幣 回覆 終於 失敗 解決 '\n",
      " '重新 台灣 閃退 Pixel 黃金 一點 遮蔽 煩請 分行 用心 這裡 買賣 改版 android 訊號 選項 升級 收款 每月 入款 系統 加油 下載 '\n",
      " '出入 至少 之內 只能 畫面 輸入 不用 桌面 速度 綜存轉 部份 生物 面部 真是 帳號 驗證 郵局 習慣 額度 XXXX 連結 代繳 零存整付 裡面 '\n",
      " '存戶 評價 瓦斯 知道 一顆 用戶 原本 反應 密碼 完成 貴行 感謝 登錄 申請 打開 活存 感覺 美金 icon 合作金庫 30 辦法 有點 是否 '\n",
      " '修正 服務 代號 取消 網路 連線 明白 將登 加總 次數 一目瞭然 兆豐 第一 編輯 優利 基金 跟上 入時 改為 圖形 加入 隱藏 線條 跨轉 加強 '\n",
      " '安全性 入帳 爛死 刊登 跨提 容易 免費 理財 全部都是 投資 明有 回報 美中不足 提醒 帳的 盪掉 分帳 名目 能夠 OTP 剩餘次數 '\n",
      " '2000USD 數位 成功 初次 一段時間 過了 若要 綁定 2023 Note5 應該')\n"
     ]
    }
   ],
   "source": [
    "stock_cnt = udn.loc[udn['score'] == 4,:]['words'].explode().value_counts().head(200)\n",
    "pprint(\" \".join(stock_cnt.index))"
   ]
  },
  {
   "cell_type": "code",
   "execution_count": 28,
   "metadata": {},
   "outputs": [
    {
     "name": "stdout",
     "output_type": "stream",
     "text": [
      "('登入 更新 無法 一直 使用 app 顯示 轉帳 功能 密碼 通知 銀行 問題 希望 手機 定存 下載 請問 App 錯誤 網銀 快速 麻煩 今天 已經 '\n",
      " '系統 畫面 重新 進入 改善 資料 方便 之前 設定 權限 輸入 是否 謝謝 每次 開啟 APP 10 伺服器 指紋 截圖 正常 合庫 失敗 驗證 解決 '\n",
      " '增加 跳出 信用卡 交易 查詢 登出 辨識 真的 支援 開放 台幣 網路 只能 出現 行動 帳號 一下 付款 入帳 線上 現在 軟體 版本 程式 盡快 '\n",
      " '一次 連線 狀況 存款 異常 明細 安裝 服務 打不開 之後 轉圈圈 看到 目前 即時 明明 登錄 應該 介面 人員 處理 需要 圖形 辦理 帳號密碼 '\n",
      " '操作 反應 直說 金額 辦法 生物 讀取 內容 安卓 裡面 帳戶 餘額 同步 轉出 貴行 直接 進不去 選項 解鎖 知道 刷卡 代號 很慢 簡訊 完全 '\n",
      " '最近 登入後 覺得 訊息 取消 .... 還要 進步 成功 扣款 偵測 用戶 返回 過了 重新安裝 時間 工程師 關閉 管理 客服 買賣 速度 備註 '\n",
      " '難用 修正 推播 新莊 分行 應用程式 允許 電話 提醒 SSL 匯款 幾天 合作金庫 電腦 正確 修復 首頁 外幣 更改 空間 選擇 頁面 能否 不行 '\n",
      " '外匯 繳款 01 最後 確定 行員 官網 建議 情況 憑證 黃金 更好 无法 加油 實在 不好 要求 一下子 強制 變更 打開 移除 新版 載入 學學 '\n",
      " '開機 主頁 上面 OTP')\n"
     ]
    }
   ],
   "source": [
    "score3 = udn.loc[udn['score'] == 3,:]['words'].explode().value_counts().head(200)\n",
    "pprint(\" \".join(score3.index))"
   ]
  },
  {
   "cell_type": "code",
   "execution_count": 29,
   "metadata": {},
   "outputs": [
    {
     "name": "stdout",
     "output_type": "stream",
     "text": [
      "('登入 無法 更新 一直 轉帳 app 使用 銀行 顯示 設定 重新 功能 指紋 通知 網銀 輸入 系統 開啟 問題 申請 密碼 資料 APP 錯誤 帳戶 '\n",
      " '帳號 失敗 明細 交易 約定 手機 臨櫃 方便 完全 進入 下載 出現 直接 同步 截圖 真的 希望 現在 介面 處理 伺服器 辦法 每次 信用卡 '\n",
      " '使用者 還要 麻煩 今天 改善 網路 已經 OTP 圖形 請問 連線 知道 閃退 App 正常 程式 金額 建議 時間 之前 轉出 讀取 跳出 之後 '\n",
      " '盡快 謝謝 登錄 簡訊 不好 憑證 進不去 行動 只能 辨識 快速 增加 當機 Android 合庫 定存 日期 畫面 異常 訊息 不到 一次 設計 '\n",
      " '需要 第一次 打不開 成功 突然 操作 連不上 修正 入帳 10 .... 客服 QR 認證 查詢 不讓 服務 連接 驗證 穩定 權限 公司 登出 根本 '\n",
      " '支援 首頁 東西 開通 欄位 覺得 版本 消費 幾天 扣款 快點 人員 不用 不錯 轉轉 打開 匯款 太久 繳費 收不到 是否 掃描 目前 地方 優化 '\n",
      " '造成 一下 直說 開放 常用 自動 存款 不行 讀卡機 動畫 容易 辦理 很慢 關閉 最近 哪裡 一點 真是 不想 奇怪 解鎖 修復 貴行 升級 '\n",
      " '帳號密碼 我要 換新 速度 網頁 半天 修好 有點 強制 更好 載入 幾次 認證碼 判斷 跟上 告知 習慣 選項 刷卡 金融 符合 鎖住 帳單 最難 '\n",
      " '台灣 多久 難用 時代 進出 以前 商店')\n"
     ]
    }
   ],
   "source": [
    "score2 = udn.loc[udn['score'] == 2,:]['words'].explode().value_counts().head(200)\n",
    "pprint(\" \".join(score2.index))"
   ]
  },
  {
   "cell_type": "code",
   "execution_count": 24,
   "metadata": {},
   "outputs": [
    {
     "name": "stdout",
     "output_type": "stream",
     "text": [
      "('無法 更新 登入 一直 app 銀行 轉帳 使用 問題 密碼 APP 顯示 真的 網銀 臨櫃 系統 錯誤 功能 手機 帳戶 難用 網路 申請 下載 完全 '\n",
      " '連線 資料 還要 畫面 每次 輸入 設定 根本 開啟 伺服器 現在 失敗 合庫 帳號 通知 重新 已經 App 客服 直接 信用卡 改善 數位 查詢 '\n",
      " '進不去 之後 程式 閃退 知道 辦法 處理 登錄 指紋 麻煩 出現 一次 明明 很爛 憑證 方便 只能 介面 版本 爛透 驗證 成功 打不開 轉圈圈 '\n",
      " '爛死 網頁 10 辦理 今天 進入 公司 不行 異常 東西 支援 不想 一下 反應 約定 OTP 開戶 一堆 正常 之前 幹嘛 需要 時間 一點 不好 '\n",
      " '跳出 辨識 超級 權限 操作 合作金庫 人員 同步 訊息 安裝 第一次 請問 希望 不到 線上 爛到 突然 綁定 解鎖 入帳 設計 真是 直說 幾次 '\n",
      " '不用 明細 最爛 一顆 客戶 餘額 資訊 使用者 正確 裝置 別家 金額 行動 服務 根本無法 交易 存款 看到 這是 頁面 強制 當機 軟體 用過 '\n",
      " '電腦 打開 解決 改版 垃圾 簡訊 造成 電話 建議 金融 登出 夠爛 爛的 連不上 行員 台灣 傻眼 繳款 比較 Android 快速 盡快 重新安裝 '\n",
      " '.... 匯款 ATM 有夠 帳單 困擾 速度 選項 分行 發生 有沒有 全部 體驗 要求 改進 提供 目前 更改 讀取 常用 誇張 變成 預期 開通 '\n",
      " '所有 工程師 最難 最後 定存 永遠 代號')\n"
     ]
    }
   ],
   "source": [
    "score1 = udn.loc[udn['score'] == 1,:]['words'].explode().value_counts().head(200)\n",
    "pprint(\" \".join(score1.index))"
   ]
  },
  {
   "cell_type": "markdown",
   "metadata": {},
   "source": [
    "從 custom_topic_word 的所有值中，整理出不重複的詞彙（vocabularies），並以 NumPy 陣列的形式儲存。"
   ]
  },
  {
   "cell_type": "markdown",
   "metadata": {},
   "source": [
    "利用 CountVectorizer 的 vocabulary 參數來篩選、製作 DTM"
   ]
  },
  {
   "cell_type": "markdown",
   "metadata": {},
   "source": [
    "## 4. LDA 主題模型\n",
    "Latent Dirichlet allocation 簡稱 LDA，是一種主題模型，他可以將資料集中每篇文檔的主題按照機率分佈，他是無監督學習法，訓練時不需要手動標註，只需要給文檔集、主題數，也可以根據一些參數(alpha、Beta)來改變模型訓練的結果，以下使用 gensim 套件來示範如何訓練 LDA 模型。"
   ]
  },
  {
   "cell_type": "markdown",
   "metadata": {},
   "source": [
    "簡單的範例說明 `gensim` bag of word 的方式"
   ]
  },
  {
   "cell_type": "markdown",
   "metadata": {},
   "source": [
    "### **4.1 正式處理新聞**"
   ]
  },
  {
   "cell_type": "markdown",
   "metadata": {},
   "source": [
    "將斷詞後的`doc['words']`轉換成list"
   ]
  },
  {
   "cell_type": "code",
   "execution_count": 35,
   "metadata": {},
   "outputs": [
    {
     "data": {
      "text/plain": [
       "['更新', '完全', '登入', '立即', '改善']"
      ]
     },
     "execution_count": 35,
     "metadata": {},
     "output_type": "execute_result"
    }
   ],
   "source": [
    "docs = udn['words'].to_list()\n",
    "docs[0]"
   ]
  },
  {
   "cell_type": "markdown",
   "metadata": {},
   "source": [
    "建立並過濾詞彙表（dictionary），只保留特定條件的詞彙"
   ]
  },
  {
   "cell_type": "code",
   "execution_count": 38,
   "metadata": {},
   "outputs": [
    {
     "name": "stderr",
     "output_type": "stream",
     "text": [
      "2025-05-18 17:47:04,792 : INFO : adding document #0 to Dictionary<0 unique tokens: []>\n",
      "2025-05-18 17:47:04,820 : INFO : built Dictionary<4220 unique tokens: ['完全', '改善', '更新', '登入', '立即']...> from 3006 documents (total 26424 corpus positions)\n",
      "2025-05-18 17:47:04,821 : INFO : Dictionary lifecycle event {'msg': \"built Dictionary<4220 unique tokens: ['完全', '改善', '更新', '登入', '立即']...> from 3006 documents (total 26424 corpus positions)\", 'datetime': '2025-05-18T17:47:04.821149', 'gensim': '4.3.3', 'python': '3.10.11 (tags/v3.10.11:7d4cc5a, Apr  5 2023, 00:38:17) [MSC v.1929 64 bit (AMD64)]', 'platform': 'Windows-10-10.0.26100-SP0', 'event': 'created'}\n",
      "2025-05-18 17:47:04,826 : INFO : discarding 3465 tokens: [('立即', 4), ('手勢', 3), ('員工', 3), ('大哥', 1), ('搞錯', 4), ('平安', 2), ('一通', 1), ('亂改', 1), ('更本', 2), ('沒測', 1)]...\n",
      "2025-05-18 17:47:04,826 : INFO : keeping 755 tokens which were in no less than 5 and no more than 2975 (=99.0%) documents\n",
      "2025-05-18 17:47:04,828 : INFO : resulting dictionary: Dictionary<755 unique tokens: ['完全', '改善', '更新', '登入', '圖形']...>\n"
     ]
    },
    {
     "name": "stdout",
     "output_type": "stream",
     "text": [
      "Dictionary<755 unique tokens: ['完全', '改善', '更新', '登入', '圖形']...>\n"
     ]
    }
   ],
   "source": [
    "dictionary = Dictionary(docs)\n",
    "\n",
    "dictionary.filter_extremes(no_below=5, no_above=0.99)\n",
    "corpus = [dictionary.doc2bow(doc) for doc in docs]\n",
    "print(dictionary)"
   ]
  },
  {
   "cell_type": "markdown",
   "metadata": {},
   "source": [
    "參數說明：\n",
    "- no_below=5\t出現在少於 5 篇文章中的詞會被移除\n",
    "- no_above=0.99\t出現在超過 99% 文件中的詞會被移除"
   ]
  },
  {
   "cell_type": "markdown",
   "metadata": {},
   "source": [
    "### **4.2 開始訓練 LDA topic model**\n",
    "\n",
    "+ 參數說明：\n",
    "    + corpus = 文檔語料庫\n",
    "    + id2word = 詞彙字典\n",
    "    + num_topics = 生成幾個主題數\n",
    "    + random_state = 固定亂數值，每次的模型結果會一樣\n",
    "    + iteration = 每個文章訓練的次數，可以設定高一點讓模型收斂\n",
    "    + passes(epoch) = 整個 corpus 訓練模型的次數\n",
    "    + alpha = 文章主題分佈\n",
    "    + eta = 主題字分佈\n",
    "\n",
    "模型參數沒有一個絕對的答案，同學們應該**使用相同的資料**，嘗試做參數上的調整，進而比較出較佳的模型結果。"
   ]
  },
  {
   "cell_type": "code",
   "execution_count": 39,
   "metadata": {},
   "outputs": [
    {
     "name": "stderr",
     "output_type": "stream",
     "text": [
      "2025-05-18 17:47:08,191 : INFO : using symmetric alpha at 0.1\n",
      "2025-05-18 17:47:08,192 : INFO : using symmetric eta at 0.1\n",
      "2025-05-18 17:47:08,193 : INFO : using serial LDA version on this node\n",
      "2025-05-18 17:47:08,194 : INFO : running online (single-pass) LDA training, 10 topics, 1 passes over the supplied corpus of 3006 documents, updating model once every 2000 documents, evaluating perplexity every 3006 documents, iterating 50x with a convergence threshold of 0.001000\n",
      "2025-05-18 17:47:08,196 : WARNING : too few updates, training might not converge; consider increasing the number of passes or iterations to improve accuracy\n",
      "2025-05-18 17:47:08,197 : INFO : PROGRESS: pass 0, at document #2000/3006\n",
      "2025-05-18 17:47:08,591 : INFO : merging changes from 2000 documents into a model of 3006 documents\n",
      "2025-05-18 17:47:08,593 : INFO : topic #7 (0.100): 0.050*\"更新\" + 0.045*\"使用\" + 0.022*\"APP\" + 0.019*\"一直\" + 0.014*\"顯示\" + 0.013*\"網銀\" + 0.013*\"好用\" + 0.011*\"進不去\" + 0.011*\"無法\" + 0.011*\"轉帳\"\n",
      "2025-05-18 17:47:08,593 : INFO : topic #3 (0.100): 0.074*\"更新\" + 0.055*\"一直\" + 0.027*\"轉帳\" + 0.020*\"方便\" + 0.017*\"無法\" + 0.015*\"app\" + 0.015*\"伺服器\" + 0.013*\"失敗\" + 0.013*\"使用\" + 0.012*\"資料\"\n",
      "2025-05-18 17:47:08,594 : INFO : topic #2 (0.100): 0.069*\"登入\" + 0.067*\"無法\" + 0.039*\"app\" + 0.018*\"一直\" + 0.016*\"使用\" + 0.014*\"銀行\" + 0.014*\"更新\" + 0.013*\"轉帳\" + 0.012*\"失敗\" + 0.011*\"登錄\"\n",
      "2025-05-18 17:47:08,595 : INFO : topic #1 (0.100): 0.024*\"無法\" + 0.023*\"功能\" + 0.022*\"一直\" + 0.020*\"問題\" + 0.018*\"銀行\" + 0.017*\"連線\" + 0.016*\"app\" + 0.016*\"系統\" + 0.013*\"更新\" + 0.013*\"使用\"\n",
      "2025-05-18 17:47:08,596 : INFO : topic #6 (0.100): 0.069*\"無法\" + 0.036*\"使用\" + 0.028*\"一直\" + 0.027*\"登入\" + 0.026*\"更新\" + 0.025*\"顯示\" + 0.019*\"轉帳\" + 0.017*\"問題\" + 0.014*\"錯誤\" + 0.010*\"伺服器\"\n",
      "2025-05-18 17:47:08,597 : INFO : topic diff=5.615016, rho=1.000000\n",
      "2025-05-18 17:47:08,829 : INFO : -6.835 per-word bound, 114.1 perplexity estimate based on a held-out corpus of 1006 documents with 8522 words\n",
      "2025-05-18 17:47:08,829 : INFO : PROGRESS: pass 0, at document #3006/3006\n",
      "2025-05-18 17:47:09,022 : INFO : merging changes from 1006 documents into a model of 3006 documents\n",
      "2025-05-18 17:47:09,024 : INFO : topic #7 (0.100): 0.033*\"更新\" + 0.022*\"條碼\" + 0.022*\"使用\" + 0.020*\"好用\" + 0.020*\"APP\" + 0.019*\"掃描\" + 0.018*\"看看\" + 0.015*\"顯示\" + 0.015*\"改成\" + 0.012*\"現在\"\n",
      "2025-05-18 17:47:09,025 : INFO : topic #2 (0.100): 0.046*\"登入\" + 0.040*\"無法\" + 0.039*\"app\" + 0.021*\"轉帳\" + 0.020*\"銀行\" + 0.019*\"截圖\" + 0.016*\"申請\" + 0.015*\"臨櫃\" + 0.013*\"密碼\" + 0.012*\"一直\"\n",
      "2025-05-18 17:47:09,025 : INFO : topic #5 (0.100): 0.029*\"使用\" + 0.028*\"登入\" + 0.025*\"一直\" + 0.025*\"下載\" + 0.024*\"無法\" + 0.024*\"更新\" + 0.024*\"難用\" + 0.019*\"指紋\" + 0.016*\"app\" + 0.016*\"設定\"\n",
      "2025-05-18 17:47:09,026 : INFO : topic #8 (0.100): 0.031*\"一直\" + 0.028*\"密碼\" + 0.028*\"登入\" + 0.025*\"錯誤\" + 0.022*\"輸入\" + 0.021*\"臨櫃\" + 0.021*\"還要\" + 0.021*\"app\" + 0.019*\"網銀\" + 0.017*\"手機\"\n",
      "2025-05-18 17:47:09,027 : INFO : topic #3 (0.100): 0.060*\"更新\" + 0.043*\"一直\" + 0.034*\"轉帳\" + 0.022*\"連線\" + 0.016*\"方便\" + 0.016*\"伺服器\" + 0.015*\"不到\" + 0.015*\"app\" + 0.012*\"網銀\" + 0.012*\"無法\"\n",
      "2025-05-18 17:47:09,027 : INFO : topic diff=0.685630, rho=0.707107\n",
      "2025-05-18 17:47:09,028 : INFO : LdaModel lifecycle event {'msg': 'trained LdaModel<num_terms=755, num_topics=10, decay=0.5, chunksize=2000> in 0.83s', 'datetime': '2025-05-18T17:47:09.028364', 'gensim': '4.3.3', 'python': '3.10.11 (tags/v3.10.11:7d4cc5a, Apr  5 2023, 00:38:17) [MSC v.1929 64 bit (AMD64)]', 'platform': 'Windows-10-10.0.26100-SP0', 'event': 'created'}\n"
     ]
    }
   ],
   "source": [
    "ldamodel = LdaModel(\n",
    "    corpus=corpus, \n",
    "    id2word=dictionary, # 字典\n",
    "    num_topics=10, # 生成幾個主題數\n",
    "    random_state=2024, # 亂數\n",
    ")"
   ]
  },
  {
   "cell_type": "markdown",
   "metadata": {},
   "source": [
    "### **4.3 查看 LDA 主題代表字** <br>\n",
    "\n",
    "當 LDA 模型訓練好之後，我們可以查看每個主題的單詞分佈。<br>\n",
    "num_words = 選擇要查看每個主題前幾個字。<br>\n",
    "\n",
    "舉例來說：<br>\n",
    "`'0.020*\"經典賽\" + 0.014*\"中華隊\" + 0.011*\"今天\" + 0.009*\"比賽\" + 0.009*\"日本\" + 0.007*\"棒球\" + 0.007*\"世界\" + 0.007*\"投手\" + 0.006*\"先發\" + 0.005*\"球隊\"'`  "
   ]
  },
  {
   "cell_type": "code",
   "execution_count": 40,
   "metadata": {},
   "outputs": [
    {
     "name": "stderr",
     "output_type": "stream",
     "text": [
      "2025-05-18 17:47:11,834 : INFO : topic #0 (0.100): 0.051*\"方便\" + 0.032*\"銀行\" + 0.027*\"真的\" + 0.023*\"程式\" + 0.021*\"客服\" + 0.020*\"申請\" + 0.020*\"超級\" + 0.018*\"資料\" + 0.017*\"問題\" + 0.016*\"手機\"\n",
      "2025-05-18 17:47:11,835 : INFO : topic #1 (0.100): 0.030*\"通知\" + 0.027*\"功能\" + 0.025*\"銀行\" + 0.021*\"帳戶\" + 0.019*\"轉帳\" + 0.017*\"知道\" + 0.016*\"辦理\" + 0.015*\"APP\" + 0.014*\"金額\" + 0.013*\"問題\"\n",
      "2025-05-18 17:47:11,836 : INFO : topic #2 (0.100): 0.046*\"登入\" + 0.040*\"無法\" + 0.039*\"app\" + 0.021*\"轉帳\" + 0.020*\"銀行\" + 0.019*\"截圖\" + 0.016*\"申請\" + 0.015*\"臨櫃\" + 0.013*\"密碼\" + 0.012*\"一直\"\n",
      "2025-05-18 17:47:11,837 : INFO : topic #3 (0.100): 0.060*\"更新\" + 0.043*\"一直\" + 0.034*\"轉帳\" + 0.022*\"連線\" + 0.016*\"方便\" + 0.016*\"伺服器\" + 0.015*\"不到\" + 0.015*\"app\" + 0.012*\"網銀\" + 0.012*\"無法\"\n",
      "2025-05-18 17:47:11,837 : INFO : topic #4 (0.100): 0.045*\"銀行\" + 0.035*\"轉帳\" + 0.023*\"通知\" + 0.022*\"帳戶\" + 0.018*\"數位\" + 0.018*\"功能\" + 0.017*\"登入\" + 0.015*\"設定\" + 0.014*\"還要\" + 0.014*\"入帳\"\n",
      "2025-05-18 17:47:11,837 : INFO : topic #5 (0.100): 0.029*\"使用\" + 0.028*\"登入\" + 0.025*\"一直\" + 0.025*\"下載\" + 0.024*\"無法\" + 0.024*\"更新\" + 0.024*\"難用\" + 0.019*\"指紋\" + 0.016*\"app\" + 0.016*\"設定\"\n",
      "2025-05-18 17:47:11,838 : INFO : topic #6 (0.100): 0.059*\"無法\" + 0.034*\"使用\" + 0.030*\"轉帳\" + 0.028*\"顯示\" + 0.021*\"一直\" + 0.020*\"更新\" + 0.016*\"伺服器\" + 0.014*\"登入\" + 0.014*\"問題\" + 0.013*\"設定\"\n",
      "2025-05-18 17:47:11,839 : INFO : topic #7 (0.100): 0.033*\"更新\" + 0.022*\"條碼\" + 0.022*\"使用\" + 0.020*\"好用\" + 0.020*\"APP\" + 0.019*\"掃描\" + 0.018*\"看看\" + 0.015*\"顯示\" + 0.015*\"改成\" + 0.012*\"現在\"\n",
      "2025-05-18 17:47:11,840 : INFO : topic #8 (0.100): 0.031*\"一直\" + 0.028*\"密碼\" + 0.028*\"登入\" + 0.025*\"錯誤\" + 0.022*\"輸入\" + 0.021*\"臨櫃\" + 0.021*\"還要\" + 0.021*\"app\" + 0.019*\"網銀\" + 0.017*\"手機\"\n",
      "2025-05-18 17:47:11,842 : INFO : topic #9 (0.100): 0.107*\"更新\" + 0.061*\"無法\" + 0.039*\"登入\" + 0.036*\"一直\" + 0.023*\"同步\" + 0.022*\"開啟\" + 0.020*\"app\" + 0.019*\"系統\" + 0.017*\"每次\" + 0.016*\"使用\"\n"
     ]
    },
    {
     "data": {
      "text/plain": [
       "[(0,\n",
       "  '0.051*\"方便\" + 0.032*\"銀行\" + 0.027*\"真的\" + 0.023*\"程式\" + 0.021*\"客服\" + 0.020*\"申請\" + 0.020*\"超級\" + 0.018*\"資料\" + 0.017*\"問題\" + 0.016*\"手機\"'),\n",
       " (1,\n",
       "  '0.030*\"通知\" + 0.027*\"功能\" + 0.025*\"銀行\" + 0.021*\"帳戶\" + 0.019*\"轉帳\" + 0.017*\"知道\" + 0.016*\"辦理\" + 0.015*\"APP\" + 0.014*\"金額\" + 0.013*\"問題\"'),\n",
       " (2,\n",
       "  '0.046*\"登入\" + 0.040*\"無法\" + 0.039*\"app\" + 0.021*\"轉帳\" + 0.020*\"銀行\" + 0.019*\"截圖\" + 0.016*\"申請\" + 0.015*\"臨櫃\" + 0.013*\"密碼\" + 0.012*\"一直\"'),\n",
       " (3,\n",
       "  '0.060*\"更新\" + 0.043*\"一直\" + 0.034*\"轉帳\" + 0.022*\"連線\" + 0.016*\"方便\" + 0.016*\"伺服器\" + 0.015*\"不到\" + 0.015*\"app\" + 0.012*\"網銀\" + 0.012*\"無法\"'),\n",
       " (4,\n",
       "  '0.045*\"銀行\" + 0.035*\"轉帳\" + 0.023*\"通知\" + 0.022*\"帳戶\" + 0.018*\"數位\" + 0.018*\"功能\" + 0.017*\"登入\" + 0.015*\"設定\" + 0.014*\"還要\" + 0.014*\"入帳\"'),\n",
       " (5,\n",
       "  '0.029*\"使用\" + 0.028*\"登入\" + 0.025*\"一直\" + 0.025*\"下載\" + 0.024*\"無法\" + 0.024*\"更新\" + 0.024*\"難用\" + 0.019*\"指紋\" + 0.016*\"app\" + 0.016*\"設定\"'),\n",
       " (6,\n",
       "  '0.059*\"無法\" + 0.034*\"使用\" + 0.030*\"轉帳\" + 0.028*\"顯示\" + 0.021*\"一直\" + 0.020*\"更新\" + 0.016*\"伺服器\" + 0.014*\"登入\" + 0.014*\"問題\" + 0.013*\"設定\"'),\n",
       " (7,\n",
       "  '0.033*\"更新\" + 0.022*\"條碼\" + 0.022*\"使用\" + 0.020*\"好用\" + 0.020*\"APP\" + 0.019*\"掃描\" + 0.018*\"看看\" + 0.015*\"顯示\" + 0.015*\"改成\" + 0.012*\"現在\"'),\n",
       " (8,\n",
       "  '0.031*\"一直\" + 0.028*\"密碼\" + 0.028*\"登入\" + 0.025*\"錯誤\" + 0.022*\"輸入\" + 0.021*\"臨櫃\" + 0.021*\"還要\" + 0.021*\"app\" + 0.019*\"網銀\" + 0.017*\"手機\"'),\n",
       " (9,\n",
       "  '0.107*\"更新\" + 0.061*\"無法\" + 0.039*\"登入\" + 0.036*\"一直\" + 0.023*\"同步\" + 0.022*\"開啟\" + 0.020*\"app\" + 0.019*\"系統\" + 0.017*\"每次\" + 0.016*\"使用\"')]"
      ]
     },
     "execution_count": 40,
     "metadata": {},
     "output_type": "execute_result"
    }
   ],
   "source": [
    "ldamodel.print_topics()"
   ]
  },
  {
   "cell_type": "markdown",
   "metadata": {},
   "source": [
    "我們可以根據每個主題的詞彙分佈來猜測，該主題可能是有關什麼樣的議題：\n",
    "+ 主題一：春節旅遊\n",
    "+ 主題二：中國科技產業\n",
    "+ 主題三：股市新聞\n",
    "+ 主題四：中國股市\n",
    "+ ...\n",
    "+ 主題十：中美貿易"
   ]
  },
  {
   "cell_type": "markdown",
   "metadata": {},
   "source": [
    "也可以使用 `get_document_topics()` 回去看每篇文章的主題分佈 (`theta`)"
   ]
  },
  {
   "cell_type": "code",
   "execution_count": 41,
   "metadata": {},
   "outputs": [
    {
     "data": {
      "text/plain": [
       "[(0, 0.020004425),\n",
       " (1, 0.020003127),\n",
       " (2, 0.020006783),\n",
       " (3, 0.020003358),\n",
       " (4, 0.02000511),\n",
       " (5, 0.020007338),\n",
       " (6, 0.02000357),\n",
       " (7, 0.020003723),\n",
       " (8, 0.020005215),\n",
       " (9, 0.8199573)]"
      ]
     },
     "execution_count": 41,
     "metadata": {},
     "output_type": "execute_result"
    }
   ],
   "source": [
    "ldamodel.get_document_topics(corpus[0])"
   ]
  },
  {
   "cell_type": "markdown",
   "metadata": {},
   "source": [
    "這邊可以看到corpus[0]這篇文章是由多個主題混合組成，每個主題都有其機率（權重）\n",
    "其中主題4的佔比最高(0.77)"
   ]
  },
  {
   "cell_type": "markdown",
   "metadata": {},
   "source": [
    "## 5. 視覺化呈現\n",
    "\n",
    "LDAvis 是我們經常會使用的視覺化工具，目的為幫助我們解釋主題模型中，在我們建構好主題模型得到 θ(文件的主題分佈) 跟 φ(主題的字分佈)，透過 pyLDAvis 將主題降維成二維，以網頁的形式供我們查看。\n",
    "\n",
    "+ 圓圈數量代表主題數量，有幾個主題就會有幾個圓圈\n",
    "+ 圓越大代表 document 越大\n",
    "+ 右邊可以看到主題的字分佈\n",
    "+ 右上幫有一個 bar 調整 lambda：當 lambda=1 也就是代表本來的字分佈 φ，將 lambda 縮越小可以看到越唯一的字，好的分佈是 φ 高且唯一，因此我們要在這兩者間取平衡\n",
    "+ 圓心越相近，代表主題會越相似；反之，圓心分越開代表主題有唯一性<br>\n",
    "  --> 假設詞彙本來有 100 字，維度應該是 100，假如本來維度接近(相近)的話，降維後也會接近(相近)\n",
    "\n",
    "以下用主題數 8 來做 LDAvis 的結果範例"
   ]
  },
  {
   "cell_type": "code",
   "execution_count": 76,
   "metadata": {},
   "outputs": [
    {
     "name": "stderr",
     "output_type": "stream",
     "text": [
      "2025-05-18 17:59:15,632 : INFO : using symmetric alpha at 0.16666666666666666\n",
      "2025-05-18 17:59:15,633 : INFO : using symmetric eta at 0.16666666666666666\n",
      "2025-05-18 17:59:15,633 : INFO : using serial LDA version on this node\n",
      "2025-05-18 17:59:15,636 : INFO : running online (multi-pass) LDA training, 6 topics, 10 passes over the supplied corpus of 3006 documents, updating model once every 2000 documents, evaluating perplexity every 3006 documents, iterating 50x with a convergence threshold of 0.001000\n",
      "2025-05-18 17:59:15,636 : INFO : PROGRESS: pass 0, at document #2000/3006\n",
      "2025-05-18 17:59:16,080 : INFO : merging changes from 2000 documents into a model of 3006 documents\n",
      "2025-05-18 17:59:16,081 : INFO : topic #4 (0.167): 0.036*\"方便\" + 0.029*\"一直\" + 0.024*\"銀行\" + 0.021*\"無法\" + 0.017*\"連線\" + 0.017*\"問題\" + 0.014*\"app\" + 0.014*\"網路\" + 0.013*\"網銀\" + 0.012*\"更新\"\n",
      "2025-05-18 17:59:16,082 : INFO : topic #3 (0.167): 0.045*\"更新\" + 0.027*\"一直\" + 0.025*\"登入\" + 0.025*\"app\" + 0.020*\"無法\" + 0.015*\"程式\" + 0.014*\"問題\" + 0.013*\"下載\" + 0.012*\"真的\" + 0.012*\"今天\"\n",
      "2025-05-18 17:59:16,082 : INFO : topic #5 (0.167): 0.076*\"無法\" + 0.058*\"登入\" + 0.056*\"更新\" + 0.034*\"使用\" + 0.020*\"一直\" + 0.020*\"轉帳\" + 0.017*\"手機\" + 0.016*\"完全\" + 0.015*\"app\" + 0.014*\"顯示\"\n",
      "2025-05-18 17:59:16,083 : INFO : topic #2 (0.167): 0.054*\"一直\" + 0.039*\"無法\" + 0.036*\"登入\" + 0.031*\"銀行\" + 0.018*\"app\" + 0.017*\"失敗\" + 0.017*\"轉帳\" + 0.015*\"問題\" + 0.013*\"顯示\" + 0.012*\"功能\"\n",
      "2025-05-18 17:59:16,083 : INFO : topic #0 (0.167): 0.045*\"無法\" + 0.038*\"更新\" + 0.029*\"app\" + 0.027*\"登入\" + 0.020*\"使用\" + 0.019*\"一直\" + 0.017*\"錯誤\" + 0.012*\"銀行\" + 0.012*\"進不去\" + 0.012*\"真的\"\n",
      "2025-05-18 17:59:16,084 : INFO : topic diff=2.979900, rho=1.000000\n",
      "2025-05-18 17:59:16,334 : INFO : -6.640 per-word bound, 99.7 perplexity estimate based on a held-out corpus of 1006 documents with 8522 words\n",
      "2025-05-18 17:59:16,335 : INFO : PROGRESS: pass 0, at document #3006/3006\n",
      "2025-05-18 17:59:16,536 : INFO : merging changes from 1006 documents into a model of 3006 documents\n",
      "2025-05-18 17:59:16,537 : INFO : topic #4 (0.167): 0.030*\"方便\" + 0.029*\"銀行\" + 0.018*\"帳戶\" + 0.018*\"申請\" + 0.015*\"網銀\" + 0.015*\"只能\" + 0.014*\"連線\" + 0.013*\"真的\" + 0.013*\"問題\" + 0.012*\"一直\"\n",
      "2025-05-18 17:59:16,537 : INFO : topic #2 (0.167): 0.037*\"銀行\" + 0.037*\"一直\" + 0.030*\"轉帳\" + 0.024*\"登入\" + 0.022*\"無法\" + 0.018*\"app\" + 0.018*\"密碼\" + 0.017*\"設定\" + 0.012*\"網路\" + 0.012*\"問題\"\n",
      "2025-05-18 17:59:16,538 : INFO : topic #1 (0.167): 0.044*\"通知\" + 0.027*\"APP\" + 0.020*\"銀行\" + 0.020*\"登入\" + 0.017*\"臨櫃\" + 0.016*\"入帳\" + 0.015*\"合庫\" + 0.013*\"app\" + 0.013*\"一直\" + 0.013*\"App\"\n",
      "2025-05-18 17:59:16,539 : INFO : topic #3 (0.167): 0.040*\"更新\" + 0.027*\"app\" + 0.021*\"轉帳\" + 0.018*\"一直\" + 0.017*\"通知\" + 0.016*\"真的\" + 0.015*\"登入\" + 0.014*\"程式\" + 0.013*\"下載\" + 0.012*\"知道\"\n",
      "2025-05-18 17:59:16,540 : INFO : topic #0 (0.167): 0.030*\"更新\" + 0.028*\"app\" + 0.025*\"無法\" + 0.022*\"臨櫃\" + 0.020*\"轉帳\" + 0.018*\"數位\" + 0.017*\"帳戶\" + 0.017*\"銀行\" + 0.016*\"使用\" + 0.012*\"登入\"\n",
      "2025-05-18 17:59:16,541 : INFO : topic diff=0.728201, rho=0.707107\n",
      "2025-05-18 17:59:16,541 : INFO : PROGRESS: pass 1, at document #2000/3006\n",
      "2025-05-18 17:59:16,869 : INFO : merging changes from 2000 documents into a model of 3006 documents\n",
      "2025-05-18 17:59:16,870 : INFO : topic #1 (0.167): 0.033*\"通知\" + 0.030*\"APP\" + 0.021*\"登入\" + 0.021*\"銀行\" + 0.018*\"合庫\" + 0.016*\"網銀\" + 0.014*\"臨櫃\" + 0.014*\"app\" + 0.014*\"功能\" + 0.013*\"App\"\n",
      "2025-05-18 17:59:16,871 : INFO : topic #0 (0.167): 0.031*\"app\" + 0.025*\"更新\" + 0.024*\"無法\" + 0.019*\"轉帳\" + 0.017*\"臨櫃\" + 0.017*\"銀行\" + 0.016*\"帳戶\" + 0.015*\"使用\" + 0.014*\"數位\" + 0.014*\"登入\"\n",
      "2025-05-18 17:59:16,872 : INFO : topic #3 (0.167): 0.047*\"更新\" + 0.026*\"app\" + 0.022*\"一直\" + 0.020*\"程式\" + 0.017*\"進不去\" + 0.017*\"下載\" + 0.015*\"真的\" + 0.015*\"轉帳\" + 0.015*\"登入\" + 0.013*\"爛死\"\n",
      "2025-05-18 17:59:16,873 : INFO : topic #4 (0.167): 0.039*\"方便\" + 0.029*\"銀行\" + 0.016*\"網銀\" + 0.016*\"申請\" + 0.016*\"帳戶\" + 0.015*\"連線\" + 0.015*\"只能\" + 0.014*\"問題\" + 0.013*\"真的\" + 0.013*\"網路\"\n",
      "2025-05-18 17:59:16,873 : INFO : topic #2 (0.167): 0.048*\"一直\" + 0.033*\"銀行\" + 0.031*\"登入\" + 0.026*\"無法\" + 0.025*\"轉帳\" + 0.018*\"密碼\" + 0.017*\"app\" + 0.016*\"失敗\" + 0.015*\"問題\" + 0.014*\"網路\"\n",
      "2025-05-18 17:59:16,874 : INFO : topic diff=0.336879, rho=0.534294\n",
      "2025-05-18 17:59:17,112 : INFO : -6.270 per-word bound, 77.2 perplexity estimate based on a held-out corpus of 1006 documents with 8522 words\n",
      "2025-05-18 17:59:17,113 : INFO : PROGRESS: pass 1, at document #3006/3006\n",
      "2025-05-18 17:59:17,286 : INFO : merging changes from 1006 documents into a model of 3006 documents\n",
      "2025-05-18 17:59:17,287 : INFO : topic #2 (0.167): 0.040*\"一直\" + 0.035*\"銀行\" + 0.031*\"轉帳\" + 0.025*\"登入\" + 0.022*\"密碼\" + 0.020*\"無法\" + 0.018*\"app\" + 0.016*\"設定\" + 0.014*\"問題\" + 0.014*\"網路\"\n",
      "2025-05-18 17:59:17,288 : INFO : topic #0 (0.167): 0.027*\"app\" + 0.027*\"臨櫃\" + 0.025*\"轉帳\" + 0.024*\"帳戶\" + 0.021*\"數位\" + 0.020*\"更新\" + 0.020*\"銀行\" + 0.019*\"無法\" + 0.016*\"申請\" + 0.015*\"信用卡\"\n",
      "2025-05-18 17:59:17,289 : INFO : topic #1 (0.167): 0.054*\"通知\" + 0.030*\"APP\" + 0.022*\"銀行\" + 0.018*\"入帳\" + 0.016*\"臨櫃\" + 0.016*\"app\" + 0.015*\"登入\" + 0.015*\"合庫\" + 0.014*\"功能\" + 0.013*\"App\"\n",
      "2025-05-18 17:59:17,291 : INFO : topic #3 (0.167): 0.045*\"更新\" + 0.027*\"app\" + 0.020*\"轉帳\" + 0.019*\"一直\" + 0.018*\"程式\" + 0.017*\"下載\" + 0.016*\"真的\" + 0.015*\"知道\" + 0.014*\"爛死\" + 0.014*\"進不去\"\n",
      "2025-05-18 17:59:17,292 : INFO : topic #5 (0.167): 0.067*\"無法\" + 0.063*\"更新\" + 0.055*\"登入\" + 0.033*\"使用\" + 0.023*\"一直\" + 0.023*\"轉帳\" + 0.019*\"手機\" + 0.014*\"設定\" + 0.014*\"顯示\" + 0.014*\"截圖\"\n",
      "2025-05-18 17:59:17,292 : INFO : topic diff=0.407681, rho=0.534294\n",
      "2025-05-18 17:59:17,293 : INFO : PROGRESS: pass 2, at document #2000/3006\n",
      "2025-05-18 17:59:17,621 : INFO : merging changes from 2000 documents into a model of 3006 documents\n",
      "2025-05-18 17:59:17,622 : INFO : topic #1 (0.167): 0.043*\"通知\" + 0.031*\"APP\" + 0.022*\"銀行\" + 0.018*\"合庫\" + 0.016*\"登入\" + 0.016*\"app\" + 0.016*\"功能\" + 0.015*\"網銀\" + 0.014*\"入帳\" + 0.014*\"臨櫃\"\n",
      "2025-05-18 17:59:17,623 : INFO : topic #4 (0.167): 0.042*\"方便\" + 0.030*\"銀行\" + 0.020*\"網銀\" + 0.018*\"只能\" + 0.018*\"申請\" + 0.015*\"帳戶\" + 0.014*\"明細\" + 0.014*\"查詢\" + 0.013*\"交易\" + 0.012*\"真的\"\n",
      "2025-05-18 17:59:17,624 : INFO : topic #5 (0.167): 0.086*\"無法\" + 0.070*\"更新\" + 0.064*\"登入\" + 0.038*\"使用\" + 0.030*\"一直\" + 0.018*\"手機\" + 0.017*\"轉帳\" + 0.014*\"完全\" + 0.013*\"顯示\" + 0.013*\"app\"\n",
      "2025-05-18 17:59:17,626 : INFO : topic #0 (0.167): 0.029*\"app\" + 0.024*\"轉帳\" + 0.022*\"臨櫃\" + 0.021*\"帳戶\" + 0.019*\"銀行\" + 0.018*\"無法\" + 0.018*\"信用卡\" + 0.018*\"數位\" + 0.017*\"更新\" + 0.016*\"真的\"\n",
      "2025-05-18 17:59:17,626 : INFO : topic #2 (0.167): 0.047*\"一直\" + 0.032*\"銀行\" + 0.031*\"登入\" + 0.026*\"轉帳\" + 0.022*\"無法\" + 0.022*\"密碼\" + 0.018*\"app\" + 0.017*\"失敗\" + 0.017*\"問題\" + 0.016*\"網路\"\n",
      "2025-05-18 17:59:17,627 : INFO : topic diff=0.291872, rho=0.471247\n",
      "2025-05-18 17:59:17,817 : INFO : -6.194 per-word bound, 73.2 perplexity estimate based on a held-out corpus of 1006 documents with 8522 words\n",
      "2025-05-18 17:59:17,818 : INFO : PROGRESS: pass 2, at document #3006/3006\n",
      "2025-05-18 17:59:17,971 : INFO : merging changes from 1006 documents into a model of 3006 documents\n",
      "2025-05-18 17:59:17,972 : INFO : topic #2 (0.167): 0.042*\"一直\" + 0.032*\"銀行\" + 0.031*\"轉帳\" + 0.027*\"密碼\" + 0.025*\"登入\" + 0.018*\"app\" + 0.017*\"無法\" + 0.016*\"問題\" + 0.015*\"網路\" + 0.014*\"設定\"\n",
      "2025-05-18 17:59:17,973 : INFO : topic #0 (0.167): 0.031*\"轉帳\" + 0.030*\"臨櫃\" + 0.028*\"帳戶\" + 0.026*\"app\" + 0.023*\"數位\" + 0.022*\"銀行\" + 0.018*\"申請\" + 0.017*\"信用卡\" + 0.016*\"無法\" + 0.015*\"真的\"\n",
      "2025-05-18 17:59:17,974 : INFO : topic #1 (0.167): 0.060*\"通知\" + 0.030*\"APP\" + 0.023*\"銀行\" + 0.019*\"入帳\" + 0.017*\"app\" + 0.016*\"功能\" + 0.015*\"合庫\" + 0.014*\"臨櫃\" + 0.013*\"客服\" + 0.013*\"設定\"\n",
      "2025-05-18 17:59:17,976 : INFO : topic #4 (0.167): 0.036*\"方便\" + 0.031*\"銀行\" + 0.020*\"網銀\" + 0.019*\"申請\" + 0.019*\"只能\" + 0.015*\"查詢\" + 0.015*\"帳戶\" + 0.015*\"明細\" + 0.013*\"交易\" + 0.012*\"還要\"\n",
      "2025-05-18 17:59:17,977 : INFO : topic #5 (0.167): 0.075*\"無法\" + 0.068*\"更新\" + 0.060*\"登入\" + 0.035*\"使用\" + 0.027*\"一直\" + 0.019*\"手機\" + 0.016*\"轉帳\" + 0.015*\"設定\" + 0.014*\"指紋\" + 0.014*\"顯示\"\n",
      "2025-05-18 17:59:17,978 : INFO : topic diff=0.333388, rho=0.471247\n",
      "2025-05-18 17:59:17,980 : INFO : PROGRESS: pass 3, at document #2000/3006\n",
      "2025-05-18 17:59:18,280 : INFO : merging changes from 2000 documents into a model of 3006 documents\n",
      "2025-05-18 17:59:18,281 : INFO : topic #0 (0.167): 0.030*\"轉帳\" + 0.027*\"app\" + 0.026*\"臨櫃\" + 0.025*\"帳戶\" + 0.022*\"銀行\" + 0.020*\"信用卡\" + 0.020*\"數位\" + 0.018*\"申請\" + 0.016*\"真的\" + 0.015*\"無法\"\n",
      "2025-05-18 17:59:18,282 : INFO : topic #3 (0.167): 0.052*\"更新\" + 0.028*\"進不去\" + 0.027*\"app\" + 0.022*\"一直\" + 0.022*\"程式\" + 0.020*\"下載\" + 0.018*\"真的\" + 0.017*\"難用\" + 0.016*\"爛死\" + 0.014*\"知道\"\n",
      "2025-05-18 17:59:18,283 : INFO : topic #2 (0.167): 0.047*\"一直\" + 0.030*\"登入\" + 0.029*\"銀行\" + 0.026*\"轉帳\" + 0.025*\"密碼\" + 0.019*\"無法\" + 0.018*\"問題\" + 0.018*\"失敗\" + 0.018*\"app\" + 0.017*\"網路\"\n",
      "2025-05-18 17:59:18,284 : INFO : topic #5 (0.167): 0.091*\"無法\" + 0.072*\"更新\" + 0.068*\"登入\" + 0.039*\"使用\" + 0.033*\"一直\" + 0.018*\"手機\" + 0.014*\"完全\" + 0.013*\"指紋\" + 0.013*\"顯示\" + 0.013*\"轉帳\"\n",
      "2025-05-18 17:59:18,284 : INFO : topic #4 (0.167): 0.043*\"方便\" + 0.032*\"銀行\" + 0.022*\"網銀\" + 0.019*\"只能\" + 0.018*\"申請\" + 0.017*\"查詢\" + 0.015*\"明細\" + 0.015*\"交易\" + 0.013*\"帳戶\" + 0.011*\"真的\"\n",
      "2025-05-18 17:59:18,286 : INFO : topic diff=0.241585, rho=0.426285\n",
      "2025-05-18 17:59:18,478 : INFO : -6.149 per-word bound, 71.0 perplexity estimate based on a held-out corpus of 1006 documents with 8522 words\n",
      "2025-05-18 17:59:18,479 : INFO : PROGRESS: pass 3, at document #3006/3006\n",
      "2025-05-18 17:59:18,623 : INFO : merging changes from 1006 documents into a model of 3006 documents\n",
      "2025-05-18 17:59:18,624 : INFO : topic #4 (0.167): 0.038*\"方便\" + 0.032*\"銀行\" + 0.021*\"網銀\" + 0.020*\"只能\" + 0.018*\"申請\" + 0.017*\"查詢\" + 0.015*\"明細\" + 0.015*\"交易\" + 0.012*\"帳戶\" + 0.011*\"還要\"\n",
      "2025-05-18 17:59:18,624 : INFO : topic #0 (0.167): 0.037*\"轉帳\" + 0.031*\"臨櫃\" + 0.030*\"帳戶\" + 0.024*\"銀行\" + 0.024*\"app\" + 0.023*\"數位\" + 0.020*\"申請\" + 0.018*\"信用卡\" + 0.016*\"功能\" + 0.015*\"真的\"\n",
      "2025-05-18 17:59:18,625 : INFO : topic #2 (0.167): 0.043*\"一直\" + 0.030*\"密碼\" + 0.029*\"銀行\" + 0.028*\"轉帳\" + 0.026*\"登入\" + 0.018*\"app\" + 0.017*\"問題\" + 0.017*\"網路\" + 0.016*\"無法\" + 0.015*\"失敗\"\n",
      "2025-05-18 17:59:18,625 : INFO : topic #5 (0.167): 0.080*\"無法\" + 0.070*\"更新\" + 0.064*\"登入\" + 0.036*\"使用\" + 0.030*\"一直\" + 0.018*\"手機\" + 0.015*\"設定\" + 0.015*\"指紋\" + 0.014*\"顯示\" + 0.013*\"重新\"\n",
      "2025-05-18 17:59:18,626 : INFO : topic #1 (0.167): 0.064*\"通知\" + 0.029*\"APP\" + 0.024*\"銀行\" + 0.020*\"入帳\" + 0.020*\"app\" + 0.018*\"功能\" + 0.015*\"合庫\" + 0.014*\"設定\" + 0.013*\"客服\" + 0.012*\"App\"\n",
      "2025-05-18 17:59:18,626 : INFO : topic diff=0.271411, rho=0.426285\n",
      "2025-05-18 17:59:18,627 : INFO : PROGRESS: pass 4, at document #2000/3006\n",
      "2025-05-18 17:59:18,884 : INFO : merging changes from 2000 documents into a model of 3006 documents\n",
      "2025-05-18 17:59:18,885 : INFO : topic #4 (0.167): 0.044*\"方便\" + 0.033*\"銀行\" + 0.023*\"網銀\" + 0.020*\"只能\" + 0.018*\"查詢\" + 0.017*\"申請\" + 0.016*\"交易\" + 0.016*\"明細\" + 0.011*\"帳戶\" + 0.010*\"真的\"\n",
      "2025-05-18 17:59:18,886 : INFO : topic #0 (0.167): 0.037*\"轉帳\" + 0.028*\"臨櫃\" + 0.028*\"帳戶\" + 0.025*\"app\" + 0.023*\"銀行\" + 0.020*\"數位\" + 0.020*\"信用卡\" + 0.020*\"申請\" + 0.016*\"功能\" + 0.016*\"真的\"\n",
      "2025-05-18 17:59:18,886 : INFO : topic #1 (0.167): 0.053*\"通知\" + 0.030*\"APP\" + 0.025*\"銀行\" + 0.020*\"app\" + 0.019*\"功能\" + 0.018*\"合庫\" + 0.016*\"入帳\" + 0.013*\"App\" + 0.013*\"網銀\" + 0.012*\"設定\"\n",
      "2025-05-18 17:59:18,886 : INFO : topic #2 (0.167): 0.048*\"一直\" + 0.031*\"登入\" + 0.028*\"密碼\" + 0.027*\"銀行\" + 0.024*\"轉帳\" + 0.019*\"問題\" + 0.019*\"失敗\" + 0.018*\"網路\" + 0.018*\"app\" + 0.017*\"無法\"\n",
      "2025-05-18 17:59:18,887 : INFO : topic #5 (0.167): 0.094*\"無法\" + 0.073*\"更新\" + 0.070*\"登入\" + 0.039*\"使用\" + 0.034*\"一直\" + 0.018*\"手機\" + 0.014*\"指紋\" + 0.014*\"完全\" + 0.013*\"顯示\" + 0.013*\"app\"\n",
      "2025-05-18 17:59:18,888 : INFO : topic diff=0.200092, rho=0.392142\n",
      "2025-05-18 17:59:19,074 : INFO : -6.120 per-word bound, 69.6 perplexity estimate based on a held-out corpus of 1006 documents with 8522 words\n",
      "2025-05-18 17:59:19,075 : INFO : PROGRESS: pass 4, at document #3006/3006\n",
      "2025-05-18 17:59:19,206 : INFO : merging changes from 1006 documents into a model of 3006 documents\n",
      "2025-05-18 17:59:19,207 : INFO : topic #5 (0.167): 0.083*\"無法\" + 0.071*\"更新\" + 0.066*\"登入\" + 0.037*\"使用\" + 0.031*\"一直\" + 0.018*\"手機\" + 0.015*\"設定\" + 0.015*\"指紋\" + 0.014*\"重新\" + 0.013*\"顯示\"\n",
      "2025-05-18 17:59:19,208 : INFO : topic #4 (0.167): 0.040*\"方便\" + 0.033*\"銀行\" + 0.022*\"網銀\" + 0.020*\"只能\" + 0.019*\"查詢\" + 0.016*\"申請\" + 0.016*\"交易\" + 0.016*\"明細\" + 0.011*\"知道\" + 0.011*\"還要\"\n",
      "2025-05-18 17:59:19,209 : INFO : topic #3 (0.167): 0.054*\"更新\" + 0.028*\"app\" + 0.023*\"進不去\" + 0.023*\"下載\" + 0.022*\"難用\" + 0.020*\"一直\" + 0.020*\"程式\" + 0.020*\"真的\" + 0.018*\"知道\" + 0.018*\"爛死\"\n",
      "2025-05-18 17:59:19,210 : INFO : topic #0 (0.167): 0.043*\"轉帳\" + 0.033*\"臨櫃\" + 0.032*\"帳戶\" + 0.026*\"銀行\" + 0.023*\"數位\" + 0.022*\"app\" + 0.021*\"申請\" + 0.018*\"信用卡\" + 0.018*\"功能\" + 0.015*\"真的\"\n",
      "2025-05-18 17:59:19,211 : INFO : topic #1 (0.167): 0.065*\"通知\" + 0.029*\"APP\" + 0.026*\"銀行\" + 0.022*\"app\" + 0.020*\"入帳\" + 0.018*\"功能\" + 0.016*\"設定\" + 0.015*\"合庫\" + 0.013*\"客服\" + 0.012*\"App\"\n",
      "2025-05-18 17:59:19,211 : INFO : topic diff=0.224481, rho=0.392142\n",
      "2025-05-18 17:59:19,212 : INFO : PROGRESS: pass 5, at document #2000/3006\n",
      "2025-05-18 17:59:19,468 : INFO : merging changes from 2000 documents into a model of 3006 documents\n",
      "2025-05-18 17:59:19,469 : INFO : topic #1 (0.167): 0.056*\"通知\" + 0.030*\"APP\" + 0.027*\"銀行\" + 0.023*\"app\" + 0.020*\"功能\" + 0.018*\"合庫\" + 0.017*\"入帳\" + 0.014*\"設定\" + 0.013*\"App\" + 0.012*\"客服\"\n",
      "2025-05-18 17:59:19,470 : INFO : topic #4 (0.167): 0.045*\"方便\" + 0.033*\"銀行\" + 0.024*\"網銀\" + 0.021*\"只能\" + 0.020*\"查詢\" + 0.017*\"交易\" + 0.016*\"明細\" + 0.015*\"申請\" + 0.011*\"不行\" + 0.010*\"手機\"\n",
      "2025-05-18 17:59:19,471 : INFO : topic #5 (0.167): 0.095*\"無法\" + 0.074*\"更新\" + 0.071*\"登入\" + 0.040*\"使用\" + 0.035*\"一直\" + 0.018*\"手機\" + 0.014*\"指紋\" + 0.013*\"完全\" + 0.013*\"app\" + 0.013*\"顯示\"\n",
      "2025-05-18 17:59:19,471 : INFO : topic #2 (0.167): 0.048*\"一直\" + 0.031*\"登入\" + 0.030*\"密碼\" + 0.025*\"銀行\" + 0.022*\"轉帳\" + 0.020*\"問題\" + 0.020*\"失敗\" + 0.019*\"網路\" + 0.018*\"錯誤\" + 0.018*\"顯示\"\n",
      "2025-05-18 17:59:19,472 : INFO : topic #3 (0.167): 0.056*\"更新\" + 0.030*\"進不去\" + 0.029*\"app\" + 0.024*\"難用\" + 0.022*\"下載\" + 0.022*\"程式\" + 0.022*\"一直\" + 0.020*\"真的\" + 0.017*\"爛死\" + 0.016*\"介面\"\n",
      "2025-05-18 17:59:19,473 : INFO : topic diff=0.170585, rho=0.365075\n",
      "2025-05-18 17:59:19,644 : INFO : -6.100 per-word bound, 68.6 perplexity estimate based on a held-out corpus of 1006 documents with 8522 words\n",
      "2025-05-18 17:59:19,644 : INFO : PROGRESS: pass 5, at document #3006/3006\n",
      "2025-05-18 17:59:19,769 : INFO : merging changes from 1006 documents into a model of 3006 documents\n",
      "2025-05-18 17:59:19,770 : INFO : topic #3 (0.167): 0.056*\"更新\" + 0.029*\"app\" + 0.025*\"難用\" + 0.024*\"進不去\" + 0.023*\"下載\" + 0.021*\"一直\" + 0.020*\"真的\" + 0.020*\"程式\" + 0.019*\"知道\" + 0.018*\"爛死\"\n",
      "2025-05-18 17:59:19,771 : INFO : topic #4 (0.167): 0.041*\"方便\" + 0.033*\"銀行\" + 0.022*\"網銀\" + 0.021*\"只能\" + 0.020*\"查詢\" + 0.016*\"交易\" + 0.016*\"明細\" + 0.015*\"申請\" + 0.012*\"知道\" + 0.011*\"還要\"\n",
      "2025-05-18 17:59:19,771 : INFO : topic #1 (0.167): 0.067*\"通知\" + 0.028*\"APP\" + 0.027*\"銀行\" + 0.024*\"app\" + 0.020*\"入帳\" + 0.019*\"功能\" + 0.017*\"設定\" + 0.016*\"合庫\" + 0.013*\"客服\" + 0.012*\"台灣\"\n",
      "2025-05-18 17:59:19,772 : INFO : topic #2 (0.167): 0.046*\"一直\" + 0.035*\"密碼\" + 0.027*\"登入\" + 0.025*\"銀行\" + 0.023*\"轉帳\" + 0.020*\"問題\" + 0.019*\"網路\" + 0.018*\"錯誤\" + 0.017*\"失敗\" + 0.017*\"app\"\n",
      "2025-05-18 17:59:19,773 : INFO : topic #0 (0.167): 0.048*\"轉帳\" + 0.034*\"臨櫃\" + 0.033*\"帳戶\" + 0.027*\"銀行\" + 0.023*\"數位\" + 0.022*\"申請\" + 0.021*\"app\" + 0.019*\"功能\" + 0.018*\"信用卡\" + 0.016*\"帳號\"\n",
      "2025-05-18 17:59:19,774 : INFO : topic diff=0.190128, rho=0.365075\n",
      "2025-05-18 17:59:19,774 : INFO : PROGRESS: pass 6, at document #2000/3006\n",
      "2025-05-18 17:59:20,030 : INFO : merging changes from 2000 documents into a model of 3006 documents\n",
      "2025-05-18 17:59:20,031 : INFO : topic #3 (0.167): 0.057*\"更新\" + 0.030*\"進不去\" + 0.030*\"app\" + 0.026*\"難用\" + 0.023*\"下載\" + 0.022*\"一直\" + 0.022*\"程式\" + 0.021*\"真的\" + 0.018*\"爛死\" + 0.017*\"介面\"\n",
      "2025-05-18 17:59:20,032 : INFO : topic #0 (0.167): 0.048*\"轉帳\" + 0.032*\"臨櫃\" + 0.031*\"帳戶\" + 0.026*\"銀行\" + 0.022*\"申請\" + 0.022*\"app\" + 0.021*\"數位\" + 0.020*\"信用卡\" + 0.019*\"功能\" + 0.016*\"帳號\"\n",
      "2025-05-18 17:59:20,033 : INFO : topic #1 (0.167): 0.057*\"通知\" + 0.029*\"APP\" + 0.027*\"銀行\" + 0.024*\"app\" + 0.021*\"功能\" + 0.018*\"合庫\" + 0.017*\"入帳\" + 0.015*\"設定\" + 0.012*\"App\" + 0.012*\"客服\"\n",
      "2025-05-18 17:59:20,033 : INFO : topic #4 (0.167): 0.046*\"方便\" + 0.033*\"銀行\" + 0.024*\"網銀\" + 0.021*\"只能\" + 0.021*\"查詢\" + 0.017*\"交易\" + 0.016*\"明細\" + 0.014*\"申請\" + 0.011*\"不行\" + 0.011*\"手機\"\n",
      "2025-05-18 17:59:20,034 : INFO : topic #2 (0.167): 0.049*\"一直\" + 0.033*\"密碼\" + 0.031*\"登入\" + 0.024*\"銀行\" + 0.021*\"問題\" + 0.021*\"錯誤\" + 0.020*\"失敗\" + 0.020*\"轉帳\" + 0.020*\"網路\" + 0.019*\"顯示\"\n",
      "2025-05-18 17:59:20,034 : INFO : topic diff=0.149181, rho=0.342937\n",
      "2025-05-18 17:59:20,209 : INFO : -6.086 per-word bound, 67.9 perplexity estimate based on a held-out corpus of 1006 documents with 8522 words\n",
      "2025-05-18 17:59:20,210 : INFO : PROGRESS: pass 6, at document #3006/3006\n",
      "2025-05-18 17:59:20,339 : INFO : merging changes from 1006 documents into a model of 3006 documents\n",
      "2025-05-18 17:59:20,340 : INFO : topic #4 (0.167): 0.042*\"方便\" + 0.033*\"銀行\" + 0.023*\"網銀\" + 0.021*\"查詢\" + 0.021*\"只能\" + 0.017*\"交易\" + 0.016*\"明細\" + 0.014*\"申請\" + 0.012*\"知道\" + 0.011*\"還要\"\n",
      "2025-05-18 17:59:20,341 : INFO : topic #0 (0.167): 0.052*\"轉帳\" + 0.035*\"臨櫃\" + 0.033*\"帳戶\" + 0.028*\"銀行\" + 0.023*\"申請\" + 0.023*\"數位\" + 0.020*\"功能\" + 0.020*\"app\" + 0.018*\"信用卡\" + 0.017*\"帳號\"\n",
      "2025-05-18 17:59:20,343 : INFO : topic #5 (0.167): 0.086*\"無法\" + 0.072*\"更新\" + 0.069*\"登入\" + 0.037*\"使用\" + 0.033*\"一直\" + 0.018*\"手機\" + 0.016*\"指紋\" + 0.015*\"設定\" + 0.015*\"重新\" + 0.013*\"app\"\n",
      "2025-05-18 17:59:20,344 : INFO : topic #2 (0.167): 0.047*\"一直\" + 0.037*\"密碼\" + 0.027*\"登入\" + 0.024*\"銀行\" + 0.021*\"轉帳\" + 0.020*\"問題\" + 0.020*\"錯誤\" + 0.019*\"網路\" + 0.018*\"失敗\" + 0.018*\"系統\"\n",
      "2025-05-18 17:59:20,345 : INFO : topic #3 (0.167): 0.057*\"更新\" + 0.030*\"app\" + 0.027*\"難用\" + 0.025*\"進不去\" + 0.024*\"下載\" + 0.021*\"一直\" + 0.021*\"真的\" + 0.020*\"程式\" + 0.020*\"知道\" + 0.019*\"爛死\"\n",
      "2025-05-18 17:59:20,345 : INFO : topic diff=0.165672, rho=0.342937\n",
      "2025-05-18 17:59:20,346 : INFO : PROGRESS: pass 7, at document #2000/3006\n",
      "2025-05-18 17:59:20,593 : INFO : merging changes from 2000 documents into a model of 3006 documents\n",
      "2025-05-18 17:59:20,594 : INFO : topic #2 (0.167): 0.050*\"一直\" + 0.034*\"密碼\" + 0.031*\"登入\" + 0.023*\"銀行\" + 0.022*\"錯誤\" + 0.021*\"問題\" + 0.020*\"失敗\" + 0.020*\"網路\" + 0.019*\"顯示\" + 0.019*\"轉帳\"\n",
      "2025-05-18 17:59:20,595 : INFO : topic #0 (0.167): 0.052*\"轉帳\" + 0.032*\"臨櫃\" + 0.032*\"帳戶\" + 0.027*\"銀行\" + 0.023*\"申請\" + 0.021*\"數位\" + 0.020*\"app\" + 0.020*\"功能\" + 0.019*\"信用卡\" + 0.017*\"帳號\"\n",
      "2025-05-18 17:59:20,595 : INFO : topic #1 (0.167): 0.058*\"通知\" + 0.028*\"APP\" + 0.028*\"銀行\" + 0.026*\"app\" + 0.021*\"功能\" + 0.018*\"合庫\" + 0.017*\"入帳\" + 0.015*\"設定\" + 0.012*\"客服\" + 0.012*\"App\"\n",
      "2025-05-18 17:59:20,596 : INFO : topic #5 (0.167): 0.096*\"無法\" + 0.074*\"更新\" + 0.074*\"登入\" + 0.040*\"使用\" + 0.035*\"一直\" + 0.018*\"手機\" + 0.015*\"指紋\" + 0.013*\"開啟\" + 0.013*\"重新\" + 0.013*\"完全\"\n",
      "2025-05-18 17:59:20,597 : INFO : topic #4 (0.167): 0.047*\"方便\" + 0.033*\"銀行\" + 0.024*\"網銀\" + 0.022*\"查詢\" + 0.021*\"只能\" + 0.017*\"交易\" + 0.016*\"明細\" + 0.014*\"申請\" + 0.011*\"不行\" + 0.011*\"手機\"\n",
      "2025-05-18 17:59:20,598 : INFO : topic diff=0.134122, rho=0.324392\n",
      "2025-05-18 17:59:20,775 : INFO : -6.076 per-word bound, 67.5 perplexity estimate based on a held-out corpus of 1006 documents with 8522 words\n",
      "2025-05-18 17:59:20,776 : INFO : PROGRESS: pass 7, at document #3006/3006\n",
      "2025-05-18 17:59:20,910 : INFO : merging changes from 1006 documents into a model of 3006 documents\n",
      "2025-05-18 17:59:20,911 : INFO : topic #4 (0.167): 0.043*\"方便\" + 0.033*\"銀行\" + 0.023*\"網銀\" + 0.022*\"查詢\" + 0.021*\"只能\" + 0.017*\"交易\" + 0.016*\"明細\" + 0.013*\"申請\" + 0.012*\"知道\" + 0.011*\"不行\"\n",
      "2025-05-18 17:59:20,912 : INFO : topic #1 (0.167): 0.068*\"通知\" + 0.028*\"銀行\" + 0.027*\"APP\" + 0.027*\"app\" + 0.020*\"入帳\" + 0.020*\"功能\" + 0.018*\"設定\" + 0.016*\"合庫\" + 0.013*\"客服\" + 0.012*\"介面\"\n",
      "2025-05-18 17:59:20,913 : INFO : topic #3 (0.167): 0.058*\"更新\" + 0.031*\"app\" + 0.029*\"難用\" + 0.025*\"進不去\" + 0.024*\"下載\" + 0.022*\"真的\" + 0.022*\"一直\" + 0.021*\"知道\" + 0.020*\"程式\" + 0.019*\"爛死\"\n",
      "2025-05-18 17:59:20,913 : INFO : topic #2 (0.167): 0.047*\"一直\" + 0.038*\"密碼\" + 0.027*\"登入\" + 0.023*\"銀行\" + 0.022*\"錯誤\" + 0.021*\"問題\" + 0.020*\"轉帳\" + 0.019*\"網路\" + 0.019*\"系統\" + 0.018*\"失敗\"\n",
      "2025-05-18 17:59:20,914 : INFO : topic #5 (0.167): 0.087*\"無法\" + 0.073*\"更新\" + 0.070*\"登入\" + 0.038*\"使用\" + 0.033*\"一直\" + 0.018*\"手機\" + 0.016*\"指紋\" + 0.015*\"設定\" + 0.015*\"重新\" + 0.013*\"app\"\n",
      "2025-05-18 17:59:20,915 : INFO : topic diff=0.147444, rho=0.324392\n",
      "2025-05-18 17:59:20,915 : INFO : PROGRESS: pass 8, at document #2000/3006\n",
      "2025-05-18 17:59:21,156 : INFO : merging changes from 2000 documents into a model of 3006 documents\n",
      "2025-05-18 17:59:21,157 : INFO : topic #3 (0.167): 0.059*\"更新\" + 0.032*\"app\" + 0.030*\"進不去\" + 0.030*\"難用\" + 0.024*\"下載\" + 0.023*\"一直\" + 0.022*\"真的\" + 0.022*\"程式\" + 0.019*\"知道\" + 0.019*\"爛死\"\n",
      "2025-05-18 17:59:21,157 : INFO : topic #5 (0.167): 0.096*\"無法\" + 0.075*\"更新\" + 0.074*\"登入\" + 0.040*\"使用\" + 0.035*\"一直\" + 0.018*\"手機\" + 0.015*\"指紋\" + 0.014*\"開啟\" + 0.014*\"重新\" + 0.013*\"完全\"\n",
      "2025-05-18 17:59:21,159 : INFO : topic #4 (0.167): 0.047*\"方便\" + 0.033*\"銀行\" + 0.025*\"網銀\" + 0.023*\"查詢\" + 0.022*\"只能\" + 0.018*\"交易\" + 0.017*\"明細\" + 0.013*\"申請\" + 0.012*\"不行\" + 0.011*\"知道\"\n",
      "2025-05-18 17:59:21,159 : INFO : topic #2 (0.167): 0.050*\"一直\" + 0.036*\"密碼\" + 0.031*\"登入\" + 0.024*\"錯誤\" + 0.022*\"問題\" + 0.022*\"銀行\" + 0.021*\"失敗\" + 0.020*\"網路\" + 0.020*\"顯示\" + 0.019*\"系統\"\n",
      "2025-05-18 17:59:21,160 : INFO : topic #0 (0.167): 0.056*\"轉帳\" + 0.033*\"臨櫃\" + 0.032*\"帳戶\" + 0.028*\"銀行\" + 0.024*\"申請\" + 0.021*\"功能\" + 0.021*\"數位\" + 0.019*\"app\" + 0.019*\"信用卡\" + 0.019*\"帳號\"\n",
      "2025-05-18 17:59:21,160 : INFO : topic diff=0.121920, rho=0.308563\n",
      "2025-05-18 17:59:21,325 : INFO : -6.068 per-word bound, 67.1 perplexity estimate based on a held-out corpus of 1006 documents with 8522 words\n",
      "2025-05-18 17:59:21,325 : INFO : PROGRESS: pass 8, at document #3006/3006\n",
      "2025-05-18 17:59:21,446 : INFO : merging changes from 1006 documents into a model of 3006 documents\n",
      "2025-05-18 17:59:21,447 : INFO : topic #2 (0.167): 0.048*\"一直\" + 0.040*\"密碼\" + 0.027*\"登入\" + 0.023*\"錯誤\" + 0.022*\"銀行\" + 0.021*\"問題\" + 0.019*\"網路\" + 0.019*\"轉帳\" + 0.019*\"系統\" + 0.019*\"顯示\"\n",
      "2025-05-18 17:59:21,447 : INFO : topic #0 (0.167): 0.058*\"轉帳\" + 0.036*\"臨櫃\" + 0.034*\"帳戶\" + 0.030*\"銀行\" + 0.025*\"申請\" + 0.023*\"數位\" + 0.021*\"功能\" + 0.020*\"帳號\" + 0.018*\"app\" + 0.017*\"信用卡\"\n",
      "2025-05-18 17:59:21,448 : INFO : topic #4 (0.167): 0.043*\"方便\" + 0.033*\"銀行\" + 0.023*\"網銀\" + 0.023*\"查詢\" + 0.022*\"只能\" + 0.017*\"交易\" + 0.017*\"明細\" + 0.013*\"知道\" + 0.012*\"申請\" + 0.011*\"不行\"\n",
      "2025-05-18 17:59:21,449 : INFO : topic #5 (0.167): 0.088*\"無法\" + 0.073*\"更新\" + 0.071*\"登入\" + 0.038*\"使用\" + 0.033*\"一直\" + 0.018*\"手機\" + 0.016*\"指紋\" + 0.015*\"設定\" + 0.015*\"重新\" + 0.013*\"開啟\"\n",
      "2025-05-18 17:59:21,449 : INFO : topic #1 (0.167): 0.068*\"通知\" + 0.028*\"銀行\" + 0.028*\"app\" + 0.027*\"APP\" + 0.020*\"入帳\" + 0.020*\"功能\" + 0.019*\"設定\" + 0.017*\"合庫\" + 0.013*\"介面\" + 0.012*\"客服\"\n",
      "2025-05-18 17:59:21,450 : INFO : topic diff=0.133268, rho=0.308563\n",
      "2025-05-18 17:59:21,451 : INFO : PROGRESS: pass 9, at document #2000/3006\n",
      "2025-05-18 17:59:21,681 : INFO : merging changes from 2000 documents into a model of 3006 documents\n",
      "2025-05-18 17:59:21,682 : INFO : topic #1 (0.167): 0.059*\"通知\" + 0.029*\"銀行\" + 0.028*\"app\" + 0.028*\"APP\" + 0.022*\"功能\" + 0.018*\"合庫\" + 0.017*\"入帳\" + 0.017*\"設定\" + 0.013*\"介面\" + 0.012*\"App\"\n",
      "2025-05-18 17:59:21,683 : INFO : topic #5 (0.167): 0.096*\"無法\" + 0.075*\"更新\" + 0.075*\"登入\" + 0.040*\"使用\" + 0.035*\"一直\" + 0.018*\"手機\" + 0.015*\"指紋\" + 0.014*\"開啟\" + 0.014*\"重新\" + 0.013*\"完全\"\n",
      "2025-05-18 17:59:21,684 : INFO : topic #2 (0.167): 0.051*\"一直\" + 0.037*\"密碼\" + 0.031*\"登入\" + 0.025*\"錯誤\" + 0.022*\"問題\" + 0.021*\"銀行\" + 0.021*\"失敗\" + 0.020*\"顯示\" + 0.020*\"網路\" + 0.019*\"系統\"\n",
      "2025-05-18 17:59:21,684 : INFO : topic #4 (0.167): 0.048*\"方便\" + 0.033*\"銀行\" + 0.025*\"網銀\" + 0.023*\"查詢\" + 0.022*\"只能\" + 0.018*\"交易\" + 0.017*\"明細\" + 0.012*\"申請\" + 0.012*\"不行\" + 0.012*\"知道\"\n",
      "2025-05-18 17:59:21,685 : INFO : topic #0 (0.167): 0.058*\"轉帳\" + 0.034*\"臨櫃\" + 0.033*\"帳戶\" + 0.029*\"銀行\" + 0.024*\"申請\" + 0.021*\"功能\" + 0.021*\"數位\" + 0.020*\"帳號\" + 0.019*\"信用卡\" + 0.018*\"app\"\n",
      "2025-05-18 17:59:21,686 : INFO : topic diff=0.111939, rho=0.294845\n",
      "2025-05-18 17:59:21,893 : INFO : -6.062 per-word bound, 66.8 perplexity estimate based on a held-out corpus of 1006 documents with 8522 words\n",
      "2025-05-18 17:59:21,894 : INFO : PROGRESS: pass 9, at document #3006/3006\n",
      "2025-05-18 17:59:22,015 : INFO : merging changes from 1006 documents into a model of 3006 documents\n",
      "2025-05-18 17:59:22,016 : INFO : topic #0 (0.167): 0.060*\"轉帳\" + 0.037*\"臨櫃\" + 0.034*\"帳戶\" + 0.030*\"銀行\" + 0.025*\"申請\" + 0.023*\"數位\" + 0.022*\"功能\" + 0.021*\"帳號\" + 0.017*\"app\" + 0.016*\"信用卡\"\n",
      "2025-05-18 17:59:22,017 : INFO : topic #1 (0.167): 0.068*\"通知\" + 0.029*\"app\" + 0.029*\"銀行\" + 0.026*\"APP\" + 0.021*\"功能\" + 0.020*\"入帳\" + 0.019*\"設定\" + 0.017*\"合庫\" + 0.014*\"介面\" + 0.012*\"客服\"\n",
      "2025-05-18 17:59:22,018 : INFO : topic #2 (0.167): 0.049*\"一直\" + 0.040*\"密碼\" + 0.027*\"登入\" + 0.024*\"錯誤\" + 0.022*\"問題\" + 0.021*\"銀行\" + 0.020*\"系統\" + 0.019*\"顯示\" + 0.019*\"網路\" + 0.019*\"失敗\"\n",
      "2025-05-18 17:59:22,019 : INFO : topic #5 (0.167): 0.088*\"無法\" + 0.074*\"更新\" + 0.072*\"登入\" + 0.038*\"使用\" + 0.033*\"一直\" + 0.018*\"手機\" + 0.017*\"指紋\" + 0.015*\"重新\" + 0.015*\"設定\" + 0.013*\"開啟\"\n",
      "2025-05-18 17:59:22,019 : INFO : topic #4 (0.167): 0.044*\"方便\" + 0.033*\"銀行\" + 0.024*\"查詢\" + 0.024*\"網銀\" + 0.022*\"只能\" + 0.017*\"交易\" + 0.017*\"明細\" + 0.013*\"知道\" + 0.012*\"申請\" + 0.012*\"不行\"\n",
      "2025-05-18 17:59:22,020 : INFO : topic diff=0.121024, rho=0.294845\n",
      "2025-05-18 17:59:22,021 : INFO : LdaModel lifecycle event {'msg': 'trained LdaModel<num_terms=755, num_topics=6, decay=0.5, chunksize=2000> in 6.39s', 'datetime': '2025-05-18T17:59:22.021747', 'gensim': '4.3.3', 'python': '3.10.11 (tags/v3.10.11:7d4cc5a, Apr  5 2023, 00:38:17) [MSC v.1929 64 bit (AMD64)]', 'platform': 'Windows-10-10.0.26100-SP0', 'event': 'created'}\n"
     ]
    }
   ],
   "source": [
    "best_model = LdaModel(\n",
    "    corpus = corpus,\n",
    "    num_topics = 6,\n",
    "    id2word=dictionary,\n",
    "    random_state = 6969,\n",
    "    passes = 10 # 訓練次數\n",
    "    )"
   ]
  },
  {
   "cell_type": "code",
   "execution_count": 77,
   "metadata": {},
   "outputs": [
    {
     "data": {
      "text/html": [
       "\n",
       "<link rel=\"stylesheet\" type=\"text/css\" href=\"https://cdn.jsdelivr.net/gh/bmabey/pyLDAvis@3.4.0/pyLDAvis/js/ldavis.v1.0.0.css\">\n",
       "\n",
       "\n",
       "<div id=\"ldavis_el132962813454125536550677549\" style=\"background-color:white;\"></div>\n",
       "<script type=\"text/javascript\">\n",
       "\n",
       "var ldavis_el132962813454125536550677549_data = {\"mdsDat\": {\"x\": [0.24044711942711075, 0.10858737816238638, -0.1440935253467861, -0.21977357057569366, -0.08438901543309063, 0.09922161376607327], \"y\": [-0.06883533977003269, -0.11090326047168855, -0.1458896061032672, -0.021728447634423352, 0.17247596517768077, 0.17488068880173102], \"topics\": [1, 2, 3, 4, 5, 6], \"cluster\": [1, 1, 1, 1, 1, 1], \"Freq\": [28.15501237607936, 18.592176853517447, 17.04437609800352, 13.813329059219306, 11.518940500682762, 10.876165112497603]}, \"tinfo\": {\"Term\": [\"\\u66f4\\u65b0\", \"\\u7121\\u6cd5\", \"\\u901a\\u77e5\", \"\\u767b\\u5165\", \"\\u65b9\\u4fbf\", \"\\u4e00\\u76f4\", \"\\u5bc6\\u78bc\", \"\\u5e33\\u6236\", \"\\u81e8\\u6ac3\", \"\\u8f49\\u5e33\", \"\\u9280\\u884c\", \"\\u96e3\\u7528\", \"\\u7533\\u8acb\", \"\\u6578\\u4f4d\", \"\\u9032\\u4e0d\\u53bb\", \"\\u67e5\\u8a62\", \"\\u53ea\\u80fd\", \"\\u77e5\\u9053\", \"\\u932f\\u8aa4\", \"\\u4e0b\\u8f09\", \"\\u7a0b\\u5f0f\", \"\\u8a2d\\u5b9a\", \"\\u624b\\u6a5f\", \"APP\", \"\\u5931\\u6557\", \"\\u5165\\u5e33\", \"\\u529f\\u80fd\", \"\\u6307\\u7d0b\", \"\\u4ea4\\u6613\", \"\\u4f7f\\u7528\", \"\\u622a\\u5716\", \"\\u652f\\u63f4\", \"\\u6b0a\\u9650\", \"\\u4fee\\u6b63\", \"\\u751f\\u7269\", \"\\u6c38\\u9060\", \"\\u81c9\\u90e8\", \"\\u5141\\u8a31\", \"Pixel\", \"\\u87a2\\u5e55\", \"\\u83ab\\u540d\\u5176\\u5999\", \"\\u5b89\\u5353\", \"\\u9ed1\\u5c4f\", \"5%\", \"\\u95dc\\u9589\", \"\\u5e33\\u5bc6\", \"\\u7248\\u672c\", \"\\u52a0\\u5165\", \"\\u8fa8\\u8b58\", \"\\u65b0\\u624b\\u6a5f\", \"\\u9ede\\u958b\", \"\\u5347\\u7d1a\", \"\\u958b\\u6a5f\", \"\\u6307\\u7d0b\", \"30%\", \"android\", \"\\u5f37\\u5236\", \"\\u5e33\\u52d9\", \"play\", \"\\u91cd\\u958b\", \"Android\", \"\\u9032\\u5165\", \"\\u7121\\u6cd5\", \"\\u540c\\u6b65\", \"\\u5716\\u5f62\", \"\\u767b\\u5165\", \"\\u66f4\\u65b0\", \"\\u4f7f\\u7528\", \"\\u624b\\u6a5f\", \"\\u4e4b\\u5f8c\", \"\\u958b\\u555f\", \"\\u91cd\\u65b0\", \"\\u5feb\\u901f\", \"\\u5b8c\\u5168\", \"\\u4f3a\\u670d\\u5668\", \"\\u6b63\\u5e38\", \"\\u6839\\u672c\\u7121\\u6cd5\", \"\\u4e00\\u76f4\", \"\\u6bcf\\u6b21\", \"\\u8a2d\\u5b9a\", \"\\u9023\\u7dda\", \"\\u7a81\\u7136\", \"\\u756b\\u9762\", \"\\u986f\\u793a\", \"\\u7cfb\\u7d71\", \"app\", \"\\u5df2\\u7d93\", \"\\u554f\\u984c\", \"\\u8cc7\\u6599\", \"\\u9a57\\u8b49\", \"\\u7570\\u5e38\", \"ssl\", \"\\u592a\\u4e45\", \"\\u9019\\u5bb6\", \"\\u52a0\\u5f37\", \"\\u591a\\u4e45\", \"\\u9084\\u6c92\", \"\\u4e00\\u5bb6\", \"\\u721b\\u721b\", \"QR\", \"otp\", \"\\u672c\\u884c\", \"\\u90e8\\u4efd\", \"\\u53d6\\u865f\", \"\\u767b\\u5165\\u5f8c\", \"\\u806f\\u7d61\", \"\\u665a\\u4e0a\", \"\\u7db2\\u7ad9\", \"\\u8acb\\u5047\", \"\\u525b\\u525b\", \"\\u62ff\\u5230\", \"\\u8cc7\\u91d1\", \"\\u8ddf\\u4e0a\", \"\\u4fee\\u597d\", \"\\u5fd9\\u788c\", \"\\u5fd9\\u7dda\", \"\\u7570\\u52d5\", \"\\u62b1\\u6b49\", \"\\u4fe1\\u7528\", \"\\u7c21\\u8a0a\", \"\\u5931\\u6557\", \"\\u5bc6\\u78bc\", \"\\u5de5\\u4f5c\", \"\\u932f\\u8aa4\", \"\\u9810\\u671f\", \"\\u78ba\\u8a8d\", \"\\u8b1d\\u8b1d\", \"\\u7db2\\u8def\", \"\\u8a0a\\u606f\", \"\\u88ab\\u9396\", \"\\u4e00\\u76f4\", \"\\u7cfb\\u7d71\", \"\\u51fa\\u73fe\", \"\\u554f\\u984c\", \"\\u624b\\u7e8c\\u8cbb\", \"\\u6191\\u8b49\", \"\\u986f\\u793a\", \"\\u9023\\u7dda\", \"\\u8655\\u7406\", \"\\u6539\\u5584\", \"\\u9801\\u9762\", \"\\u767c\\u751f\", \"\\u767b\\u5165\", \"\\u9280\\u884c\", \"\\u8f38\\u5165\", \"\\u5ba2\\u670d\", \"\\u8f49\\u5708\\u5708\", \"\\u8f49\\u5e33\", \"\\u5df2\\u7d93\", \"\\u721b\\u900f\", \"app\", \"\\u8a2d\\u5b9a\", \"\\u756b\\u9762\", \"APP\", \"\\u7121\\u6cd5\", \"\\u7db2\\u9280\", \"\\u6578\\u4f4d\", \"\\u7e73\\u6b3e\", \"SSL\", \"\\u5be6\\u7528\", \"\\u5fd8\\u8a18\", \"\\u4fbf\\u5229\", \"\\u984d\\u5ea6\", \"\\u7576\\u6a5f\", \"\\u512a\\u60e0\", \"\\u6539\\u6210\", \"\\u5c0d\\u65b9\", \"\\u9650\\u5236\", \"ok\", \"\\u6b04\\u4f4d\", \"\\u4e00\\u5929\\u5230\\u665a\", \"\\u9a57\\u8b49\\u78bc\", \"\\u9396\\u4f4f\", \"\\u56de\\u5bb6\", \"OTP\", \"\\u6bcf\\u500b\", \"\\u6bcf\\u6708\", \"\\u5361\\u8cbb\", \"\\u88ab\\u76dc\", \"\\u53f2\\u4e0a\", \"\\u6545\\u969c\", \"\\u624b\\u6a5f\\u865f\\u78bc\", \"\\u91d1\\u878d\", \"\\u67e5\\u7121\", \"\\u6062\\u5fa9\", \"\\u6709\\u4eba\", \"\\u5e33\\u6236\", \"\\u81e8\\u6ac3\", \"\\u7e73\\u8cbb\", \"\\u8fa6\\u7406\", \"\\u7dda\\u4e0a\", \"\\u66f4\\u6539\", \"\\u7533\\u8acb\", \"\\u597d\\u7528\", \"\\u4fe1\\u7528\\u5361\", \"\\u5e33\\u865f\", \"\\u8f49\\u5e33\", \"\\u7b2c\\u4e00\\u6b21\", \"\\u5e38\\u7528\", \"\\u5206\\u884c\", \"\\u958b\\u6236\", \"\\u516c\\u53f8\", \"\\u65b0\\u589e\", \"\\u7d04\\u5b9a\", \"\\u529f\\u80fd\", \"\\u9280\\u884c\", \"\\u9700\\u8981\", \"\\u9084\\u8981\", \"\\u4e0d\\u7528\", \"\\u8f38\\u5165\", \"\\u771f\\u7684\", \"app\", \"\\u6210\\u529f\", \"\\u4f7f\\u7528\", \"\\u5bc6\\u78bc\", \"\\u7db2\\u9280\", \"\\u7121\\u6cd5\", \"\\u8cc7\\u6599\", \"\\u65b9\\u4fbf\", \"\\u53ea\\u80fd\", \"\\u660e\\u7d30\", \"\\u4ea4\\u6613\", \"\\u9918\\u984d\", \"\\u958b\\u901a\", \"\\u8f49\\u51fa\", \"\\u6263\\u6b3e\", \"\\u60f3\\u8981\", \"\\u6383\\u63cf\", \"\\u8a18\\u9304\", \"\\u5c31\\u8981\", \"\\u8b80\\u5361\\u6a5f\", \"\\u6578\\u5b57\", \"\\u904e\\u4e86\", \"\\u4e0a\\u50b3\", \"\\u6d3b\\u5b58\", \"\\u63d0\\u6b3e\", \"\\u7d00\\u9304\", \"\\u6d88\\u8cbb\", \"\\u67e5\\u770b\", \"\\u9ec3\\u91d1\", \"\\u8981\\u67e5\", \"\\u6211\\u9023\", \"\\u67e5\\u500b\", \"\\u554f\\u4e86\", \"\\u6295\\u8cc7\", \"\\u5b58\\u5728\", \"\\u80fd\\u5920\", \"\\u6d41\\u7a0b\", \"\\u7533\\u8fa6\", \"\\u6709\\u5920\", \"\\u67e5\\u8a62\", \"\\u770b\\u770b\", \"\\u4e0d\\u884c\", \"\\u5b58\\u6b3e\", \"\\u7576\\u521d\", \"\\u5708\\u5708\", \"\\u670d\\u52d9\", \"\\u7db2\\u9280\", \"\\u4e00\\u500b\\u6708\", \"\\u5225\\u5bb6\", \"\\u8d85\\u7d1a\", \"\\u9280\\u884c\", \"\\u77e5\\u9053\", \"\\u5e0c\\u671b\", \"\\u8a2d\\u8a08\", \"\\u4e00\\u6b21\", \"\\u91d1\\u984d\", \"\\u4e0d\\u60f3\", \"\\u5b9a\\u5b58\", \"\\u7533\\u8acb\", \"\\u76f4\\u63a5\", \"\\u624b\\u6a5f\", \"\\u5408\\u5eab\", \"\\u9084\\u8981\", \"APP\", \"\\u986f\\u793a\", \"\\u771f\\u7684\", \"\\u529f\\u80fd\", \"\\u5b8c\\u5168\", \"\\u7db2\\u8def\", \"\\u901a\\u77e5\", \"\\u5165\\u5e33\", \"\\u6700\\u721b\", \"pay\", \"\\u689d\\u78bc\", \"\\u6709\\u9ede\", \"\\u5f88\\u5dee\", \"\\u4eba\\u6027\\u5316\", \"\\u4e0a\\u9762\", \"\\u9032\\u6b65\", \"\\u9996\\u9801\", \"\\u73fe\\u5834\", \"\\u4e0a\\u73ed\", \"\\u7528\\u5fc3\", \"\\u7fd2\\u6163\", \"Good\", \"\\u7d50\\u675f\", \"\\u9084\\u5728\", \"\\u5167\\u5bb9\", \"\\u7dad\\u8b77\", \"\\u9084\\u5f97\", \"\\u967d\\u6625\", \"\\u4e00\\u9801\", \"UI\", \"\\u4e0a\\u7db2\", \"\\u4e2d\\u570b\", \"\\u6a21\\u5f0f\", \"\\u4e00\\u9593\", \"\\u503c\\u5f97\", \"\\u56de\\u7b54\", \"\\u721b\\u5230\", \"\\u5bb9\\u6613\", \"\\u9023\\u7e8c\", \"\\u53f0\\u7063\", \"\\u6240\\u6709\", \"\\u5168\\u90e8\", \"\\u4e0d\\u932f\", \"\\u9ad4\\u9a57\", \"\\u5373\\u6642\", \"\\u958b\\u653e\", \"APP\", \"\\u7528\\u904e\", \"\\u4ed8\\u6b3e\", \"\\u5408\\u5eab\", \"\\u4ecb\\u9762\", \"\\u9084\\u4e0d\", \"\\u529f\\u80fd\", \"app\", \"\\u9280\\u884c\", \"\\u8a2d\\u5b9a\", \"\\u64cd\\u4f5c\", \"\\u5ba2\\u670d\", \"\\u4f7f\\u7528\\u8005\", \"\\u6253\\u4e0d\\u958b\", \"App\", \"\\u4eba\\u54e1\", \"\\u89ba\\u5f97\", \"\\u6253\\u958b\", \"\\u8f49\\u5e33\", \"\\u4f7f\\u7528\", \"\\u7db2\\u9280\", \"\\u9032\\u4e0d\\u53bb\", \"\\u721b\\u6b7b\", \"\\u9023\\u4e0d\\u4e0a\", \"\\u7dad\\u4fee\", \"\\u5b78\\u5b78\", \"30\", \"\\u6b65\\u9a5f\", \"\\u82f1\\u6587\", \"\\u5f88\\u68d2\", \"\\u66f4\\u597d\", \"\\u767b\\u4e0d\\u9032\", \"\\u8a8d\\u771f\", \"IT\", \"\\u7c21\\u55ae\", \"\\u627e\\u5230\", \"good\", \"\\u6236\\u982d\", \"\\u4e7e\\u8106\", \"\\u4e0d\\u77e5\", \"\\u8cbc\\u5fc3\", \"\\u9396\\u5b9a\", \"\\u91cd\\u9ede\", \"\\u7559\\u8a00\", \"\\u56b4\\u91cd\", \"\\u9806\\u66a2\", \"\\u4e2d\\u6587\", \"\\u6700\\u8fd1\", \"\\u89e3\\u7d04\", \"\\u8003\\u616e\", \"\\u8b8a\\u597d\", \"\\u67e5\\u5e33\", \"\\u7389\\u5c71\", \"\\u5e7e\\u5929\", \"\\u96e3\\u7528\", \"\\u7a0b\\u5f0f\", \"\\u7528\\u6236\", \"\\u6539\\u7248\", \"\\u901f\\u5ea6\", \"\\u7b49\\u5f85\", \"\\u5e79\\u561b\", \"\\u77e5\\u9053\", \"\\u5920\\u721b\", \"\\u4e0b\\u8f09\", \"\\u4ecb\\u9762\", \"\\u66f4\\u65b0\", \"\\u4e0d\\u597d\", \"\\u8edf\\u9ad4\", \"\\u771f\\u7684\", \"\\u6709\\u6c92\\u6709\", \"app\", \"\\u721b\\u7684\", \"\\u534a\\u5929\", \"\\u4e00\\u9ede\", \"\\u4eca\\u5929\", \"\\u6839\\u672c\", \"\\u4e00\\u76f4\", \"APP\", \"\\u73fe\\u5728\", \"\\u6771\\u897f\", \"\\u64cd\\u4f5c\", \"\\u554f\\u984c\", \"\\u5b9a\\u5b58\", \"\\u6bcf\\u6b21\"], \"Freq\": [590.0, 625.0, 167.0, 556.0, 129.0, 442.0, 205.0, 140.0, 152.0, 372.0, 365.0, 112.0, 127.0, 84.0, 60.0, 83.0, 64.0, 93.0, 133.0, 108.0, 70.0, 180.0, 144.0, 182.0, 87.0, 50.0, 186.0, 106.0, 51.0, 317.0, 66.79059268054877, 40.23774906842822, 49.791238727506304, 19.754254956171334, 18.849144569564615, 15.736212928449865, 14.436655895973077, 14.501992505079093, 13.258774251901126, 13.187756561765497, 12.600765826489809, 12.665815596700702, 12.15319411088375, 12.151372823141903, 11.636418334563894, 17.873478776866836, 42.43308865373296, 10.383191353336695, 65.63560105879196, 9.870116634217014, 9.791639044175465, 9.419187789600564, 9.353220413409643, 98.85637960255518, 8.624985193457015, 8.320035067708849, 27.639230610757483, 9.084920222411586, 7.659922692926025, 7.659379648415841, 29.398839635621805, 48.60113022742429, 527.8820390968225, 53.0131190215821, 31.458858098676064, 432.3679174396108, 440.9868971177539, 225.8048360253318, 109.02220625131632, 57.886233365351416, 80.57283399183049, 91.9254830251761, 42.971385005507024, 70.28147773106403, 72.22345502666623, 47.373543301608684, 19.87689390047629, 195.96490222041515, 73.19585002050651, 91.25774992576704, 61.788311718977724, 26.837852864970404, 52.815172335511065, 74.73169685873877, 57.683329657597675, 77.49240147601749, 46.71582728477978, 47.81202250272372, 40.96407806290792, 60.14160875395418, 44.715049668137844, 16.073831581570758, 15.624044549404863, 13.82858264197216, 13.319004163565163, 12.873264710810178, 12.289101168456003, 11.626350037580435, 11.552944674765515, 11.550464819774323, 11.544400806549662, 11.103346137324571, 10.944461634946736, 10.44285970160781, 13.1616561230673, 9.475685911989608, 8.882643808346982, 9.947935998450951, 8.123097418006163, 7.615527557777979, 7.548138394891636, 7.540919506669222, 7.523822115629652, 7.112515132204539, 8.239920012125904, 7.028891516324317, 8.95175241091947, 6.449377817014436, 6.438520980600457, 27.42551722030286, 74.18777959205934, 159.42359361325074, 14.815787444190704, 96.1522441918217, 15.199288697226072, 10.833201933929224, 33.29062897222248, 75.72125497999801, 33.14869336382041, 14.52973244703652, 192.18624978037036, 77.48758111987198, 39.0587992663292, 84.97032517775914, 16.572378980879005, 30.725745389834422, 76.70075080770927, 49.746030885255934, 34.34756394986262, 39.77122841183737, 25.236047088020054, 15.602480752870402, 108.57977312782273, 82.7377679098118, 43.91061670712405, 36.84465379532054, 30.766598173393437, 73.40175842798422, 37.76949166971462, 22.996139445286058, 60.59244032274225, 40.32103350352196, 31.729969886486398, 37.38587456138489, 53.35709329263787, 33.24747195558674, 82.64395592434417, 27.83221257641105, 19.586366364956927, 16.44713971894505, 15.435504885215485, 15.541730386559452, 12.991441697625067, 24.55193692835275, 12.53277745189203, 11.997038225276206, 11.06010297000448, 10.58275835055274, 10.62476622132895, 12.417953128640004, 10.312061097984895, 10.143404154057016, 11.053125962952917, 9.155822587962634, 44.75150609574012, 8.72022537110069, 8.224206278504049, 7.737608716391317, 7.734134121360926, 7.299816486074951, 7.739476669469276, 6.799967499611112, 27.641634157868822, 6.3155906605958005, 6.31361818306763, 6.3083873243919655, 123.71902353282337, 133.45153111489364, 12.714783179638752, 48.53840669633499, 38.96081783650281, 20.738197146348934, 90.6177283636563, 40.462658854694716, 59.71257281557101, 76.8321941872418, 218.1426354859354, 28.49061714592293, 24.652883944961076, 18.877523690583697, 29.791042920315277, 31.54332114945556, 18.42397861409364, 31.80844573153677, 78.54129707493215, 109.35898926048628, 30.67091625516311, 51.79759032186771, 24.335190307936802, 49.18306292888771, 45.58401636761667, 61.82280008209252, 26.29271072445694, 47.42600692084586, 37.57404137921059, 32.15558491771233, 37.144364966689615, 26.988536733022478, 128.66812246949522, 63.76741085253172, 48.794640197497685, 50.889285709752684, 32.659362925223704, 21.836356473884738, 16.812799498786127, 16.061515278657097, 15.14556010962036, 25.814951645028962, 13.487899792031975, 13.981428971469636, 12.01582971659352, 11.413046382311544, 10.937248937424048, 10.416379576585852, 9.881218803866416, 8.94301289026066, 9.404360433421962, 8.478454561447263, 8.344913887301324, 8.066954123961796, 7.872389394341314, 7.871045646388619, 7.3490258678827365, 7.342406867418236, 6.87940269548963, 6.872864306239374, 6.8704316237485, 6.808773608894138, 11.46371941136044, 25.847488517164706, 70.03452560506328, 24.591199633048248, 34.0675451976443, 27.25644684330887, 13.290241094705463, 11.946685789148594, 26.057730761663894, 69.24900074696525, 14.345581250920835, 19.827788709232987, 22.60953961845282, 95.65982502251947, 37.88093929867528, 33.532256676644664, 22.343014350910053, 26.855344569315005, 22.5983756484259, 22.1015796653737, 21.893772152803034, 34.50900226526382, 29.933526140270402, 32.74442825062773, 28.279449605986457, 29.32415454708868, 30.733399794503878, 29.045042999789697, 27.28806829996082, 26.286062709156166, 24.17728700744841, 22.470018002097504, 166.31255862676693, 49.39450843280437, 29.051027480252035, 24.083189472998672, 18.49892940462972, 15.6366808468611, 16.079488566281896, 13.12885825425452, 12.605892617813149, 17.90111408858709, 11.24907910539437, 10.089160298522929, 9.116021036905037, 8.724089907680066, 8.661759419485438, 8.15298952979788, 8.087262065886211, 8.080643574542824, 8.1379979462041, 8.598344838587552, 7.618645762215051, 7.716973483108695, 7.178942774918671, 7.1786066663033665, 7.097176093949589, 6.725692901398697, 6.662484543074947, 6.657710091710777, 6.6002138708203315, 6.598099234922015, 22.28717086977466, 13.243796007175975, 11.843425096916326, 27.77743104292872, 13.662025641683789, 19.483496359167933, 24.883415093933333, 20.88265841776373, 18.114629649999, 11.33389469027719, 64.63839907960681, 18.99533448500344, 13.65853694819206, 41.73377959325083, 33.700922688345514, 11.374904498749185, 50.872433842505046, 71.35593194743667, 70.13312550961507, 47.170599635922855, 23.911596340400653, 29.266396766128686, 19.028212743687565, 19.555154715950664, 27.019420664076193, 18.45989409185373, 14.779309925217396, 17.011501805601483, 23.13415774423234, 21.62211104364654, 18.465072443231882, 59.35796039884714, 44.62159180570354, 22.377117345818746, 19.36924357858275, 12.822960000904018, 11.660905045856149, 11.091350693867378, 8.895111537978076, 8.465178077435105, 8.440203455225863, 8.503822554888167, 7.828807964506229, 7.82716310665876, 8.342453286285158, 7.823741608696773, 7.399467255221569, 7.257685134596195, 7.24510181069701, 6.887939593791066, 6.759793979427646, 6.802455395535025, 7.199281923274934, 6.191010419229399, 6.155148968101651, 5.693528058032098, 6.134625897084579, 28.71644682400586, 4.6165501209294355, 4.603815650838249, 4.0600147811513105, 9.518920380366742, 12.813716954059375, 14.112032621686746, 77.17742730457806, 47.06790959773032, 17.72552712691169, 21.237608454058826, 20.212518843304057, 15.65301376951509, 25.76887447062341, 50.61385735384815, 18.466701794219322, 56.36589404901515, 36.52278510515035, 136.9711534705869, 19.76177400441692, 19.10767568030598, 52.99106314616738, 15.403196546364489, 75.33954124697937, 14.656864620377478, 11.920919527042175, 20.128477257457078, 22.183684644812967, 25.76553957243691, 51.043035083431114, 30.536685891329938, 22.605927937715233, 17.94449761761079, 18.70119462231616, 22.01770568629733, 16.65012250871153, 17.82912412541485], \"Total\": [590.0, 625.0, 167.0, 556.0, 129.0, 442.0, 205.0, 140.0, 152.0, 372.0, 365.0, 112.0, 127.0, 84.0, 60.0, 83.0, 64.0, 93.0, 133.0, 108.0, 70.0, 180.0, 144.0, 182.0, 87.0, 50.0, 186.0, 106.0, 51.0, 317.0, 67.53089987808835, 40.975662938222165, 50.75204759979271, 20.52952793383195, 19.591814780726008, 16.48560064743531, 15.171007386047178, 15.240478410044679, 13.994381672808844, 13.92347245866325, 13.33580985737215, 13.40510656077246, 12.888861957104062, 12.88904959265399, 12.37164471453524, 19.05983817576076, 45.383436921022664, 11.122579355684143, 70.52302426099146, 10.606755398016467, 10.534314918851152, 10.15921392879005, 10.08993033236776, 106.82414362675853, 9.359829532785467, 9.054969261076723, 30.115749449975063, 9.92501333053046, 8.396158618416202, 8.395786188507826, 32.25170652564795, 54.5664794272459, 625.4735402989887, 60.336759464541885, 35.72412469958053, 556.3550081493714, 590.4884285366168, 317.3670924266458, 144.98136654226562, 74.49891447301854, 111.20758958433065, 129.89338518921804, 55.41139779504351, 99.74593577113666, 103.40335809576459, 63.18492707649308, 23.13525257774751, 442.58888541605626, 130.3453106002238, 180.99144537788897, 112.40048923817919, 35.16378729308138, 99.88766587613932, 205.54867439089296, 147.5593862696747, 368.70628647055037, 111.52437143154197, 190.77547825102715, 121.1433655614284, 60.8952419611725, 45.495763769740705, 16.80936352029325, 16.360269279614993, 14.582963148734887, 14.064097087215888, 13.61529149137118, 13.025586836163814, 12.362634556418087, 12.291143441772396, 12.290386147308933, 12.288284520717582, 11.842123331732777, 11.695237395093583, 11.179638195118585, 14.13372879481232, 10.211357142377338, 9.619183701522351, 10.782226146284904, 8.879951085245919, 8.362634813302405, 8.291375443609338, 8.289571196467962, 8.287748155493873, 7.846240614793931, 9.098596603610066, 7.772543506685533, 9.964972235740273, 7.183608259759405, 7.180303593800949, 31.465755804768204, 87.90235979076688, 205.15563939314865, 17.215935336927718, 133.25975653392857, 18.190914590175844, 12.498560084721648, 45.68993845769703, 119.12071134331423, 45.613828708435975, 18.03656541543175, 442.58888541605626, 147.5593862696747, 66.19247133618074, 190.77547825102715, 21.71844601795923, 52.47426922487422, 205.54867439089296, 112.40048923817919, 69.28848621990464, 89.19212908058235, 43.217110649799935, 19.958227556108927, 556.3550081493714, 365.48394543186373, 124.1140997733284, 90.52333062999458, 65.79185075338955, 372.40452930334556, 111.52437143154197, 42.929331679430696, 368.70628647055037, 180.99144537788897, 99.88766587613932, 182.84801428872933, 625.4735402989887, 154.3873554462415, 84.85483693248653, 28.59357939620973, 20.440169656139037, 17.21284328488501, 16.22693177156488, 16.34946251665428, 13.755384929665677, 26.09239703716882, 13.326022395562038, 12.766195976531867, 11.84000392795474, 11.344565903874203, 11.402828398134417, 13.340641782465363, 11.089118522740094, 10.909546832878018, 11.968677346851448, 9.92171142109526, 48.53256734856114, 9.487463261038075, 8.994829426935977, 8.499389483340192, 8.498962345599166, 8.064408430014252, 8.562815361907782, 7.571616121418687, 30.967772260137586, 7.076990150858548, 7.076688042332516, 7.076859664574204, 140.16272303887084, 152.29462125143272, 14.435374226704297, 56.84296936643084, 47.65206653814439, 24.4984725627493, 127.90284747738728, 52.43382818525464, 82.87053629039923, 110.54258741036082, 372.40452930334556, 37.705604111051365, 31.95279764121126, 23.15767994066669, 41.91580404250392, 47.60899536664239, 23.648109344855104, 51.690797411902174, 186.32438740465523, 365.48394543186373, 53.270343155463394, 125.64658181336813, 37.54779333909206, 124.1140997733284, 164.4150021193018, 368.70628647055037, 54.8879160670383, 317.3670924266458, 205.15563939314865, 154.3873554462415, 625.4735402989887, 121.1433655614284, 129.9907787039759, 64.59487725361949, 49.585933638703985, 51.72356114225192, 33.519179191940616, 22.64112250820144, 17.565010630639723, 16.838968741127815, 15.901443017578645, 27.10490379488346, 14.238930194548464, 14.840308262592687, 12.767631544230623, 12.16935639042639, 11.699596742685362, 11.168423346928424, 10.635385562686466, 9.697414073165938, 10.228557397125101, 9.229172235965386, 9.099805761066962, 8.823891686681545, 8.632305419066544, 8.631223870190915, 8.099046810778985, 8.098175026004059, 7.629929090774778, 7.630080823543233, 7.629572955391287, 7.564346901258143, 12.750013344090814, 29.46435215341966, 83.43384708202085, 29.367449299070753, 42.69420630502986, 35.08696724941084, 16.200810697299385, 14.338460896428114, 40.70873320390308, 154.3873554462415, 18.78323877849027, 31.47390972037371, 39.329397341752305, 365.48394543186373, 93.56997730769676, 77.30809486178111, 44.071962459095694, 65.46671174645014, 48.16060629827134, 46.77355815374868, 45.928705866208986, 127.90284747738728, 98.60656108489506, 144.98136654226562, 100.52696676654188, 125.64658181336813, 182.84801428872933, 205.54867439089296, 164.4150021193018, 186.32438740465523, 99.74593577113666, 119.12071134331423, 167.1596317238208, 50.15101623790015, 29.84905429086668, 24.875615496395486, 19.25357155170166, 16.403174503040358, 16.920222397584745, 13.88371566970379, 13.366361702848298, 19.02913234087214, 12.00435439435279, 10.847002866102654, 9.876170304517876, 9.485397652411317, 9.421618479981339, 8.90628069336445, 8.843865610404551, 8.84263453415933, 8.906207711064768, 9.419544220193647, 8.386935739371916, 8.515471678863133, 7.935486890524954, 7.935371057825736, 7.871387220897828, 7.481242769221137, 7.419028651951872, 7.418703818672806, 7.356675281775336, 7.356598756601776, 25.32830892896006, 16.14293982918812, 14.457661373984626, 39.74430030405114, 17.3332808558046, 26.647328016911537, 35.92627800679742, 29.993471383861046, 26.717051081540593, 14.285331545258561, 182.84801428872933, 30.68495923389959, 18.985953368044225, 100.52696676654188, 81.45006783823638, 14.639868023604805, 186.32438740465523, 368.70628647055037, 365.48394543186373, 180.99144537788897, 58.587121181877826, 90.52333062999458, 38.866406476019094, 43.47952539120571, 102.452332005096, 39.59346923674112, 23.43766242787828, 43.65963680771488, 372.40452930334556, 317.3670924266458, 154.3873554462415, 60.13124319946436, 45.65381766984884, 23.129579767432926, 20.15618711477155, 13.60626228514983, 12.407520236364752, 11.838361558951911, 9.637278412008902, 9.205981669815818, 9.204914333635074, 9.274925523425987, 8.570176488395452, 8.56969795274262, 9.134278849660117, 8.568548614252677, 8.138913998541298, 8.001224330103554, 7.997808720420792, 7.638706140395568, 7.502058913409379, 7.567441261120173, 8.06175241117762, 6.933931404809843, 6.93486497514269, 6.434865595031331, 6.935831586789357, 33.36550448753852, 5.365013421685361, 5.367956553845296, 4.799836446652799, 11.447789825975743, 15.675757191062987, 17.696711614946985, 112.62795823307184, 70.5885188866322, 23.341219543873727, 29.479552671067538, 28.5735358192215, 21.195202353375166, 39.76446188979271, 93.56997730769676, 26.483016078940214, 108.98353426558455, 81.45006783823638, 590.4884285366168, 34.05877384120968, 32.66775333661438, 164.4150021193018, 24.312847394299467, 368.70628647055037, 23.48603666391688, 16.500310499249046, 40.89116449817156, 56.94943425386181, 83.51233532077177, 442.58888541605626, 182.84801428872933, 103.2238833255962, 47.7736114323005, 58.587121181877826, 190.77547825102715, 45.928705866208986, 130.3453106002238], \"Category\": [\"Default\", \"Default\", \"Default\", \"Default\", \"Default\", \"Default\", \"Default\", \"Default\", \"Default\", \"Default\", \"Default\", \"Default\", \"Default\", \"Default\", \"Default\", \"Default\", \"Default\", \"Default\", \"Default\", \"Default\", \"Default\", \"Default\", \"Default\", \"Default\", \"Default\", \"Default\", \"Default\", \"Default\", \"Default\", \"Default\", \"Topic1\", \"Topic1\", \"Topic1\", \"Topic1\", \"Topic1\", \"Topic1\", \"Topic1\", \"Topic1\", \"Topic1\", \"Topic1\", \"Topic1\", \"Topic1\", \"Topic1\", \"Topic1\", \"Topic1\", \"Topic1\", \"Topic1\", \"Topic1\", \"Topic1\", \"Topic1\", \"Topic1\", \"Topic1\", \"Topic1\", \"Topic1\", \"Topic1\", \"Topic1\", \"Topic1\", \"Topic1\", \"Topic1\", \"Topic1\", \"Topic1\", \"Topic1\", \"Topic1\", \"Topic1\", \"Topic1\", \"Topic1\", \"Topic1\", \"Topic1\", \"Topic1\", \"Topic1\", \"Topic1\", \"Topic1\", \"Topic1\", \"Topic1\", \"Topic1\", \"Topic1\", \"Topic1\", \"Topic1\", \"Topic1\", \"Topic1\", \"Topic1\", \"Topic1\", \"Topic1\", \"Topic1\", \"Topic1\", \"Topic1\", \"Topic1\", \"Topic1\", \"Topic1\", \"Topic2\", \"Topic2\", \"Topic2\", \"Topic2\", \"Topic2\", \"Topic2\", \"Topic2\", \"Topic2\", \"Topic2\", \"Topic2\", \"Topic2\", \"Topic2\", \"Topic2\", \"Topic2\", \"Topic2\", \"Topic2\", \"Topic2\", \"Topic2\", \"Topic2\", \"Topic2\", \"Topic2\", \"Topic2\", \"Topic2\", \"Topic2\", \"Topic2\", \"Topic2\", \"Topic2\", \"Topic2\", \"Topic2\", \"Topic2\", \"Topic2\", \"Topic2\", \"Topic2\", \"Topic2\", \"Topic2\", \"Topic2\", \"Topic2\", \"Topic2\", \"Topic2\", \"Topic2\", \"Topic2\", \"Topic2\", \"Topic2\", \"Topic2\", \"Topic2\", \"Topic2\", \"Topic2\", \"Topic2\", \"Topic2\", \"Topic2\", \"Topic2\", \"Topic2\", \"Topic2\", \"Topic2\", \"Topic2\", \"Topic2\", \"Topic2\", \"Topic2\", \"Topic2\", \"Topic2\", \"Topic2\", \"Topic2\", \"Topic2\", \"Topic2\", \"Topic2\", \"Topic2\", \"Topic2\", \"Topic3\", \"Topic3\", \"Topic3\", \"Topic3\", \"Topic3\", \"Topic3\", \"Topic3\", \"Topic3\", \"Topic3\", \"Topic3\", \"Topic3\", \"Topic3\", \"Topic3\", \"Topic3\", \"Topic3\", \"Topic3\", \"Topic3\", \"Topic3\", \"Topic3\", \"Topic3\", \"Topic3\", \"Topic3\", \"Topic3\", \"Topic3\", \"Topic3\", \"Topic3\", \"Topic3\", \"Topic3\", \"Topic3\", \"Topic3\", \"Topic3\", \"Topic3\", \"Topic3\", \"Topic3\", \"Topic3\", \"Topic3\", \"Topic3\", \"Topic3\", \"Topic3\", \"Topic3\", \"Topic3\", \"Topic3\", \"Topic3\", \"Topic3\", \"Topic3\", \"Topic3\", \"Topic3\", \"Topic3\", \"Topic3\", \"Topic3\", \"Topic3\", \"Topic3\", \"Topic3\", \"Topic3\", \"Topic3\", \"Topic3\", \"Topic3\", \"Topic3\", \"Topic3\", \"Topic3\", \"Topic3\", \"Topic3\", \"Topic4\", \"Topic4\", \"Topic4\", \"Topic4\", \"Topic4\", \"Topic4\", \"Topic4\", \"Topic4\", \"Topic4\", \"Topic4\", \"Topic4\", \"Topic4\", \"Topic4\", \"Topic4\", \"Topic4\", \"Topic4\", \"Topic4\", \"Topic4\", \"Topic4\", \"Topic4\", \"Topic4\", \"Topic4\", \"Topic4\", \"Topic4\", \"Topic4\", \"Topic4\", \"Topic4\", \"Topic4\", \"Topic4\", \"Topic4\", \"Topic4\", \"Topic4\", \"Topic4\", \"Topic4\", \"Topic4\", \"Topic4\", \"Topic4\", \"Topic4\", \"Topic4\", \"Topic4\", \"Topic4\", \"Topic4\", \"Topic4\", \"Topic4\", \"Topic4\", \"Topic4\", \"Topic4\", \"Topic4\", \"Topic4\", \"Topic4\", \"Topic4\", \"Topic4\", \"Topic4\", \"Topic4\", \"Topic4\", \"Topic4\", \"Topic4\", \"Topic4\", \"Topic4\", \"Topic4\", \"Topic4\", \"Topic4\", \"Topic5\", \"Topic5\", \"Topic5\", \"Topic5\", \"Topic5\", \"Topic5\", \"Topic5\", \"Topic5\", \"Topic5\", \"Topic5\", \"Topic5\", \"Topic5\", \"Topic5\", \"Topic5\", \"Topic5\", \"Topic5\", \"Topic5\", \"Topic5\", \"Topic5\", \"Topic5\", \"Topic5\", \"Topic5\", \"Topic5\", \"Topic5\", \"Topic5\", \"Topic5\", \"Topic5\", \"Topic5\", \"Topic5\", \"Topic5\", \"Topic5\", \"Topic5\", \"Topic5\", \"Topic5\", \"Topic5\", \"Topic5\", \"Topic5\", \"Topic5\", \"Topic5\", \"Topic5\", \"Topic5\", \"Topic5\", \"Topic5\", \"Topic5\", \"Topic5\", \"Topic5\", \"Topic5\", \"Topic5\", \"Topic5\", \"Topic5\", \"Topic5\", \"Topic5\", \"Topic5\", \"Topic5\", \"Topic5\", \"Topic5\", \"Topic5\", \"Topic5\", \"Topic5\", \"Topic5\", \"Topic5\", \"Topic6\", \"Topic6\", \"Topic6\", \"Topic6\", \"Topic6\", \"Topic6\", \"Topic6\", \"Topic6\", \"Topic6\", \"Topic6\", \"Topic6\", \"Topic6\", \"Topic6\", \"Topic6\", \"Topic6\", \"Topic6\", \"Topic6\", \"Topic6\", \"Topic6\", \"Topic6\", \"Topic6\", \"Topic6\", \"Topic6\", \"Topic6\", \"Topic6\", \"Topic6\", \"Topic6\", \"Topic6\", \"Topic6\", \"Topic6\", \"Topic6\", \"Topic6\", \"Topic6\", \"Topic6\", \"Topic6\", \"Topic6\", \"Topic6\", \"Topic6\", \"Topic6\", \"Topic6\", \"Topic6\", \"Topic6\", \"Topic6\", \"Topic6\", \"Topic6\", \"Topic6\", \"Topic6\", \"Topic6\", \"Topic6\", \"Topic6\", \"Topic6\", \"Topic6\", \"Topic6\", \"Topic6\", \"Topic6\", \"Topic6\", \"Topic6\", \"Topic6\", \"Topic6\", \"Topic6\", \"Topic6\", \"Topic6\", \"Topic6\"], \"logprob\": [30.0, 29.0, 28.0, 27.0, 26.0, 25.0, 24.0, 23.0, 22.0, 21.0, 20.0, 19.0, 18.0, 17.0, 16.0, 15.0, 14.0, 13.0, 12.0, 11.0, 10.0, 9.0, 8.0, 7.0, 6.0, 5.0, 4.0, 3.0, 2.0, 1.0, -4.4947, -5.0014, -4.7884, -5.7129, -5.7598, -5.9403, -6.0265, -6.022, -6.1116, -6.117, -6.1625, -6.1573, -6.1987, -6.1988, -6.2421, -5.8129, -4.9483, -6.3561, -4.5121, -6.4067, -6.4147, -6.4535, -6.4605, -4.1026, -6.5416, -6.5776, -5.377, -6.4896, -6.6602, -6.6603, -5.3153, -4.8126, -2.4274, -4.7257, -5.2476, -2.627, -2.6072, -3.2766, -4.0047, -4.6378, -4.3071, -4.1753, -4.9357, -4.4437, -4.4165, -4.8382, -5.7067, -3.4183, -4.4031, -4.1826, -4.5725, -5.4064, -4.7294, -4.3823, -4.6413, -4.3461, -4.8522, -4.829, -4.9835, -4.1846, -4.4809, -5.5041, -5.5324, -5.6545, -5.6921, -5.7261, -5.7725, -5.828, -5.8343, -5.8345, -5.8351, -5.874, -5.8884, -5.9353, -5.704, -6.0325, -6.0972, -5.9839, -6.1865, -6.2511, -6.26, -6.2609, -6.2632, -6.3194, -6.1723, -6.3312, -6.0894, -6.4173, -6.419, -4.9698, -3.9747, -3.2097, -5.5856, -3.7153, -5.56, -5.8986, -4.776, -3.9542, -4.7803, -5.6051, -3.0228, -3.9311, -4.6162, -3.839, -5.4735, -4.8562, -3.9413, -4.3743, -4.7447, -4.5981, -5.053, -5.5338, -3.5938, -3.8656, -4.4991, -4.6745, -4.8548, -3.9853, -4.6498, -5.1459, -4.1771, -4.5844, -4.824, -4.66, -4.3043, -4.7773, -3.7798, -4.8681, -5.2195, -5.3942, -5.4577, -5.4508, -5.63, -4.9935, -5.666, -5.7097, -5.791, -5.8351, -5.8312, -5.6752, -5.861, -5.8775, -5.7916, -5.9799, -4.3932, -6.0287, -6.0873, -6.1482, -6.1487, -6.2065, -6.148, -6.2774, -4.875, -6.3513, -6.3516, -6.3525, -3.3763, -3.3006, -5.6516, -4.312, -4.5318, -5.1624, -3.6877, -4.494, -4.1048, -3.8527, -2.8092, -4.8448, -4.9894, -5.2564, -4.8001, -4.743, -5.2807, -4.7346, -3.8307, -3.4997, -4.771, -4.247, -5.0024, -4.2988, -4.3748, -4.0701, -4.925, -4.3352, -4.568, -4.7238, -4.5795, -4.8989, -3.1269, -3.8289, -4.0965, -4.0545, -4.498, -4.9006, -5.162, -5.2077, -5.2664, -4.7332, -5.3824, -5.3464, -5.4979, -5.5494, -5.592, -5.6408, -5.6935, -5.7933, -5.743, -5.8466, -5.8625, -5.8964, -5.9208, -5.921, -5.9896, -5.9905, -6.0556, -6.0566, -6.0569, -6.0659, -5.545, -4.7319, -3.7352, -4.7818, -4.4558, -4.6789, -5.3971, -5.5037, -4.7238, -3.7464, -5.3207, -4.9971, -4.8658, -3.4234, -4.3497, -4.4716, -4.8776, -4.6937, -4.8663, -4.8885, -4.898, -4.4429, -4.5852, -4.4954, -4.642, -4.6057, -4.5588, -4.6153, -4.6777, -4.7151, -4.7987, -4.872, -2.6886, -3.9027, -4.4335, -4.621, -4.8848, -5.0529, -5.025, -5.2277, -5.2683, -4.9176, -5.3822, -5.491, -5.5925, -5.6364, -5.6436, -5.7041, -5.7122, -5.713, -5.706, -5.6509, -5.7719, -5.7591, -5.8314, -5.8314, -5.8428, -5.8966, -5.906, -5.9067, -5.9154, -5.9157, -4.6985, -5.219, -5.3307, -4.4783, -5.1879, -4.8329, -4.5883, -4.7636, -4.9058, -5.3747, -3.6337, -4.8583, -5.1881, -4.0712, -4.285, -5.3711, -3.8732, -3.5348, -3.5521, -3.9487, -4.6281, -4.4261, -4.8566, -4.8293, -4.506, -4.8869, -5.1093, -4.9686, -4.6612, -4.7288, -4.8866, -3.6615, -3.9469, -4.6371, -4.7814, -5.1939, -5.2889, -5.3389, -5.5596, -5.6091, -5.6121, -5.6046, -5.6873, -5.6875, -5.6237, -5.6879, -5.7437, -5.763, -5.7648, -5.8153, -5.8341, -5.8278, -5.7711, -5.922, -5.9278, -6.0058, -5.9311, -4.3876, -6.2154, -6.2182, -6.3439, -5.4918, -5.1946, -5.0981, -3.399, -3.8935, -4.8701, -4.6893, -4.7388, -4.9944, -4.4959, -3.8209, -4.8291, -3.7132, -4.1472, -2.8253, -4.7613, -4.795, -3.775, -5.0105, -3.4231, -5.0602, -5.2668, -4.743, -4.6457, -4.4961, -3.8124, -4.3262, -4.6269, -4.8578, -4.8165, -4.6532, -4.9327, -4.8643], \"loglift\": [30.0, 29.0, 28.0, 27.0, 26.0, 25.0, 24.0, 23.0, 22.0, 21.0, 20.0, 19.0, 18.0, 17.0, 16.0, 15.0, 14.0, 13.0, 12.0, 11.0, 10.0, 9.0, 8.0, 7.0, 6.0, 5.0, 4.0, 3.0, 2.0, 1.0, 1.2564, 1.2493, 1.2483, 1.2289, 1.2288, 1.2209, 1.2178, 1.2178, 1.2134, 1.2132, 1.2107, 1.2107, 1.2087, 1.2085, 1.2062, 1.2032, 1.2002, 1.1987, 1.1956, 1.1955, 1.1943, 1.1918, 1.1916, 1.1899, 1.1857, 1.1828, 1.1816, 1.179, 1.1757, 1.1756, 1.1748, 1.1517, 1.0978, 1.138, 1.1403, 1.0153, 0.9755, 0.9271, 0.9824, 1.0151, 0.9452, 0.9217, 1.0132, 0.9173, 0.9086, 0.9794, 1.1156, 0.4527, 0.6904, 0.5827, 0.6691, 0.9972, 0.6302, 0.2557, 0.3282, -0.2924, 0.3973, -0.1164, 0.1832, 1.67, 1.6651, 1.6377, 1.6364, 1.6293, 1.628, 1.6264, 1.6242, 1.621, 1.6205, 1.6203, 1.62, 1.618, 1.6161, 1.6143, 1.6112, 1.6077, 1.6028, 1.6019, 1.5933, 1.5888, 1.5885, 1.5878, 1.5857, 1.5843, 1.5833, 1.5819, 1.5752, 1.5746, 1.5734, 1.545, 1.5128, 1.4302, 1.5323, 1.3561, 1.5028, 1.5394, 1.3658, 1.2294, 1.3632, 1.4662, 0.8483, 1.0383, 1.1549, 0.8736, 1.412, 1.1472, 0.6967, 0.8673, 0.9807, 0.8748, 1.1445, 1.4362, 0.0485, 0.1969, 0.6434, 0.7835, 0.9224, 0.0584, 0.5997, 1.0582, -0.1234, 0.1809, 0.5356, 0.0951, -0.7791, 0.1469, 1.7429, 1.7424, 1.7267, 1.7238, 1.7193, 1.7187, 1.7122, 1.7085, 1.708, 1.7072, 1.7012, 1.6998, 1.6987, 1.6977, 1.6967, 1.6965, 1.6898, 1.689, 1.6882, 1.685, 1.6798, 1.6754, 1.675, 1.6697, 1.6683, 1.6619, 1.6557, 1.6555, 1.6553, 1.6544, 1.6446, 1.6373, 1.6424, 1.6114, 1.568, 1.6027, 1.4247, 1.5102, 1.4416, 1.4056, 1.2345, 1.4891, 1.51, 1.565, 1.4279, 1.3577, 1.5197, 1.2838, 0.9055, 0.5628, 1.2173, 0.8832, 1.3357, 0.8437, 0.4865, -0.0164, 1.0333, -0.1315, 0.0719, 0.2005, -1.0543, 0.2678, 1.9693, 1.9666, 1.9634, 1.9633, 1.9535, 1.9433, 1.9358, 1.9323, 1.9308, 1.9308, 1.9253, 1.9199, 1.9188, 1.9154, 1.9122, 1.9098, 1.906, 1.8985, 1.8955, 1.8947, 1.8929, 1.8898, 1.8874, 1.8873, 1.8824, 1.8816, 1.876, 1.875, 1.8747, 1.8743, 1.8732, 1.8486, 1.8045, 1.802, 1.7538, 1.727, 1.7815, 1.797, 1.5334, 1.1778, 1.71, 1.5175, 1.4259, 0.6391, 1.0753, 1.1442, 1.3002, 1.0885, 1.2229, 1.2299, 1.2386, 0.6695, 0.7874, 0.4917, 0.7112, 0.5245, 0.1962, 0.0227, 0.1836, 0.0211, 0.5623, 0.3116, 2.1561, 2.146, 2.1341, 2.1288, 2.1212, 2.1133, 2.1102, 2.1053, 2.1026, 2.1001, 2.0962, 2.0888, 2.0811, 2.0775, 2.0771, 2.0728, 2.0717, 2.0711, 2.071, 2.07, 2.0651, 2.0627, 2.061, 2.061, 2.0576, 2.0547, 2.0536, 2.0529, 2.0527, 2.0524, 2.0333, 1.9632, 1.9617, 1.8029, 1.9232, 1.8481, 1.7939, 1.7991, 1.7726, 1.9297, 1.1213, 1.6816, 1.8318, 1.2821, 1.2787, 1.9088, 0.863, 0.5189, 0.5104, 0.8165, 1.265, 1.032, 1.447, 1.3621, 0.8283, 1.3981, 1.7001, 1.2186, -0.6175, -0.5252, 0.0376, 2.2057, 2.1957, 2.1855, 2.1788, 2.1593, 2.1565, 2.1534, 2.1385, 2.1347, 2.1319, 2.1318, 2.1281, 2.128, 2.1279, 2.1277, 2.1233, 2.1211, 2.1198, 2.1151, 2.1144, 2.112, 2.1054, 2.1053, 2.0993, 2.0962, 2.0958, 2.0685, 2.0683, 2.065, 2.0512, 2.0341, 2.017, 1.9922, 1.8406, 1.8133, 1.9434, 1.8907, 1.8724, 1.9155, 1.7848, 1.6041, 1.8581, 1.5593, 1.4165, 0.7574, 1.6743, 1.6823, 1.0863, 1.7622, 0.6306, 1.7471, 1.8935, 1.5098, 1.2758, 1.0426, 0.0586, 0.4289, 0.6999, 1.2394, 1.0767, 0.0593, 1.2039, 0.2292]}, \"token.table\": {\"Topic\": [6, 1, 1, 1, 2, 4, 5, 6, 1, 2, 1, 2, 3, 5, 5, 6, 3, 4, 1, 2, 3, 5, 1, 1, 2, 3, 4, 5, 6, 6, 3, 2, 5, 1, 2, 1, 4, 3, 2, 1, 3, 4, 5, 6, 1, 2, 3, 5, 6, 5, 5, 2, 4, 5, 6, 4, 5, 5, 5, 1, 2, 3, 4, 6, 5, 6, 2, 3, 4, 6, 2, 3, 5, 6, 6, 4, 5, 1, 3, 4, 5, 6, 5, 6, 1, 2, 3, 6, 6, 4, 2, 4, 5, 5, 1, 2, 3, 4, 6, 1, 4, 5, 6, 2, 5, 1, 2, 1, 2, 3, 4, 5, 6, 2, 5, 6, 3, 2, 3, 4, 6, 2, 1, 5, 3, 1, 5, 5, 2, 5, 1, 3, 5, 1, 2, 6, 2, 3, 2, 3, 4, 2, 1, 2, 3, 4, 5, 6, 1, 2, 1, 5, 6, 3, 4, 5, 6, 2, 4, 2, 4, 5, 3, 2, 3, 4, 5, 6, 1, 6, 4, 1, 2, 3, 4, 5, 6, 6, 3, 5, 4, 6, 1, 2, 2, 2, 6, 2, 1, 2, 3, 4, 5, 4, 3, 4, 6, 1, 1, 2, 4, 3, 4, 6, 2, 4, 5, 6, 1, 5, 1, 2, 3, 4, 5, 6, 3, 3, 4, 2, 4, 1, 2, 3, 4, 5, 6, 1, 3, 4, 5, 6, 1, 1, 3, 2, 3, 4, 1, 2, 3, 4, 6, 2, 3, 6, 3, 6, 2, 6, 1, 2, 5, 6, 3, 2, 2, 1, 2, 5, 6, 3, 4, 2, 3, 1, 2, 3, 5, 4, 1, 6, 1, 5, 1, 2, 4, 3, 2, 4, 2, 5, 6, 1, 2, 3, 5, 6, 4, 6, 4, 2, 2, 1, 2, 2, 4, 4, 2, 4, 5, 6, 1, 1, 2, 4, 5, 6, 3, 1, 5, 6, 3, 3, 4, 4, 1, 2, 3, 6, 1, 1, 4, 4, 2, 6, 1, 3, 5, 1, 3, 5, 6, 5, 1, 6, 3, 2, 4, 5, 6, 5, 1, 3, 4, 5, 2, 1, 2, 3, 5, 6, 4, 1, 6, 3, 4, 3, 4, 1, 2, 3, 4, 5, 6, 1, 2, 5, 5, 5, 3, 1, 1, 2, 4, 5, 6, 6, 3, 3, 1, 2, 3, 5, 6, 1, 4, 4, 4, 1, 2, 3, 4, 6, 1, 5, 6, 2, 2, 4, 6, 1, 2, 3, 4, 1, 4, 5, 6, 1, 2, 3, 4, 5, 6, 5, 1, 5, 3, 6, 4, 5, 3, 4, 5, 4, 5, 6, 1, 2, 3, 5, 2, 2, 3, 4, 3, 6, 6, 1, 2, 3, 5, 6, 2, 1, 2, 1, 2, 3, 4, 5, 4, 6, 1, 2, 3, 4, 5, 6, 1, 2, 3, 4, 6, 1, 2, 1, 6, 1, 3, 5, 2, 3, 1, 5, 6, 6, 2, 3, 1, 2, 3, 4, 5, 4, 3, 4, 5, 6, 5, 2, 2, 3, 4, 5, 1, 2, 3, 4, 5, 3, 4, 5, 3, 2, 3, 5, 6, 2, 4, 1, 2, 3, 4, 5, 6, 1, 1, 2, 3, 4, 5, 6, 1, 3, 2, 3, 4, 1, 5, 6, 1, 2, 3, 6, 4, 1, 2, 5, 6, 2, 3, 4, 5, 6, 2, 2, 4, 6, 4, 6, 6, 1, 2, 3, 4, 6, 2, 3, 4, 2, 1, 4, 6, 1, 2, 3, 6, 4, 1, 2, 1, 2, 3, 4, 5, 6, 2, 3, 4, 5, 1, 2, 4, 5, 2, 5, 3, 5, 6, 6, 1, 2, 4, 5, 6, 1, 2, 6, 1, 5, 4, 1, 5, 5, 5, 2, 2, 3, 4, 5, 6, 2, 1, 2, 3, 5, 6, 1, 6, 2, 3, 3, 4, 5, 2, 3, 4, 5, 6, 1, 2, 3, 6, 3, 6, 1, 2, 3, 5, 6, 2, 3, 4, 5, 1, 5, 6, 1, 4, 1, 3, 5, 1, 3, 4, 5, 6, 1, 2, 3, 4, 6, 1, 2, 6, 6, 1, 2, 3, 1, 2, 3, 4, 5, 6, 4, 5, 2, 3, 2, 3, 5, 4, 1, 1], \"Freq\": [0.9671553841056518, 0.9615559736932108, 0.9310228743971397, 0.1039114374520782, 0.2023538518803628, 0.1695397137376013, 0.3554864965465833, 0.1695397137376013, 0.8991772257675094, 0.06201222246672478, 0.24401591950836704, 0.27329782984937107, 0.214734009167363, 0.2635371930690364, 0.8982425184465984, 0.9335218165349345, 0.9272124360701913, 0.06181416240467942, 0.9289442223273835, 0.976372902866643, 0.9784654597518551, 0.8821263617026089, 0.8834927838340031, 0.20883831609459202, 0.16544334132168978, 0.1681555272449962, 0.05966809031274058, 0.1925652005547537, 0.20341394424797926, 0.8600656059585565, 0.9646729404258751, 0.9765398888484763, 0.9648002479969847, 0.9528166824353146, 0.9518504362573789, 0.21295581913065081, 0.7453453669572778, 0.9017849326340345, 0.9706668870002451, 0.16802432421842942, 0.27494889417561175, 0.4124233412634176, 0.12219950852249412, 0.015274938565311764, 0.4428488976078781, 0.4338111650036357, 0.0022594331510606028, 0.0045188663021212055, 0.11523109070409074, 0.9435610547466617, 0.8821134854822916, 0.09782064289655676, 0.04891032144827838, 0.34237225013794864, 0.4891032144827838, 0.895381531427194, 0.9112844070624146, 0.8892968677002228, 0.9725907684534507, 0.33950082688485606, 0.055054188143490175, 0.07340558419132023, 0.00917569802391503, 0.5138390893392416, 0.411054140271503, 0.5872202003878614, 0.1924164069454847, 0.12827760463032314, 0.4703512169778515, 0.1924164069454847, 0.13316361776164246, 0.6391853652558839, 0.18642906486629945, 0.026632723552328492, 0.9163855594577837, 0.7963609806231348, 0.187379054264267, 0.02783477876029338, 0.19484345132205366, 0.02783477876029338, 0.6958694690073345, 0.02783477876029338, 0.9356734189670951, 0.8650729079737417, 0.7785348338331293, 0.12080712938789936, 0.04026904312929979, 0.06711507188216631, 0.8752397368702893, 0.98601099525491, 0.20205352433669355, 0.3030802865050403, 0.4546204297575605, 0.9363487634918812, 0.2809509911666071, 0.2809509911666071, 0.03511887389582589, 0.017559436947912944, 0.3863076128540847, 0.01227746061533118, 0.1227746061533118, 0.4174336609212601, 0.4542660427672537, 0.26335259036375996, 0.7373872530185279, 0.6963023380083933, 0.299796839975836, 0.7121091171487359, 0.04411295415965621, 0.14809348896456012, 0.0063018505942366, 0.06932035653660261, 0.018905551782709803, 0.33447908306164376, 0.48885404447471015, 0.18010412164857742, 0.9786254431117657, 0.8356192633943844, 0.7240208967605192, 0.26547432881219035, 0.012067014946008653, 0.8921469967160628, 0.9742065216726534, 0.9515167833139345, 0.9755349056241558, 0.9842210720966486, 0.9770489947314307, 0.8982498791333009, 0.22516328827386156, 0.7130170795338949, 0.18903990581380592, 0.6721418873379766, 0.14703103785518237, 0.3625789990240419, 0.5891908734140681, 0.030214916585336826, 0.17272887483757338, 0.8204621554784735, 0.2541787808084559, 0.09531704280317098, 0.6354469520211398, 0.9566362968850961, 0.04830285570967153, 0.021467935870965123, 0.42399173345156116, 0.1395415831612733, 0.2737161823548053, 0.09123872745160178, 0.8990720299864209, 0.9243394666136697, 0.8858953126771973, 0.24241968053765084, 0.7272590416129525, 0.9412440759046219, 0.22457568321024524, 0.6737270496307357, 0.07485856107008175, 0.8944833299136947, 0.9907906434858013, 0.025160840481523585, 0.25160840481523583, 0.7045035334826604, 0.8680115920155137, 0.11937095473961847, 0.1790564321094277, 0.2785322277257764, 0.41779834158866463, 0.009947579561634872, 0.8784031570529823, 0.11601551130888445, 0.8643922831406202, 0.25160466345072086, 0.4455499248606515, 0.07862645732835026, 0.0891099849721303, 0.02096705528756007, 0.11531880408158038, 0.8651934855986934, 0.9071015692781043, 0.9515266812286363, 0.8369099087189579, 0.139484984786493, 0.8677609391606451, 0.11196915344008325, 0.9548087904132551, 0.26432034701540397, 0.6796808923253245, 0.9779790128476742, 0.14789136527100946, 0.8418431561580539, 0.7628662904160932, 0.20978822986442563, 0.01907165726040233, 0.9174214745407325, 0.19950427605331264, 0.7695164933484916, 0.9554424078821766, 0.9697796836648858, 0.7017829795151995, 0.05012735567965711, 0.2406113072623541, 0.1524101293076079, 0.47900326353819617, 0.3701388854613334, 0.4087344084944681, 0.17675001448409433, 0.32035940125242096, 0.08837500724204717, 0.12389317070883157, 0.8053056096074052, 0.024371740473671716, 0.7750213470627605, 0.18522522759990503, 0.0048743480947343425, 0.0048743480947343425, 0.009748696189468685, 0.9295384693387619, 0.9290537458377479, 0.943376630207149, 0.8712858004191851, 0.11617144005589135, 0.4214325478521118, 0.3407326982634095, 0.06276654968010176, 0.008966649954300252, 0.10759979945160301, 0.06276654968010176, 0.19402884040563217, 0.16815832835154787, 0.4397987049194329, 0.15522307232450575, 0.051741024108168575, 0.9067997896098523, 0.944394167149404, 0.05246634261941134, 0.00713456458549734, 0.8846860086016701, 0.1070184687824601, 0.03618514903356688, 0.09950915984230892, 0.6965641188961624, 0.1447405961342675, 0.01809257451678344, 0.15648082074513653, 0.7824041037256826, 0.06259232829805461, 0.32692508290517114, 0.6538501658103423, 0.16952302016755147, 0.7911074274485735, 0.9297460800871149, 0.06641043429193677, 0.9456140483285786, 0.8690002095300776, 0.9243891704952575, 0.8792564775127877, 0.9006060878242712, 0.7760136309690117, 0.018046828627186318, 0.16242145764467686, 0.036093657254372635, 0.8478542453910921, 0.94331061548426, 0.5907657306698645, 0.4001961401311985, 0.18218946384822352, 0.2550652493875129, 0.4736926060053811, 0.0728757855392894, 0.9268673968275888, 0.9921384154654126, 0.8748661093857125, 0.17307744707750206, 0.8076947530283429, 0.7518207518634736, 0.02069231427147175, 0.22761545698618926, 0.924505401191472, 0.7827447684766445, 0.23021904955195427, 0.27599197305008194, 0.45998662175013655, 0.2529926419625751, 0.3893756623508149, 0.06871335217955557, 0.022904450726518522, 0.3893756623508149, 0.11452225363259262, 0.9501769523997807, 0.933647034072145, 0.9174397188649611, 0.835234854552182, 0.9648580087114594, 0.9267567858620432, 0.06552825758620508, 0.036893693022026816, 0.9592360185726971, 0.9280824694187518, 0.15361737901509795, 0.11948018367840953, 0.40964634404026123, 0.32430335569854013, 0.9761892091973438, 0.32514079772442017, 0.44847006582678645, 0.12332926810236627, 0.07848226151968762, 0.02242350329133932, 0.9399824365895395, 0.23745272114899124, 0.033921817306998746, 0.7123581634469738, 0.9342721595502921, 0.9781410583115927, 0.023569664055701028, 0.903909758831098, 0.0845733572538272, 0.0845733572538272, 0.7611602152844447, 0.0422866786269136, 0.9427953813161436, 0.0076928533698322555, 0.992378084708361, 0.9881834706799463, 0.9356303278183202, 0.8691009725932728, 0.040818871357740545, 0.8571962985125514, 0.12245661407322164, 0.7468393599056838, 0.018628646165447897, 0.0016935132877679906, 0.2320113204242147, 0.9715550689615491, 0.11988429551526593, 0.869161142485678, 0.8478336839198866, 0.10181795222848017, 0.8824222526468282, 0.3290441415708358, 0.6169577654453171, 0.975420946538999, 0.0736942607615303, 0.09825901434870705, 0.6386835932665959, 0.17195327511023734, 0.9288874716009603, 0.06279617366276087, 0.08372823155034782, 0.2302526367634565, 0.2511846946510435, 0.3767770419765652, 0.8642992395949276, 0.08735310616298511, 0.8735310616298512, 0.8478180514737762, 0.8791396443018132, 0.1438265214859771, 0.8389880420015331, 0.22751130030097708, 0.14369134755851184, 0.15566562652172114, 0.15566562652172114, 0.01197427896320932, 0.3113312530434423, 0.8644815928760107, 0.04322407964380053, 0.08644815928760106, 0.9348914798308748, 0.9435197420565791, 0.8995069499409337, 0.9851819259446828, 0.7438482906390119, 0.047479678125894376, 0.03165311875059625, 0.047479678125894376, 0.126612475002385, 0.9291826360618324, 0.948620274184362, 0.8893998563266965, 0.5600508346932019, 0.1534385848474526, 0.1074070093932168, 0.03835964621186315, 0.13809472636270734, 0.9705439517903853, 0.9402574021466911, 0.92539383655656, 0.8668166326796465, 0.8441604096435568, 0.08473579869528126, 0.05915518022123409, 0.007993943273139742, 0.0015987886546279483, 0.07896302929696289, 0.8685933222665918, 0.9856787952635856, 0.9763127455837084, 0.21289245484666316, 0.1277354729079979, 0.6386773645399895, 0.23294096620636268, 0.5357642222746342, 0.0698822898619088, 0.16305867634445387, 0.925447759126075, 0.04406894091076548, 0.12758554343647488, 0.8293060323370867, 0.310005775495418, 0.03875072193692725, 0.20344129016886808, 0.155002887747709, 0.0775014438738545, 0.2228166511373317, 0.9219136496451408, 0.9697927533845296, 0.9488268525792461, 0.21421331437295568, 0.7711679317426404, 0.3584818189312637, 0.6191958690630918, 0.7114775143382828, 0.2736451978224164, 0.015636868446995224, 0.862744195095146, 0.0784312904631951, 0.8653099734788254, 0.5305960404132376, 0.32035987345704914, 0.09010121440979507, 0.06006747627319672, 0.9031635800971615, 0.9891030784261624, 0.12345061227913691, 0.8024289798143899, 0.9581335116274411, 0.03832534046509764, 0.9703581961136402, 0.7764826301051571, 0.19591807102190303, 0.0017974134956137895, 0.019771548451751685, 0.005392240486841368, 0.9197855844504073, 0.20041859873351617, 0.8016743949340647, 0.23325019904302524, 0.1622610080299306, 0.2129675730392839, 0.3042393900561199, 0.07098919101309464, 0.8512826478529428, 0.13620522365647086, 0.006082170039899317, 0.13380774087778496, 0.2797798218353686, 0.16421859107728154, 0.09123255059848975, 0.3223550121146638, 0.021374377311465763, 0.021374377311465763, 0.010687188655732881, 0.4061131689178495, 0.5450466214423769, 0.08000921651946202, 0.8801013817140824, 0.3258320242834229, 0.665830658318299, 0.7678353806136339, 0.11375338972053835, 0.11375338972053835, 0.23869130894953983, 0.7425951833985683, 0.18872195383230356, 0.04718048845807589, 0.7548878153292142, 0.8758217404647852, 0.8580756860735733, 0.09534174289706371, 0.3930620848070017, 0.5218238022437781, 0.03388466248336222, 0.027107729986689776, 0.013553864993344888, 0.8798894751795198, 0.6190657061257053, 0.3675702630121375, 0.9045818143808327, 0.9426385998409276, 0.9554602419834469, 0.9274522593319539, 0.6380082786860019, 0.06715876617747388, 0.18468660698805314, 0.10913299503839505, 0.006477214387859668, 0.21374807479936903, 0.20727086041150938, 0.4469277927623171, 0.11658985898147402, 0.8184325011126515, 0.12591269247886946, 0.06295634623943473, 0.9792408152898684, 0.06927426918729127, 0.9005654994347865, 0.9552498882355324, 0.9314531423355665, 0.8813715821034032, 0.9174825433779472, 0.9228128128706762, 0.006566220079099429, 0.8733072705202239, 0.0722284208700937, 0.045963540553695996, 0.9338736119509844, 0.9748189378100265, 0.20205377204471517, 0.4907020178228797, 0.07216206144454113, 0.12989171060017404, 0.07216206144454113, 0.043297236866724674, 0.9336751330241142, 0.9412913806051237, 0.8316439219168789, 0.16632878438337578, 0.926751268824439, 0.3413309678222978, 0.6399955646668084, 0.9319641177019282, 0.04384635222761104, 0.7234648117555821, 0.04384635222761104, 0.17538540891044416, 0.9129899383155342, 0.502786194176209, 0.22100492051701492, 0.25968078160749253, 0.005525123012925373, 0.11345081364689913, 0.022690162729379827, 0.49918358004635616, 0.36304260367007724, 0.9334696911822637, 0.9009058634672029, 0.7222596727844957, 0.13131994050627194, 0.13131994050627194, 0.9398767467896192, 0.8333617289792091, 0.9330771833167044, 0.3384419758357304, 0.2393857877862483, 0.22287642311133463, 0.07429214103711154, 0.12382023506185258, 0.9650680126142902, 0.40682037054796955, 0.5848042826627062, 0.9652802968797831, 0.18366735961836508, 0.21427858622142595, 0.5816133054581561, 0.20142755775256724, 0.35451250164451836, 0.39479801319503177, 0.04834261386061614, 0.9678331745695536, 0.5167813279405025, 0.471182975475164, 0.07250180348372429, 0.19602339460414342, 0.5853849318315516, 0.053705039617573544, 0.06176079556020957, 0.02953777178966545, 0.017592325157287782, 0.8620239327071013, 0.0879616257864389, 0.035184650314575565, 0.9358645731888544, 0.014179766260437187, 0.04253929878131157, 0.014179766260437187, 0.9600243693418741, 0.9930627286512766, 0.20998451287095463, 0.06999483762365154, 0.6999483762365154, 0.9511629792330509, 0.5515990225684925, 0.4448379214262036, 0.13833495945608712, 0.8300097567365227, 0.981187097766932, 0.8979871986304752, 0.054978808079416845, 0.03665253871961123, 0.05255100348701281, 0.9459180627662306, 0.9402033456304593, 0.20491988009474582, 0.7513728936807347, 0.9047077507382884, 0.9538644683355004, 0.921263675175355, 0.206929624544977, 0.413859249089954, 0.230806119684782, 0.0875471488459518, 0.06367065370614676, 0.9405538022353226, 0.7082731723865842, 0.05389035007289227, 0.13087656446273838, 0.03079448575593844, 0.0769862143898461, 0.9528589485699888, 0.8682975664564567, 0.06458327009122465, 0.904165781277145, 0.3322217311988927, 0.47756873859840826, 0.18687472379937714, 0.22709615849726425, 0.29823471417110603, 0.26266543633418515, 0.19152688066034335, 0.019152688066034332, 0.225124229402009, 0.7203975340864287, 0.015008281960133932, 0.03752070490033483, 0.9190656311654792, 0.9250154389654057, 0.7283675538941188, 0.017984384046768366, 0.14387507237414693, 0.09891411225722602, 0.017984384046768366, 0.02385734981931801, 0.7157204945795402, 0.21471614837386208, 0.04771469963863602, 0.07000187547848055, 0.770020630263286, 0.1400037509569611, 0.8919784085256423, 0.9716832719769436, 0.9699599589940858, 0.9696272288606007, 0.9394664560810387, 0.008878790095178713, 0.1331818514276807, 0.1331818514276807, 0.03551516038071485, 0.6836668373287609, 0.112633027020113, 0.018772171170018833, 0.5819373062705838, 0.018772171170018833, 0.2815825675502825, 0.11569491631489127, 0.5784745815744564, 0.2776677991557391, 0.9324204074492074, 0.1099449942489487, 0.8245874568671152, 0.9450844208629473, 0.3648770794666966, 0.3746071349191419, 0.08757049907200719, 0.14108580406045604, 0.02919016635733573, 0.004865027726222622, 0.9845109813409318, 0.9163341599757111, 0.9852986549960123, 0.9166283580050343, 0.1333623557209296, 0.16670294465116203, 0.7001523675348805, 0.9066294424346689, 0.9310364281918513, 0.9492786267576836], \"Term\": [\"30\", \"30%\", \"5%\", \"APP\", \"APP\", \"APP\", \"APP\", \"APP\", \"Android\", \"Android\", \"App\", \"App\", \"App\", \"App\", \"Good\", \"IT\", \"OTP\", \"OTP\", \"Pixel\", \"QR\", \"SSL\", \"UI\", \"android\", \"app\", \"app\", \"app\", \"app\", \"app\", \"app\", \"good\", \"ok\", \"otp\", \"pay\", \"play\", \"ssl\", \"\\u4e00\\u500b\\u6708\", \"\\u4e00\\u500b\\u6708\", \"\\u4e00\\u5929\\u5230\\u665a\", \"\\u4e00\\u5bb6\", \"\\u4e00\\u6b21\", \"\\u4e00\\u6b21\", \"\\u4e00\\u6b21\", \"\\u4e00\\u6b21\", \"\\u4e00\\u6b21\", \"\\u4e00\\u76f4\", \"\\u4e00\\u76f4\", \"\\u4e00\\u76f4\", \"\\u4e00\\u76f4\", \"\\u4e00\\u76f4\", \"\\u4e00\\u9593\", \"\\u4e00\\u9801\", \"\\u4e00\\u9ede\", \"\\u4e00\\u9ede\", \"\\u4e00\\u9ede\", \"\\u4e00\\u9ede\", \"\\u4e0a\\u50b3\", \"\\u4e0a\\u73ed\", \"\\u4e0a\\u7db2\", \"\\u4e0a\\u9762\", \"\\u4e0b\\u8f09\", \"\\u4e0b\\u8f09\", \"\\u4e0b\\u8f09\", \"\\u4e0b\\u8f09\", \"\\u4e0b\\u8f09\", \"\\u4e0d\\u597d\", \"\\u4e0d\\u597d\", \"\\u4e0d\\u60f3\", \"\\u4e0d\\u60f3\", \"\\u4e0d\\u60f3\", \"\\u4e0d\\u60f3\", \"\\u4e0d\\u7528\", \"\\u4e0d\\u7528\", \"\\u4e0d\\u7528\", \"\\u4e0d\\u7528\", \"\\u4e0d\\u77e5\", \"\\u4e0d\\u884c\", \"\\u4e0d\\u884c\", \"\\u4e0d\\u932f\", \"\\u4e0d\\u932f\", \"\\u4e0d\\u932f\", \"\\u4e0d\\u932f\", \"\\u4e0d\\u932f\", \"\\u4e2d\\u570b\", \"\\u4e2d\\u6587\", \"\\u4e4b\\u5f8c\", \"\\u4e4b\\u5f8c\", \"\\u4e4b\\u5f8c\", \"\\u4e4b\\u5f8c\", \"\\u4e7e\\u8106\", \"\\u4ea4\\u6613\", \"\\u4eba\\u54e1\", \"\\u4eba\\u54e1\", \"\\u4eba\\u54e1\", \"\\u4eba\\u6027\\u5316\", \"\\u4eca\\u5929\", \"\\u4eca\\u5929\", \"\\u4eca\\u5929\", \"\\u4eca\\u5929\", \"\\u4eca\\u5929\", \"\\u4ecb\\u9762\", \"\\u4ecb\\u9762\", \"\\u4ecb\\u9762\", \"\\u4ecb\\u9762\", \"\\u4ed8\\u6b3e\", \"\\u4ed8\\u6b3e\", \"\\u4f3a\\u670d\\u5668\", \"\\u4f3a\\u670d\\u5668\", \"\\u4f7f\\u7528\", \"\\u4f7f\\u7528\", \"\\u4f7f\\u7528\", \"\\u4f7f\\u7528\", \"\\u4f7f\\u7528\", \"\\u4f7f\\u7528\", \"\\u4f7f\\u7528\\u8005\", \"\\u4f7f\\u7528\\u8005\", \"\\u4f7f\\u7528\\u8005\", \"\\u4fbf\\u5229\", \"\\u4fe1\\u7528\", \"\\u4fe1\\u7528\\u5361\", \"\\u4fe1\\u7528\\u5361\", \"\\u4fe1\\u7528\\u5361\", \"\\u4fee\\u597d\", \"\\u4fee\\u6b63\", \"\\u503c\\u5f97\", \"\\u512a\\u60e0\", \"\\u5141\\u8a31\", \"\\u5165\\u5e33\", \"\\u5167\\u5bb9\", \"\\u5168\\u90e8\", \"\\u5168\\u90e8\", \"\\u516c\\u53f8\", \"\\u516c\\u53f8\", \"\\u516c\\u53f8\", \"\\u51fa\\u73fe\", \"\\u51fa\\u73fe\", \"\\u51fa\\u73fe\", \"\\u5206\\u884c\", \"\\u5206\\u884c\", \"\\u5225\\u5bb6\", \"\\u5225\\u5bb6\", \"\\u5225\\u5bb6\", \"\\u525b\\u525b\", \"\\u529f\\u80fd\", \"\\u529f\\u80fd\", \"\\u529f\\u80fd\", \"\\u529f\\u80fd\", \"\\u529f\\u80fd\", \"\\u529f\\u80fd\", \"\\u52a0\\u5165\", \"\\u52a0\\u5f37\", \"\\u5347\\u7d1a\", \"\\u534a\\u5929\", \"\\u534a\\u5929\", \"\\u5361\\u8cbb\", \"\\u5373\\u6642\", \"\\u5373\\u6642\", \"\\u5373\\u6642\", \"\\u53d6\\u865f\", \"\\u53ea\\u80fd\", \"\\u53f0\\u7063\", \"\\u53f0\\u7063\", \"\\u53f0\\u7063\", \"\\u53f2\\u4e0a\", \"\\u5408\\u5eab\", \"\\u5408\\u5eab\", \"\\u5408\\u5eab\", \"\\u5408\\u5eab\", \"\\u5408\\u5eab\", \"\\u540c\\u6b65\", \"\\u540c\\u6b65\", \"\\u554f\\u4e86\", \"\\u554f\\u984c\", \"\\u554f\\u984c\", \"\\u554f\\u984c\", \"\\u554f\\u984c\", \"\\u554f\\u984c\", \"\\u554f\\u984c\", \"\\u56b4\\u91cd\", \"\\u56de\\u5bb6\", \"\\u56de\\u7b54\", \"\\u5708\\u5708\", \"\\u5708\\u5708\", \"\\u5716\\u5f62\", \"\\u5716\\u5f62\", \"\\u591a\\u4e45\", \"\\u5920\\u721b\", \"\\u5920\\u721b\", \"\\u592a\\u4e45\", \"\\u5931\\u6557\", \"\\u5931\\u6557\", \"\\u597d\\u7528\", \"\\u597d\\u7528\", \"\\u597d\\u7528\", \"\\u5b58\\u5728\", \"\\u5b58\\u6b3e\", \"\\u5b58\\u6b3e\", \"\\u5b78\\u5b78\", \"\\u5b89\\u5353\", \"\\u5b8c\\u5168\", \"\\u5b8c\\u5168\", \"\\u5b8c\\u5168\", \"\\u5b9a\\u5b58\", \"\\u5b9a\\u5b58\", \"\\u5b9a\\u5b58\", \"\\u5ba2\\u670d\", \"\\u5ba2\\u670d\", \"\\u5ba2\\u670d\", \"\\u5ba2\\u670d\", \"\\u5bb9\\u6613\", \"\\u5bb9\\u6613\", \"\\u5bc6\\u78bc\", \"\\u5bc6\\u78bc\", \"\\u5bc6\\u78bc\", \"\\u5bc6\\u78bc\", \"\\u5bc6\\u78bc\", \"\\u5bc6\\u78bc\", \"\\u5be6\\u7528\", \"\\u5c0d\\u65b9\", \"\\u5c31\\u8981\", \"\\u5de5\\u4f5c\", \"\\u5de5\\u4f5c\", \"\\u5df2\\u7d93\", \"\\u5df2\\u7d93\", \"\\u5df2\\u7d93\", \"\\u5df2\\u7d93\", \"\\u5df2\\u7d93\", \"\\u5df2\\u7d93\", \"\\u5e0c\\u671b\", \"\\u5e0c\\u671b\", \"\\u5e0c\\u671b\", \"\\u5e0c\\u671b\", \"\\u5e0c\\u671b\", \"\\u5e33\\u52d9\", \"\\u5e33\\u5bc6\", \"\\u5e33\\u5bc6\", \"\\u5e33\\u6236\", \"\\u5e33\\u6236\", \"\\u5e33\\u6236\", \"\\u5e33\\u865f\", \"\\u5e33\\u865f\", \"\\u5e33\\u865f\", \"\\u5e33\\u865f\", \"\\u5e33\\u865f\", \"\\u5e38\\u7528\", \"\\u5e38\\u7528\", \"\\u5e38\\u7528\", \"\\u5e79\\u561b\", \"\\u5e79\\u561b\", \"\\u5e7e\\u5929\", \"\\u5e7e\\u5929\", \"\\u5f37\\u5236\", \"\\u5f37\\u5236\", \"\\u5f88\\u5dee\", \"\\u5f88\\u68d2\", \"\\u5fd8\\u8a18\", \"\\u5fd9\\u788c\", \"\\u5fd9\\u7dda\", \"\\u5feb\\u901f\", \"\\u5feb\\u901f\", \"\\u5feb\\u901f\", \"\\u5feb\\u901f\", \"\\u6062\\u5fa9\", \"\\u60f3\\u8981\", \"\\u6191\\u8b49\", \"\\u6191\\u8b49\", \"\\u6210\\u529f\", \"\\u6210\\u529f\", \"\\u6210\\u529f\", \"\\u6210\\u529f\", \"\\u6211\\u9023\", \"\\u622a\\u5716\", \"\\u6236\\u982d\", \"\\u6240\\u6709\", \"\\u6240\\u6709\", \"\\u624b\\u6a5f\", \"\\u624b\\u6a5f\", \"\\u624b\\u6a5f\", \"\\u624b\\u6a5f\\u865f\\u78bc\", \"\\u624b\\u7e8c\\u8cbb\", \"\\u624b\\u7e8c\\u8cbb\", \"\\u6253\\u4e0d\\u958b\", \"\\u6253\\u4e0d\\u958b\", \"\\u6253\\u4e0d\\u958b\", \"\\u6253\\u958b\", \"\\u6253\\u958b\", \"\\u6253\\u958b\", \"\\u6253\\u958b\", \"\\u6253\\u958b\", \"\\u6263\\u6b3e\", \"\\u627e\\u5230\", \"\\u6295\\u8cc7\", \"\\u62b1\\u6b49\", \"\\u62ff\\u5230\", \"\\u6307\\u7d0b\", \"\\u6307\\u7d0b\", \"\\u6383\\u63cf\", \"\\u6383\\u63cf\", \"\\u63d0\\u6b3e\", \"\\u64cd\\u4f5c\", \"\\u64cd\\u4f5c\", \"\\u64cd\\u4f5c\", \"\\u64cd\\u4f5c\", \"\\u652f\\u63f4\", \"\\u6539\\u5584\", \"\\u6539\\u5584\", \"\\u6539\\u5584\", \"\\u6539\\u5584\", \"\\u6539\\u5584\", \"\\u6539\\u6210\", \"\\u6539\\u7248\", \"\\u6539\\u7248\", \"\\u6539\\u7248\", \"\\u6545\\u969c\", \"\\u6578\\u4f4d\", \"\\u6578\\u4f4d\", \"\\u6578\\u5b57\", \"\\u65b0\\u589e\", \"\\u65b0\\u589e\", \"\\u65b0\\u589e\", \"\\u65b0\\u589e\", \"\\u65b0\\u624b\\u6a5f\", \"\\u65b9\\u4fbf\", \"\\u65b9\\u4fbf\", \"\\u660e\\u7d30\", \"\\u665a\\u4e0a\", \"\\u66f4\\u597d\", \"\\u66f4\\u6539\", \"\\u66f4\\u6539\", \"\\u66f4\\u6539\", \"\\u66f4\\u65b0\", \"\\u66f4\\u65b0\", \"\\u66f4\\u65b0\", \"\\u66f4\\u65b0\", \"\\u6700\\u721b\", \"\\u6700\\u8fd1\", \"\\u6700\\u8fd1\", \"\\u6709\\u4eba\", \"\\u6709\\u5920\", \"\\u6709\\u5920\", \"\\u6709\\u6c92\\u6709\", \"\\u6709\\u6c92\\u6709\", \"\\u6709\\u9ede\", \"\\u670d\\u52d9\", \"\\u670d\\u52d9\", \"\\u670d\\u52d9\", \"\\u670d\\u52d9\", \"\\u672c\\u884c\", \"\\u6771\\u897f\", \"\\u6771\\u897f\", \"\\u6771\\u897f\", \"\\u6771\\u897f\", \"\\u6771\\u897f\", \"\\u67e5\\u500b\", \"\\u67e5\\u5e33\", \"\\u67e5\\u5e33\", \"\\u67e5\\u7121\", \"\\u67e5\\u770b\", \"\\u67e5\\u8a62\", \"\\u67e5\\u8a62\", \"\\u6839\\u672c\", \"\\u6839\\u672c\", \"\\u6839\\u672c\", \"\\u6839\\u672c\", \"\\u6839\\u672c\", \"\\u6839\\u672c\", \"\\u6839\\u672c\\u7121\\u6cd5\", \"\\u6839\\u672c\\u7121\\u6cd5\", \"\\u6839\\u672c\\u7121\\u6cd5\", \"\\u689d\\u78bc\", \"\\u6a21\\u5f0f\", \"\\u6b04\\u4f4d\", \"\\u6b0a\\u9650\", \"\\u6b63\\u5e38\", \"\\u6b63\\u5e38\", \"\\u6b63\\u5e38\", \"\\u6b63\\u5e38\", \"\\u6b63\\u5e38\", \"\\u6b65\\u9a5f\", \"\\u6bcf\\u500b\", \"\\u6bcf\\u6708\", \"\\u6bcf\\u6b21\", \"\\u6bcf\\u6b21\", \"\\u6bcf\\u6b21\", \"\\u6bcf\\u6b21\", \"\\u6bcf\\u6b21\", \"\\u6c38\\u9060\", \"\\u6d3b\\u5b58\", \"\\u6d41\\u7a0b\", \"\\u6d88\\u8cbb\", \"\\u7121\\u6cd5\", \"\\u7121\\u6cd5\", \"\\u7121\\u6cd5\", \"\\u7121\\u6cd5\", \"\\u7121\\u6cd5\", \"\\u721b\\u5230\", \"\\u721b\\u5230\", \"\\u721b\\u6b7b\", \"\\u721b\\u721b\", \"\\u721b\\u7684\", \"\\u721b\\u7684\", \"\\u721b\\u7684\", \"\\u721b\\u900f\", \"\\u721b\\u900f\", \"\\u721b\\u900f\", \"\\u721b\\u900f\", \"\\u7248\\u672c\", \"\\u7248\\u672c\", \"\\u7389\\u5c71\", \"\\u7389\\u5c71\", \"\\u73fe\\u5728\", \"\\u73fe\\u5728\", \"\\u73fe\\u5728\", \"\\u73fe\\u5728\", \"\\u73fe\\u5728\", \"\\u73fe\\u5728\", \"\\u73fe\\u5834\", \"\\u751f\\u7269\", \"\\u7528\\u5fc3\", \"\\u7528\\u6236\", \"\\u7528\\u6236\", \"\\u7528\\u904e\", \"\\u7528\\u904e\", \"\\u7533\\u8acb\", \"\\u7533\\u8acb\", \"\\u7533\\u8acb\", \"\\u7533\\u8fa6\", \"\\u7533\\u8fa6\", \"\\u7559\\u8a00\", \"\\u756b\\u9762\", \"\\u756b\\u9762\", \"\\u756b\\u9762\", \"\\u756b\\u9762\", \"\\u7570\\u52d5\", \"\\u7570\\u5e38\", \"\\u7576\\u521d\", \"\\u7576\\u521d\", \"\\u7576\\u6a5f\", \"\\u7576\\u6a5f\", \"\\u767b\\u4e0d\\u9032\", \"\\u767b\\u5165\", \"\\u767b\\u5165\", \"\\u767b\\u5165\", \"\\u767b\\u5165\", \"\\u767b\\u5165\", \"\\u767b\\u5165\\u5f8c\", \"\\u767c\\u751f\", \"\\u767c\\u751f\", \"\\u76f4\\u63a5\", \"\\u76f4\\u63a5\", \"\\u76f4\\u63a5\", \"\\u76f4\\u63a5\", \"\\u76f4\\u63a5\", \"\\u770b\\u770b\", \"\\u770b\\u770b\", \"\\u771f\\u7684\", \"\\u771f\\u7684\", \"\\u771f\\u7684\", \"\\u771f\\u7684\", \"\\u771f\\u7684\", \"\\u771f\\u7684\", \"\\u77e5\\u9053\", \"\\u77e5\\u9053\", \"\\u77e5\\u9053\", \"\\u77e5\\u9053\", \"\\u77e5\\u9053\", \"\\u78ba\\u8a8d\", \"\\u78ba\\u8a8d\", \"\\u7a0b\\u5f0f\", \"\\u7a0b\\u5f0f\", \"\\u7a81\\u7136\", \"\\u7a81\\u7136\", \"\\u7a81\\u7136\", \"\\u7b2c\\u4e00\\u6b21\", \"\\u7b2c\\u4e00\\u6b21\", \"\\u7b49\\u5f85\", \"\\u7b49\\u5f85\", \"\\u7b49\\u5f85\", \"\\u7c21\\u55ae\", \"\\u7c21\\u8a0a\", \"\\u7c21\\u8a0a\", \"\\u7cfb\\u7d71\", \"\\u7cfb\\u7d71\", \"\\u7cfb\\u7d71\", \"\\u7cfb\\u7d71\", \"\\u7cfb\\u7d71\", \"\\u7d00\\u9304\", \"\\u7d04\\u5b9a\", \"\\u7d04\\u5b9a\", \"\\u7d50\\u675f\", \"\\u7dad\\u4fee\", \"\\u7dad\\u8b77\", \"\\u7db2\\u7ad9\", \"\\u7db2\\u8def\", \"\\u7db2\\u8def\", \"\\u7db2\\u8def\", \"\\u7db2\\u8def\", \"\\u7db2\\u9280\", \"\\u7db2\\u9280\", \"\\u7db2\\u9280\", \"\\u7db2\\u9280\", \"\\u7db2\\u9280\", \"\\u7dda\\u4e0a\", \"\\u7dda\\u4e0a\", \"\\u7dda\\u4e0a\", \"\\u7e73\\u6b3e\", \"\\u7e73\\u8cbb\", \"\\u7e73\\u8cbb\", \"\\u7fd2\\u6163\", \"\\u8003\\u616e\", \"\\u806f\\u7d61\", \"\\u80fd\\u5920\", \"\\u81c9\\u90e8\", \"\\u81e8\\u6ac3\", \"\\u81e8\\u6ac3\", \"\\u81e8\\u6ac3\", \"\\u81e8\\u6ac3\", \"\\u82f1\\u6587\", \"\\u83ab\\u540d\\u5176\\u5999\", \"\\u8655\\u7406\", \"\\u8655\\u7406\", \"\\u8655\\u7406\", \"\\u8655\\u7406\", \"\\u8655\\u7406\", \"\\u8655\\u7406\", \"\\u87a2\\u5e55\", \"\\u88ab\\u76dc\", \"\\u88ab\\u9396\", \"\\u88ab\\u9396\", \"\\u8981\\u67e5\", \"\\u89ba\\u5f97\", \"\\u89ba\\u5f97\", \"\\u89e3\\u7d04\", \"\\u8a0a\\u606f\", \"\\u8a0a\\u606f\", \"\\u8a0a\\u606f\", \"\\u8a0a\\u606f\", \"\\u8a18\\u9304\", \"\\u8a2d\\u5b9a\", \"\\u8a2d\\u5b9a\", \"\\u8a2d\\u5b9a\", \"\\u8a2d\\u5b9a\", \"\\u8a2d\\u8a08\", \"\\u8a2d\\u8a08\", \"\\u8a2d\\u8a08\", \"\\u8a2d\\u8a08\", \"\\u8a8d\\u771f\", \"\\u8acb\\u5047\", \"\\u8b1d\\u8b1d\", \"\\u8b1d\\u8b1d\", \"\\u8b1d\\u8b1d\", \"\\u8b80\\u5361\\u6a5f\", \"\\u8b8a\\u597d\", \"\\u8cbc\\u5fc3\", \"\\u8cc7\\u6599\", \"\\u8cc7\\u6599\", \"\\u8cc7\\u6599\", \"\\u8cc7\\u6599\", \"\\u8cc7\\u6599\", \"\\u8cc7\\u91d1\", \"\\u8d85\\u7d1a\", \"\\u8d85\\u7d1a\", \"\\u8ddf\\u4e0a\", \"\\u8edf\\u9ad4\", \"\\u8edf\\u9ad4\", \"\\u8edf\\u9ad4\", \"\\u8f38\\u5165\", \"\\u8f38\\u5165\", \"\\u8f38\\u5165\", \"\\u8f38\\u5165\", \"\\u8f49\\u51fa\", \"\\u8f49\\u5708\\u5708\", \"\\u8f49\\u5708\\u5708\", \"\\u8f49\\u5e33\", \"\\u8f49\\u5e33\", \"\\u8f49\\u5e33\", \"\\u8f49\\u5e33\", \"\\u8f49\\u5e33\", \"\\u8f49\\u5e33\", \"\\u8fa6\\u7406\", \"\\u8fa6\\u7406\", \"\\u8fa6\\u7406\", \"\\u8fa6\\u7406\", \"\\u8fa8\\u8b58\", \"\\u8fa8\\u8b58\", \"\\u8fa8\\u8b58\", \"\\u8fa8\\u8b58\", \"\\u9019\\u5bb6\", \"\\u901a\\u77e5\", \"\\u901f\\u5ea6\", \"\\u901f\\u5ea6\", \"\\u901f\\u5ea6\", \"\\u9023\\u4e0d\\u4e0a\", \"\\u9023\\u7dda\", \"\\u9023\\u7dda\", \"\\u9023\\u7e8c\", \"\\u9023\\u7e8c\", \"\\u9032\\u4e0d\\u53bb\", \"\\u9032\\u5165\", \"\\u9032\\u5165\", \"\\u9032\\u5165\", \"\\u9032\\u6b65\", \"\\u9032\\u6b65\", \"\\u904e\\u4e86\", \"\\u9084\\u4e0d\", \"\\u9084\\u4e0d\", \"\\u9084\\u5728\", \"\\u9084\\u5f97\", \"\\u9084\\u6c92\", \"\\u9084\\u8981\", \"\\u9084\\u8981\", \"\\u9084\\u8981\", \"\\u9084\\u8981\", \"\\u9084\\u8981\", \"\\u90e8\\u4efd\", \"\\u91cd\\u65b0\", \"\\u91cd\\u65b0\", \"\\u91cd\\u65b0\", \"\\u91cd\\u65b0\", \"\\u91cd\\u65b0\", \"\\u91cd\\u958b\", \"\\u91cd\\u9ede\", \"\\u91d1\\u878d\", \"\\u91d1\\u878d\", \"\\u91d1\\u984d\", \"\\u91d1\\u984d\", \"\\u91d1\\u984d\", \"\\u9280\\u884c\", \"\\u9280\\u884c\", \"\\u9280\\u884c\", \"\\u9280\\u884c\", \"\\u9280\\u884c\", \"\\u932f\\u8aa4\", \"\\u932f\\u8aa4\", \"\\u932f\\u8aa4\", \"\\u932f\\u8aa4\", \"\\u9396\\u4f4f\", \"\\u9396\\u5b9a\", \"\\u958b\\u555f\", \"\\u958b\\u555f\", \"\\u958b\\u555f\", \"\\u958b\\u555f\", \"\\u958b\\u555f\", \"\\u958b\\u6236\", \"\\u958b\\u6236\", \"\\u958b\\u6236\", \"\\u958b\\u6236\", \"\\u958b\\u653e\", \"\\u958b\\u653e\", \"\\u958b\\u653e\", \"\\u958b\\u6a5f\", \"\\u958b\\u901a\", \"\\u95dc\\u9589\", \"\\u9650\\u5236\", \"\\u967d\\u6625\", \"\\u96e3\\u7528\", \"\\u96e3\\u7528\", \"\\u96e3\\u7528\", \"\\u96e3\\u7528\", \"\\u96e3\\u7528\", \"\\u9700\\u8981\", \"\\u9700\\u8981\", \"\\u9700\\u8981\", \"\\u9700\\u8981\", \"\\u9700\\u8981\", \"\\u9801\\u9762\", \"\\u9801\\u9762\", \"\\u9801\\u9762\", \"\\u9806\\u66a2\", \"\\u9810\\u671f\", \"\\u9810\\u671f\", \"\\u984d\\u5ea6\", \"\\u986f\\u793a\", \"\\u986f\\u793a\", \"\\u986f\\u793a\", \"\\u986f\\u793a\", \"\\u986f\\u793a\", \"\\u986f\\u793a\", \"\\u9918\\u984d\", \"\\u9996\\u9801\", \"\\u9a57\\u8b49\", \"\\u9a57\\u8b49\\u78bc\", \"\\u9ad4\\u9a57\", \"\\u9ad4\\u9a57\", \"\\u9ad4\\u9a57\", \"\\u9ec3\\u91d1\", \"\\u9ed1\\u5c4f\", \"\\u9ede\\u958b\"]}, \"R\": 30, \"lambda.step\": 0.01, \"plot.opts\": {\"xlab\": \"PC1\", \"ylab\": \"PC2\"}, \"topic.order\": [6, 3, 1, 5, 2, 4]};\n",
       "\n",
       "function LDAvis_load_lib(url, callback){\n",
       "  var s = document.createElement('script');\n",
       "  s.src = url;\n",
       "  s.async = true;\n",
       "  s.onreadystatechange = s.onload = callback;\n",
       "  s.onerror = function(){console.warn(\"failed to load library \" + url);};\n",
       "  document.getElementsByTagName(\"head\")[0].appendChild(s);\n",
       "}\n",
       "\n",
       "if(typeof(LDAvis) !== \"undefined\"){\n",
       "   // already loaded: just create the visualization\n",
       "   !function(LDAvis){\n",
       "       new LDAvis(\"#\" + \"ldavis_el132962813454125536550677549\", ldavis_el132962813454125536550677549_data);\n",
       "   }(LDAvis);\n",
       "}else if(typeof define === \"function\" && define.amd){\n",
       "   // require.js is available: use it to load d3/LDAvis\n",
       "   require.config({paths: {d3: \"https://d3js.org/d3.v5\"}});\n",
       "   require([\"d3\"], function(d3){\n",
       "      window.d3 = d3;\n",
       "      LDAvis_load_lib(\"https://cdn.jsdelivr.net/gh/bmabey/pyLDAvis@3.4.0/pyLDAvis/js/ldavis.v3.0.0.js\", function(){\n",
       "        new LDAvis(\"#\" + \"ldavis_el132962813454125536550677549\", ldavis_el132962813454125536550677549_data);\n",
       "      });\n",
       "    });\n",
       "}else{\n",
       "    // require.js not available: dynamically load d3 & LDAvis\n",
       "    LDAvis_load_lib(\"https://d3js.org/d3.v5.js\", function(){\n",
       "         LDAvis_load_lib(\"https://cdn.jsdelivr.net/gh/bmabey/pyLDAvis@3.4.0/pyLDAvis/js/ldavis.v3.0.0.js\", function(){\n",
       "                 new LDAvis(\"#\" + \"ldavis_el132962813454125536550677549\", ldavis_el132962813454125536550677549_data);\n",
       "            })\n",
       "         });\n",
       "}\n",
       "</script>"
      ],
      "text/plain": [
       "PreparedData(topic_coordinates=              x         y  topics  cluster       Freq\n",
       "topic                                                \n",
       "5      0.240447 -0.068835       1        1  28.155012\n",
       "2      0.108587 -0.110903       2        1  18.592177\n",
       "0     -0.144094 -0.145890       3        1  17.044376\n",
       "4     -0.219774 -0.021728       4        1  13.813329\n",
       "1     -0.084389  0.172476       5        1  11.518941\n",
       "3      0.099222  0.174881       6        1  10.876165, topic_info=    Term        Freq       Total Category  logprob  loglift\n",
       "2     更新  590.000000  590.000000  Default  30.0000  30.0000\n",
       "11    無法  625.000000  625.000000  Default  29.0000  29.0000\n",
       "187   通知  167.000000  167.000000  Default  28.0000  28.0000\n",
       "3     登入  556.000000  556.000000  Default  27.0000  27.0000\n",
       "59    方便  129.000000  129.000000  Default  26.0000  26.0000\n",
       "..   ...         ...         ...      ...      ...      ...\n",
       "157   東西   17.944498   47.773611   Topic6  -4.8578   1.2394\n",
       "141   操作   18.701195   58.587121   Topic6  -4.8165   1.0767\n",
       "23    問題   22.017706  190.775478   Topic6  -4.6532   0.0593\n",
       "15    定存   16.650123   45.928706   Topic6  -4.9327   1.2039\n",
       "143   每次   17.829124  130.345311   Topic6  -4.8643   0.2292\n",
       "\n",
       "[404 rows x 6 columns], token_table=      Topic      Freq Term\n",
       "term                      \n",
       "471       6  0.967155   30\n",
       "752       1  0.961556  30%\n",
       "609       1  0.931023   5%\n",
       "91        1  0.103911  APP\n",
       "91        2  0.202354  APP\n",
       "...     ...       ...  ...\n",
       "171       3  0.166703   體驗\n",
       "171       5  0.700152   體驗\n",
       "348       4  0.906629   黃金\n",
       "642       1  0.931036   黑屏\n",
       "672       1  0.949279   點開\n",
       "\n",
       "[687 rows x 3 columns], R=30, lambda_step=0.01, plot_opts={'xlab': 'PC1', 'ylab': 'PC2'}, topic_order=[6, 3, 1, 5, 2, 4])"
      ]
     },
     "execution_count": 77,
     "metadata": {},
     "output_type": "execute_result"
    }
   ],
   "source": [
    "pyLDAvis.enable_notebook()\n",
    "p = pyLDAvis.gensim_models.prepare(best_model, corpus, dictionary)\n",
    "p"
   ]
  },
  {
   "cell_type": "markdown",
   "metadata": {},
   "source": [
    "主題一 無法登入 (負面)\n",
    "主題二 忘記密碼 難以找回 (負面)\n",
    "主題三 轉帳金融 (中性)\n",
    "主題四 使用方便 (唯一好評)\n",
    "主題五 使用體驗 (中性)\n",
    "主題六 負面使用體驗 "
   ]
  },
  {
   "cell_type": "markdown",
   "metadata": {},
   "source": [
    "lambda 的意義: <https://nlp.stanford.edu/events/illvi2014/papers/sievert-illvi2014.pdf>"
   ]
  },
  {
   "cell_type": "code",
   "execution_count": 78,
   "metadata": {},
   "outputs": [],
   "source": [
    "pyLDAvis.save_html(p, \"lda_zh.html\")"
   ]
  },
  {
   "cell_type": "markdown",
   "metadata": {},
   "source": [
    "## 6. GuidedLDA"
   ]
  },
  {
   "cell_type": "markdown",
   "metadata": {},
   "source": [
    "- 原始套件: <https://github.com/vi3k6i5/GuidedLDA>  \n",
    "- 31lab 家銘修改版本: <https://github.com/Text-Analytics-and-Retrieval/GuidedLDA>\n",
    "\n",
    "安裝方式:  \n",
    "`pip install git+https://github.com/Text-Analytics-and-Retrieval/GuidedLDA.git#egg=GuidedLDA`  \n",
    "經測試，在 `python3.7~3.11.0` 可正常執行"
   ]
  },
  {
   "cell_type": "code",
   "execution_count": 79,
   "metadata": {},
   "outputs": [],
   "source": [
    "import guidedlda"
   ]
  },
  {
   "cell_type": "code",
   "execution_count": 80,
   "metadata": {},
   "outputs": [],
   "source": [
    "word2id = dictionary.token2id"
   ]
  },
  {
   "cell_type": "code",
   "execution_count": 102,
   "metadata": {},
   "outputs": [],
   "source": [
    "seed_topic_list = [\n",
    "    # 登入困難與驗證問題\n",
    "    [\"登入\", \"密碼\", \"驗證\", \"OTP\", \"指紋\", \"登錄\", \"帳號\", \"解鎖\", \"憑證\"],\n",
    "\n",
    "    # 系統錯誤與閃退崩潰\n",
    "    [\"錯誤\", \"失敗\", \"閃退\", \"當機\", \"無法\", \"載入\", \"跳出\", \"伺服器\", \"系統\"],\n",
    "\n",
    "    # 使用體驗差與操作不便\n",
    "    [\"難用\", \"介面\", \"複雜\", \"輸入\", \"設計\", \"不行\", \"不好\", \"直覺\"],\n",
    "\n",
    "    # 轉帳與功能問題\n",
    "    [\"轉帳\", \"查詢\", \"交易\", \"功能\", \"不到\", \"失敗\",  \"操作\"],\n",
    "\n",
    "    # 客戶服務與問題回應\n",
    "    [\"客服\", \"處理\", \"等待\", \"回覆\", \"聯絡\", \"問題\", \"電話\"]\n",
    "]"
   ]
  },
  {
   "cell_type": "code",
   "execution_count": 103,
   "metadata": {},
   "outputs": [],
   "source": [
    "seed_topics = {}\n",
    "for t_id, st in enumerate(seed_topic_list):\n",
    "    for word in st:\n",
    "        seed_topics[word2id[word]] = t_id"
   ]
  },
  {
   "cell_type": "code",
   "execution_count": 104,
   "metadata": {},
   "outputs": [],
   "source": [
    "# guidedlda 需要 DTM 格式作為 input，因此這邊利用 corpus2dense() 方法進行轉換\n",
    "X = corpus2dense(corpus, len(dictionary), len(corpus)).T.astype(np.int64)"
   ]
  },
  {
   "cell_type": "code",
   "execution_count": 105,
   "metadata": {},
   "outputs": [
    {
     "name": "stderr",
     "output_type": "stream",
     "text": [
      "2025-05-18 18:07:36,256 : INFO : n_documents: 3006\n",
      "2025-05-18 18:07:36,257 : INFO : vocab_size: 755\n",
      "2025-05-18 18:07:36,257 : INFO : n_words: 21241\n",
      "2025-05-18 18:07:36,258 : INFO : n_topics: 5\n",
      "2025-05-18 18:07:36,259 : INFO : n_iter: 100\n",
      "2025-05-18 18:07:36,261 : WARNING : all zero row in document-term matrix found\n",
      "2025-05-18 18:07:36,339 : INFO : <0> log likelihood: -189910\n",
      "2025-05-18 18:07:36,405 : INFO : <20> log likelihood: -133640\n",
      "2025-05-18 18:07:36,471 : INFO : <40> log likelihood: -132462\n",
      "2025-05-18 18:07:36,537 : INFO : <60> log likelihood: -131871\n",
      "2025-05-18 18:07:36,604 : INFO : <80> log likelihood: -131249\n",
      "2025-05-18 18:07:36,668 : INFO : <99> log likelihood: -131077\n"
     ]
    },
    {
     "data": {
      "text/plain": [
       "<guidedlda.guidedlda.GuidedLDA at 0x28f0eeaeda0>"
      ]
     },
     "execution_count": 105,
     "metadata": {},
     "output_type": "execute_result"
    }
   ],
   "source": [
    "model = guidedlda.GuidedLDA(n_topics=5, n_iter=100, random_state=5278, refresh=20)\n",
    "model.fit(X, seed_topics=seed_topics, seed_confidence=1)"
   ]
  },
  {
   "cell_type": "code",
   "execution_count": 106,
   "metadata": {},
   "outputs": [
    {
     "name": "stdout",
     "output_type": "stream",
     "text": [
      "Topic 0: 登入 更新 密碼 無法 一直 指紋 app 設定 錯誤 輸入\n",
      "Topic 1: 無法 一直 更新 登入 使用 伺服器 連線 系統 顯示 失敗\n",
      "Topic 2: 銀行 app 申請 難用 APP 臨櫃 真的 網銀 轉帳 帳戶\n",
      "Topic 3: 轉帳 功能 通知 銀行 方便 查詢 無法 app 帳戶 帳號\n",
      "Topic 4: 更新 登入 問題 無法 手機 使用 一直 app 客服 10\n"
     ]
    },
    {
     "data": {
      "text/html": [
       "\n",
       "<link rel=\"stylesheet\" type=\"text/css\" href=\"https://cdn.jsdelivr.net/gh/bmabey/pyLDAvis@3.4.0/pyLDAvis/js/ldavis.v1.0.0.css\">\n",
       "\n",
       "\n",
       "<div id=\"ldavis_el1329628135369641601371224536\" style=\"background-color:white;\"></div>\n",
       "<script type=\"text/javascript\">\n",
       "\n",
       "var ldavis_el1329628135369641601371224536_data = {\"mdsDat\": {\"x\": [-0.059270833894043494, 0.1607418414097231, -0.23459871717100161, 0.2444465221894393, -0.11131881253411684], \"y\": [0.07477087511667092, 0.16781569327522863, 0.014562569697251239, -0.1342245668736389, -0.12292457121551179], \"topics\": [1, 2, 3, 4, 5], \"cluster\": [1, 1, 1, 1, 1], \"Freq\": [22.706936211467855, 21.931477561345332, 21.638018635249644, 18.451624488809962, 15.271943103127207]}, \"tinfo\": {\"Term\": [\"\\u7121\\u6cd5\", \"\\u767b\\u5165\", \"\\u4e00\\u76f4\", \"\\u5bc6\\u78bc\", \"\\u9280\\u884c\", \"\\u4f3a\\u670d\\u5668\", \"\\u8f49\\u5e33\", \"\\u66f4\\u65b0\", \"\\u6307\\u7d0b\", \"\\u529f\\u80fd\", \"\\u901a\\u77e5\", \"\\u5e33\\u6236\", \"\\u96e3\\u7528\", \"\\u9023\\u7dda\", \"\\u81e8\\u6ac3\", \"\\u7533\\u8acb\", \"\\u5e33\\u865f\", \"\\u67e5\\u8a62\", \"\\u4ea4\\u6613\", \"\\u932f\\u8aa4\", \"\\u8a2d\\u5b9a\", \"\\u6578\\u4f4d\", \"\\u660e\\u7d30\", \"\\u5ba2\\u670d\", \"\\u5931\\u6557\", \"\\u7d04\\u5b9a\", \"\\u65b9\\u4fbf\", \"10\", \"\\u8fa8\\u8b58\", \"\\u624b\\u6a5f\", \"\\u5716\\u5f62\", \"\\u4ee3\\u865f\", \"\\u5fd8\\u8a18\", \"\\u88ab\\u9396\", \"\\u81c9\\u90e8\", \"\\u751f\\u7269\", \"\\u8a3b\\u518a\", \"ssl\", \"\\u4f01\\u696d\", \"\\u4e00\\u9801\", \"\\u9396\\u5b9a\", \"\\u5361\\u5728\", \"\\u586b\\u5beb\", \"\\u6703\\u54e1\", \"\\u751f\\u6c23\", \"pixel\", \"\\u64fe\\u6c11\", \"\\u503c\\u5f97\", \"\\u66f4\\u63db\", \"\\u5e7e\\u500b\", \"\\u540c\\u6a23\", \"30%\", \"\\u767b\\u51fa\", \"\\u6307\\u7d0b\", \"\\u8fa8\\u8b58\", \"\\u5bc6\\u78bc\", \"\\u5169\\u6b21\", \"\\u6c92\\u7528\", \"\\u8d85\\u904e\", \"\\u5e33\\u865f\\u5bc6\\u78bc\", \"\\u89e3\\u9396\", \"\\u6b63\\u78ba\", \"\\u767b\\u9304\", \"\\u767b\\u5165\", \"\\u8a2d\\u5b9a\", \"\\u7db2\\u9801\", \"\\u8f38\\u5165\", \"\\u6c38\\u9060\", \"\\u5feb\\u901f\", \"\\u91cd\\u65b0\", \"\\u932f\\u8aa4\", \"\\u6bcf\\u6b21\", \"\\u66f4\\u65b0\", \"\\u8cc7\\u6599\", \"\\u4e4b\\u5f8c\", \"\\u7c21\\u8a0a\", \"\\u76f4\\u63a5\", \"\\u4e00\\u76f4\", \"App\", \"app\", \"\\u7121\\u6cd5\", \"\\u5df2\\u7d93\", \"\\u4e00\\u6b21\", \"\\u5e33\\u865f\", \"\\u4f7f\\u7528\", \"\\u986f\\u793a\", \"\\u8f49\\u5e33\", \"\\u624b\\u6a5f\", \"\\u9084\\u8981\", \"\\u554f\\u984c\", \"\\u9280\\u884c\", \"\\u7db2\\u9280\", \"\\u81e8\\u6ac3\", \"\\u4ea4\\u6613\", \"\\u660e\\u7d30\", \"\\u91d1\\u984d\", \"\\u7e73\\u6b3e\", \"\\u5373\\u6642\", \"\\u5e33\\u55ae\", \"\\u589e\\u52a0\", \"\\u8f49\\u51fa\", \"\\u53f0\\u5e63\", \"\\u5be6\\u7528\", \"\\u5169\\u500b\", \"\\u5237\\u5361\", \"\\u65e5\\u671f\", \"\\u9ec3\\u91d1\", \"\\u6b04\\u4f4d\", \"\\u672c\\u884c\", \"\\u8f49\\u5165\", \"\\u4ee3\\u78bc\", \"\\u9810\\u7d04\", \"\\u5916\\u5e63\", \"\\u5099\\u8a3b\", \"\\u984d\\u5ea6\", \"\\u7d00\\u9304\", \"\\u6d88\\u8cbb\", \"\\u8a18\\u9304\", \"\\u63d0\\u6b3e\", \"\\u5c0d\\u65b9\", \"\\u532f\\u7387\", \"\\u8d8a\\u6539\\u8d8a\", \"\\u8cb7\\u8ce3\", \"\\u7d04\\u5b9a\", \"\\u532f\\u6b3e\", \"\\u5b9a\\u5b58\", \"\\u67e5\\u8a62\", \"\\u5e38\\u7528\", \"\\u901a\\u77e5\", \"\\u9918\\u984d\", \"\\u5165\\u5e33\", \"\\u529f\\u80fd\", \"\\u622a\\u5716\", \"\\u8f49\\u5e33\", \"\\u5e0c\\u671b\", \"\\u5e33\\u865f\", \"\\u4fe1\\u7528\\u5361\", \"\\u53ea\\u80fd\", \"\\u5e33\\u6236\", \"\\u65b9\\u4fbf\", \"\\u624b\\u7e8c\\u8cbb\", \"\\u5efa\\u8b70\", \"OTP\", \"\\u4e0d\\u5230\", \"\\u9280\\u884c\", \"\\u8a2d\\u5b9a\", \"app\", \"\\u986f\\u793a\", \"\\u7121\\u6cd5\", \"\\u7db2\\u9280\", \"\\u8f38\\u5165\", \"\\u66f4\\u65b0\", \"\\u4f7f\\u7528\", \"\\u9ebb\\u7169\", \"\\u5361\\u4f4f\", \"\\u5fd9\\u788c\", \"5%\", \"\\u52d5\\u756b\", \"\\u4e0d\\u77e5\", \"\\u6545\\u969c\", \"\\u4eca\\u65e5\", \"\\u6aa2\\u67e5\", \"\\u5169\\u5929\", \"\\u7576\\u6389\", \"\\u63db\\u65b0\", \"\\u6392\\u9664\", \"\\u6b7b\\u7576\", \"\\u4e0b\\u8f09\\u5b89\\u88dd\", \"\\u56de\\u61c9\", \"\\u5354\\u52a9\", \"\\u4f9d\\u7136\", \"\\u51fa\\u932f\", \"\\u76e1\\u901f\", \"\\u76f8\\u540c\", \"\\u5c1a\\u672a\", \"\\u6b63\\u5728\", \"plus\", \"\\u7cfb\\u7d71\\u7ba1\\u7406\\u54e1\", \"\\u4f3a\\u670d\\u5668\", \"\\u79fb\\u9664\", \"\\u65b0\\u7248\", \"good\", \"\\u6709\\u6642\", \"\\u7d66\\u4e88\", \"\\u9023\\u7dda\", \"\\u5e7e\\u5929\", \"\\u7121\\u6cd5\", \"\\u4e00\\u76f4\", \"\\u5931\\u6557\", \"\\u6839\\u672c\\u7121\\u6cd5\", \"\\u9032\\u5165\", \"\\u66f4\\u65b0\", \"\\u72c0\\u6cc1\", \"\\u4eca\\u5929\", \"\\u7cfb\\u7d71\", \"\\u6b63\\u5e38\", \"\\u51fa\\u73fe\", \"\\u9583\\u9000\", \"\\u7570\\u5e38\", \"\\u767b\\u5165\", \"\\u9a57\\u8b49\", \"\\u9032\\u4e0d\\u53bb\", \"\\u4f7f\\u7528\", \"\\u4e0b\\u8f09\", \"\\u76e1\\u5feb\", \"\\u7576\\u6a5f\", \"\\u958b\\u555f\", \"\\u932f\\u8aa4\", \"\\u986f\\u793a\", \"\\u6191\\u8b49\", \"\\u8f49\\u5708\\u5708\", \"\\u5b8c\\u5168\", \"\\u91cd\\u65b0\", \"\\u756b\\u9762\", \"app\", \"\\u6539\\u5584\", \"\\u8cc7\\u6599\", \"\\u7db2\\u8def\", \"\\u554f\\u984c\", \"\\u8f49\\u5e33\", \"\\u7528\\u904e\", \"\\u6700\\u721b\", \"\\u53c3\\u8003\", \"\\u5b78\\u5b78\", \"\\u6c92\\u7528\\u904e\", \"\\u4e2d\\u4fe1\", \"\\u7533\\u8fa6\", \"\\u8f49\\u6236\", \"\\u85aa\\u8f49\", \"\\u6ac3\\u54e1\", \"\\u6b21\\u6578\", \"\\u52d5\\u4f5c\", \"\\u570b\\u6cf0\", \"\\u4e2d\\u570b\", \"\\u6c92\\u4ec0\\u9ebc\", \"UI\", \"\\u89aa\\u5207\", \"\\u4fe1\\u8a17\", \"\\u53f0\\u65b0\", \"\\u6548\\u7387\", \"\\u9650\\u5236\", \"\\u7c21\\u55ae\", \"\\u6211\\u9023\", \"\\u91cd\\u9ede\", \"\\u5361\\u7247\", \"\\u63d0\\u6b3e\\u5361\", \"\\u8907\\u96dc\", \"\\u614b\\u5ea6\", \"\\u4e00\\u9593\", \"\\u6574\\u9ad4\", \"\\u9ad4\\u9a57\", \"\\u4e0d\\u60f3\", \"\\u4e00\\u9846\", \"\\u96e3\\u7528\", \"\\u6578\\u4f4d\", \"\\u7533\\u8acb\", \"\\u958b\\u6236\", \"\\u770b\\u770b\", \"\\u7389\\u5c71\", \"\\u9280\\u884c\", \"\\u81e8\\u6ac3\", \"\\u670d\\u52d9\", \"\\u8a2d\\u8a08\", \"\\u721b\\u7684\", \"\\u6240\\u6709\", \"APP\", \"\\u5206\\u884c\", \"\\u597d\\u7528\", \"\\u771f\\u7684\", \"\\u5408\\u5eab\", \"\\u5e33\\u6236\", \"app\", \"\\u4ecb\\u9762\", \"\\u8fa6\\u7406\", \"\\u7db2\\u9280\", \"\\u9084\\u8981\", \"\\u4e0d\\u597d\", \"\\u4e00\\u5806\", \"\\u7db2\\u8def\", \"\\u65b9\\u4fbf\", \"\\u8f49\\u5e33\", \"\\u4f7f\\u7528\\u8005\", \"\\u4f7f\\u7528\", \"\\u554f\\u984c\", \"\\u66f4\\u65b0\", \"\\u529f\\u80fd\", \"\\u6383\\u63cf\", \"\\u5141\\u8a31\", \"\\u53ea\\u6703\", \"\\u5347\\u7d1a\", \"\\u5546\\u5e97\", \"30\", \"\\u7dad\\u8b77\", \"\\u505c\\u6b62\", \"Good\", \"\\u865f\\u78bc\", \"\\u555f\\u52d5\", \"\\u7121\\u9650\", \"\\u96a8\\u4fbf\", \"\\u6295\\u8cc7\", \"\\u54c1\\u8cea\", \"\\u5118\\u901f\", \"\\u5b58\\u53d6\", \"\\u8a0a\\u865f\", \"\\u82f1\\u6587\", \"\\u903e\\u6642\", \"\\u65b9\\u6cd5\", \"\\u8abf\\u6574\", \"\\u554f\\u4e86\", \"\\u570b\\u5916\", \"\\u7e3d\\u89bd\", \"\\u4e09\\u661f\", \"\\u539f\\u4f86\", \"\\u8acb\\u6d3d\", \"\\u9019\\u9ebc\\u4e45\", \"\\u6709\\u4eba\", \"\\u96fb\\u8a71\", \"Android\", \"\\u5ba2\\u670d\", \"10\", \"\\u652f\\u63f4\", \"\\u7248\\u672c\", \"\\u8b80\\u53d6\", \"\\u624b\\u6a5f\", \"\\u9801\\u9762\", \"\\u554f\\u984c\", \"\\u6b0a\\u9650\", \"\\u7a69\\u5b9a\", \"\\u89e3\\u6c7a\", \"\\u8655\\u7406\", \"\\u7a0b\\u5f0f\", \"\\u53cd\\u61c9\", \"\\u73fe\\u5728\", \"\\u56de\\u8986\", \"\\u66f4\\u65b0\", \"\\u4f7f\\u7528\", \"\\u958b\\u555f\", \"\\u4eba\\u54e1\", \"\\u4e00\\u4e0b\", \"\\u767b\\u5165\", \"\\u7cfb\\u7d71\", \"App\", \"\\u4e00\\u76f4\", \"app\", \"\\u771f\\u7684\", \"\\u7121\\u6cd5\", \"\\u9032\\u4e0d\\u53bb\", \"\\u4e0b\\u8f09\", \"APP\", \"\\u9280\\u884c\", \"\\u7db2\\u9280\", \"\\u986f\\u793a\", \"\\u5408\\u5eab\", \"\\u756b\\u9762\"], \"Freq\": [752.0, 642.0, 503.0, 190.0, 364.0, 111.0, 355.0, 646.0, 102.0, 190.0, 133.0, 130.0, 110.0, 113.0, 132.0, 123.0, 106.0, 86.0, 53.0, 147.0, 147.0, 71.0, 49.0, 86.0, 105.0, 52.0, 149.0, 68.0, 56.0, 152.0, 30.956281471623072, 26.96321065941758, 15.982265925852479, 12.987462816698361, 12.987462816698361, 12.987462816698361, 10.990927410595614, 9.992659707544242, 8.99439200449287, 7.996124301441496, 7.996124301441496, 6.997856598390123, 6.997856598390123, 5.999588895338751, 5.999588895338751, 5.999588895338751, 5.001321192287378, 5.001321192287378, 5.001321192287378, 5.001321192287378, 5.001321192287378, 5.001321192287378, 33.95108458077719, 98.83848527911643, 52.91817093875327, 173.7085630079694, 9.992659707544242, 8.99439200449287, 16.980533628903853, 20.973604441109345, 31.954549174674444, 26.96321065941758, 51.919903235701895, 305.4798998107506, 85.86100513944858, 31.954549174674444, 68.89045418757524, 14.983998222801107, 30.956281471623072, 63.89911567231838, 73.88179270283212, 56.911241750958766, 176.7033661171235, 50.92163553265052, 37.94415539298268, 20.973604441109345, 39.94069079908543, 104.82809149742467, 40.93895850213679, 85.86100513944858, 122.79691015234937, 38.942423096034055, 29.9580137685717, 38.942423096034055, 65.89565107842112, 49.92336782959915, 59.90604486011288, 39.94069079908543, 35.94761998687993, 40.93895850213679, 43.93376161129091, 35.94761998687993, 33.95108458077719, 53.9395445835024, 49.94476253695529, 36.96172088567717, 25.97607025767261, 22.979983722762274, 22.979983722762274, 21.981288211125495, 19.983897187851937, 17.98650616457838, 17.98650616457838, 13.991724118031266, 13.991724118031266, 12.993028606394487, 12.993028606394487, 11.994333094757708, 10.99563758312093, 10.99563758312093, 10.99563758312093, 10.99563758312093, 10.99563758312093, 10.99563758312093, 10.99563758312093, 9.996942071484153, 9.996942071484153, 9.996942071484153, 8.998246559847374, 8.998246559847374, 7.999551048210595, 7.000855536573817, 7.000855536573817, 50.94345804859207, 25.97607025767261, 42.95389395549784, 74.91215032787476, 24.977374746035828, 109.86649323516201, 29.970852304219722, 33.965634350766834, 135.8325765377182, 32.96693883913005, 205.7412623522927, 54.93824009513918, 67.9212817464173, 58.933022141686294, 43.952589467134615, 70.91736828132764, 77.9082368627851, 17.98650616457838, 30.969547815856505, 29.970852304219722, 24.977374746035828, 85.8978009558793, 50.94345804859207, 71.91606379296442, 53.9395445835024, 73.91345481623797, 43.952589467134615, 38.959111908950725, 51.942153560228846, 39.95780742058751, 29.970852304219722, 19.930132316618124, 11.962063424416975, 10.96605481289183, 10.96605481289183, 9.970046201366687, 7.9780289783164005, 7.9780289783164005, 6.982020366791256, 6.982020366791256, 6.982020366791256, 6.982020366791256, 6.982020366791256, 5.986011755266113, 5.986011755266113, 5.986011755266113, 5.986011755266113, 5.986011755266113, 4.990003143740969, 4.990003143740969, 4.990003143740969, 4.990003143740969, 4.990003143740969, 4.990003143740969, 4.990003143740969, 108.57489874235591, 11.962063424416975, 16.942106482042693, 7.9780289783164005, 4.990003143740969, 4.990003143740969, 89.65073512337817, 15.946097870517551, 476.1020763951339, 310.76464688196, 69.73056289287531, 20.92614092814327, 44.830347604746706, 284.8684229823063, 18.93412370509298, 43.83433899322157, 79.69064900812674, 40.84631315864614, 45.826356216271854, 45.826356216271854, 32.87824426644499, 242.04005268672515, 37.8582873240707, 44.830347604746706, 142.43919153421078, 61.762494000674145, 22.918158151193555, 21.92214953966841, 55.78644233152329, 62.758502612199294, 77.69863178507646, 34.87026148949527, 28.894209820344418, 46.822364827796996, 40.84631315864614, 37.8582873240707, 62.758502612199294, 32.87824426644499, 33.874252877970136, 33.874252877970136, 35.86627010102042, 32.87824426644499, 26.987686875276395, 25.988512981337987, 12.999252360138685, 12.999252360138685, 12.999252360138685, 12.000078466200277, 11.000904572261868, 11.000904572261868, 11.000904572261868, 10.001730678323462, 10.001730678323462, 10.001730678323462, 9.002556784385053, 9.002556784385053, 9.002556784385053, 8.003382890446646, 8.003382890446646, 8.003382890446646, 8.003382890446646, 8.003382890446646, 8.003382890446646, 7.004208996508239, 7.004208996508239, 7.004208996508239, 7.004208996508239, 7.004208996508239, 7.004208996508239, 7.004208996508239, 7.004208996508239, 6.00503510256983, 21.991817405584356, 35.98025192072206, 25.988512981337987, 82.94142493582723, 52.966208117674995, 83.94059882976563, 29.98520855709162, 17.995121829830726, 14.9976001480155, 193.8497271629905, 75.94720767825838, 31.983556344968434, 26.987686875276395, 16.995947935892318, 14.9976001480155, 81.94225104188882, 19.99346961770754, 37.97859970859888, 71.95051210250476, 50.96786032979818, 56.96290369342863, 113.91581564791788, 40.9761213904141, 28.986034663153212, 61.95877316312067, 44.972816966167734, 24.989339087399582, 22.990991299522765, 43.97364307222932, 47.970338647982956, 56.96290369342863, 22.990991299522765, 41.975295284352505, 33.981904132845244, 31.983556344968434, 25.988512981337987, 19.00041422579062, 15.002431221941986, 12.003943969055515, 12.003943969055515, 9.005456716169041, 9.005456716169041, 9.005456716169041, 8.005960965206883, 8.005960965206883, 8.005960965206883, 7.0064652142447255, 7.0064652142447255, 7.0064652142447255, 7.0064652142447255, 7.0064652142447255, 7.0064652142447255, 7.0064652142447255, 6.006969463282568, 6.006969463282568, 6.006969463282568, 6.006969463282568, 6.006969463282568, 6.006969463282568, 5.00747371232041, 5.00747371232041, 5.00747371232041, 5.00747371232041, 5.00747371232041, 5.00747371232041, 5.00747371232041, 26.996380233487884, 33.992850490222985, 53.98276550946614, 43.98780799984456, 35.9918419921473, 38.99032924503378, 20.999405727714937, 67.97570602293635, 20.999405727714937, 75.97167203063363, 25.996884482525726, 14.002935470979828, 20.999405727714937, 30.994363237336515, 30.994363237336515, 22.998397229639252, 34.99234624118514, 13.003439720017672, 100.95906580468755, 66.9762102719742, 35.9918419921473, 19.99990997675278, 21.998901478677094, 80.9691507854444, 37.990833494071616, 30.994363237336515, 65.97671452101204, 54.9822612604283, 35.9918419921473, 69.97469752486067, 24.997388731563568, 29.994867486374353, 33.992850490222985, 36.991337743109455, 28.9953717354122, 28.9953717354122, 24.997388731563568, 22.998397229639252], \"Total\": [752.0, 642.0, 503.0, 190.0, 364.0, 111.0, 355.0, 646.0, 102.0, 190.0, 133.0, 130.0, 110.0, 113.0, 132.0, 123.0, 106.0, 86.0, 53.0, 147.0, 147.0, 71.0, 49.0, 86.0, 105.0, 52.0, 149.0, 68.0, 56.0, 152.0, 30.9962152093037, 27.003144397098207, 16.022199663533105, 13.027396554378985, 13.027396554378985, 13.027396554378985, 11.030861148276237, 10.032593445224865, 9.034325742173493, 8.03605803912212, 8.03605803912212, 7.037790336070747, 7.037790336070747, 6.039522633019375, 6.039522633019375, 6.039522633019375, 5.0412549299680025, 5.0412549299680025, 5.0412549299680025, 5.0412549299680025, 5.0412549299680025, 5.0412549299680025, 34.98971383009459, 102.86245346289762, 56.95608768028252, 190.73445294260299, 11.031288956861644, 10.030334353698636, 19.017858389858038, 24.0015640133654, 37.98952627598551, 31.98318745472392, 73.87202642693568, 642.4908191398907, 147.82661023202238, 46.956107286125295, 121.84262513492182, 19.021114725004985, 47.97834434784359, 120.76173282264676, 147.66407851313303, 111.82709433467356, 646.4565648093146, 126.78546024585157, 82.86957452736065, 33.996579830068086, 98.89638588561789, 503.5607328504616, 106.8826737254803, 389.43364845295844, 752.7888695669054, 104.84320622467251, 63.96636350523689, 106.89365162501564, 357.2441555895461, 210.5669076725296, 355.4984501297888, 152.84519340515607, 106.91646225434515, 207.7413974661248, 364.666622005486, 170.86431443866266, 132.89823102542272, 53.97947404309717, 49.984691996550055, 37.00165034527193, 26.015999717267384, 23.019913182357048, 23.019913182357048, 22.02121767072027, 20.02382664744671, 18.026435624173153, 18.026435624173153, 14.031653577626036, 14.031653577626036, 13.032958065989257, 13.032958065989257, 12.034262554352479, 11.0355670427157, 11.0355670427157, 11.0355670427157, 11.0355670427157, 11.0355670427157, 11.0355670427157, 11.0355670427157, 10.036871531078923, 10.036871531078923, 10.036871531078923, 9.038176019442144, 9.038176019442144, 8.039480507805365, 7.040784996168587, 7.040784996168587, 52.97992291428958, 27.015173611205793, 45.988626524246726, 86.94377579984916, 27.01565199350742, 133.88373386014638, 33.008303445629714, 39.00143328005364, 190.81307110730924, 39.97892857940082, 355.4984501297888, 78.92608698751711, 106.89365162501564, 92.92130303212403, 64.95976545435636, 130.90501280456579, 149.84660628092033, 21.023957305988375, 47.990902517969026, 48.97786812179058, 36.97618481851101, 364.666622005486, 147.82661023202238, 389.43364845295844, 210.5669076725296, 752.7888695669054, 170.86431443866266, 121.84262513492182, 646.4565648093146, 357.2441555895461, 79.94300718640102, 19.970088645214013, 12.002019753012862, 11.006011141487717, 11.006011141487717, 10.010002529962573, 8.017985306912287, 8.017985306912287, 7.021976695387143, 7.021976695387143, 7.021976695387143, 7.021976695387143, 7.021976695387143, 6.025968083862, 6.025968083862, 6.025968083862, 6.025968083862, 6.025968083862, 5.029959472336856, 5.029959472336856, 5.029959472336856, 5.029959472336856, 5.029959472336856, 5.029959472336856, 5.029959472336856, 111.61334232383828, 13.00119364695127, 18.978598216741325, 9.017159200850694, 6.0286549839736345, 6.0286549839736345, 113.6650809480472, 19.97912501131893, 752.7888695669054, 503.5607328504616, 105.73148944162554, 26.962106191440853, 66.85232535347619, 646.4565648093146, 24.97105453946181, 68.84326837720963, 151.66306605166216, 65.86192134646438, 76.82980401021129, 76.83775663153929, 50.901755824895005, 642.4908191398907, 61.85709633448494, 77.84383933180752, 357.2441555895461, 125.73270284773551, 33.952567740373176, 31.957063377885873, 121.77888098475769, 147.66407851313303, 210.5669076725296, 65.87285126750596, 49.9088403442162, 113.78655973354154, 120.76173282264676, 113.80638501832495, 389.43364845295844, 96.83767757153645, 126.78546024585157, 126.8197333683614, 207.7413974661248, 355.4984501297888, 27.02761155104815, 26.02843765710974, 13.03917703591044, 13.03917703591044, 13.03917703591044, 12.040003141972031, 11.040829248033623, 11.040829248033623, 11.040829248033623, 10.041655354095216, 10.041655354095216, 10.041655354095216, 9.042481460156807, 9.042481460156807, 9.042481460156807, 8.0433075662184, 8.0433075662184, 8.0433075662184, 8.0433075662184, 8.0433075662184, 8.0433075662184, 7.044133672279993, 7.044133672279993, 7.044133672279993, 7.044133672279993, 7.044133672279993, 7.044133672279993, 7.044133672279993, 7.044133672279993, 6.0449597783415845, 24.030733583280426, 41.011515111750676, 29.026924909996215, 110.91056214176133, 71.98134751454553, 123.9254448524235, 38.0146973259576, 21.0298496147566, 17.034915847060812, 364.666622005486, 132.89823102542272, 47.01100509352942, 38.01326217905271, 21.03022684962578, 18.025550658362686, 182.79512458096045, 27.021268214838905, 66.98069422183721, 164.8692800779648, 108.94742476919811, 130.90501280456579, 389.43364845295844, 84.95625422390063, 49.99642604037028, 170.86431443866266, 106.91646225434515, 41.97722379978238, 37.00245339494748, 126.8197333683614, 149.84660628092033, 355.4984501297888, 42.99440495338642, 357.2441555895461, 207.7413974661248, 646.4565648093146, 190.81307110730924, 19.040335682992136, 15.042352679143503, 12.043865426257032, 12.043865426257032, 9.045378173370558, 9.045378173370558, 9.045378173370558, 8.0458824224084, 8.0458824224084, 8.0458824224084, 7.046386671446243, 7.046386671446243, 7.046386671446243, 7.046386671446243, 7.046386671446243, 7.046386671446243, 7.046386671446243, 6.046890920484085, 6.046890920484085, 6.046890920484085, 6.046890920484085, 6.046890920484085, 6.046890920484085, 5.047395169521927, 5.047395169521927, 5.047395169521927, 5.047395169521927, 5.047395169521927, 5.047395169521927, 5.047395169521927, 29.02831891373969, 43.992858062675936, 86.95505016616781, 68.95750064640265, 54.992072532746214, 60.97858562020812, 32.008976460850405, 152.84519340515607, 33.02025085587455, 207.7413974661248, 50.93702122785584, 21.034355613089094, 39.98156353610401, 78.91398827986346, 79.8956689713261, 49.00347257965436, 103.88216189772066, 20.034229758676638, 646.4565648093146, 357.2441555895461, 121.77888098475769, 44.01728631581498, 52.99541036159748, 642.4908191398907, 151.66306605166216, 106.8826737254803, 503.5607328504616, 389.43364845295844, 164.8692800779648, 752.7888695669054, 77.84383933180752, 125.73270284773551, 182.79512458096045, 364.666622005486, 170.86431443866266, 210.5669076725296, 108.94742476919811, 113.80638501832495], \"Category\": [\"Default\", \"Default\", \"Default\", \"Default\", \"Default\", \"Default\", \"Default\", \"Default\", \"Default\", \"Default\", \"Default\", \"Default\", \"Default\", \"Default\", \"Default\", \"Default\", \"Default\", \"Default\", \"Default\", \"Default\", \"Default\", \"Default\", \"Default\", \"Default\", \"Default\", \"Default\", \"Default\", \"Default\", \"Default\", \"Default\", \"Topic1\", \"Topic1\", \"Topic1\", \"Topic1\", \"Topic1\", \"Topic1\", \"Topic1\", \"Topic1\", \"Topic1\", \"Topic1\", \"Topic1\", \"Topic1\", \"Topic1\", \"Topic1\", \"Topic1\", \"Topic1\", \"Topic1\", \"Topic1\", \"Topic1\", \"Topic1\", \"Topic1\", \"Topic1\", \"Topic1\", \"Topic1\", \"Topic1\", \"Topic1\", \"Topic1\", \"Topic1\", \"Topic1\", \"Topic1\", \"Topic1\", \"Topic1\", \"Topic1\", \"Topic1\", \"Topic1\", \"Topic1\", \"Topic1\", \"Topic1\", \"Topic1\", \"Topic1\", \"Topic1\", \"Topic1\", \"Topic1\", \"Topic1\", \"Topic1\", \"Topic1\", \"Topic1\", \"Topic1\", \"Topic1\", \"Topic1\", \"Topic1\", \"Topic1\", \"Topic1\", \"Topic1\", \"Topic1\", \"Topic1\", \"Topic1\", \"Topic1\", \"Topic1\", \"Topic1\", \"Topic1\", \"Topic1\", \"Topic1\", \"Topic2\", \"Topic2\", \"Topic2\", \"Topic2\", \"Topic2\", \"Topic2\", \"Topic2\", \"Topic2\", \"Topic2\", \"Topic2\", \"Topic2\", \"Topic2\", \"Topic2\", \"Topic2\", \"Topic2\", \"Topic2\", \"Topic2\", \"Topic2\", \"Topic2\", \"Topic2\", \"Topic2\", \"Topic2\", \"Topic2\", \"Topic2\", \"Topic2\", \"Topic2\", \"Topic2\", \"Topic2\", \"Topic2\", \"Topic2\", \"Topic2\", \"Topic2\", \"Topic2\", \"Topic2\", \"Topic2\", \"Topic2\", \"Topic2\", \"Topic2\", \"Topic2\", \"Topic2\", \"Topic2\", \"Topic2\", \"Topic2\", \"Topic2\", \"Topic2\", \"Topic2\", \"Topic2\", \"Topic2\", \"Topic2\", \"Topic2\", \"Topic2\", \"Topic2\", \"Topic2\", \"Topic2\", \"Topic2\", \"Topic2\", \"Topic2\", \"Topic2\", \"Topic2\", \"Topic2\", \"Topic2\", \"Topic3\", \"Topic3\", \"Topic3\", \"Topic3\", \"Topic3\", \"Topic3\", \"Topic3\", \"Topic3\", \"Topic3\", \"Topic3\", \"Topic3\", \"Topic3\", \"Topic3\", \"Topic3\", \"Topic3\", \"Topic3\", \"Topic3\", \"Topic3\", \"Topic3\", \"Topic3\", \"Topic3\", \"Topic3\", \"Topic3\", \"Topic3\", \"Topic3\", \"Topic3\", \"Topic3\", \"Topic3\", \"Topic3\", \"Topic3\", \"Topic3\", \"Topic3\", \"Topic3\", \"Topic3\", \"Topic3\", \"Topic3\", \"Topic3\", \"Topic3\", \"Topic3\", \"Topic3\", \"Topic3\", \"Topic3\", \"Topic3\", \"Topic3\", \"Topic3\", \"Topic3\", \"Topic3\", \"Topic3\", \"Topic3\", \"Topic3\", \"Topic3\", \"Topic3\", \"Topic3\", \"Topic3\", \"Topic3\", \"Topic3\", \"Topic3\", \"Topic3\", \"Topic3\", \"Topic3\", \"Topic3\", \"Topic3\", \"Topic3\", \"Topic3\", \"Topic3\", \"Topic3\", \"Topic4\", \"Topic4\", \"Topic4\", \"Topic4\", \"Topic4\", \"Topic4\", \"Topic4\", \"Topic4\", \"Topic4\", \"Topic4\", \"Topic4\", \"Topic4\", \"Topic4\", \"Topic4\", \"Topic4\", \"Topic4\", \"Topic4\", \"Topic4\", \"Topic4\", \"Topic4\", \"Topic4\", \"Topic4\", \"Topic4\", \"Topic4\", \"Topic4\", \"Topic4\", \"Topic4\", \"Topic4\", \"Topic4\", \"Topic4\", \"Topic4\", \"Topic4\", \"Topic4\", \"Topic4\", \"Topic4\", \"Topic4\", \"Topic4\", \"Topic4\", \"Topic4\", \"Topic4\", \"Topic4\", \"Topic4\", \"Topic4\", \"Topic4\", \"Topic4\", \"Topic4\", \"Topic4\", \"Topic4\", \"Topic4\", \"Topic4\", \"Topic4\", \"Topic4\", \"Topic4\", \"Topic4\", \"Topic4\", \"Topic4\", \"Topic4\", \"Topic4\", \"Topic4\", \"Topic4\", \"Topic4\", \"Topic4\", \"Topic4\", \"Topic4\", \"Topic4\", \"Topic4\", \"Topic5\", \"Topic5\", \"Topic5\", \"Topic5\", \"Topic5\", \"Topic5\", \"Topic5\", \"Topic5\", \"Topic5\", \"Topic5\", \"Topic5\", \"Topic5\", \"Topic5\", \"Topic5\", \"Topic5\", \"Topic5\", \"Topic5\", \"Topic5\", \"Topic5\", \"Topic5\", \"Topic5\", \"Topic5\", \"Topic5\", \"Topic5\", \"Topic5\", \"Topic5\", \"Topic5\", \"Topic5\", \"Topic5\", \"Topic5\", \"Topic5\", \"Topic5\", \"Topic5\", \"Topic5\", \"Topic5\", \"Topic5\", \"Topic5\", \"Topic5\", \"Topic5\", \"Topic5\", \"Topic5\", \"Topic5\", \"Topic5\", \"Topic5\", \"Topic5\", \"Topic5\", \"Topic5\", \"Topic5\", \"Topic5\", \"Topic5\", \"Topic5\", \"Topic5\", \"Topic5\", \"Topic5\", \"Topic5\", \"Topic5\", \"Topic5\", \"Topic5\", \"Topic5\", \"Topic5\", \"Topic5\", \"Topic5\", \"Topic5\", \"Topic5\", \"Topic5\", \"Topic5\", \"Topic5\", \"Topic5\"], \"logprob\": [30.0, 29.0, 28.0, 27.0, 26.0, 25.0, 24.0, 23.0, 22.0, 21.0, 20.0, 19.0, 18.0, 17.0, 16.0, 15.0, 14.0, 13.0, 12.0, 11.0, 10.0, 9.0, 8.0, 7.0, 6.0, 5.0, 4.0, 3.0, 2.0, 1.0, -5.0486, -5.1867, -5.7097, -5.9172, -5.9172, -5.9172, -6.0841, -6.1793, -6.2846, -6.4022, -6.4022, -6.5356, -6.5356, -6.6895, -6.6895, -6.6895, -6.8715, -6.8715, -6.8715, -6.8715, -6.8715, -6.8715, -4.9563, -3.8877, -4.5124, -3.3238, -6.1793, -6.2846, -5.6491, -5.4379, -5.0169, -5.1867, -4.5315, -2.7593, -4.0285, -5.0169, -4.2487, -5.7742, -5.0486, -4.3239, -4.1787, -4.4397, -3.3067, -4.5509, -4.8451, -5.4379, -4.7938, -3.8289, -4.7691, -4.0285, -3.6707, -4.8191, -5.0814, -4.8191, -4.2931, -4.5707, -4.3884, -4.7938, -4.8991, -4.7691, -4.6985, -4.8991, -4.9563, -4.4586, -4.5355, -4.8366, -5.1893, -5.3118, -5.3118, -5.3562, -5.4515, -5.5568, -5.5568, -5.808, -5.808, -5.882, -5.882, -5.962, -6.0489, -6.0489, -6.0489, -6.0489, -6.0489, -6.0489, -6.0489, -6.1442, -6.1442, -6.1442, -6.2494, -6.2494, -6.3671, -6.5004, -6.5004, -4.5157, -5.1893, -4.6863, -4.1301, -5.2285, -3.7472, -5.0462, -4.9211, -3.535, -4.9509, -3.1198, -4.4402, -4.2281, -4.37, -4.6633, -4.1849, -4.0909, -5.5568, -5.0134, -5.0462, -5.2285, -3.9933, -4.5157, -4.1709, -4.4586, -4.1435, -4.6633, -4.7839, -4.4963, -4.7586, -5.0462, -5.4407, -5.9512, -6.0382, -6.0382, -6.1334, -6.3563, -6.3563, -6.4896, -6.4896, -6.4896, -6.4896, -6.4896, -6.6435, -6.6435, -6.6435, -6.6435, -6.6435, -6.8255, -6.8255, -6.8255, -6.8255, -6.8255, -6.8255, -6.8255, -3.7455, -5.9512, -5.6032, -6.3563, -6.8255, -6.8255, -3.937, -5.6638, -2.2673, -2.6939, -4.1883, -5.392, -4.6301, -2.7809, -5.492, -4.6526, -4.0548, -4.7232, -4.6081, -4.6081, -4.9402, -2.9439, -4.7991, -4.6301, -3.4741, -4.3097, -5.301, -5.3455, -4.4114, -4.2937, -4.0801, -4.8813, -5.0693, -4.5866, -4.7232, -4.7991, -4.2937, -4.9402, -4.9103, -4.9103, -4.8532, -4.9402, -4.9783, -5.016, -5.7088, -5.7088, -5.7088, -5.7888, -5.8757, -5.8757, -5.8757, -5.9709, -5.9709, -5.9709, -6.0762, -6.0762, -6.0762, -6.1938, -6.1938, -6.1938, -6.1938, -6.1938, -6.1938, -6.3272, -6.3272, -6.3272, -6.3272, -6.3272, -6.3272, -6.3272, -6.3272, -6.4811, -5.183, -4.6907, -5.016, -3.8555, -4.304, -3.8436, -4.873, -5.3836, -5.5658, -3.0066, -3.9436, -4.8084, -4.9783, -5.4407, -5.5658, -3.8677, -5.2783, -4.6366, -3.9977, -4.3425, -4.2313, -3.5382, -4.5607, -4.9069, -4.1472, -4.4676, -5.0552, -5.1386, -4.4901, -4.4031, -4.2313, -5.1386, -4.5366, -4.7478, -4.8084, -5.016, -5.1401, -5.3763, -5.5993, -5.5993, -5.8867, -5.8867, -5.8867, -6.0043, -6.0043, -6.0043, -6.1377, -6.1377, -6.1377, -6.1377, -6.1377, -6.1377, -6.1377, -6.2916, -6.2916, -6.2916, -6.2916, -6.2916, -6.2916, -6.4736, -6.4736, -6.4736, -6.4736, -6.4736, -6.4736, -6.4736, -4.7888, -4.5584, -4.0959, -4.3006, -4.5012, -4.4212, -5.04, -3.8654, -5.04, -3.7542, -4.8266, -5.4453, -5.04, -4.6507, -4.6507, -4.9491, -4.5294, -5.5193, -3.4698, -3.8802, -4.5012, -5.0888, -4.9935, -3.6905, -4.4472, -4.6507, -3.8952, -4.0775, -4.5012, -3.8364, -4.8658, -4.6835, -4.5584, -4.4739, -4.7174, -4.7174, -4.8658, -4.9491], \"loglift\": [30.0, 29.0, 28.0, 27.0, 26.0, 25.0, 24.0, 23.0, 22.0, 21.0, 20.0, 19.0, 18.0, 17.0, 16.0, 15.0, 14.0, 13.0, 12.0, 11.0, 10.0, 9.0, 8.0, 7.0, 6.0, 5.0, 4.0, 3.0, 2.0, 1.0, 1.4812, 1.481, 1.48, 1.4794, 1.4794, 1.4794, 1.4789, 1.4785, 1.4781, 1.4775, 1.4775, 1.4768, 1.4768, 1.4759, 1.4759, 1.4759, 1.4745, 1.4745, 1.4745, 1.4745, 1.4745, 1.4745, 1.4524, 1.4426, 1.409, 1.389, 1.3836, 1.3735, 1.3692, 1.3476, 1.3095, 1.3118, 1.1299, 0.739, 0.9392, 1.0976, 0.9123, 1.2439, 1.0443, 0.846, 0.79, 0.807, 0.1855, 0.5703, 0.7013, 0.9995, 0.5758, -0.0869, 0.5229, -0.0295, -0.3308, 0.4921, 0.7239, 0.4727, -0.2078, 0.0432, -0.2982, 0.1405, 0.3925, -0.1417, -0.6338, -0.0763, 0.1178, 1.5165, 1.5164, 1.5162, 1.5157, 1.5155, 1.5155, 1.5154, 1.5153, 1.515, 1.515, 1.5144, 1.5144, 1.5142, 1.5142, 1.5139, 1.5136, 1.5136, 1.5136, 1.5136, 1.5136, 1.5136, 1.5136, 1.5133, 1.5133, 1.5133, 1.5128, 1.5128, 1.5123, 1.5116, 1.5116, 1.4781, 1.478, 1.449, 1.3683, 1.4388, 1.3195, 1.4207, 1.379, 1.1774, 1.3244, 0.9703, 1.1549, 1.0638, 1.0619, 1.1266, 0.9043, 0.8632, 1.3612, 1.0792, 1.0261, 1.1249, 0.0714, 0.4519, -0.1719, 0.1553, -0.8036, 0.1595, 0.377, -1.0041, -0.6733, 0.5362, 1.5287, 1.5274, 1.5271, 1.5271, 1.5267, 1.5257, 1.5257, 1.525, 1.525, 1.525, 1.525, 1.525, 1.5241, 1.5241, 1.5241, 1.5241, 1.5241, 1.5227, 1.5227, 1.5227, 1.5227, 1.5227, 1.5227, 1.5227, 1.5031, 1.4474, 1.4172, 1.4083, 1.3416, 1.3416, 1.2934, 1.3052, 1.0726, 1.048, 1.1145, 1.2773, 1.1311, 0.7112, 1.254, 1.0793, 0.8872, 1.053, 1.014, 1.0139, 1.0936, 0.5545, 1.0397, 0.9789, 0.6112, 0.8199, 1.1377, 1.1538, 0.75, 0.6751, 0.5338, 0.8946, 0.9842, 0.6428, 0.4467, 0.4301, -0.2947, 0.4505, 0.2109, 0.2106, -0.2258, -0.85, 1.6885, 1.6885, 1.687, 1.687, 1.687, 1.6867, 1.6864, 1.6864, 1.6864, 1.686, 1.686, 1.686, 1.6856, 1.6856, 1.6856, 1.685, 1.685, 1.685, 1.685, 1.685, 1.685, 1.6843, 1.6843, 1.6843, 1.6843, 1.6843, 1.6843, 1.6843, 1.6843, 1.6834, 1.6014, 1.5591, 1.5794, 1.3994, 1.3833, 1.3004, 1.4527, 1.5342, 1.5626, 1.0581, 1.1305, 1.3049, 1.3475, 1.477, 1.5061, 0.8877, 1.3888, 1.1226, 0.8608, 0.9303, 0.8579, 0.4608, 0.9609, 1.1449, 0.6756, 0.824, 1.1713, 1.2141, 0.6308, 0.551, -0.1411, 1.0641, -0.4513, -0.1204, -1.3163, -0.3036, 1.8771, 1.8765, 1.8758, 1.8758, 1.8747, 1.8747, 1.8747, 1.8742, 1.8742, 1.8742, 1.8735, 1.8735, 1.8735, 1.8735, 1.8735, 1.8735, 1.8735, 1.8725, 1.8725, 1.8725, 1.8725, 1.8725, 1.8725, 1.8712, 1.8712, 1.8712, 1.8712, 1.8712, 1.8712, 1.8712, 1.8066, 1.6213, 1.4024, 1.4296, 1.4553, 1.4319, 1.4576, 1.0689, 1.4265, 0.8732, 1.2065, 1.4723, 1.2352, 0.9446, 0.9322, 1.1227, 0.791, 1.4469, 0.0224, 0.2051, 0.6602, 1.0903, 0.9999, -0.1921, 0.4948, 0.6412, -0.1532, -0.0785, 0.3573, -0.4965, 0.7432, 0.446, 0.1969, -0.4091, 0.1054, -0.1035, 0.4071, 0.2801]}, \"token.table\": {\"Topic\": [2, 3, 5, 5, 1, 3, 1, 2, 3, 4, 5, 3, 5, 1, 2, 3, 5, 5, 1, 2, 4, 1, 2, 3, 4, 5, 3, 4, 1, 3, 1, 1, 2, 3, 4, 5, 1, 2, 3, 4, 1, 2, 4, 5, 1, 2, 3, 5, 4, 1, 4, 5, 5, 1, 2, 3, 5, 3, 1, 2, 3, 1, 3, 4, 1, 4, 3, 4, 4, 1, 2, 3, 4, 5, 2, 1, 4, 5, 1, 3, 5, 3, 1, 2, 3, 4, 5, 2, 1, 1, 3, 5, 1, 2, 3, 4, 5, 1, 3, 4, 5, 3, 1, 2, 4, 4, 1, 5, 2, 5, 5, 2, 4, 2, 3, 1, 2, 1, 3, 5, 3, 1, 4, 2, 1, 2, 4, 5, 4, 3, 2, 4, 2, 5, 3, 3, 1, 4, 2, 5, 4, 1, 2, 4, 5, 5, 1, 2, 4, 2, 4, 1, 2, 4, 5, 1, 5, 5, 5, 1, 2, 3, 4, 5, 5, 3, 2, 5, 5, 4, 1, 1, 2, 2, 1, 3, 5, 2, 4, 5, 4, 1, 2, 3, 4, 5, 1, 2, 2, 3, 4, 5, 1, 4, 2, 2, 3, 1, 2, 3, 5, 1, 2, 3, 5, 2, 1, 2, 4, 1, 2, 1, 3, 2, 4, 1, 1, 3, 1, 2, 4, 1, 3, 1, 2, 4, 4, 1, 2, 3, 4, 4, 2, 3, 3, 4, 1, 2, 3, 4, 5, 2, 4, 5, 1, 3, 5, 3, 2, 4, 3, 1, 1, 3, 5, 1, 2, 3, 5, 3, 4, 4, 2, 4, 1, 3, 1, 2, 3, 4, 5, 2, 2, 1, 1, 2, 3, 4, 5, 4, 1, 5, 2, 3, 1, 4, 5, 2, 2, 4, 5, 3, 4, 5, 3, 4, 2, 3, 5, 4, 3, 1, 2, 3, 5, 1, 3, 3, 1, 2, 3, 4, 5, 1, 2, 5, 4, 1, 3, 4, 2, 1, 2, 3, 4, 5, 5, 1, 2, 4, 1, 3, 5, 3, 5, 2, 4, 1, 2, 3, 4, 5, 1, 1, 4, 1, 2, 4, 5, 4, 1, 2, 3, 5, 1, 3, 5, 3, 3, 5, 1, 2, 3, 5, 1, 2, 1, 3, 3, 5, 3, 1, 2, 3, 4, 5, 3, 1, 4, 1, 2, 3, 4, 5, 3, 4, 1, 3, 4, 5, 1, 4, 5, 4, 1, 2, 1, 2, 3, 4, 5, 3, 2, 1, 2, 2, 3, 5, 1, 2, 3, 4, 5, 1, 2, 4, 5, 1, 2, 3, 5, 2, 1, 1, 2, 4, 5, 4, 1, 2, 3, 4, 5, 5, 1, 4, 4, 1, 3, 5, 1, 4, 5, 2, 1, 2, 4, 5, 2, 4, 1, 5, 5, 1, 3, 5, 2, 1, 2, 3, 4, 5, 1, 2, 2, 1, 2, 3, 4, 2, 2, 1, 3, 5, 1, 2, 3, 4, 4, 1, 2, 4, 1, 5, 5, 1, 2, 4, 5, 1, 3, 5, 1, 3, 5, 1, 2, 3, 5, 5, 1, 2, 4, 1, 2, 3, 5, 4, 2, 1, 2, 3, 4, 5, 1, 3, 4, 5, 1, 1, 3, 4, 5, 1, 2, 3, 4, 5, 2, 4, 4, 5, 1, 2, 3, 4, 3, 5, 1, 2, 5, 2, 2, 1, 2, 3, 5, 2, 4, 1, 2, 3, 4, 5, 1, 2, 3, 4, 5, 2], \"Freq\": [0.15951854253542821, 0.203023599590545, 0.6380741701417129, 0.9949832751598876, 0.9918165356560803, 0.9994538310555532, 0.0930002922067577, 0.12035331932639233, 0.15317695186995386, 0.44858964476200774, 0.1860005844135154, 0.2273096234337209, 0.7728527196746511, 0.3835981882835871, 0.20583317420094918, 0.12162869384601542, 0.29003765455588293, 0.9942974033176754, 0.3879303189096296, 0.6125215561730993, 0.994615701828898, 0.2208335112839854, 0.18488386991217381, 0.1617733861731521, 0.29273279402760854, 0.14123073396068833, 0.8871973779996328, 0.1108996722499541, 0.9934560005118125, 0.9940437944874858, 0.9967512442916364, 0.11321735144724593, 0.11321735144724593, 0.056608675723622964, 0.3019129371926558, 0.4151302886399017, 0.13512617519255432, 0.1621514102310652, 0.0810757051155326, 0.6215804058857499, 0.46899649059374643, 0.15633216353124882, 0.31266432706249764, 0.06253286541249953, 0.20851506710151088, 0.04368887120222133, 0.617601770176856, 0.131066613606664, 0.99373469125754, 0.9955129693007968, 0.8957200971380261, 0.10335231890054147, 0.9906099744660143, 0.19088112683829295, 0.07953380284928874, 0.49310957766559016, 0.23860140854786618, 0.9956906370062689, 0.08113330281976903, 0.6761108568314086, 0.2433999084593071, 0.16675709745331682, 0.23822442493330973, 0.5955610623332743, 0.12191697835048755, 0.8778022441235104, 0.99900074651004, 0.9966774807697036, 0.9953020130210949, 0.45855188972224925, 0.06033577496345385, 0.30167887481726924, 0.02413430998538154, 0.15687301490498, 1.0003802548518061, 0.06815504205496943, 0.477085294384786, 0.4543669470331295, 0.2178862269846228, 0.6391329324882268, 0.1452574846564152, 0.9977568795372097, 0.09416611023028568, 0.30603985824842844, 0.02354152755757142, 0.48260131493021413, 0.09416611023028568, 0.9967770534510797, 0.9998835544093693, 0.9962005197561943, 0.9765857533747547, 0.0268785069736171, 0.18474759899453855, 0.11196824181487185, 0.3974872584427951, 0.11756665390561544, 0.18754680503991034, 0.3023649243219975, 0.06977652099738405, 0.534953327646611, 0.09303536132984538, 0.9956906370062689, 0.27980666598068993, 0.634945895879258, 0.08609435876328922, 0.994615701828898, 0.9918165356560803, 0.9942974033176754, 0.9967770534510797, 0.9934169562913411, 0.9971844378305112, 0.8717628338389424, 0.12820041674102095, 0.9977441306221735, 0.9968702978747309, 0.9065123793878896, 0.09065123793878896, 0.22126829840331969, 0.5987259839148651, 0.18222095162626328, 0.9940437944874858, 0.25905519845866837, 0.7401577098819097, 0.9977441306221735, 0.0995738912944533, 0.7127394324234553, 0.1362590091397782, 0.052407311207607006, 0.9958517442964991, 0.9994538310555532, 0.9624220956039052, 0.03701623444630405, 0.995089171773346, 0.996357861475154, 0.9956906370062689, 1.001497807812343, 0.9946303691547813, 0.99373469125754, 0.9991349584075622, 0.9906099744660143, 0.9969954364602502, 0.2040671706223505, 0.18366045356011546, 0.14284701943564534, 0.46935449243140615, 0.996357861475154, 0.26170045228911676, 0.6773423471012433, 0.06157657700920394, 0.9985335079699448, 0.994615701828898, 0.10096613135467107, 0.20193226270934214, 0.46811569991711127, 0.22946848035152514, 0.9918165356560803, 0.9934169562913411, 0.9949832751598876, 0.9922454495871192, 0.19736075957939792, 0.10108721832115503, 0.1732923742648372, 0.1636650201390129, 0.36583945678132296, 0.9934169562913411, 0.9956906370062689, 0.3494020026883422, 0.6488894335640641, 0.9906099744660143, 0.9953020130210949, 1.000122104930255, 0.9946303691547813, 0.9990364896693029, 0.9967770534510797, 0.1607846450454641, 0.6620544207754405, 0.17970048563904814, 0.4329605767290681, 0.5673276522656755, 0.9934169562913411, 0.9969954364602502, 0.18455606751075457, 0.13182576250768183, 0.41305405585740307, 0.11424899417332426, 0.1581909150092182, 0.06523352025784682, 0.935013790362471, 0.057500973094089296, 0.1380023354258143, 0.18400311390108573, 0.6210105094161644, 0.9122630826029169, 0.08912915174856086, 0.9985335079699448, 0.9957761367603349, 0.9940437944874858, 0.3719840455510814, 0.18122299655052682, 0.24798936370072092, 0.20029910145058227, 0.08869057452584865, 0.696854514131668, 0.11403073867609113, 0.10136065660096989, 0.9991349584075622, 0.022917380593200355, 0.5423780073724084, 0.43543023127080677, 0.36484860800538954, 0.636146290881192, 0.8749429823950655, 0.1249918546278665, 0.9253894744427478, 0.07403115795541981, 0.9918165356560803, 0.20020896799703933, 0.8008358719881573, 0.10418641320879247, 0.6459557618945133, 0.2500473917011019, 0.9986144434597435, 0.999831715573343, 0.6461248386407338, 0.16674189384277, 0.18758463057311625, 0.99373469125754, 0.06072304330286576, 0.25807293403717946, 0.5313266289000753, 0.15180760825716438, 0.99373469125754, 0.8254348271104813, 0.17509223605373847, 0.16643042184168697, 0.8321521092084349, 0.26170270133369233, 0.05234054026673847, 0.12430878313350387, 0.11776621560016155, 0.44489459226727696, 0.8561661222015969, 0.14269435370026615, 0.9934169562913411, 0.9624503078347164, 0.038886881124635, 0.9978815666034624, 0.9968702978747309, 0.9957761367603349, 0.99373469125754, 0.9968702978747309, 0.9918165356560803, 0.2909510273589426, 0.05455331762980174, 0.6546398115576209, 0.23751085916955533, 0.25816397735821234, 0.34077645011284025, 0.16522494550925587, 0.9977568795372097, 0.994615701828898, 0.9925624354850681, 0.26395727026589216, 0.7363018591627518, 0.1053818610394401, 0.8957458188352408, 0.10010236716258498, 0.5205323092454419, 0.06006142029755099, 0.320327574920272, 0.9922454495871192, 0.9974711753216436, 1.0003062538316931, 0.9918165356560803, 0.2738002978625636, 0.08043850558674186, 0.4408648863888736, 0.04950061882261037, 0.15623632815886399, 0.9989074389525653, 0.9934560005118125, 0.9906099744660143, 0.16587447824736445, 0.8293723912368223, 0.08508645990533308, 0.6806916792426646, 0.23398776473966595, 0.9967770534510797, 0.8626264423189465, 0.08051180128310167, 0.057508429487929766, 0.7788709031442977, 0.11126727187775683, 0.11126727187775683, 0.9968702978747309, 0.9958517442964991, 0.9971529161676728, 0.4908021591637223, 0.5104342455302712, 0.9958517442964991, 0.9940437944874858, 0.07591640052068434, 0.10628296072895808, 0.6225144842696116, 0.19738264135377928, 0.8441935325621241, 0.15633213565965262, 0.9956906370062689, 0.5097154704691844, 0.11625089677367363, 0.21461704019755132, 0.06259663672428581, 0.09836614342387769, 0.7885973149765579, 0.05257315433177053, 0.1577194629953116, 0.9953020130210949, 0.8972781646786574, 0.09969757385318416, 0.9969954364602502, 0.9963263920470885, 0.16339242644589627, 0.09830113460972621, 0.6323154064085091, 0.013283937109422462, 0.09298755976595723, 0.9934169562913411, 0.0475506045251145, 0.14265181357534348, 0.8083602769269465, 0.2623871944103874, 0.09839519790389527, 0.6395687863753192, 0.7608809619943867, 0.24027819852454319, 0.11740592192858282, 0.8805444144643712, 0.21177841891335064, 0.13476808476304133, 0.202152127144562, 0.11551550122546399, 0.3369202119076033, 0.9934560005118125, 0.9978970046498066, 0.9989783947058734, 0.14524862122895976, 0.1291098855368531, 0.6778268990684788, 0.04841620707631992, 0.9963019763175041, 0.22845818357039913, 0.23724503678464523, 0.33390042214135257, 0.20209762392766076, 0.11787412639831812, 0.6483076951907497, 0.23574825279663625, 0.9968702978747309, 0.6884237058910704, 0.3129198663141229, 0.47471495453943874, 0.02179019463459719, 0.3766590786837514, 0.12607184038588373, 0.9717141490524757, 0.02857982791330811, 0.7039200427435335, 0.29781232577611033, 0.677415628057214, 0.32398138733171106, 0.9940437944874858, 0.40446371868698433, 0.28312460308088905, 0.08089274373739687, 0.1314507085732699, 0.10111592967174608, 0.9940437944874858, 0.14265437247325374, 0.8559262348395226, 0.13950446068014347, 0.1637661060158206, 0.042457879337434966, 0.4367096160421883, 0.21835480802109414, 0.9229921748618792, 0.07691601457182327, 0.08761426107480547, 0.36297336730990837, 0.16271219913892446, 0.3880060133312814, 0.1426238129269424, 0.19016508390258988, 0.6655777936590646, 0.99373469125754, 0.617709196188808, 0.3823914071645002, 0.09890344690044994, 0.09230988377375328, 0.527485050135733, 0.03296781563348331, 0.2505553988144732, 0.9940437944874858, 0.9963263920470885, 0.03775014930156809, 0.9626288071899862, 0.16587447824736445, 0.8293723912368223, 0.9949832751598876, 0.17347458014360165, 0.06308166550676424, 0.26809707840374797, 0.3469491602872033, 0.14981895557856506, 0.2106934974589055, 0.2575142746719956, 0.3628610234014483, 0.16972531739745164, 0.6814874965041116, 0.1703718741260279, 0.1490753898602744, 0.9906099744660143, 0.9993850047108985, 0.9978970046498066, 0.25583485752715535, 0.17306475656248746, 0.5718661521195237, 0.9922454495871192, 0.9963019763175041, 0.1647363196737228, 0.06336012295143184, 0.26611251639601374, 0.11404822131257732, 0.3928327622988774, 0.9942974033176754, 0.9978970046498066, 0.99373469125754, 0.994615701828898, 0.20009222482697225, 0.27512680913708687, 0.5252420901708021, 0.8423374318365298, 0.15793826846934933, 0.9922454495871192, 0.9963263920470885, 0.5817626465561109, 0.34499877877164714, 0.04735277355689275, 0.027058727746795855, 0.2893726917775969, 0.7102784252722832, 0.9972022902055059, 0.9922454495871192, 0.9906099744660143, 0.18744741829962888, 0.15620618191635738, 0.656065964048701, 0.9942073225938896, 0.40225432712162057, 0.15774679494965513, 0.26816955141441373, 0.07887339747482756, 0.09464807696979308, 0.8938966550022197, 0.10516431235320232, 0.9942073225938896, 0.5663042791764639, 0.32008502736061, 0.06565846715089436, 0.04924385036317077, 0.9967770534510797, 0.9988100852116721, 0.2404383655728568, 0.5810593834677373, 0.1803287741796426, 0.16877710712408062, 0.5794680677926768, 0.09282740891824434, 0.16033825176787658, 0.9963019763175041, 0.10000714843022346, 0.32002287497671505, 0.5800414608952961, 0.9305414426902066, 0.0702295428445439, 0.9906099744660143, 0.04481500348853088, 0.8216083972897328, 0.0746916724808848, 0.05975333798470784, 0.09677554362564313, 0.7917999023916256, 0.1143710970121237, 0.10276985396236933, 0.5780804285383274, 0.32115579363240415, 0.04487502841730255, 0.05983337122307007, 0.6731254262595383, 0.22437514208651277, 0.9922454495871192, 0.33671147773631965, 0.2431805116984531, 0.4208893471703996, 0.5299692088220674, 0.057965382214913624, 0.33951152440163695, 0.07452691999060324, 0.99373469125754, 0.999955398063153, 0.12065815006051767, 0.23583183875464817, 0.010968922732774333, 0.5319927525395551, 0.10146253527816258, 0.5011374516072205, 0.4266440466385795, 0.013544255448843795, 0.060949149519797075, 0.9955129693007968, 0.13014435140204678, 0.5986640164494151, 0.026028870280409355, 0.24727426766388888, 0.03284641776681012, 0.01642320888340506, 0.4598498487353417, 0.1970785066008607, 0.2956177599012911, 0.2104449216418555, 0.7891684561569581, 0.994615701828898, 0.9934169562913411, 0.09917901223816944, 0.05409764303900152, 0.09917901223816944, 0.7483507287061877, 0.06889823712985872, 0.9301262012530928, 0.24227556704272402, 0.12113778352136201, 0.6359733634871506, 0.9967770534510797, 0.9967770534510797, 0.2374542161095856, 0.25645055339835243, 0.3704285771309535, 0.13772344534355965, 0.9088622215744926, 0.09088622215744925, 0.37182476001832054, 0.016166293913840023, 0.614319168725921, 0.9154943158001083, 0.08322675598182804, 0.18763367213626192, 0.37526734427252384, 0.07505346885450477, 0.12508911475750795, 0.2376693180392651, 0.9974711753216436], \"Term\": [\"10\", \"10\", \"10\", \"30\", \"30%\", \"5%\", \"APP\", \"APP\", \"APP\", \"APP\", \"APP\", \"Android\", \"Android\", \"App\", \"App\", \"App\", \"App\", \"Good\", \"OTP\", \"OTP\", \"UI\", \"app\", \"app\", \"app\", \"app\", \"app\", \"good\", \"good\", \"pixel\", \"plus\", \"ssl\", \"\\u4e00\\u4e0b\", \"\\u4e00\\u4e0b\", \"\\u4e00\\u4e0b\", \"\\u4e00\\u4e0b\", \"\\u4e00\\u4e0b\", \"\\u4e00\\u5806\", \"\\u4e00\\u5806\", \"\\u4e00\\u5806\", \"\\u4e00\\u5806\", \"\\u4e00\\u6b21\", \"\\u4e00\\u6b21\", \"\\u4e00\\u6b21\", \"\\u4e00\\u6b21\", \"\\u4e00\\u76f4\", \"\\u4e00\\u76f4\", \"\\u4e00\\u76f4\", \"\\u4e00\\u76f4\", \"\\u4e00\\u9593\", \"\\u4e00\\u9801\", \"\\u4e00\\u9846\", \"\\u4e00\\u9846\", \"\\u4e09\\u661f\", \"\\u4e0b\\u8f09\", \"\\u4e0b\\u8f09\", \"\\u4e0b\\u8f09\", \"\\u4e0b\\u8f09\", \"\\u4e0b\\u8f09\\u5b89\\u88dd\", \"\\u4e0d\\u5230\", \"\\u4e0d\\u5230\", \"\\u4e0d\\u5230\", \"\\u4e0d\\u597d\", \"\\u4e0d\\u597d\", \"\\u4e0d\\u597d\", \"\\u4e0d\\u60f3\", \"\\u4e0d\\u60f3\", \"\\u4e0d\\u77e5\", \"\\u4e2d\\u4fe1\", \"\\u4e2d\\u570b\", \"\\u4e4b\\u5f8c\", \"\\u4e4b\\u5f8c\", \"\\u4e4b\\u5f8c\", \"\\u4e4b\\u5f8c\", \"\\u4e4b\\u5f8c\", \"\\u4ea4\\u6613\", \"\\u4eba\\u54e1\", \"\\u4eba\\u54e1\", \"\\u4eba\\u54e1\", \"\\u4eca\\u5929\", \"\\u4eca\\u5929\", \"\\u4eca\\u5929\", \"\\u4eca\\u65e5\", \"\\u4ecb\\u9762\", \"\\u4ecb\\u9762\", \"\\u4ecb\\u9762\", \"\\u4ecb\\u9762\", \"\\u4ecb\\u9762\", \"\\u4ee3\\u78bc\", \"\\u4ee3\\u865f\", \"\\u4f01\\u696d\", \"\\u4f3a\\u670d\\u5668\", \"\\u4f3a\\u670d\\u5668\", \"\\u4f7f\\u7528\", \"\\u4f7f\\u7528\", \"\\u4f7f\\u7528\", \"\\u4f7f\\u7528\", \"\\u4f7f\\u7528\", \"\\u4f7f\\u7528\\u8005\", \"\\u4f7f\\u7528\\u8005\", \"\\u4f7f\\u7528\\u8005\", \"\\u4f7f\\u7528\\u8005\", \"\\u4f9d\\u7136\", \"\\u4fe1\\u7528\\u5361\", \"\\u4fe1\\u7528\\u5361\", \"\\u4fe1\\u7528\\u5361\", \"\\u4fe1\\u8a17\", \"\\u503c\\u5f97\", \"\\u505c\\u6b62\", \"\\u5099\\u8a3b\", \"\\u5118\\u901f\", \"\\u5141\\u8a31\", \"\\u5165\\u5e33\", \"\\u5165\\u5e33\", \"\\u5169\\u500b\", \"\\u5169\\u5929\", \"\\u5169\\u6b21\", \"\\u5169\\u6b21\", \"\\u51fa\\u73fe\", \"\\u51fa\\u73fe\", \"\\u51fa\\u73fe\", \"\\u51fa\\u932f\", \"\\u5206\\u884c\", \"\\u5206\\u884c\", \"\\u5237\\u5361\", \"\\u529f\\u80fd\", \"\\u529f\\u80fd\", \"\\u529f\\u80fd\", \"\\u529f\\u80fd\", \"\\u52d5\\u4f5c\", \"\\u52d5\\u756b\", \"\\u532f\\u6b3e\", \"\\u532f\\u6b3e\", \"\\u532f\\u7387\", \"\\u5347\\u7d1a\", \"\\u5354\\u52a9\", \"\\u5361\\u4f4f\", \"\\u5361\\u5728\", \"\\u5361\\u7247\", \"\\u5373\\u6642\", \"\\u539f\\u4f86\", \"\\u53c3\\u8003\", \"\\u53cd\\u61c9\", \"\\u53cd\\u61c9\", \"\\u53cd\\u61c9\", \"\\u53cd\\u61c9\", \"\\u53ea\\u6703\", \"\\u53ea\\u80fd\", \"\\u53ea\\u80fd\", \"\\u53ea\\u80fd\", \"\\u53f0\\u5e63\", \"\\u53f0\\u65b0\", \"\\u5408\\u5eab\", \"\\u5408\\u5eab\", \"\\u5408\\u5eab\", \"\\u5408\\u5eab\", \"\\u540c\\u6a23\", \"\\u54c1\\u8cea\", \"\\u5546\\u5e97\", \"\\u554f\\u4e86\", \"\\u554f\\u984c\", \"\\u554f\\u984c\", \"\\u554f\\u984c\", \"\\u554f\\u984c\", \"\\u554f\\u984c\", \"\\u555f\\u52d5\", \"\\u56de\\u61c9\", \"\\u56de\\u8986\", \"\\u56de\\u8986\", \"\\u570b\\u5916\", \"\\u570b\\u6cf0\", \"\\u5716\\u5f62\", \"\\u586b\\u5beb\", \"\\u589e\\u52a0\", \"\\u5916\\u5e63\", \"\\u5931\\u6557\", \"\\u5931\\u6557\", \"\\u5931\\u6557\", \"\\u597d\\u7528\", \"\\u597d\\u7528\", \"\\u5b58\\u53d6\", \"\\u5b78\\u5b78\", \"\\u5b8c\\u5168\", \"\\u5b8c\\u5168\", \"\\u5b8c\\u5168\", \"\\u5b8c\\u5168\", \"\\u5b8c\\u5168\", \"\\u5b9a\\u5b58\", \"\\u5b9a\\u5b58\", \"\\u5ba2\\u670d\", \"\\u5ba2\\u670d\", \"\\u5ba2\\u670d\", \"\\u5ba2\\u670d\", \"\\u5bc6\\u78bc\", \"\\u5bc6\\u78bc\", \"\\u5be6\\u7528\", \"\\u5c0d\\u65b9\", \"\\u5c1a\\u672a\", \"\\u5df2\\u7d93\", \"\\u5df2\\u7d93\", \"\\u5df2\\u7d93\", \"\\u5df2\\u7d93\", \"\\u5e0c\\u671b\", \"\\u5e0c\\u671b\", \"\\u5e0c\\u671b\", \"\\u5e0c\\u671b\", \"\\u5e33\\u55ae\", \"\\u5e33\\u6236\", \"\\u5e33\\u6236\", \"\\u5e33\\u6236\", \"\\u5e33\\u865f\", \"\\u5e33\\u865f\", \"\\u5e33\\u865f\\u5bc6\\u78bc\", \"\\u5e33\\u865f\\u5bc6\\u78bc\", \"\\u5e38\\u7528\", \"\\u5e38\\u7528\", \"\\u5e7e\\u500b\", \"\\u5e7e\\u5929\", \"\\u5e7e\\u5929\", \"\\u5efa\\u8b70\", \"\\u5efa\\u8b70\", \"\\u5efa\\u8b70\", \"\\u5fd8\\u8a18\", \"\\u5fd9\\u788c\", \"\\u5feb\\u901f\", \"\\u5feb\\u901f\", \"\\u5feb\\u901f\", \"\\u614b\\u5ea6\", \"\\u6191\\u8b49\", \"\\u6191\\u8b49\", \"\\u6191\\u8b49\", \"\\u6191\\u8b49\", \"\\u6211\\u9023\", \"\\u622a\\u5716\", \"\\u622a\\u5716\", \"\\u6240\\u6709\", \"\\u6240\\u6709\", \"\\u624b\\u6a5f\", \"\\u624b\\u6a5f\", \"\\u624b\\u6a5f\", \"\\u624b\\u6a5f\", \"\\u624b\\u6a5f\", \"\\u624b\\u7e8c\\u8cbb\", \"\\u624b\\u7e8c\\u8cbb\", \"\\u6295\\u8cc7\", \"\\u6307\\u7d0b\", \"\\u6307\\u7d0b\", \"\\u6383\\u63cf\", \"\\u6392\\u9664\", \"\\u63d0\\u6b3e\", \"\\u63d0\\u6b3e\\u5361\", \"\\u63db\\u65b0\", \"\\u64fe\\u6c11\", \"\\u652f\\u63f4\", \"\\u652f\\u63f4\", \"\\u652f\\u63f4\", \"\\u6539\\u5584\", \"\\u6539\\u5584\", \"\\u6539\\u5584\", \"\\u6539\\u5584\", \"\\u6545\\u969c\", \"\\u6548\\u7387\", \"\\u6574\\u9ad4\", \"\\u6578\\u4f4d\", \"\\u6578\\u4f4d\", \"\\u65b0\\u7248\", \"\\u65b0\\u7248\", \"\\u65b9\\u4fbf\", \"\\u65b9\\u4fbf\", \"\\u65b9\\u4fbf\", \"\\u65b9\\u4fbf\", \"\\u65b9\\u6cd5\", \"\\u65e5\\u671f\", \"\\u660e\\u7d30\", \"\\u66f4\\u63db\", \"\\u66f4\\u65b0\", \"\\u66f4\\u65b0\", \"\\u66f4\\u65b0\", \"\\u66f4\\u65b0\", \"\\u66f4\\u65b0\", \"\\u6700\\u721b\", \"\\u6703\\u54e1\", \"\\u6709\\u4eba\", \"\\u6709\\u6642\", \"\\u6709\\u6642\", \"\\u670d\\u52d9\", \"\\u670d\\u52d9\", \"\\u670d\\u52d9\", \"\\u672c\\u884c\", \"\\u67e5\\u8a62\", \"\\u67e5\\u8a62\", \"\\u67e5\\u8a62\", \"\\u6839\\u672c\\u7121\\u6cd5\", \"\\u6839\\u672c\\u7121\\u6cd5\", \"\\u6839\\u672c\\u7121\\u6cd5\", \"\\u6aa2\\u67e5\", \"\\u6ac3\\u54e1\", \"\\u6b04\\u4f4d\", \"\\u6b0a\\u9650\", \"\\u6b0a\\u9650\", \"\\u6b21\\u6578\", \"\\u6b63\\u5728\", \"\\u6b63\\u5e38\", \"\\u6b63\\u5e38\", \"\\u6b63\\u5e38\", \"\\u6b63\\u5e38\", \"\\u6b63\\u78ba\", \"\\u6b63\\u78ba\", \"\\u6b7b\\u7576\", \"\\u6bcf\\u6b21\", \"\\u6bcf\\u6b21\", \"\\u6bcf\\u6b21\", \"\\u6bcf\\u6b21\", \"\\u6bcf\\u6b21\", \"\\u6c38\\u9060\", \"\\u6c38\\u9060\", \"\\u6c38\\u9060\", \"\\u6c92\\u4ec0\\u9ebc\", \"\\u6c92\\u7528\", \"\\u6c92\\u7528\", \"\\u6c92\\u7528\\u904e\", \"\\u6d88\\u8cbb\", \"\\u7121\\u6cd5\", \"\\u7121\\u6cd5\", \"\\u7121\\u6cd5\", \"\\u7121\\u6cd5\", \"\\u7121\\u6cd5\", \"\\u7121\\u9650\", \"\\u721b\\u7684\", \"\\u721b\\u7684\", \"\\u721b\\u7684\", \"\\u7248\\u672c\", \"\\u7248\\u672c\", \"\\u7248\\u672c\", \"\\u72c0\\u6cc1\", \"\\u72c0\\u6cc1\", \"\\u7389\\u5c71\", \"\\u7389\\u5c71\", \"\\u73fe\\u5728\", \"\\u73fe\\u5728\", \"\\u73fe\\u5728\", \"\\u73fe\\u5728\", \"\\u73fe\\u5728\", \"\\u751f\\u6c23\", \"\\u751f\\u7269\", \"\\u7528\\u904e\", \"\\u7533\\u8acb\", \"\\u7533\\u8acb\", \"\\u7533\\u8acb\", \"\\u7533\\u8acb\", \"\\u7533\\u8fa6\", \"\\u756b\\u9762\", \"\\u756b\\u9762\", \"\\u756b\\u9762\", \"\\u756b\\u9762\", \"\\u7570\\u5e38\", \"\\u7570\\u5e38\", \"\\u7570\\u5e38\", \"\\u7576\\u6389\", \"\\u7576\\u6a5f\", \"\\u7576\\u6a5f\", \"\\u767b\\u5165\", \"\\u767b\\u5165\", \"\\u767b\\u5165\", \"\\u767b\\u5165\", \"\\u767b\\u51fa\", \"\\u767b\\u51fa\", \"\\u767b\\u9304\", \"\\u767b\\u9304\", \"\\u76e1\\u5feb\", \"\\u76e1\\u5feb\", \"\\u76e1\\u901f\", \"\\u76f4\\u63a5\", \"\\u76f4\\u63a5\", \"\\u76f4\\u63a5\", \"\\u76f4\\u63a5\", \"\\u76f4\\u63a5\", \"\\u76f8\\u540c\", \"\\u770b\\u770b\", \"\\u770b\\u770b\", \"\\u771f\\u7684\", \"\\u771f\\u7684\", \"\\u771f\\u7684\", \"\\u771f\\u7684\", \"\\u771f\\u7684\", \"\\u79fb\\u9664\", \"\\u79fb\\u9664\", \"\\u7a0b\\u5f0f\", \"\\u7a0b\\u5f0f\", \"\\u7a0b\\u5f0f\", \"\\u7a0b\\u5f0f\", \"\\u7a69\\u5b9a\", \"\\u7a69\\u5b9a\", \"\\u7a69\\u5b9a\", \"\\u7c21\\u55ae\", \"\\u7c21\\u8a0a\", \"\\u7c21\\u8a0a\", \"\\u7cfb\\u7d71\", \"\\u7cfb\\u7d71\", \"\\u7cfb\\u7d71\", \"\\u7cfb\\u7d71\", \"\\u7cfb\\u7d71\", \"\\u7cfb\\u7d71\\u7ba1\\u7406\\u54e1\", \"\\u7d00\\u9304\", \"\\u7d04\\u5b9a\", \"\\u7d04\\u5b9a\", \"\\u7d66\\u4e88\", \"\\u7d66\\u4e88\", \"\\u7dad\\u8b77\", \"\\u7db2\\u8def\", \"\\u7db2\\u8def\", \"\\u7db2\\u8def\", \"\\u7db2\\u8def\", \"\\u7db2\\u8def\", \"\\u7db2\\u9280\", \"\\u7db2\\u9280\", \"\\u7db2\\u9280\", \"\\u7db2\\u9280\", \"\\u7db2\\u9801\", \"\\u7db2\\u9801\", \"\\u7db2\\u9801\", \"\\u7e3d\\u89bd\", \"\\u7e73\\u6b3e\", \"\\u81c9\\u90e8\", \"\\u81e8\\u6ac3\", \"\\u81e8\\u6ac3\", \"\\u81e8\\u6ac3\", \"\\u82f1\\u6587\", \"\\u85aa\\u8f49\", \"\\u8655\\u7406\", \"\\u8655\\u7406\", \"\\u8655\\u7406\", \"\\u8655\\u7406\", \"\\u8655\\u7406\", \"\\u865f\\u78bc\", \"\\u88ab\\u9396\", \"\\u8907\\u96dc\", \"\\u89aa\\u5207\", \"\\u89e3\\u6c7a\", \"\\u89e3\\u6c7a\", \"\\u89e3\\u6c7a\", \"\\u89e3\\u9396\", \"\\u89e3\\u9396\", \"\\u8a0a\\u865f\", \"\\u8a18\\u9304\", \"\\u8a2d\\u5b9a\", \"\\u8a2d\\u5b9a\", \"\\u8a2d\\u5b9a\", \"\\u8a2d\\u5b9a\", \"\\u8a2d\\u8a08\", \"\\u8a2d\\u8a08\", \"\\u8a3b\\u518a\", \"\\u8abf\\u6574\", \"\\u8acb\\u6d3d\", \"\\u8b80\\u53d6\", \"\\u8b80\\u53d6\", \"\\u8b80\\u53d6\", \"\\u8cb7\\u8ce3\", \"\\u8cc7\\u6599\", \"\\u8cc7\\u6599\", \"\\u8cc7\\u6599\", \"\\u8cc7\\u6599\", \"\\u8cc7\\u6599\", \"\\u8d85\\u904e\", \"\\u8d85\\u904e\", \"\\u8d8a\\u6539\\u8d8a\", \"\\u8f38\\u5165\", \"\\u8f38\\u5165\", \"\\u8f38\\u5165\", \"\\u8f38\\u5165\", \"\\u8f49\\u5165\", \"\\u8f49\\u51fa\", \"\\u8f49\\u5708\\u5708\", \"\\u8f49\\u5708\\u5708\", \"\\u8f49\\u5708\\u5708\", \"\\u8f49\\u5e33\", \"\\u8f49\\u5e33\", \"\\u8f49\\u5e33\", \"\\u8f49\\u5e33\", \"\\u8f49\\u6236\", \"\\u8fa6\\u7406\", \"\\u8fa6\\u7406\", \"\\u8fa6\\u7406\", \"\\u8fa8\\u8b58\", \"\\u8fa8\\u8b58\", \"\\u9019\\u9ebc\\u4e45\", \"\\u901a\\u77e5\", \"\\u901a\\u77e5\", \"\\u901a\\u77e5\", \"\\u901a\\u77e5\", \"\\u9023\\u7dda\", \"\\u9023\\u7dda\", \"\\u9023\\u7dda\", \"\\u9032\\u4e0d\\u53bb\", \"\\u9032\\u4e0d\\u53bb\", \"\\u9032\\u4e0d\\u53bb\", \"\\u9032\\u5165\", \"\\u9032\\u5165\", \"\\u9032\\u5165\", \"\\u9032\\u5165\", \"\\u903e\\u6642\", \"\\u9084\\u8981\", \"\\u9084\\u8981\", \"\\u9084\\u8981\", \"\\u91cd\\u65b0\", \"\\u91cd\\u65b0\", \"\\u91cd\\u65b0\", \"\\u91cd\\u65b0\", \"\\u91cd\\u9ede\", \"\\u91d1\\u984d\", \"\\u9280\\u884c\", \"\\u9280\\u884c\", \"\\u9280\\u884c\", \"\\u9280\\u884c\", \"\\u9280\\u884c\", \"\\u932f\\u8aa4\", \"\\u932f\\u8aa4\", \"\\u932f\\u8aa4\", \"\\u932f\\u8aa4\", \"\\u9396\\u5b9a\", \"\\u9583\\u9000\", \"\\u9583\\u9000\", \"\\u9583\\u9000\", \"\\u9583\\u9000\", \"\\u958b\\u555f\", \"\\u958b\\u555f\", \"\\u958b\\u555f\", \"\\u958b\\u555f\", \"\\u958b\\u555f\", \"\\u958b\\u6236\", \"\\u958b\\u6236\", \"\\u9650\\u5236\", \"\\u96a8\\u4fbf\", \"\\u96e3\\u7528\", \"\\u96e3\\u7528\", \"\\u96e3\\u7528\", \"\\u96e3\\u7528\", \"\\u96fb\\u8a71\", \"\\u96fb\\u8a71\", \"\\u9801\\u9762\", \"\\u9801\\u9762\", \"\\u9801\\u9762\", \"\\u9810\\u7d04\", \"\\u984d\\u5ea6\", \"\\u986f\\u793a\", \"\\u986f\\u793a\", \"\\u986f\\u793a\", \"\\u986f\\u793a\", \"\\u9918\\u984d\", \"\\u9918\\u984d\", \"\\u9a57\\u8b49\", \"\\u9a57\\u8b49\", \"\\u9a57\\u8b49\", \"\\u9ad4\\u9a57\", \"\\u9ad4\\u9a57\", \"\\u9ebb\\u7169\", \"\\u9ebb\\u7169\", \"\\u9ebb\\u7169\", \"\\u9ebb\\u7169\", \"\\u9ebb\\u7169\", \"\\u9ec3\\u91d1\"]}, \"R\": 30, \"lambda.step\": 0.01, \"plot.opts\": {\"xlab\": \"PC1\", \"ylab\": \"PC2\"}, \"topic.order\": [1, 4, 2, 3, 5]};\n",
       "\n",
       "function LDAvis_load_lib(url, callback){\n",
       "  var s = document.createElement('script');\n",
       "  s.src = url;\n",
       "  s.async = true;\n",
       "  s.onreadystatechange = s.onload = callback;\n",
       "  s.onerror = function(){console.warn(\"failed to load library \" + url);};\n",
       "  document.getElementsByTagName(\"head\")[0].appendChild(s);\n",
       "}\n",
       "\n",
       "if(typeof(LDAvis) !== \"undefined\"){\n",
       "   // already loaded: just create the visualization\n",
       "   !function(LDAvis){\n",
       "       new LDAvis(\"#\" + \"ldavis_el1329628135369641601371224536\", ldavis_el1329628135369641601371224536_data);\n",
       "   }(LDAvis);\n",
       "}else if(typeof define === \"function\" && define.amd){\n",
       "   // require.js is available: use it to load d3/LDAvis\n",
       "   require.config({paths: {d3: \"https://d3js.org/d3.v5\"}});\n",
       "   require([\"d3\"], function(d3){\n",
       "      window.d3 = d3;\n",
       "      LDAvis_load_lib(\"https://cdn.jsdelivr.net/gh/bmabey/pyLDAvis@3.4.0/pyLDAvis/js/ldavis.v3.0.0.js\", function(){\n",
       "        new LDAvis(\"#\" + \"ldavis_el1329628135369641601371224536\", ldavis_el1329628135369641601371224536_data);\n",
       "      });\n",
       "    });\n",
       "}else{\n",
       "    // require.js not available: dynamically load d3 & LDAvis\n",
       "    LDAvis_load_lib(\"https://d3js.org/d3.v5.js\", function(){\n",
       "         LDAvis_load_lib(\"https://cdn.jsdelivr.net/gh/bmabey/pyLDAvis@3.4.0/pyLDAvis/js/ldavis.v3.0.0.js\", function(){\n",
       "                 new LDAvis(\"#\" + \"ldavis_el1329628135369641601371224536\", ldavis_el1329628135369641601371224536_data);\n",
       "            })\n",
       "         });\n",
       "}\n",
       "</script>"
      ],
      "text/plain": [
       "PreparedData(topic_coordinates=              x         y  topics  cluster       Freq\n",
       "topic                                                \n",
       "0     -0.059271  0.074771       1        1  22.706936\n",
       "3      0.160742  0.167816       2        1  21.931478\n",
       "1     -0.234599  0.014563       3        1  21.638019\n",
       "2      0.244447 -0.134225       4        1  18.451624\n",
       "4     -0.111319 -0.122925       5        1  15.271943, topic_info=    Term        Freq       Total Category  logprob  loglift\n",
       "11    無法  752.000000  752.000000  Default  30.0000  30.0000\n",
       "3     登入  642.000000  642.000000  Default  29.0000  29.0000\n",
       "52    一直  503.000000  503.000000  Default  28.0000  28.0000\n",
       "17    密碼  190.000000  190.000000  Default  27.0000  27.0000\n",
       "75    銀行  364.000000  364.000000  Default  26.0000  26.0000\n",
       "..   ...         ...         ...      ...      ...      ...\n",
       "75    銀行   36.991338  364.666622   Topic5  -4.4739  -0.4091\n",
       "138   網銀   28.995372  170.864314   Topic5  -4.7174   0.1054\n",
       "103   顯示   28.995372  210.566908   Topic5  -4.7174  -0.1035\n",
       "137   合庫   24.997389  108.947425   Topic5  -4.8658   0.4071\n",
       "44    畫面   22.998397  113.806385   Topic5  -4.9491   0.2801\n",
       "\n",
       "[354 rows x 6 columns], token_table=      Topic      Freq Term\n",
       "term                      \n",
       "266       2  0.159519   10\n",
       "266       3  0.203024   10\n",
       "266       5  0.638074   10\n",
       "471       5  0.994983   30\n",
       "752       1  0.991817  30%\n",
       "...     ...       ...  ...\n",
       "140       2  0.375267   麻煩\n",
       "140       3  0.075053   麻煩\n",
       "140       4  0.125089   麻煩\n",
       "140       5  0.237669   麻煩\n",
       "348       2  0.997471   黃金\n",
       "\n",
       "[560 rows x 3 columns], R=30, lambda_step=0.01, plot_opts={'xlab': 'PC1', 'ylab': 'PC2'}, topic_order=[1, 4, 2, 3, 5])"
      ]
     },
     "execution_count": 106,
     "metadata": {},
     "output_type": "execute_result"
    }
   ],
   "source": [
    "# 整理／顯示主題模型結果\n",
    "n_top_words = 10\n",
    "topic_word = model.topic_word_\n",
    "# 取得corpus全部的詞彙表\n",
    "vocab = tuple(dictionary.token2id.keys())\n",
    "\n",
    "for i, topic_dist in enumerate(topic_word):\n",
    "    # 依照詞語機率從小到大排序，找出每個主題的前十個關鍵詞\n",
    "    topic_words = np.array(vocab)[np.argsort(topic_dist)][: -(n_top_words + 1) : -1]\n",
    "    print(\"Topic {}: {}\".format(i, \" \".join(topic_words)))\n",
    "    \n",
    "\n",
    "doc_topic = model.doc_topic_ # 文件-主題 分佈\n",
    "term_freq = tuple(dictionary.cfs.values()) # 每個詞在整個語料中出現的總次數\n",
    "doc_len = [sum(v for k, v in doc) for doc in corpus] # 每篇文章的長度\n",
    "\n",
    "## LDAvis\n",
    "pyLDAvis.enable_notebook()\n",
    "p = pyLDAvis.prepare(topic_word, doc_topic, doc_len, vocab = vocab, term_frequency = term_freq)\n",
    "p"
   ]
  },
  {
   "cell_type": "code",
   "execution_count": 58,
   "metadata": {},
   "outputs": [
    {
     "name": "stdout",
     "output_type": "stream",
     "text": [
      "Topic 0: 台灣 表示 聯盟 日本 去年 今年 選手 今天 球迷 球員\n",
      "Topic 1: 今天 比賽 球員 勇士 戰績 球隊 籃板 數據 中華隊 助攻\n",
      "Topic 2: 億元 市場 成長 今年 營收 去年 預期 指數 投資 持續\n",
      "Topic 3: 中國 美國 表示 國家 報導 總統 俄羅斯 大陸 經濟 烏克蘭\n",
      "Topic 4: 中國 香港 報導 大陸 表示 人民幣 網友 指出 工作 春節\n",
      "Topic 5: 公司 市場 企業 表示 全球 大陸 產品 發展 技術 晶片\n"
     ]
    },
    {
     "data": {
      "text/html": [
       "\n",
       "<link rel=\"stylesheet\" type=\"text/css\" href=\"https://cdn.jsdelivr.net/gh/bmabey/pyLDAvis@3.4.0/pyLDAvis/js/ldavis.v1.0.0.css\">\n",
       "\n",
       "\n",
       "<div id=\"ldavis_el49961140055283688360047993\" style=\"background-color:white;\"></div>\n",
       "<script type=\"text/javascript\">\n",
       "\n",
       "var ldavis_el49961140055283688360047993_data = {\"mdsDat\": {\"x\": [-0.1557480641265424, -0.04826155262151751, -0.08132361416174856, -0.18909508323370136, 0.156166632563094, 0.3182616815804159], \"y\": [-0.21463755783119204, 0.1713329765249461, 0.21660664153518208, -0.09951881412502812, 0.017776558863989083, -0.09155980496789745], \"topics\": [1, 2, 3, 4, 5, 6], \"cluster\": [1, 1, 1, 1, 1, 1], \"Freq\": [25.81314232703919, 21.46832415544085, 17.476061511954565, 15.115054107171282, 13.29752691367597, 6.829890984718146]}, \"tinfo\": {\"Term\": [\"\\u4e2d\\u570b\", \"\\u4eca\\u5929\", \"\\u5e02\\u5834\", \"\\u9999\\u6e2f\", \"\\u516c\\u53f8\", \"\\u5104\\u5143\", \"\\u71df\\u6536\", \"\\u6307\\u6578\", \"\\u7403\\u54e1\", \"\\u6210\\u9577\", \"\\u6bd4\\u8cfd\", \"\\u7f8e\\u570b\", \"\\u7e3d\\u7d71\", \"\\u8868\\u73fe\", \"\\u4f01\\u696d\", \"\\u9810\\u671f\", \"\\u4fc4\\u7f85\\u65af\", \"\\u5831\\u5c0e\", \"\\u7403\\u968a\", \"\\u70cf\\u514b\\u862d\", \"\\u80a1\\u50f9\", \"\\u6295\\u8cc7\", \"\\u53f0\\u80a1\", \"\\u7522\\u54c1\", \"\\u4ee5\\u8272\\u5217\", \"\\u806f\\u76df\", \"\\u5927\\u9678\", \"\\u7372\\u5229\", \"\\u6bcf\\u80a1\", \"\\u6295\\u8cc7\\u4eba\", \"\\u80a1\\u50f9\", \"\\u53f0\\u80a1\", \"\\u6bcf\\u80a1\", \"\\u6cd5\\u4eba\", \"\\u964d\\u606f\", \"\\u7d14\\u76ca\", \"\\u914d\\u606f\", \"\\u80a1\\u606f\", \"\\u53d7\\u60e0\", \"\\u7a05\\u5f8c\", \"\\u80a1\\u5229\", \"\\u4f3a\\u670d\\u5668\", \"\\u76e4\\u4e2d\", \"\\u6bdb\\u5229\\u7387\", \"\\u6295\\u4fe1\", \"\\u914d\\u767c\", \"\\u671f\\u8ca8\", \"\\u500b\\u80a1\", \"\\u7f8e\\u80a1\", \"\\u8cb7\\u9032\", \"\\u50b5\\u5238\", \"\\u5927\\u76e4\", \"\\u5927\\u6f32\", \"\\u8cb7\\u8d85\", \"\\u6536\\u76e4\", \"\\u76c8\\u9918\", \"\\u5e74\\u6e1b\", \"\\u8d70\\u52e2\", \"\\u5c01\\u95dc\", \"\\u6de8\\u5229\", \"\\u4e0a\\u6f32\", \"\\u5229\\u7387\", \"\\u7372\\u5229\", \"\\u6307\\u6578\", \"\\u6f32\\u5e45\", \"\\u4e0b\\u8dcc\", \"\\u71df\\u6536\", \"\\u80a1\\u7968\", \"\\u5c55\\u671b\", \"\\u6295\\u8cc7\\u4eba\", \"\\u7b2c\\u5b63\", \"\\u52d5\\u80fd\", \"\\u8ca1\\u5831\", \"\\u9810\\u671f\", \"\\u5916\\u8cc7\", \"\\u5104\\u5143\", \"\\u6210\\u9577\", \"\\u65b0\\u9ad8\", \"\\u5e02\\u5834\", \"\\u6295\\u8cc7\", \"\\u8868\\u73fe\", \"\\u5e36\\u52d5\", \"\\u4eca\\u5e74\", \"\\u9700\\u6c42\", \"\\u7f8e\\u5143\", \"\\u6301\\u7e8c\", \"\\u53bb\\u5e74\", \"\\u9810\\u4f30\", \"\\u534a\\u5c0e\\u9ad4\", \"\\u589e\\u52a0\", \"\\u8868\\u793a\", \"\\u516c\\u5e03\", \"\\u7f8e\\u570b\", \"\\u4fc4\\u7f85\\u65af\", \"\\u70cf\\u514b\\u862d\", \"\\u4ee5\\u8272\\u5217\", \"\\u62dc\\u767b\", \"\\u5ddd\\u666e\", \"\\u5df4\\u52d2\\u65af\\u5766\", \"\\u7fd2\\u8fd1\\u5e73\", \"\\u7e3d\\u7406\", \"\\u4e2d\\u5171\", \"\\u4fc4\\u570b\", \"\\u54c8\\u746a\\u65af\", \"\\u52a0\\u85a9\", \"\\u5171\\u548c\\u9ee8\", \"\\u4e2d\\u65b9\", \"\\u570b\\u6703\", \"\\u8ecd\\u4e8b\", \"\\u63f4\\u52a9\", \"\\u897f\\u65b9\", \"\\u666e\\u4ead\", \"\\u4f0a\\u6717\", \"\\u738b\\u6bc5\", \"\\u7acb\\u6cd5\", \"\\u7f8e\\u8ecd\", \"\\u4ee5\\u5df4\", \"\\u806f\\u5408\\u570b\", \"\\u767d\\u5bae\", \"\\u7d0d\\u74e6\\u5c3c\", \"\\u5317\\u7d04\", \"\\u502b\\u65af\\u57fa\", \"\\u4eba\\u6b0a\", \"\\u7e3d\\u7d71\", \"\\u6230\\u722d\", \"\\u53cd\\u5c0d\", \"\\u5236\\u88c1\", \"\\u5169\\u5cb8\", \"\\u9078\\u8209\", \"\\u5b98\\u54e1\", \"\\u570b\\u5bb6\", \"\\u6b50\\u76df\", \"\\u5b89\\u5168\", \"\\u7f8e\\u570b\", \"\\u653f\\u6cbb\", \"\\u6703\\u8b70\", \"\\u4e2d\\u570b\", \"\\u885d\\u7a81\", \"\\u82f1\\u570b\", \"\\u653b\\u64ca\", \"\\u5fb7\\u570b\", \"\\u652f\\u6301\", \"\\u8868\\u793a\", \"\\u7d93\\u6fdf\", \"\\u653f\\u5e9c\", \"\\u5831\\u5c0e\", \"\\u7d44\\u7e54\", \"\\u554f\\u984c\", \"\\u5927\\u9678\", \"\\u53f0\\u7063\", \"\\u6307\\u51fa\", \"\\u4eca\\u5929\", \"\\u767c\\u5c55\", \"\\u5408\\u4f5c\", \"\\u570b\\u969b\", \"\\u8a8d\\u70ba\", \"\\u53bb\\u5e74\", \"\\u65c5\\u5ba2\", \"\\u904a\\u5ba2\", \"\\u6e2f\\u5e9c\", \"\\u842c\\u4eba\\u6b21\", \"\\u53d6\\u6750\\u81ea\", \"\\u4e58\\u5ba2\", \"\\u5fae\\u535a\", \"\\u822a\\u73ed\", \"\\u8cb4\\u5dde\", \"\\u8b49\\u76e3\\u6703\", \"\\u4e8b\\u6545\", \"\\u6bcd\\u89aa\", \"\\u5167\\u5730\", \"\\u9152\\u5e97\", \"\\u7db2\\u6c11\", \"\\u706b\\u707d\", \"\\u767d\\u540d\\u55ae\", \"\\u6e56\\u5317\", \"\\u6e56\\u5357\", \"\\u9910\\u5ef3\", \"\\u4e0b\\u540c\", \"\\u6d77\\u5357\", \"\\u8996\\u983b\", \"\\u5a03\\u54c8\\u54c8\", \"\\u6e2f\\u6fb3\", \"\\u4e2d\\u570b\\u8b49\\u76e3\\u6703\", \"\\u5fae\\u4fe1\", \"\\u88ab\\u544a\", \"\\u4e0a\\u73ed\", \"\\u4fe1\\u606f\", \"\\u9999\\u6e2f\", \"\\u65c5\\u904a\", \"\\u59bb\\u5b50\", \"\\u5e33\\u865f\", \"\\u7db2\\u4e0a\", \"\\u8b66\\u65b9\", \"\\u6df1\\u5733\", \"\\u5929\\u6c23\", \"\\u623f\\u5730\\u7522\", \"\\u4eba\\u6c11\\u5e63\", \"\\u5ee3\\u5dde\", \"\\u7db2\\u53cb\", \"\\u5b69\\u5b50\", \"\\u822a\\u7a7a\", \"\\u5f71\\u7247\", \"\\u4e0a\\u6d77\", \"\\u6a5f\\u5834\", \"\\u5c0f\\u6642\", \"\\u57ce\\u5e02\", \"\\u767c\\u73fe\", \"\\u4e00\\u540d\", \"\\u5831\\u5c0e\", \"\\u6625\\u7bc0\", \"\\u4e2d\\u570b\", \"\\u5b98\\u65b9\", \"\\u9805\\u76ee\", \"\\u5927\\u9678\", \"\\u878d\\u8cc7\", \"\\u5de5\\u4f5c\", \"\\u842c\\u5143\", \"\\u5317\\u4eac\", \"\\u767c\\u5e03\", \"\\u6d88\\u8cbb\", \"\\u7576\\u5730\", \"\\u65b0\\u805e\", \"\\u6709\\u4eba\", \"\\u6c11\\u773e\", \"\\u8868\\u793a\", \"\\u767c\\u751f\", \"\\u986f\\u793a\", \"\\u6307\\u51fa\", \"\\u671f\\u9593\", \"\\u51fa\\u73fe\", \"\\u8a8d\\u70ba\", \"\\u5f71\\u97ff\", \"\\u76ee\\u524d\", \"\\u516c\\u53f8\", \"\\u96fb\\u6c60\", \"\\u5c0f\\u7c73\", \"\\u6bd4\\u4e9e\\u8fea\", \"\\u82af\\u7247\", \"\\u842c\\u8f1b\", \"\\u88dc\\u8cbc\", \"\\u85e5\\u7269\", \"\\u8a66\\u9a57\", \"\\u6a5f\\u5668\\u4eba\", \"\\u75ab\\u82d7\", \"\\u5be7\\u5fb7\", \"\\u592a\\u967d\\u80fd\", \"\\u81e8\\u5e8a\", \"\\u8eca\\u578b\", \"\\u6027\\u80fd\", \"\\u8cc7\\u5b89\", \"\\u6c23\\u9ad4\", \"\\u901a\\u4fe1\", \"\\u91ab\\u5b78\\u9662\", \"\\u6392\\u653e\", \"\\u5be6\\u9a57\\u5ba4\", \"\\u56de\\u6536\", \"\\u8eca\\u5ee0\", \"\\u667a\\u80fd\\u624b\\u6a5f\", \"\\u6df1\\u8015\", \"\\u6de8\\u5229\\u6f64\", \"\\u65b0\\u85e5\", \"\\u822a\\u5929\", \"\\u518d\\u751f\\u80fd\\u6e90\", \"\\u8eca\\u4f01\", \"\\u83ef\\u70ba\", \"\\u7279\\u65af\\u62c9\", \"\\u65b0\\u80fd\\u6e90\", \"\\u7814\\u767c\", \"\\u5de5\\u5ee0\", \"\\u751f\\u7522\", \"\\u92b7\\u91cf\", \"\\u7269\\u6d41\", \"\\u96fb\\u52d5\\u8eca\", \"\\u6c7d\\u8eca\", \"\\u7da0\\u8272\", \"\\u6536\\u8cfc\", \"\\u96f6\\u4ef6\", \"\\u96fb\\u5546\", \"\\u6a21\\u578b\", \"\\u570b\\u7522\", \"\\u6280\\u8853\", \"\\u54c1\\u724c\", \"\\u667a\\u6167\", \"\\u670d\\u52d9\", \"\\u7cfb\\u7d71\", \"\\u5de5\\u7a0b\", \"\\u516c\\u53f8\", \"\\u88fd\\u9020\", \"\\u6676\\u7247\", \"\\u4f01\\u696d\", \"\\u958b\\u767c\", \"\\u8a2d\\u5099\", \"\\u8f49\\u578b\", \"\\u96c6\\u5718\", \"\\u7522\\u54c1\", \"\\u63a8\\u51fa\", \"\\u624b\\u6a5f\", \"\\u79d1\\u6280\", \"\\u696d\\u52d9\", \"\\u5168\\u7403\", \"\\u767c\\u5c55\", \"\\u9818\\u57df\", \"\\u7522\\u696d\", \"\\u8a08\\u756b\", \"\\u5e02\\u5834\", \"\\u5408\\u4f5c\", \"\\u5927\\u9678\", \"\\u8868\\u793a\", \"\\u63d0\\u4f9b\", \"\\u63d0\\u5347\", \"\\u5104\\u7f8e\\u5143\", \"\\u672a\\u4f86\", \"\\u6307\\u51fa\", \"\\u76ee\\u524d\", \"\\u4eca\\u5e74\", \"\\u53bb\\u5e74\", \"\\u4e3b\\u8981\", \"\\u6301\\u7e8c\", \"\\u6295\\u8cc7\", \"\\u5927\\u8c37\", \"\\u6295\\u624b\", \"\\u6625\\u8a13\", \"\\u6885\\u897f\", \"\\u9053\\u5947\", \"\\u68d2\\u7403\", \"\\u4e2d\\u8077\", \"\\u7fd4\\u5e73\", \"\\u8077\\u68d2\", \"\\u6a02\\u5929\", \"\\u7403\\u8863\", \"\\u8db3\\u7403\", \"\\u80b2\\u6210\", \"\\u6295\\u7403\", \"\\u71b1\\u8eab\\u8cfd\", \"\\u7df4\\u7fd2\", \"\\u53f0\\u92fc\", \"\\u5168\\u58d8\\u6253\", \"\\u96c4\\u9df9\", \"\\u4e09\\u632f\", \"\\u5473\\u5168\", \"\\u6253\\u9ede\", \"\\u7c43\\u5354\", \"\\u5929\\u4f7f\", \"\\u5de8\\u4eba\\u968a\", \"\\u8b80\\u8ce3\", \"\\u9f8d\\u968a\", \"\\u5b88\\u5099\", \"\\u6253\\u64ca\\u7387\", \"\\u5149\\u8292\", \"\\u9078\\u624b\", \"\\u7345\\u968a\", \"\\u5de8\\u86cb\", \"\\u5de8\\u4eba\", \"\\u9081\\u963f\\u5bc6\", \"\\u8a13\\u7df4\", \"\\u5967\\u904b\", \"\\u7403\\u5b63\", \"\\u9ad4\\u80b2\", \"\\u7403\\u5834\", \"\\u7403\\u8ff7\", \"\\u7403\\u5718\", \"\\u6559\\u7df4\", \"\\u806f\\u76df\", \"\\u8cfd\\u4e8b\", \"\\u771f\\u7684\", \"\\u5148\\u767c\", \"\\u5973\\u5b50\", \"\\u53f0\\u5317\", \"\\u7403\\u968a\", \"\\u7403\\u54e1\", \"\\u65e5\\u672c\", \"\\u904b\\u52d5\", \"\\u5e0c\\u671b\", \"\\u53f0\\u7063\", \"\\u6bd4\\u8cfd\", \"\\u5408\\u7d04\", \"\\u53bb\\u5e74\", \"\\u4eca\\u5e74\", \"\\u8868\\u793a\", \"\\u4eca\\u5929\", \"\\u6a5f\\u6703\", \"\\u9032\\u884c\", \"\\u53c3\\u52a0\", \"\\u76ee\\u524d\", \"\\u7c43\\u677f\", \"\\u4e09\\u5206\\u7403\", \"\\u8cfd\\u6cc1\", \"\\u5373\\u6642\\u6bd4\\u5206\", \"\\u5f97\\u5206\", \"\\u9023\\u52dd\", \"\\u67ef\\u745e\", \"\\u8a79\\u59c6\\u65af\", \"\\u6e6f\\u666e\\u68ee\", \"\\u6649\\u7d1a\", \"\\u6e56\\u4eba\", \"\\u62c9\\u5fb7\", \"\\u516c\\u9e7f\", \"\\u6771\\u5340\", \"\\u6bd4\\u5fb7\", \"\\u914b\\u9577\", \"\\u5916\\u7dda\", \"\\u7b2c\\u56db\\u7bc0\", \"\\u7368\\u884c\\u4fe0\", \"\\u547d\\u4e2d\\u7387\", \"\\u5289\\u931a\", \"\\u704c\\u7c43\", \"\\u5f8c\\u885b\", \"\\u7e3d\\u6c7a\\u8cfd\", \"\\u4e09\\u5206\", \"\\u91d1\\u584a\", \"\\u6295\\u4e2d\", \"\\u897f\\u5340\", \"\\u71b1\\u706b\", \"\\u585e\\u723e\\u8482\", \"\\u52c7\\u58eb\", \"\\u6230\\u7e3e\", \"\\u6392\\u884c\", \"\\u6642\\u9593\\u8868\", \"\\u9632\\u5b88\", \"\\u4e2d\\u83ef\\u968a\", \"\\u8cfd\\u7a0b\", \"\\u653b\\u4e0b\", \"\\u52a9\\u653b\", \"\\u6253\\u51fa\", \"\\u6587\\u5b57\", \"\\u8cc7\\u683c\\u8cfd\", \"\\u5c3c\\u514b\", \"\\u6771\\u897f\", \"\\u5373\\u6642\", \"\\u76f4\\u64ad\", \"\\u6bd4\\u8cfd\", \"\\u9019\\u88e1\", \"\\u9818\\u5148\", \"\\u4eca\\u5929\", \"\\u7403\\u54e1\", \"\\u672c\\u5b63\", \"\\u62ff\\u4e0b\", \"\\u7403\\u968a\", \"\\u6700\\u7d42\", \"\\u8cfd\\u5b63\", \"\\u660e\\u661f\", \"\\u7d71\\u8a08\", \"\\u6578\\u64da\", \"\\u4ea4\\u6613\", \"\\u6700\\u5f8c\", \"\\u8868\\u73fe\"], \"Freq\": [7105.0, 3509.0, 4465.0, 2186.0, 3469.0, 3955.0, 2577.0, 1959.0, 1359.0, 3062.0, 1212.0, 4793.0, 1442.0, 2371.0, 1942.0, 2077.0, 1290.0, 3849.0, 1123.0, 1239.0, 1406.0, 2509.0, 1374.0, 1693.0, 1179.0, 1266.0, 3877.0, 1284.0, 1226.0, 1369.0, 1406.8250441736282, 1374.8519747965952, 1225.9773705097857, 1090.091825657396, 982.1827165099098, 919.2357361738763, 790.3443002477123, 746.3813298542922, 676.4402405920326, 655.4579138133548, 649.4629633051611, 583.5185077150309, 499.5892006003194, 495.5925669281903, 476.608556985577, 454.6270717888669, 437.6413786823182, 426.6506360839631, 423.6531608298663, 416.6590519036404, 403.6699924692207, 377.6918736003815, 369.69860625612324, 363.7036557479296, 358.7078636577682, 358.7078636577682, 336.72637846105806, 332.72974478892894, 316.7432101004125, 315.74405168238025, 1233.9706378540438, 1013.1566274689104, 1277.933608247464, 1938.3773225667999, 729.3956367477434, 675.4410821740004, 2492.910244574715, 813.3249438624548, 734.3914288379048, 1334.8856380753039, 1310.9058360425292, 719.4040525674206, 614.4924186740313, 1950.3672235831873, 713.4091020592269, 3341.195741484119, 2617.8050468287497, 930.2264787722313, 3034.4541071482095, 1866.437916468476, 1680.5944507144723, 904.248359903392, 2579.837026943523, 1392.836826321176, 970.1928154935225, 1709.5700448374084, 2183.1711349847083, 825.3148448788421, 919.2357361738763, 978.1860828377806, 1410.8216778457572, 869.2778152722623, 930.2264787722313, 1290.9059693255674, 1239.9495491464634, 1179.0016740302804, 1022.1358315181375, 661.4443082895789, 442.6314451675448, 417.6528078248469, 395.67160696327267, 391.675024988441, 389.6767340010252, 387.6784430136093, 380.68442455765387, 377.68698807653016, 350.71005974641633, 325.7314224037184, 318.73740394776297, 310.7442399980996, 305.74851252956, 304.7493670358521, 302.7510760484363, 278.77158419944624, 259.7878198189958, 246.79892840079285, 244.800637413377, 241.80320093225328, 232.810891488882, 231.81174599517408, 221.8202910580949, 206.8331086524761, 200.83823569022863, 1437.7803569006312, 730.3853473554253, 318.73740394776297, 369.6938241268668, 509.5741932459753, 305.74851252956, 611.487033604183, 1610.6325273121013, 496.5853018277724, 1064.09994225387, 3081.374694050157, 671.4357632266581, 705.4067100127273, 4155.456099786169, 478.6006829410299, 588.5066872489009, 476.602391953614, 559.5314679313713, 813.3144233331824, 2597.7882750955246, 1247.942713096127, 872.2640074619496, 1562.6735436141212, 499.5827383088961, 792.3323679653162, 1257.934168033206, 969.1811203516177, 963.1862473893702, 969.1811203516177, 769.3520216100341, 606.4913061356434, 625.4750705160938, 649.4545623650839, 602.4947241608116, 355.6496758430906, 326.6790272673494, 228.77821483898256, 205.801493554774, 200.80655414516343, 195.8116147355529, 179.82780862479913, 175.83185709711069, 171.83590556942224, 159.8480509863569, 157.85007522251271, 145.86222063944737, 143.86424487560313, 133.87436605638203, 131.87639029253782, 131.87639029253782, 131.87639029253782, 127.88043876484939, 123.88448723716095, 122.88549935523884, 122.88549935523884, 122.88549935523884, 117.89055994562828, 114.89359629986195, 111.89663265409563, 109.8986568902514, 109.8986568902514, 108.89966900832928, 105.90270536256294, 104.90371748064085, 2128.853166254837, 525.4776157698494, 174.83286921518857, 175.83185709711069, 146.8612085213695, 393.61121535613086, 205.801493554774, 185.8217359163318, 432.5717427510931, 758.2417922577013, 131.87639029253782, 664.3369313570228, 256.74987553280164, 241.76505730397, 453.5504882714574, 460.54340344491226, 219.78732390168358, 318.6871242119725, 483.52012472912077, 491.51202778449766, 448.5555488618469, 1738.2489044232918, 549.45332493598, 2385.5930519088197, 439.56465792454793, 429.5747791053268, 1349.6426183555907, 253.7529118870353, 606.3956342055403, 548.4543370540579, 507.4958338952514, 469.53429438221127, 360.64461525270116, 398.6061547657414, 312.69319692043985, 343.6618212600253, 340.66485761425895, 1243.749902871847, 449.554536743769, 524.4786278879272, 614.3875372609173, 442.5616215703143, 436.5676942787816, 484.5191126110429, 457.5464397991459, 447.5565609799248, 432.5717427510931, 344.6273980988089, 208.77821650570144, 193.79485088881458, 187.80150464205983, 141.85251675027348, 134.86027946239295, 122.87358696888347, 115.88134968100294, 108.88911239312242, 106.89133031087084, 106.89133031087084, 105.89243926974504, 92.90685573510976, 83.91683636497764, 80.92016324160028, 79.92127220047449, 76.92459907709711, 72.92903491259396, 71.93014387146818, 69.93236178921659, 64.93790658358765, 62.94012450133605, 62.94012450133605, 62.94012450133605, 61.941233460210256, 57.94566929570709, 57.94566929570709, 57.94566929570709, 56.94677825458131, 56.94677825458131, 271.7083520966262, 202.7848702589467, 234.74938357497197, 419.5442261832432, 307.6684295771547, 693.2403714517097, 175.81481214855037, 129.865824256764, 464.49432303390375, 804.1172770166725, 206.78043442344986, 189.79928672431143, 107.89022135199662, 163.82811965504087, 193.79485088881458, 125.87026009226084, 873.040758854352, 620.3213254495271, 411.55309785423685, 757.1693980837604, 545.4044973650928, 247.73496710960725, 2228.5359016620496, 422.54089930662053, 849.067373867333, 1313.5517079908257, 398.5675143196016, 490.4654901031743, 224.7604731637141, 723.2071026854834, 981.9198823370631, 571.3756644343633, 529.4222407070802, 708.2237370685966, 589.3557031746276, 994.9054658716985, 980.9209912959374, 482.47436177416796, 734.1949041378671, 530.421131748206, 1371.4873883761215, 645.2936014776718, 988.9121196249437, 1141.7424489171897, 634.3058000252881, 518.4344392546965, 566.3812092287344, 585.3601390101244, 699.2337176984645, 635.3046910664139, 674.2614416703198, 627.3135627374077, 553.3956256940991, 559.3889719408538, 546.4033884062186, 689.1406242642388, 515.3598549681742, 423.4757700530136, 416.484589679034, 404.4997090379261, 296.635783267955, 274.6635020925904, 273.66476203916477, 262.6786214514825, 209.7453986199226, 176.7869768568759, 169.79579648289626, 160.80713600206533, 159.80839594863966, 158.809655895214, 148.82225536095743, 145.82603520068045, 141.8310749869778, 139.8335948801265, 134.8398946129982, 128.84745429244424, 123.85375402531596, 118.86005375818768, 116.86257365133635, 113.86635349105939, 109.87139327735673, 108.8726532239311, 106.87517311707977, 104.87769301022844, 104.87769301022844, 763.0473882177376, 267.6723217186108, 358.55766658034577, 206.74917845964563, 142.82981504040347, 486.39639341883014, 491.39009368595845, 392.5148283968182, 241.70508032954368, 255.6874410775029, 701.1255049053468, 252.69122091722596, 469.4178125105939, 920.8483166589918, 500.37875416678935, 329.59420503100165, 256.6861811309286, 354.56270636664317, 332.59042519127865, 637.2061414861046, 692.1368444245159, 881.8974545753911, 433.4631705872702, 638.2048815395303, 1019.7235819481319, 534.3359159832618, 348.57026604608916, 827.9654916904054, 820.9743113164259, 931.834457246674, 702.1242449587724, 461.4278920831887, 372.540027328305, 337.58412545840696, 342.57782572553526, 457.03171225716534, 326.3115220742246, 304.3585130358682, 303.36064898867016, 236.5037578264028, 194.59346784408595, 189.60414760809584, 186.6105554665018, 181.62123523051167, 173.6383228529275, 167.65113856973937, 152.68317786176908, 147.693857625779, 136.71735310660077, 129.73230477621462, 129.73230477621462, 128.7344407290166, 128.7344407290166, 124.74298454022454, 121.74939239863048, 116.76007216264037, 112.76861597384828, 110.77288787945224, 105.78356764346215, 104.78570359626413, 101.79211145467006, 100.79424740747204, 99.79638336027402, 97.80065526587799, 96.80279121867997, 595.7348148176902, 486.9676336731059, 313.3392894606504, 316.33288160224447, 194.59346784408595, 393.16841323649203, 374.20899633972965, 194.59346784408595, 391.17268514209593, 205.56997236326418, 306.3542411302642, 231.5144375904127, 181.62123523051167, 349.2623951597791, 313.3392894606504, 323.3179299326306, 678.5575307351257, 330.3029782630167, 320.32433779103656, 1290.2481916675122, 667.5810262159475, 357.24530753736326, 347.2666670653831, 485.9697696259079, 341.2794827821949, 274.4225916199276, 241.49307806239293, 338.2858906406009, 412.1278301332544, 360.2388996789573, 305.35637708306626, 369.2196761037395], \"Total\": [7105.0, 3509.0, 4465.0, 2186.0, 3469.0, 3955.0, 2577.0, 1959.0, 1359.0, 3062.0, 1212.0, 4793.0, 1442.0, 2371.0, 1942.0, 2077.0, 1290.0, 3849.0, 1123.0, 1239.0, 1406.0, 2509.0, 1374.0, 1693.0, 1179.0, 1266.0, 3877.0, 1284.0, 1226.0, 1369.0, 1406.874980458802, 1374.901911081769, 1226.0273067949595, 1090.1417619425697, 982.2326527950836, 919.28567245905, 790.3942365328861, 746.431266139466, 676.4901768772064, 655.5078500985286, 649.5128995903349, 583.5684440002046, 499.63913688549314, 495.6425032133641, 476.6584932707508, 454.67700807404066, 437.69131496749196, 426.70057236913686, 423.70309711504007, 416.70898818881415, 403.71992875439446, 377.74180988555526, 369.748542541297, 363.75359203310336, 358.757799942942, 358.757799942942, 336.77631474623183, 332.7796810741027, 316.7931463855863, 315.793987967554, 1240.0145014307504, 1016.2040002352079, 1284.9764597060926, 1959.4007999739124, 731.4433551151687, 678.4879821049406, 2577.865919355581, 822.3657710849276, 744.4287656573351, 1369.8967607998802, 1357.9031982975146, 734.4386267323919, 623.5323743293372, 2077.2783468588145, 730.4445117374353, 3955.5817772905652, 3062.3353414593007, 1011.1292600241467, 4465.910601301904, 2509.798365139125, 2371.464599277266, 1024.1589993201478, 4640.413968752481, 1918.3107132982395, 1176.0235845454563, 2958.2624589835536, 4561.526484882488, 919.259180140539, 1356.7999484721463, 1635.5245587404431, 7418.748097006881, 1439.7239873725484, 4793.671410837704, 1290.9559057399845, 1239.9994855608804, 1179.0516104446974, 1022.1857679325544, 661.4942447039958, 442.6813815819619, 417.70274423926395, 395.7215433776897, 391.72496140285807, 389.72667041544224, 387.72837942802636, 380.73436097207093, 377.7369244909472, 350.7599961608334, 325.78135881813546, 318.78734036218003, 310.79417641251666, 305.79844894397706, 304.7993034502692, 302.80101246285335, 278.8215206138633, 259.83775623341285, 246.84886481520988, 244.85057382779402, 241.8531373466703, 232.86082790329903, 231.8616824095911, 221.87022747251194, 206.88304506689315, 200.88817210464566, 1442.8260854052096, 743.4240021320417, 322.78329188986845, 377.73488887029015, 537.5930788119146, 311.7933994521707, 674.4810512407607, 2052.20356453962, 541.5853350928501, 1313.8781807615483, 4793.671410837704, 787.3665749189524, 837.3348138324645, 7105.596777597978, 527.5546771917694, 693.440358973802, 541.5564157410568, 675.4127123531969, 1224.904366974547, 7418.748097006881, 2458.8839111750785, 1422.7240301083552, 3849.2899379988585, 611.5126354836435, 1527.5263839029326, 3877.2759072518256, 3018.932832897708, 3202.941279527039, 3509.0942019748236, 2029.0337226608199, 1335.7155804516428, 1731.3125015055, 2110.9217739407463, 4561.526484882488, 355.6996138336255, 326.7289652578843, 228.82815282951745, 205.85143154530888, 200.85649213569832, 195.86155272608778, 179.87774661533402, 175.88179508764557, 171.88584355995712, 159.89798897689178, 157.9000132130476, 145.91215862998226, 143.91418286613802, 133.92430404691692, 131.9263282830727, 131.9263282830727, 131.9263282830727, 127.93037675538429, 123.93442522769585, 122.93543734577374, 122.93543734577374, 122.93543734577374, 117.94049793616318, 114.94353429039685, 111.94657064463053, 109.9485948807863, 109.9485948807863, 108.94960699886418, 105.95264335309784, 104.95365547117575, 2186.813869735922, 532.5208088585933, 175.88154725914913, 177.8792751944969, 147.90988656533005, 413.64406322082414, 210.84722363547027, 189.8682688060227, 462.59643328259637, 866.2008393957223, 132.92506833649838, 832.1751983230683, 286.7620151261063, 268.78612291252716, 568.4506082639507, 579.4654465707303, 241.8069572860014, 378.664034785112, 664.3921107392628, 679.3728175887276, 620.4054431520784, 3849.2899379988585, 880.2178914085943, 7105.596777597978, 647.4112109618286, 639.3898750830593, 3877.2759072518256, 308.7565628693455, 1212.869578813111, 1049.9924091279547, 949.1609554323866, 896.1739525187852, 565.522028939853, 692.3674663694877, 448.61331033843584, 537.4886433094822, 529.5407084283489, 7418.748097006881, 937.0801319039329, 1481.6401321284281, 3202.941279527039, 1173.8927070183838, 1224.814990715523, 2110.9217739407463, 1758.3610905746189, 2769.183541680546, 3469.4582442216793, 344.67733705775174, 208.82815546464428, 193.84478984775743, 187.85144360100267, 141.90245570921633, 134.9102184213358, 122.92352592782633, 115.9312886399458, 108.93905135206528, 106.9412692698137, 106.9412692698137, 105.9423782286879, 92.95679469405262, 83.9667753239205, 80.97010220054314, 79.97121115941735, 76.97453803603997, 72.97897387153682, 71.98008283041104, 69.98230074815945, 64.98784554253051, 62.99006346027891, 62.99006346027891, 62.99006346027891, 61.991172419153116, 57.99560825464995, 57.99560825464995, 57.99560825464995, 56.99671721352417, 56.99671721352417, 274.7557275366928, 204.83312605395412, 237.79679778801165, 428.58659090447657, 319.7065960940584, 742.248814407747, 180.8605431976546, 132.91272686147317, 494.5190145338149, 876.1033818878461, 216.81777391664932, 198.84165144554478, 109.93847714700404, 170.8709737874385, 204.8345092294515, 129.9168327233328, 1056.909163374474, 734.2585894798849, 481.54187916051376, 949.0381416522314, 661.3502755083232, 274.7621833554216, 3469.4582442216793, 513.4904903558072, 1147.8648430887138, 1942.0692417515224, 486.5420297765036, 632.3959244227007, 249.7893725734639, 1067.9331078115397, 1693.3689095738864, 841.1565483597918, 796.2354808761827, 1188.8683452037665, 947.104355789126, 2014.0881146133995, 2029.0337226608199, 770.279521202076, 1479.6170229488894, 924.1081468348275, 4465.910601301904, 1335.7155804516428, 3877.2759072518256, 7418.748097006881, 1777.233781627149, 1019.9892725847498, 1385.7148988756048, 1556.4437651966373, 3202.941279527039, 2769.183541680546, 4640.413968752481, 4561.526484882488, 1868.273398138556, 2958.2624589835536, 2509.798365139125, 689.1905647330586, 515.409795436994, 423.52571052183345, 416.53453014785384, 404.54964950674594, 296.68572373677483, 274.71344256141026, 273.7147025079846, 262.72856192030235, 209.79533908874248, 176.83691732569577, 169.84573695171613, 160.8570764708852, 159.85833641745953, 158.85959636403388, 148.8721958297773, 145.87597566950032, 141.88101545579767, 139.88353534894637, 134.88983508181806, 128.8973947612641, 123.90369449413583, 118.90999422700754, 116.91251412015622, 113.91629395987925, 109.9213337461766, 108.92259369275097, 106.92511358589964, 104.92763347904831, 104.92763347904831, 764.0951927337554, 268.7201262346287, 361.604280172543, 207.79800996959128, 144.8754836036194, 530.4033921065737, 538.4004668779711, 428.4878745647668, 255.7408511452731, 272.70107034868914, 846.8635962650776, 274.6941704244023, 564.2648374632257, 1266.259216204095, 654.117879095784, 394.5480142872083, 291.66341723953474, 453.512447145752, 432.51723417073066, 1123.2158729403602, 1359.757832468811, 2060.778587165223, 700.2582177176281, 1359.5279687822574, 3018.932832897708, 1212.9334085467353, 554.3246293877792, 4561.526484882488, 4640.413968752481, 7418.748097006881, 3509.0942019748236, 1331.4973520908243, 1972.9009800623182, 585.3203350796015, 2769.183541680546, 457.0816614860475, 326.3614713031068, 304.40846226475037, 303.4105982175523, 236.55370705528492, 194.64341707296808, 189.65409683697797, 186.66050469538393, 181.6711844593938, 173.68827208180963, 167.7010877986215, 152.7331270906512, 147.74380685466113, 136.7673023354829, 129.78225400509675, 129.78225400509675, 128.78438995789872, 128.78438995789872, 124.79293376910668, 121.79934162751262, 116.81002139152251, 112.81856520273043, 110.82283710833438, 105.83351687234429, 104.83565282514627, 101.8420606835522, 100.84419663635418, 99.84633258915616, 97.85060449476013, 96.85274044756211, 596.7837519284944, 490.013803062265, 326.3782981239521, 330.3708677430375, 200.63836758116176, 421.1830839612926, 401.22492701110457, 201.63746137757224, 446.1761768266432, 222.59910645118305, 358.35073805429454, 261.5265884220646, 197.6575123587205, 451.2018082799733, 413.2827974787423, 431.2585704091007, 1212.9334085467353, 463.2074548373041, 451.2458670429252, 3509.0942019748236, 1359.757832468811, 552.1311482825397, 539.086262085517, 1123.2158729403602, 662.986694885454, 447.2545700914487, 333.42845964272556, 776.945447702805, 1585.046471993655, 1164.5718847415783, 931.7468479663676, 2371.464599277266], \"Category\": [\"Default\", \"Default\", \"Default\", \"Default\", \"Default\", \"Default\", \"Default\", \"Default\", \"Default\", \"Default\", \"Default\", \"Default\", \"Default\", \"Default\", \"Default\", \"Default\", \"Default\", \"Default\", \"Default\", \"Default\", \"Default\", \"Default\", \"Default\", \"Default\", \"Default\", \"Default\", \"Default\", \"Default\", \"Default\", \"Default\", \"Topic1\", \"Topic1\", \"Topic1\", \"Topic1\", \"Topic1\", \"Topic1\", \"Topic1\", \"Topic1\", \"Topic1\", \"Topic1\", \"Topic1\", \"Topic1\", \"Topic1\", \"Topic1\", \"Topic1\", \"Topic1\", \"Topic1\", \"Topic1\", \"Topic1\", \"Topic1\", \"Topic1\", \"Topic1\", \"Topic1\", \"Topic1\", \"Topic1\", \"Topic1\", \"Topic1\", \"Topic1\", \"Topic1\", \"Topic1\", \"Topic1\", \"Topic1\", \"Topic1\", \"Topic1\", \"Topic1\", \"Topic1\", \"Topic1\", \"Topic1\", \"Topic1\", \"Topic1\", \"Topic1\", \"Topic1\", \"Topic1\", \"Topic1\", \"Topic1\", \"Topic1\", \"Topic1\", \"Topic1\", \"Topic1\", \"Topic1\", \"Topic1\", \"Topic1\", \"Topic1\", \"Topic1\", \"Topic1\", \"Topic1\", \"Topic1\", \"Topic1\", \"Topic1\", \"Topic1\", \"Topic1\", \"Topic1\", \"Topic1\", \"Topic2\", \"Topic2\", \"Topic2\", \"Topic2\", \"Topic2\", \"Topic2\", \"Topic2\", \"Topic2\", \"Topic2\", \"Topic2\", \"Topic2\", \"Topic2\", \"Topic2\", \"Topic2\", \"Topic2\", \"Topic2\", \"Topic2\", \"Topic2\", \"Topic2\", \"Topic2\", \"Topic2\", \"Topic2\", \"Topic2\", \"Topic2\", \"Topic2\", \"Topic2\", \"Topic2\", \"Topic2\", \"Topic2\", \"Topic2\", \"Topic2\", \"Topic2\", \"Topic2\", \"Topic2\", \"Topic2\", \"Topic2\", \"Topic2\", \"Topic2\", \"Topic2\", \"Topic2\", \"Topic2\", \"Topic2\", \"Topic2\", \"Topic2\", \"Topic2\", \"Topic2\", \"Topic2\", \"Topic2\", \"Topic2\", \"Topic2\", \"Topic2\", \"Topic2\", \"Topic2\", \"Topic2\", \"Topic2\", \"Topic2\", \"Topic2\", \"Topic2\", \"Topic2\", \"Topic2\", \"Topic2\", \"Topic2\", \"Topic2\", \"Topic2\", \"Topic3\", \"Topic3\", \"Topic3\", \"Topic3\", \"Topic3\", \"Topic3\", \"Topic3\", \"Topic3\", \"Topic3\", \"Topic3\", \"Topic3\", \"Topic3\", \"Topic3\", \"Topic3\", \"Topic3\", \"Topic3\", \"Topic3\", \"Topic3\", \"Topic3\", \"Topic3\", \"Topic3\", \"Topic3\", \"Topic3\", \"Topic3\", \"Topic3\", \"Topic3\", \"Topic3\", \"Topic3\", \"Topic3\", \"Topic3\", \"Topic3\", \"Topic3\", \"Topic3\", \"Topic3\", \"Topic3\", \"Topic3\", \"Topic3\", \"Topic3\", \"Topic3\", \"Topic3\", \"Topic3\", \"Topic3\", \"Topic3\", \"Topic3\", \"Topic3\", \"Topic3\", \"Topic3\", \"Topic3\", \"Topic3\", \"Topic3\", \"Topic3\", \"Topic3\", \"Topic3\", \"Topic3\", \"Topic3\", \"Topic3\", \"Topic3\", \"Topic3\", \"Topic3\", \"Topic3\", \"Topic3\", \"Topic3\", \"Topic3\", \"Topic3\", \"Topic3\", \"Topic3\", \"Topic3\", \"Topic3\", \"Topic3\", \"Topic3\", \"Topic3\", \"Topic3\", \"Topic3\", \"Topic3\", \"Topic3\", \"Topic3\", \"Topic3\", \"Topic4\", \"Topic4\", \"Topic4\", \"Topic4\", \"Topic4\", \"Topic4\", \"Topic4\", \"Topic4\", \"Topic4\", \"Topic4\", \"Topic4\", \"Topic4\", \"Topic4\", \"Topic4\", \"Topic4\", \"Topic4\", \"Topic4\", \"Topic4\", \"Topic4\", \"Topic4\", \"Topic4\", \"Topic4\", \"Topic4\", \"Topic4\", \"Topic4\", \"Topic4\", \"Topic4\", \"Topic4\", \"Topic4\", \"Topic4\", \"Topic4\", \"Topic4\", \"Topic4\", \"Topic4\", \"Topic4\", \"Topic4\", \"Topic4\", \"Topic4\", \"Topic4\", \"Topic4\", \"Topic4\", \"Topic4\", \"Topic4\", \"Topic4\", \"Topic4\", \"Topic4\", \"Topic4\", \"Topic4\", \"Topic4\", \"Topic4\", \"Topic4\", \"Topic4\", \"Topic4\", \"Topic4\", \"Topic4\", \"Topic4\", \"Topic4\", \"Topic4\", \"Topic4\", \"Topic4\", \"Topic4\", \"Topic4\", \"Topic4\", \"Topic4\", \"Topic4\", \"Topic4\", \"Topic4\", \"Topic4\", \"Topic4\", \"Topic4\", \"Topic4\", \"Topic4\", \"Topic4\", \"Topic4\", \"Topic4\", \"Topic4\", \"Topic4\", \"Topic4\", \"Topic4\", \"Topic4\", \"Topic4\", \"Topic4\", \"Topic4\", \"Topic4\", \"Topic4\", \"Topic5\", \"Topic5\", \"Topic5\", \"Topic5\", \"Topic5\", \"Topic5\", \"Topic5\", \"Topic5\", \"Topic5\", \"Topic5\", \"Topic5\", \"Topic5\", \"Topic5\", \"Topic5\", \"Topic5\", \"Topic5\", \"Topic5\", \"Topic5\", \"Topic5\", \"Topic5\", \"Topic5\", \"Topic5\", \"Topic5\", \"Topic5\", \"Topic5\", \"Topic5\", \"Topic5\", \"Topic5\", \"Topic5\", \"Topic5\", \"Topic5\", \"Topic5\", \"Topic5\", \"Topic5\", \"Topic5\", \"Topic5\", \"Topic5\", \"Topic5\", \"Topic5\", \"Topic5\", \"Topic5\", \"Topic5\", \"Topic5\", \"Topic5\", \"Topic5\", \"Topic5\", \"Topic5\", \"Topic5\", \"Topic5\", \"Topic5\", \"Topic5\", \"Topic5\", \"Topic5\", \"Topic5\", \"Topic5\", \"Topic5\", \"Topic5\", \"Topic5\", \"Topic5\", \"Topic5\", \"Topic5\", \"Topic5\", \"Topic5\", \"Topic5\", \"Topic5\", \"Topic6\", \"Topic6\", \"Topic6\", \"Topic6\", \"Topic6\", \"Topic6\", \"Topic6\", \"Topic6\", \"Topic6\", \"Topic6\", \"Topic6\", \"Topic6\", \"Topic6\", \"Topic6\", \"Topic6\", \"Topic6\", \"Topic6\", \"Topic6\", \"Topic6\", \"Topic6\", \"Topic6\", \"Topic6\", \"Topic6\", \"Topic6\", \"Topic6\", \"Topic6\", \"Topic6\", \"Topic6\", \"Topic6\", \"Topic6\", \"Topic6\", \"Topic6\", \"Topic6\", \"Topic6\", \"Topic6\", \"Topic6\", \"Topic6\", \"Topic6\", \"Topic6\", \"Topic6\", \"Topic6\", \"Topic6\", \"Topic6\", \"Topic6\", \"Topic6\", \"Topic6\", \"Topic6\", \"Topic6\", \"Topic6\", \"Topic6\", \"Topic6\", \"Topic6\", \"Topic6\", \"Topic6\", \"Topic6\", \"Topic6\", \"Topic6\", \"Topic6\", \"Topic6\", \"Topic6\", \"Topic6\", \"Topic6\"], \"logprob\": [30.0, 29.0, 28.0, 27.0, 26.0, 25.0, 24.0, 23.0, 22.0, 21.0, 20.0, 19.0, 18.0, 17.0, 16.0, 15.0, 14.0, 13.0, 12.0, 11.0, 10.0, 9.0, 8.0, 7.0, 6.0, 5.0, 4.0, 3.0, 2.0, 1.0, -5.3329, -5.3559, -5.4705, -5.588, -5.6922, -5.7585, -5.9096, -5.9668, -6.0652, -6.0967, -6.1059, -6.2129, -6.3682, -6.3763, -6.4153, -6.4625, -6.5006, -6.5261, -6.5331, -6.5498, -6.5814, -6.6479, -6.6693, -6.6857, -6.6995, -6.6995, -6.7628, -6.7747, -6.8239, -6.8271, -5.464, -5.6612, -5.429, -5.0124, -5.9898, -6.0667, -4.7608, -5.8809, -5.983, -5.3854, -5.4035, -6.0036, -6.1612, -5.0063, -6.012, -4.4679, -4.7119, -5.7466, -4.5642, -5.0502, -5.1551, -5.7749, -4.7265, -5.3429, -5.7045, -5.138, -4.8935, -5.8663, -5.7585, -5.6963, -5.3301, -5.8144, -5.7466, -5.2346, -5.2749, -5.3253, -5.4681, -5.9033, -6.305, -6.3631, -6.4171, -6.4273, -6.4324, -6.4375, -6.4557, -6.4637, -6.5378, -6.6116, -6.6334, -6.6587, -6.675, -6.6782, -6.6848, -6.7673, -6.8379, -6.8891, -6.8973, -6.9096, -6.9475, -6.9518, -6.9959, -7.0658, -7.0952, -5.1269, -5.8041, -6.6334, -6.485, -6.1641, -6.675, -5.9818, -5.0133, -6.19, -5.4278, -4.3646, -5.8883, -5.8389, -4.0655, -6.2269, -6.0201, -6.231, -6.0706, -5.6966, -4.5353, -5.2685, -5.6266, -5.0436, -6.1839, -5.7227, -5.2605, -5.5213, -5.5275, -5.5213, -5.7522, -5.99, -5.9592, -5.9216, -5.9966, -6.318, -6.403, -6.7592, -6.8651, -6.8896, -6.9148, -7.0, -7.0224, -7.0454, -7.1177, -7.1303, -7.2093, -7.2231, -7.2951, -7.3101, -7.3101, -7.3101, -7.3409, -7.3726, -7.3807, -7.3807, -7.3807, -7.4222, -7.448, -7.4744, -7.4924, -7.4924, -7.5015, -7.5295, -7.5389, -4.5286, -5.9277, -7.0281, -7.0224, -7.2025, -6.2166, -6.8651, -6.9672, -6.1222, -5.561, -7.3101, -5.6932, -6.6439, -6.704, -6.0749, -6.0596, -6.7993, -6.4278, -6.0109, -5.9945, -6.0859, -4.7313, -5.883, -4.4148, -6.1062, -6.1292, -4.9844, -6.6556, -5.7844, -5.8849, -5.9625, -6.0402, -6.3041, -6.204, -6.4467, -6.3523, -6.3611, -5.0661, -6.0837, -5.9296, -5.7713, -6.0994, -6.113, -6.0088, -6.0661, -6.0882, -6.1222, -6.2044, -6.7056, -6.78, -6.8114, -7.092, -7.1426, -7.2357, -7.2943, -7.3565, -7.375, -7.375, -7.3844, -7.5152, -7.617, -7.6534, -7.6658, -7.704, -7.7573, -7.7711, -7.7993, -7.8734, -7.9046, -7.9046, -7.9046, -7.9206, -7.9873, -7.9873, -7.9873, -8.0047, -8.0047, -6.4421, -6.7347, -6.5883, -6.0077, -6.3178, -5.5055, -6.8774, -7.1803, -5.9059, -5.3571, -6.7152, -6.8009, -7.3657, -6.948, -6.78, -7.2116, -5.2748, -5.6166, -6.0269, -5.4172, -5.7453, -6.5345, -4.3377, -6.0005, -5.3027, -4.8663, -6.059, -5.8515, -6.6318, -5.4631, -5.1573, -5.6988, -5.775, -5.4841, -5.6678, -5.1442, -5.1583, -5.8679, -5.4481, -5.7732, -4.8232, -5.5771, -5.1502, -5.0065, -5.5943, -5.796, -5.7076, -5.6746, -5.4968, -5.5927, -5.5332, -5.6054, -5.7308, -5.72, -5.7435, -5.3833, -5.6739, -5.8702, -5.8869, -5.9161, -6.2262, -6.3032, -6.3068, -6.3478, -6.5728, -6.7438, -6.7841, -6.8385, -6.8447, -6.851, -6.916, -6.9363, -6.9641, -6.9783, -7.0146, -7.0601, -7.0996, -7.1408, -7.1577, -7.1837, -7.2194, -7.2285, -7.2471, -7.2659, -7.2659, -5.2814, -6.329, -6.0366, -6.5872, -6.9571, -5.7317, -5.7215, -5.9461, -6.431, -6.3748, -5.366, -6.3865, -5.7672, -5.0934, -5.7034, -6.1209, -6.3709, -6.0478, -6.1118, -5.4616, -5.3789, -5.1366, -5.8469, -5.4601, -4.9914, -5.6377, -6.0649, -5.1997, -5.2082, -5.0816, -5.3646, -5.7844, -5.9984, -6.0969, -6.0822, -5.1277, -5.4646, -5.5342, -5.5375, -5.7865, -5.9815, -6.0075, -6.0234, -6.0505, -6.0955, -6.1306, -6.2241, -6.2573, -6.3345, -6.387, -6.387, -6.3947, -6.3947, -6.4262, -6.4505, -6.4923, -6.5271, -6.545, -6.5911, -6.6005, -6.6295, -6.6394, -6.6493, -6.6695, -6.6798, -4.8627, -5.0643, -5.5052, -5.4957, -5.9815, -5.2782, -5.3276, -5.9815, -5.2833, -5.9267, -5.5277, -5.8078, -6.0505, -5.3966, -5.5052, -5.4738, -4.7325, -5.4524, -5.4831, -4.0899, -4.7488, -5.374, -5.4024, -5.0663, -5.4197, -5.6378, -5.7656, -5.4286, -5.2311, -5.3657, -5.531, -5.3411], \"loglift\": [30.0, 29.0, 28.0, 27.0, 26.0, 25.0, 24.0, 23.0, 22.0, 21.0, 20.0, 19.0, 18.0, 17.0, 16.0, 15.0, 14.0, 13.0, 12.0, 11.0, 10.0, 9.0, 8.0, 7.0, 6.0, 5.0, 4.0, 3.0, 2.0, 1.0, 1.3543, 1.3543, 1.3542, 1.3542, 1.3542, 1.3542, 1.3542, 1.3542, 1.3542, 1.3542, 1.3542, 1.3542, 1.3542, 1.3542, 1.3542, 1.3542, 1.3542, 1.3542, 1.3542, 1.3542, 1.3542, 1.3542, 1.3542, 1.3541, 1.3541, 1.3541, 1.3541, 1.3541, 1.3541, 1.3541, 1.3494, 1.3513, 1.3488, 1.3435, 1.3515, 1.3498, 1.3208, 1.3432, 1.3407, 1.3284, 1.3191, 1.3336, 1.3397, 1.2912, 1.3307, 1.1855, 1.1974, 1.2709, 0.9678, 1.0581, 1.0099, 1.2298, 0.7672, 1.0342, 1.1619, 0.8059, 0.6174, 1.2465, 0.9649, 0.8403, -0.3056, 0.8497, -0.2853, 1.5386, 1.5386, 1.5385, 1.5385, 1.5385, 1.5385, 1.5385, 1.5385, 1.5385, 1.5385, 1.5385, 1.5385, 1.5385, 1.5384, 1.5384, 1.5384, 1.5384, 1.5384, 1.5384, 1.5384, 1.5384, 1.5384, 1.5384, 1.5384, 1.5384, 1.5384, 1.5384, 1.5384, 1.5384, 1.5383, 1.5351, 1.5209, 1.526, 1.5171, 1.4851, 1.519, 1.4405, 1.2963, 1.4518, 1.3277, 1.0967, 1.3793, 1.3671, 1.0021, 1.4412, 1.3745, 1.4108, 1.3504, 1.1291, 0.4892, 0.8604, 1.0494, 0.6371, 1.3364, 0.8822, 0.4129, 0.4024, 0.337, 0.2519, 0.5688, 0.7491, 0.5205, 0.3598, -0.4857, 1.7442, 1.7442, 1.7441, 1.7441, 1.7441, 1.7441, 1.7441, 1.7441, 1.744, 1.744, 1.744, 1.744, 1.744, 1.744, 1.744, 1.744, 1.744, 1.7439, 1.7439, 1.7439, 1.7439, 1.7439, 1.7439, 1.7439, 1.7439, 1.7439, 1.7439, 1.7439, 1.7439, 1.7439, 1.7175, 1.731, 1.7384, 1.7328, 1.7372, 1.6947, 1.7201, 1.7228, 1.6772, 1.6112, 1.7364, 1.5191, 1.6338, 1.6384, 1.5185, 1.5146, 1.6489, 1.5719, 1.4266, 1.4207, 1.42, 0.9493, 1.2731, 0.6529, 1.3571, 1.3466, 0.689, 1.5481, 1.0511, 1.0949, 1.1182, 1.0979, 1.2945, 1.1922, 1.3834, 1.2971, 1.3032, -0.0415, 1.0098, 0.7058, 0.0931, 0.7688, 0.7127, 0.2726, 0.3981, -0.0782, -0.3377, 1.8893, 1.8892, 1.8892, 1.8892, 1.8891, 1.8891, 1.8891, 1.889, 1.889, 1.889, 1.889, 1.889, 1.8889, 1.8889, 1.8889, 1.8889, 1.8888, 1.8888, 1.8888, 1.8888, 1.8887, 1.8887, 1.8887, 1.8887, 1.8887, 1.8886, 1.8886, 1.8886, 1.8886, 1.8886, 1.8783, 1.8794, 1.8766, 1.8682, 1.8511, 1.8212, 1.8612, 1.8663, 1.8268, 1.8037, 1.8421, 1.8429, 1.8707, 1.8474, 1.8341, 1.8578, 1.6984, 1.7209, 1.7324, 1.6636, 1.6967, 1.7859, 1.4468, 1.6945, 1.588, 1.4985, 1.69, 1.6353, 1.7839, 1.4997, 1.3445, 1.5027, 1.4814, 1.3715, 1.4151, 1.1842, 1.1627, 1.4217, 1.1887, 1.3343, 0.7089, 1.162, 0.5232, 0.018, 0.8592, 1.2127, 0.9948, 0.9115, 0.3676, 0.4173, -0.0395, -0.0945, 0.6728, 0.224, 0.3649, 2.0175, 2.0175, 2.0175, 2.0175, 2.0175, 2.0174, 2.0174, 2.0174, 2.0174, 2.0174, 2.0173, 2.0173, 2.0173, 2.0173, 2.0173, 2.0173, 2.0172, 2.0172, 2.0172, 2.0172, 2.0172, 2.0172, 2.0172, 2.0172, 2.0172, 2.0171, 2.0171, 2.0171, 2.0171, 2.0171, 2.0162, 2.0137, 2.0091, 2.0125, 2.0034, 1.931, 1.9262, 1.9299, 1.9611, 1.9532, 1.8287, 1.9341, 1.8336, 1.6991, 1.7497, 1.8377, 1.8898, 1.7715, 1.7549, 1.4507, 1.3423, 1.1688, 1.5379, 1.2614, 0.9322, 1.1978, 1.5537, 0.3112, 0.2855, -0.057, 0.4086, 0.9579, 0.3507, 1.4672, -0.0722, 2.6838, 2.6837, 2.6837, 2.6837, 2.6837, 2.6836, 2.6836, 2.6836, 2.6836, 2.6836, 2.6836, 2.6835, 2.6835, 2.6835, 2.6835, 2.6835, 2.6835, 2.6835, 2.6835, 2.6835, 2.6834, 2.6834, 2.6834, 2.6834, 2.6834, 2.6834, 2.6834, 2.6834, 2.6834, 2.6833, 2.6821, 2.6776, 2.6431, 2.6404, 2.6533, 2.615, 2.6142, 2.6483, 2.5523, 2.6043, 2.5271, 2.562, 2.5992, 2.4278, 2.407, 2.3958, 2.103, 2.3457, 2.3412, 1.6833, 1.9725, 2.2485, 2.2441, 1.8461, 2.0198, 2.1954, 2.3613, 1.8524, 1.3368, 1.5105, 1.5683, 0.824]}, \"token.table\": {\"Topic\": [2, 3, 5, 6, 6, 6, 5, 2, 3, 4, 1, 3, 3, 3, 1, 3, 2, 1, 2, 3, 6, 3, 2, 5, 5, 6, 1, 2, 3, 4, 5, 3, 3, 1, 3, 4, 6, 2, 1, 3, 1, 2, 3, 5, 6, 1, 2, 3, 4, 5, 6, 2, 2, 1, 2, 4, 2, 1, 2, 2, 3, 1, 2, 1, 1, 3, 4, 1, 2, 4, 5, 4, 5, 6, 5, 3, 5, 1, 2, 4, 5, 2, 4, 1, 2, 3, 4, 5, 1, 2, 3, 4, 5, 6, 6, 2, 4, 1, 2, 3, 4, 5, 6, 1, 2, 2, 4, 6, 2, 1, 3, 6, 3, 6, 1, 2, 4, 2, 3, 4, 2, 1, 4, 3, 4, 6, 6, 1, 2, 3, 4, 5, 6, 1, 2, 4, 5, 6, 2, 3, 3, 1, 1, 2, 5, 6, 1, 2, 4, 5, 6, 1, 5, 1, 2, 4, 5, 6, 1, 4, 5, 6, 5, 6, 1, 4, 5, 2, 1, 2, 3, 4, 5, 6, 4, 2, 3, 4, 5, 2, 1, 4, 1, 2, 4, 5, 2, 3, 4, 5, 2, 3, 4, 5, 6, 6, 1, 2, 3, 4, 5, 6, 6, 1, 2, 1, 1, 5, 1, 2, 3, 4, 6, 5, 1, 2, 3, 4, 1, 2, 5, 3, 5, 3, 5, 3, 3, 5, 5, 2, 3, 4, 5, 1, 2, 3, 1, 2, 3, 5, 6, 4, 4, 1, 2, 3, 4, 6, 4, 2, 6, 1, 5, 2, 1, 2, 3, 4, 5, 6, 1, 4, 5, 1, 4, 4, 5, 5, 4, 5, 2, 1, 3, 4, 6, 1, 2, 3, 4, 5, 6, 3, 5, 1, 4, 5, 6, 1, 3, 5, 3, 4, 5, 6, 1, 2, 3, 4, 5, 6, 6, 6, 3, 3, 2, 4, 6, 4, 1, 4, 5, 6, 1, 2, 3, 5, 6, 1, 3, 1, 3, 4, 5, 4, 5, 6, 5, 5, 1, 2, 4, 5, 6, 6, 1, 5, 5, 1, 2, 4, 1, 4, 6, 2, 1, 2, 4, 5, 6, 1, 2, 3, 4, 5, 6, 1, 2, 3, 4, 5, 6, 1, 5, 4, 1, 6, 1, 3, 4, 5, 1, 2, 3, 4, 5, 6, 1, 2, 3, 4, 5, 6, 2, 1, 2, 3, 4, 5, 1, 1, 4, 1, 2, 6, 2, 5, 6, 1, 2, 3, 4, 5, 1, 2, 3, 6, 5, 6, 1, 3, 4, 6, 2, 3, 4, 6, 2, 3, 4, 5, 1, 4, 4, 1, 4, 5, 6, 3, 2, 3, 4, 1, 2, 3, 4, 5, 3, 4, 5, 6, 1, 2, 3, 6, 5, 2, 6, 6, 2, 1, 4, 5, 1, 2, 4, 5, 4, 1, 2, 3, 5, 6, 1, 2, 3, 4, 5, 6, 1, 2, 3, 2, 3, 4, 5, 6, 1, 3, 4, 1, 1, 2, 3, 4, 5, 6, 1, 2, 4, 5, 6, 1, 6, 6, 2, 3, 5, 6, 6, 5, 5, 1, 4, 5, 1, 3, 4, 4, 2, 3, 4, 6, 1, 2, 4, 5, 6, 2, 4, 3, 1, 4, 6, 5, 6, 1, 2, 3, 4, 5, 4, 1, 3, 4, 1, 3, 1, 3, 1, 4, 1, 3, 4, 3, 3, 6, 3, 3, 6, 1, 4, 6, 3, 2, 6, 5, 1, 4, 3, 4, 1, 4, 5, 6, 6, 1, 3, 2, 5, 6, 5, 6, 5, 6, 5, 6, 5, 5, 6, 5, 6, 1, 2, 4, 1, 3, 4, 1, 4, 2, 3, 4, 5, 4, 1, 2, 3, 4, 5, 6, 1, 2, 3, 4, 1, 2, 3, 4, 5, 1, 2, 3, 4, 5, 6, 3, 2, 1, 1, 1, 2, 3, 4, 5, 6, 3, 6, 3, 5, 6, 1, 4, 1, 2, 4, 1, 2, 6, 1, 4, 5, 5, 6, 1, 2, 4, 5, 2, 1, 2, 3, 4, 1, 2, 3, 4, 6, 1, 2, 3, 4, 4, 5, 3, 5, 3, 5, 3, 5, 6, 2, 1, 2, 1, 2, 3, 4, 5, 1, 2, 4, 5, 6, 1, 2, 2, 5, 2, 2, 4, 5, 6, 5, 1, 1, 1, 1, 3, 5, 4, 4, 3, 1, 3, 4, 4, 2, 3, 4, 5, 2, 4, 3, 1, 3, 4, 5, 4, 4, 1, 3, 1, 2, 3, 6, 1, 2, 5, 6, 1, 2, 3, 4, 5, 6, 3, 4, 1, 2, 4, 6, 6, 2, 3, 1, 2, 3, 4, 5, 2, 4, 5, 1, 4, 4, 6, 1, 2, 3, 4, 5, 6, 3, 2, 3, 5, 1, 4, 3, 1, 1, 4, 5, 6, 1, 5, 6, 5, 6, 6, 5, 6, 1, 5, 4, 4, 4, 2, 1, 4, 2, 3, 5, 6, 4, 6, 1, 2, 3, 4, 5, 6, 3, 1, 2, 4, 5, 5, 5, 6, 1, 2, 5, 6, 6, 1, 1, 3, 4, 6, 1, 4, 1, 3, 4, 1, 6, 1, 5, 1, 2, 3, 4, 1, 4, 1, 4, 3, 4, 4, 1, 3, 4, 1, 2, 3, 4, 5, 1, 4, 5, 1, 2, 4, 5, 1, 2, 4, 6, 1, 2, 4, 1, 2, 3, 4, 6, 3, 1, 2, 3, 6, 3, 5, 5], \"Freq\": [0.12894793377947492, 0.723720278337303, 0.1192768387460143, 0.029013285100381855, 1.00156766491575, 0.998892420414507, 1.000816702890289, 0.027611655008400956, 0.7955608099295525, 0.17775002911658114, 0.9951496523437341, 0.004838653090812321, 1.000446960504273, 1.0005251752921713, 0.9948591836599383, 0.004421596371821948, 1.0007021217033425, 0.0776852412650696, 0.5847503214789206, 0.3357916406856088, 0.0018295437254454796, 1.0004675377549794, 1.0006842394850994, 1.0010431140024234, 0.06647940305829862, 0.93308590721112, 0.46567060306420877, 0.11561477041594148, 0.07332973864344437, 0.29599522240747983, 0.04924332814012322, 1.0007068629446936, 1.000633228490092, 0.49288498848430656, 0.19749746925329356, 0.0008586846489273633, 0.3091264736138508, 1.0005566673945148, 0.12468240053350998, 0.875085737077783, 0.10914497530002412, 0.27613963724731955, 0.04702068126502345, 0.20005162574573612, 0.3676162353447288, 0.5559848792312815, 0.07046785097233685, 0.019394821368533075, 0.14524566224879215, 0.17692387048406283, 0.032109204265682534, 1.0006102749520656, 0.999956227153892, 0.20236147689850612, 0.12151986907900113, 0.6765979151263029, 1.0006571561155895, 1.0007395122272842, 1.000701336616933, 1.0000341562866861, 1.0004415713642005, 1.0007017277459944, 1.0005653190819432, 1.0006937265803788, 0.8446292323372133, 0.04727496750884732, 0.10820152991329761, 0.4438142366074166, 0.10536077812143547, 0.4084534275118663, 0.041855651582488065, 0.006857219252688992, 0.8811526739705354, 0.11314411766936837, 1.000689680292524, 1.000596307689436, 1.0008386220229684, 0.3674119293147418, 0.13206969351043424, 0.49402009414617315, 0.006454533893367086, 0.9486729277227759, 0.052084003874975936, 0.22395427334918344, 0.0031705238183282083, 0.12480334666691947, 0.642463417368507, 0.005764588760596742, 0.6035879151988695, 0.1215510761332591, 0.12363480886697212, 0.06320655958929473, 0.07779268872528583, 0.010418663668565066, 1.0017340364431715, 1.000696451662509, 1.0000575960623053, 0.3282128346299519, 0.1306319739820704, 0.3567885789385298, 0.02612639479641408, 0.11593587690908748, 0.04327184138156082, 0.9968470895268408, 0.00295216314766093, 0.9795229694206345, 0.021178875014500206, 1.0016263896386144, 1.0006977017447305, 0.1210284251034342, 0.0022412671315450777, 0.8763354484341254, 0.0016756488372354653, 0.9986867069923372, 0.9789790104027069, 0.0068079207955681975, 0.013615841591136395, 0.4361747052810489, 0.5341559796557773, 0.029499738521423596, 1.0005849028459852, 0.6773290351572165, 0.3228184084862468, 0.11130393106276355, 0.13066113646498329, 0.7573506613618476, 0.9986467242081705, 0.47856786697057563, 0.13197336505555957, 0.048229468957181235, 0.13745398652796653, 0.18151818316611848, 0.022141710748524113, 0.017084661852112205, 0.22551753644788108, 0.05637938411197027, 0.5774615706013925, 0.12471803152041909, 0.9882791582311538, 0.012392215150233903, 1.0007144795907554, 0.9992754116852529, 0.1364107493037156, 0.025432512582048674, 0.7699115172565644, 0.06936139795104183, 0.20967674176189538, 0.3209743487634702, 0.11924743607311586, 0.33786773554049493, 0.012255986485292462, 1.000071342484464, 1.0008502039484601, 0.014224585142276747, 0.4536893998010373, 0.4828872324615001, 0.03893044354728373, 0.009732610886820932, 0.06674789110645228, 0.1695757233515274, 0.6295949728689688, 0.1352997792698357, 1.0007960225955375, 1.0016474503868915, 0.10078193304135291, 0.8443891687248488, 0.05447672056289347, 1.0007005434381004, 0.03207800566743843, 0.5184853160941069, 0.19312268718151707, 0.09361540429476929, 0.1302759822004132, 0.03273265884432493, 1.0001577477331383, 0.7850098439729603, 0.09160884585159314, 0.10135446775069878, 0.022414930367943, 1.00067112858347, 0.030788927932982223, 0.96985122988894, 0.14093354018285234, 0.36099779759951933, 0.3061261323643924, 0.19176203008486467, 0.1730905562259621, 0.728485471420571, 0.03461811124519242, 0.06472081667579452, 0.40604891426094064, 0.45151184452048293, 0.0979401411876997, 0.033512674305605464, 0.011170891435201821, 1.001520447968301, 0.5979732892260459, 0.0593081892177162, 0.10822215970655431, 0.18893021101313717, 0.03729690249773906, 0.008559944835546668, 1.0016741939156737, 0.9761179508407261, 0.023273499529161773, 1.0006800769435755, 1.000683509496931, 0.9997234948607684, 0.07118399788980352, 0.3244545990774378, 0.348182598374039, 0.25507599243846263, 0.0012895651791631074, 1.0007483021000974, 0.005266809490013529, 0.015800428470040585, 0.9796265651425162, 1.0005438972795921, 0.08543826172131819, 0.0018573535156808302, 0.9119605761992876, 0.21829610327802737, 0.782778956198987, 0.99498783543307, 0.0056856447739032576, 1.0004912473759549, 0.8962135375111723, 0.10461636624644034, 1.0007003631942855, 0.8098163251202526, 0.07915497914709237, 0.08828824597175686, 0.022833167061661257, 0.06820058164032836, 0.9058816387443616, 0.025204562780121353, 0.010812293456581369, 0.22242432253538819, 0.679629874413686, 0.08340912095077056, 0.004633840052820587, 1.0001870266257948, 1.0005491867694045, 1.0006529611412802, 0.08186676618916867, 0.8424354327208003, 0.03961295138185581, 0.03697208795639876, 1.0008228992636234, 0.08094809961466204, 0.9207846331167806, 0.9859909152649059, 0.013433118736579099, 0.9992528359725684, 0.056889876047119564, 0.3116575818233506, 0.4996415200660066, 0.08904502337810019, 0.033804129245389884, 0.009069400529250945, 0.025022943216493357, 0.9633833138349942, 0.012511471608246678, 0.09826679810981796, 0.9025987381938835, 0.0048123656244173744, 0.9961596842543966, 1.0007348030488967, 0.008296361974942667, 0.9927979830014724, 1.0007197465972015, 0.6793687269770979, 0.011419843465996043, 0.3069922625858936, 0.0020152664939993015, 0.027215328297468765, 0.3243772913292899, 0.05443065659493753, 0.0853237319596318, 0.4692805257779749, 0.03971966832603549, 0.9894351087700236, 0.01124358078147754, 0.8826754445355544, 0.09959391077724175, 0.013669752459621418, 0.0039056435598918333, 1.0006641953248308, 0.9930406781198218, 0.00752303544030168, 0.7986621764492731, 0.01407334231628675, 0.17591677895358437, 0.012314174526750906, 0.40378509499887616, 0.20985450711913425, 0.2604698218443455, 0.050046603323804374, 0.04037850949988762, 0.03582881828863268, 1.0015986135735944, 1.0018866453215667, 1.0004675377549794, 1.000679647076786, 0.8291226827059727, 0.11400436887207123, 0.057742472545594524, 1.000369244926761, 0.8549031076238827, 0.11527150381636003, 0.0254707572172127, 0.004571674372320228, 0.014796401472717394, 0.9819430068257906, 0.0026902548132213444, 0.00612227651803269, 0.99384955476064, 0.06485134307482489, 0.936021051713306, 0.2725324419871516, 0.045212755352707176, 0.6643763217106138, 0.017582738192719456, 0.017969524064002554, 0.058400953208008304, 0.9254304892961316, 1.000689680292524, 1.0007772609707672, 0.1371924901635326, 0.008515395941184781, 0.8259934062949239, 0.013246171464065216, 0.01513848167321739, 1.0015449908754557, 1.0007164599688676, 0.9992049133706382, 1.000886182014121, 0.7434860209961777, 0.03864852306357408, 0.21754735662589123, 0.9745259921780499, 0.025549370581447003, 1.001747315166214, 0.9998182640197288, 0.025969869730754026, 0.007419962780215436, 0.0500847487664542, 0.2726836321729173, 0.6436817711836891, 0.5780420174711438, 0.1281157453927272, 0.038536134498076254, 0.1889622735475844, 0.047663113721304835, 0.01893003098151114, 0.2397796066100239, 0.30066114735085026, 0.19169880007624307, 0.21823690757865455, 0.03153351597345366, 0.017796142678087712, 0.9890778854565144, 0.01071756222630898, 1.0002529104023636, 0.03983107968490863, 0.9590098416443384, 0.148604918125815, 0.09035179022049551, 0.6788272659987229, 0.08202991480544987, 0.13391597799930335, 0.2509517907045769, 0.09059022041129344, 0.35673415988049717, 0.16767630858736304, 0.0005626721764676612, 0.31961120451187197, 0.05490253819835838, 0.02156885429221222, 0.5078484783348151, 0.06568696534446448, 0.030392476502662674, 1.0006622504638252, 0.017144195552073145, 0.6637252849445461, 0.08817014855351904, 0.12735688124397193, 0.1036815635768233, 1.0006751074320797, 0.045262146711071545, 0.9555342083448438, 0.00991879180751507, 0.024796979518787676, 0.9670822012327194, 0.8807946617108786, 0.09047995476694559, 0.02954447502594142, 0.009840278018593496, 0.6129087451581092, 0.15463294029218352, 0.2045372073864791, 0.01827480203453078, 0.08763389531375841, 0.852207880514955, 0.044451975883790504, 0.015240677445871029, 0.8311699912198866, 0.16836065920232243, 0.3305896762389044, 0.19873234354056274, 0.21135027011456672, 0.25992928742448207, 0.011162248532592532, 0.09208855039388839, 0.041858431997221994, 0.8539120127433287, 0.2050763940343072, 0.6977055579645451, 0.06241455470609349, 0.03566545983205342, 0.012615813282205783, 0.9882387071061196, 1.0000757254813288, 0.9197637105050157, 0.002966979711306502, 0.025713824164656354, 0.05142764832931271, 1.0008444939344663, 0.007511443559498851, 0.9858769671842242, 0.005633582669624139, 0.13053318860908414, 0.07618479781273683, 0.13975300490489306, 0.2256428725026919, 0.42799357752123496, 0.00899743232240749, 0.011996576429876652, 0.25492724913487885, 0.7227937299000683, 0.34082470139287474, 0.02953814078738248, 0.6237092035489609, 0.005680411689881246, 0.99875872819814, 0.042376617816342096, 0.956500802140293, 1.0017947551348978, 1.000658454751894, 0.2587412636498408, 0.7396341173020701, 0.0017423654117834397, 0.11006311661281978, 0.02491995093120448, 0.8555849819713538, 0.010383312888001867, 1.0001577477331383, 0.15669492235864266, 0.11161830085821121, 0.11805781821541571, 0.2865585223955999, 0.3273421323245617, 0.009049955370577439, 0.10407448676164055, 0.17194915204097133, 0.042233125062694714, 0.15837421898510518, 0.5143391302278177, 0.08240431289866999, 0.8419571100516282, 0.0752387204726987, 0.11721177886120478, 0.6400135226707054, 0.0018605044263683298, 0.2325630532960412, 0.00930252213184165, 0.08113477912062267, 0.12117531946586502, 0.7976497116144332, 1.0007052573856325, 0.24022638382025804, 0.20359611962071517, 0.37737690791622097, 0.03918586402741798, 0.12266879173800412, 0.0178891987951256, 0.3283125361971825, 0.1317105086505331, 0.37585681736859444, 0.13620794065323422, 0.028269572588407104, 0.3531769591456077, 0.6465855098204203, 1.0017014129879254, 0.008865212697724778, 0.14627600951245884, 0.07092170158179822, 0.7734898078764868, 1.0018238633849252, 0.9987167206818025, 1.001059290144692, 0.37799424932611037, 0.6218955666287123, 1.0009755264923734, 0.024409949372344777, 0.029291939246813732, 0.9471060356469774, 1.0005594747446236, 0.004135530305760527, 0.9098166672673159, 0.0620329545864079, 0.024813181834563162, 0.38377845753698775, 0.07810755300165699, 0.0623358355686301, 0.34622674936311415, 0.1299289102816025, 0.9176762511761765, 0.08308939899985501, 1.0006020154238173, 0.999977727416993, 1.0008006929273905, 1.0016777794204028, 0.4402550018304855, 0.5597998993312728, 1.00072127951965, 0.28704119925194915, 0.6439542693744386, 0.03021486307915254, 0.039657007791387706, 1.0003307842386544, 0.06049514371899179, 0.021686938314355548, 0.9176999160390452, 0.9998699600845333, 1.0005251752921713, 0.3624969311704798, 0.6383482544026499, 1.0006523621104122, 1.0000757254813288, 0.023713852683421643, 0.9770107305569717, 1.000142400611287, 1.000750987884828, 1.0004772754990332, 1.0017824106289486, 1.0005442276211602, 1.000529108616784, 1.001809948790639, 0.9966595429460371, 0.002734319733733984, 1.0016081998290223, 1.000558430738474, 1.0000004148704298, 1.0015267714084266, 1.0008838221875145, 0.9670790017749271, 0.032973010489718735, 0.022571201952140497, 0.9780854179260882, 0.009764045682109004, 0.9910506367340639, 0.9973201626364229, 0.003721343890434414, 1.0016592784914924, 0.9945707490176994, 0.005447570612773001, 1.0006401205536206, 0.5089141488845753, 0.49126394718915656, 0.9210242780511694, 0.08008906765662342, 0.9387568580961771, 0.06233932260794926, 0.9171788125841056, 0.08401637977869669, 1.0009222207487585, 0.8277602238325277, 0.17240084547724543, 0.5671216151285845, 0.4326861930180409, 0.03907045647912499, 0.026945142399396545, 0.9336491841390903, 0.4139676806611486, 0.005905387741243204, 0.5799090761900826, 0.5035086704498767, 0.49607431424189197, 0.23975707707706287, 0.5762835768298077, 0.1386546951770966, 0.04621823172569887, 1.0005491867694045, 0.06801266950804077, 0.37899813660640114, 0.04287755251593875, 0.4834813680245507, 0.02267088983601359, 0.003942763449741494, 0.07810983548814167, 0.1952745887203542, 0.524451752563237, 0.20308557226916835, 0.030910862866922628, 0.12217150561688468, 0.724197358596473, 0.051518104778204385, 0.07212534668948614, 0.02347718114063631, 0.3532248617068463, 0.48021506878574277, 0.02241003654333466, 0.053357229865082526, 0.06829725422730563, 1.000558430738474, 1.0005976621227113, 1.0006751074320797, 1.0007222474939739, 0.31200532106140594, 0.13180780345765414, 0.16178053684665494, 0.22930946628934348, 0.12386322352322018, 0.041528486020904726, 0.2504298057138876, 0.748970622644312, 0.0963127391951292, 0.8364001035366483, 0.06843273574390758, 0.020999257071964535, 0.9799653300250115, 0.37009985317136695, 0.03448657722733192, 0.5955243091939268, 0.9992252570301755, 1.0006244041240928, 1.0016741939156737, 0.9654591002095584, 0.03240289886286848, 0.0022092885588319414, 1.0007569235334468, 0.9998213415830729, 0.02721704468356794, 0.12852493322795971, 0.8240716306969181, 0.019656754493687957, 1.0005965521727067, 0.9996892451741515, 0.8176445930746001, 0.07031743500441562, 0.11283495384429482, 0.38612749567812016, 0.036038566263291216, 0.12098661531247766, 0.02188055808842681, 0.4350369784640154, 0.31274351607453554, 0.5075473446827313, 0.12363332755092173, 0.05612302369087894, 0.954718777251059, 0.04612168006043763, 0.9938483722321823, 0.0067608732804910355, 0.7979089034833514, 0.20188056594157086, 1.000558430738474, 1.0008584824688744, 1.0015730661946773, 1.0007036680892667, 0.0034654211277277943, 0.9966551163345135, 0.8248133904346091, 0.019557430907212382, 0.05527100038994803, 0.08418198520930546, 0.016156138575523272, 0.19400578811001162, 0.6427224012547804, 0.10534722902747942, 0.04359915023117465, 0.01418536945320515, 1.0007007333365783, 1.0006122579696821, 1.0007116442609862, 1.0010423170162264, 1.0006072389837108, 0.04580420758860766, 0.019743192926123993, 0.7273392273984078, 0.20690866186577944, 1.0010331502510184, 1.0000888632912908, 0.9992103319415852, 0.9994222292674094, 0.98861118566186, 0.010944035265629447, 1.0008885125370326, 1.000464789110786, 1.0000757254813288, 1.0006720701951872, 0.014881720665697262, 0.9003441002746844, 0.08556989382775926, 1.0007908185114236, 0.8493881159032053, 0.04758880785196227, 0.07498842449400114, 0.02884170172846198, 0.010918789671452286, 0.9899702635450073, 1.0007217266043564, 0.22476352966780397, 0.5219085349913414, 0.13809623644843888, 0.1152389283466283, 1.0006874038246636, 1.0006221272258213, 0.17813386536264167, 0.8226545782201997, 0.00947769059051005, 0.9079627585708628, 0.00379107623620402, 0.07961260096028441, 0.7088446525882385, 0.016867213624943214, 0.11891385605584964, 0.15560004569010114, 0.19019381458298507, 0.3501938556248017, 0.16768327805898897, 0.1539343276072069, 0.1256276649123615, 0.012535807764860107, 1.0004625349510103, 1.0006654913150004, 0.07205586217256332, 0.07010840643816972, 0.8237737756484942, 0.03505420321908486, 1.0015390391099905, 1.0006590977054297, 1.0005045091794424, 0.03138160841815777, 0.3159803330380024, 0.012985493138548044, 0.5735259469525386, 0.06600959012095255, 0.043363221921813466, 0.03959250697209055, 0.9162837327826671, 0.224542876568391, 0.7748310529472647, 1.000592690384626, 1.001818784885266, 0.25107514951185356, 0.30744862647772253, 0.22975744813820562, 0.05258366338833159, 0.10658850686823972, 0.05305739008552377, 1.000637975647855, 0.04835074833244491, 0.9525097421491647, 1.0007156595643667, 0.9847123024853519, 0.014433893684638708, 1.0006641410233592, 1.0006774035289092, 1.000698357413529, 1.0003599900534863, 0.11471108991635111, 0.8870990953531152, 0.02140287010554247, 0.7643882180550883, 0.2140287010554247, 0.38680432033288614, 0.6126264957873456, 0.9986581770371576, 0.06729392463507815, 0.9321454745747861, 1.0006620564247979, 1.0009082538723224, 1.0000575960623053, 1.0003956883654437, 1.0001577477331383, 1.0006670893441953, 0.1000843220127286, 0.9007588981145574, 0.03454175841280405, 0.13600817375041593, 0.11657843464321366, 0.7124237672640835, 1.000288112141727, 1.0018319804100966, 0.0897156024497535, 0.2899283875777345, 0.1368543088216579, 0.23062485375501607, 0.1890616932980681, 0.06487907973767484, 1.0008295399886011, 0.10995943789273667, 0.11567161648456714, 0.15565686662738049, 0.6183433325656491, 0.9986413299148421, 0.9985666802459036, 0.0013087374577272655, 0.019243511923415182, 0.9814191080941743, 0.987054513593544, 0.013804958232077539, 1.0016777794204028, 0.9995012153243735, 1.0007103766414922, 1.000565214459181, 1.0002767038992701, 1.0015508260083086, 0.02764560976981982, 0.9731254638976577, 0.16442567158432037, 0.016442567158432037, 0.8200730370267978, 0.02990454952526911, 0.9718978595712461, 0.9997631388099127, 1.0008325829824296, 0.10487548253796142, 0.03651914124089728, 0.1816593179675403, 0.6770086953120188, 0.018191992939157266, 0.9823676187144924, 0.06066500805490992, 0.9382854579159402, 0.040966583409935496, 0.959788525604203, 1.0009361304256397, 0.726159735408531, 0.039096898891342304, 0.2351026853332717, 0.03440780165175764, 0.004691972952512406, 0.6725161231934448, 0.20019084597386264, 0.0891474860977357, 0.8974618016584525, 0.09246576138299206, 0.009790492381728572, 0.9387283138770111, 0.019255965412861765, 0.015886171465610957, 0.025995553307363386, 0.09750781827285845, 0.044321735578572025, 0.1484778141882163, 0.7091477692571524, 0.13241946227626789, 0.24147078415084144, 0.6257468707564816, 0.31721602959338613, 0.14713424351352802, 0.35366212661049856, 0.1775059910277884, 0.004724494057773836, 1.0005251752921713, 0.0018291451574170953, 0.010517584655148298, 0.973562510035249, 0.014175874969982488, 0.05474291626583868, 0.9462704097380686, 1.0007106542786466], \"Term\": [\"\\u4e00\\u540d\", \"\\u4e00\\u540d\", \"\\u4e00\\u540d\", \"\\u4e00\\u540d\", \"\\u4e09\\u5206\", \"\\u4e09\\u5206\\u7403\", \"\\u4e09\\u632f\", \"\\u4e0a\\u6d77\", \"\\u4e0a\\u6d77\", \"\\u4e0a\\u6d77\", \"\\u4e0a\\u6f32\", \"\\u4e0a\\u6f32\", \"\\u4e0a\\u73ed\", \"\\u4e0b\\u540c\", \"\\u4e0b\\u8dcc\", \"\\u4e0b\\u8dcc\", \"\\u4e2d\\u5171\", \"\\u4e2d\\u570b\", \"\\u4e2d\\u570b\", \"\\u4e2d\\u570b\", \"\\u4e2d\\u570b\", \"\\u4e2d\\u570b\\u8b49\\u76e3\\u6703\", \"\\u4e2d\\u65b9\", \"\\u4e2d\\u8077\", \"\\u4e2d\\u83ef\\u968a\", \"\\u4e2d\\u83ef\\u968a\", \"\\u4e3b\\u8981\", \"\\u4e3b\\u8981\", \"\\u4e3b\\u8981\", \"\\u4e3b\\u8981\", \"\\u4e3b\\u8981\", \"\\u4e58\\u5ba2\", \"\\u4e8b\\u6545\", \"\\u4ea4\\u6613\", \"\\u4ea4\\u6613\", \"\\u4ea4\\u6613\", \"\\u4ea4\\u6613\", \"\\u4eba\\u6b0a\", \"\\u4eba\\u6c11\\u5e63\", \"\\u4eba\\u6c11\\u5e63\", \"\\u4eca\\u5929\", \"\\u4eca\\u5929\", \"\\u4eca\\u5929\", \"\\u4eca\\u5929\", \"\\u4eca\\u5929\", \"\\u4eca\\u5e74\", \"\\u4eca\\u5e74\", \"\\u4eca\\u5e74\", \"\\u4eca\\u5e74\", \"\\u4eca\\u5e74\", \"\\u4eca\\u5e74\", \"\\u4ee5\\u5df4\", \"\\u4ee5\\u8272\\u5217\", \"\\u4f01\\u696d\", \"\\u4f01\\u696d\", \"\\u4f01\\u696d\", \"\\u4f0a\\u6717\", \"\\u4f3a\\u670d\\u5668\", \"\\u4fc4\\u570b\", \"\\u4fc4\\u7f85\\u65af\", \"\\u4fe1\\u606f\", \"\\u500b\\u80a1\", \"\\u502b\\u65af\\u57fa\", \"\\u50b5\\u5238\", \"\\u5104\\u5143\", \"\\u5104\\u5143\", \"\\u5104\\u5143\", \"\\u5104\\u7f8e\\u5143\", \"\\u5104\\u7f8e\\u5143\", \"\\u5104\\u7f8e\\u5143\", \"\\u5104\\u7f8e\\u5143\", \"\\u5148\\u767c\", \"\\u5148\\u767c\", \"\\u5148\\u767c\", \"\\u5149\\u8292\", \"\\u5167\\u5730\", \"\\u5168\\u58d8\\u6253\", \"\\u5168\\u7403\", \"\\u5168\\u7403\", \"\\u5168\\u7403\", \"\\u5168\\u7403\", \"\\u5169\\u5cb8\", \"\\u5169\\u5cb8\", \"\\u516c\\u53f8\", \"\\u516c\\u53f8\", \"\\u516c\\u53f8\", \"\\u516c\\u53f8\", \"\\u516c\\u53f8\", \"\\u516c\\u5e03\", \"\\u516c\\u5e03\", \"\\u516c\\u5e03\", \"\\u516c\\u5e03\", \"\\u516c\\u5e03\", \"\\u516c\\u5e03\", \"\\u516c\\u9e7f\", \"\\u5171\\u548c\\u9ee8\", \"\\u518d\\u751f\\u80fd\\u6e90\", \"\\u51fa\\u73fe\", \"\\u51fa\\u73fe\", \"\\u51fa\\u73fe\", \"\\u51fa\\u73fe\", \"\\u51fa\\u73fe\", \"\\u51fa\\u73fe\", \"\\u5229\\u7387\", \"\\u5229\\u7387\", \"\\u5236\\u88c1\", \"\\u5236\\u88c1\", \"\\u5289\\u931a\", \"\\u52a0\\u85a9\", \"\\u52a9\\u653b\", \"\\u52a9\\u653b\", \"\\u52a9\\u653b\", \"\\u52c7\\u58eb\", \"\\u52c7\\u58eb\", \"\\u52d5\\u80fd\", \"\\u52d5\\u80fd\", \"\\u52d5\\u80fd\", \"\\u5317\\u4eac\", \"\\u5317\\u4eac\", \"\\u5317\\u4eac\", \"\\u5317\\u7d04\", \"\\u534a\\u5c0e\\u9ad4\", \"\\u534a\\u5c0e\\u9ad4\", \"\\u5373\\u6642\", \"\\u5373\\u6642\", \"\\u5373\\u6642\", \"\\u5373\\u6642\\u6bd4\\u5206\", \"\\u53bb\\u5e74\", \"\\u53bb\\u5e74\", \"\\u53bb\\u5e74\", \"\\u53bb\\u5e74\", \"\\u53bb\\u5e74\", \"\\u53bb\\u5e74\", \"\\u53c3\\u52a0\", \"\\u53c3\\u52a0\", \"\\u53c3\\u52a0\", \"\\u53c3\\u52a0\", \"\\u53c3\\u52a0\", \"\\u53cd\\u5c0d\", \"\\u53cd\\u5c0d\", \"\\u53d6\\u6750\\u81ea\", \"\\u53d7\\u60e0\", \"\\u53f0\\u5317\", \"\\u53f0\\u5317\", \"\\u53f0\\u5317\", \"\\u53f0\\u5317\", \"\\u53f0\\u7063\", \"\\u53f0\\u7063\", \"\\u53f0\\u7063\", \"\\u53f0\\u7063\", \"\\u53f0\\u7063\", \"\\u53f0\\u80a1\", \"\\u53f0\\u92fc\", \"\\u5408\\u4f5c\", \"\\u5408\\u4f5c\", \"\\u5408\\u4f5c\", \"\\u5408\\u4f5c\", \"\\u5408\\u4f5c\", \"\\u5408\\u7d04\", \"\\u5408\\u7d04\", \"\\u5408\\u7d04\", \"\\u5408\\u7d04\", \"\\u5473\\u5168\", \"\\u547d\\u4e2d\\u7387\", \"\\u54c1\\u724c\", \"\\u54c1\\u724c\", \"\\u54c1\\u724c\", \"\\u54c8\\u746a\\u65af\", \"\\u554f\\u984c\", \"\\u554f\\u984c\", \"\\u554f\\u984c\", \"\\u554f\\u984c\", \"\\u554f\\u984c\", \"\\u554f\\u984c\", \"\\u56de\\u6536\", \"\\u570b\\u5bb6\", \"\\u570b\\u5bb6\", \"\\u570b\\u5bb6\", \"\\u570b\\u5bb6\", \"\\u570b\\u6703\", \"\\u570b\\u7522\", \"\\u570b\\u7522\", \"\\u570b\\u969b\", \"\\u570b\\u969b\", \"\\u570b\\u969b\", \"\\u570b\\u969b\", \"\\u57ce\\u5e02\", \"\\u57ce\\u5e02\", \"\\u57ce\\u5e02\", \"\\u57ce\\u5e02\", \"\\u5831\\u5c0e\", \"\\u5831\\u5c0e\", \"\\u5831\\u5c0e\", \"\\u5831\\u5c0e\", \"\\u5831\\u5c0e\", \"\\u585e\\u723e\\u8482\", \"\\u589e\\u52a0\", \"\\u589e\\u52a0\", \"\\u589e\\u52a0\", \"\\u589e\\u52a0\", \"\\u589e\\u52a0\", \"\\u589e\\u52a0\", \"\\u5916\\u7dda\", \"\\u5916\\u8cc7\", \"\\u5916\\u8cc7\", \"\\u5927\\u6f32\", \"\\u5927\\u76e4\", \"\\u5927\\u8c37\", \"\\u5927\\u9678\", \"\\u5927\\u9678\", \"\\u5927\\u9678\", \"\\u5927\\u9678\", \"\\u5927\\u9678\", \"\\u5929\\u4f7f\", \"\\u5929\\u6c23\", \"\\u5929\\u6c23\", \"\\u5929\\u6c23\", \"\\u592a\\u967d\\u80fd\", \"\\u5967\\u904b\", \"\\u5967\\u904b\", \"\\u5967\\u904b\", \"\\u5973\\u5b50\", \"\\u5973\\u5b50\", \"\\u59bb\\u5b50\", \"\\u59bb\\u5b50\", \"\\u5a03\\u54c8\\u54c8\", \"\\u5b69\\u5b50\", \"\\u5b69\\u5b50\", \"\\u5b88\\u5099\", \"\\u5b89\\u5168\", \"\\u5b89\\u5168\", \"\\u5b89\\u5168\", \"\\u5b89\\u5168\", \"\\u5b98\\u54e1\", \"\\u5b98\\u54e1\", \"\\u5b98\\u54e1\", \"\\u5b98\\u65b9\", \"\\u5b98\\u65b9\", \"\\u5b98\\u65b9\", \"\\u5b98\\u65b9\", \"\\u5b98\\u65b9\", \"\\u5be6\\u9a57\\u5ba4\", \"\\u5be7\\u5fb7\", \"\\u5c01\\u95dc\", \"\\u5c0f\\u6642\", \"\\u5c0f\\u6642\", \"\\u5c0f\\u6642\", \"\\u5c0f\\u6642\", \"\\u5c0f\\u7c73\", \"\\u5c3c\\u514b\", \"\\u5c3c\\u514b\", \"\\u5c55\\u671b\", \"\\u5c55\\u671b\", \"\\u5ddd\\u666e\", \"\\u5de5\\u4f5c\", \"\\u5de5\\u4f5c\", \"\\u5de5\\u4f5c\", \"\\u5de5\\u4f5c\", \"\\u5de5\\u4f5c\", \"\\u5de5\\u4f5c\", \"\\u5de5\\u5ee0\", \"\\u5de5\\u5ee0\", \"\\u5de5\\u5ee0\", \"\\u5de5\\u7a0b\", \"\\u5de5\\u7a0b\", \"\\u5de8\\u4eba\", \"\\u5de8\\u4eba\", \"\\u5de8\\u4eba\\u968a\", \"\\u5de8\\u86cb\", \"\\u5de8\\u86cb\", \"\\u5df4\\u52d2\\u65af\\u5766\", \"\\u5e02\\u5834\", \"\\u5e02\\u5834\", \"\\u5e02\\u5834\", \"\\u5e02\\u5834\", \"\\u5e0c\\u671b\", \"\\u5e0c\\u671b\", \"\\u5e0c\\u671b\", \"\\u5e0c\\u671b\", \"\\u5e0c\\u671b\", \"\\u5e0c\\u671b\", \"\\u5e33\\u865f\", \"\\u5e33\\u865f\", \"\\u5e36\\u52d5\", \"\\u5e36\\u52d5\", \"\\u5e36\\u52d5\", \"\\u5e36\\u52d5\", \"\\u5e74\\u6e1b\", \"\\u5ee3\\u5dde\", \"\\u5ee3\\u5dde\", \"\\u5f71\\u7247\", \"\\u5f71\\u7247\", \"\\u5f71\\u7247\", \"\\u5f71\\u7247\", \"\\u5f71\\u97ff\", \"\\u5f71\\u97ff\", \"\\u5f71\\u97ff\", \"\\u5f71\\u97ff\", \"\\u5f71\\u97ff\", \"\\u5f71\\u97ff\", \"\\u5f8c\\u885b\", \"\\u5f97\\u5206\", \"\\u5fae\\u4fe1\", \"\\u5fae\\u535a\", \"\\u5fb7\\u570b\", \"\\u5fb7\\u570b\", \"\\u5fb7\\u570b\", \"\\u6027\\u80fd\", \"\\u6210\\u9577\", \"\\u6210\\u9577\", \"\\u6210\\u9577\", \"\\u6210\\u9577\", \"\\u6230\\u722d\", \"\\u6230\\u722d\", \"\\u6230\\u722d\", \"\\u6230\\u7e3e\", \"\\u6230\\u7e3e\", \"\\u623f\\u5730\\u7522\", \"\\u623f\\u5730\\u7522\", \"\\u624b\\u6a5f\", \"\\u624b\\u6a5f\", \"\\u624b\\u6a5f\", \"\\u624b\\u6a5f\", \"\\u6253\\u51fa\", \"\\u6253\\u51fa\", \"\\u6253\\u51fa\", \"\\u6253\\u64ca\\u7387\", \"\\u6253\\u9ede\", \"\\u6280\\u8853\", \"\\u6280\\u8853\", \"\\u6280\\u8853\", \"\\u6280\\u8853\", \"\\u6280\\u8853\", \"\\u6295\\u4e2d\", \"\\u6295\\u4fe1\", \"\\u6295\\u624b\", \"\\u6295\\u7403\", \"\\u6295\\u8cc7\", \"\\u6295\\u8cc7\", \"\\u6295\\u8cc7\", \"\\u6295\\u8cc7\\u4eba\", \"\\u6295\\u8cc7\\u4eba\", \"\\u62c9\\u5fb7\", \"\\u62dc\\u767b\", \"\\u62ff\\u4e0b\", \"\\u62ff\\u4e0b\", \"\\u62ff\\u4e0b\", \"\\u62ff\\u4e0b\", \"\\u62ff\\u4e0b\", \"\\u6301\\u7e8c\", \"\\u6301\\u7e8c\", \"\\u6301\\u7e8c\", \"\\u6301\\u7e8c\", \"\\u6301\\u7e8c\", \"\\u6301\\u7e8c\", \"\\u6307\\u51fa\", \"\\u6307\\u51fa\", \"\\u6307\\u51fa\", \"\\u6307\\u51fa\", \"\\u6307\\u51fa\", \"\\u6307\\u51fa\", \"\\u6307\\u6578\", \"\\u6307\\u6578\", \"\\u6392\\u653e\", \"\\u6392\\u884c\", \"\\u6392\\u884c\", \"\\u63a8\\u51fa\", \"\\u63a8\\u51fa\", \"\\u63a8\\u51fa\", \"\\u63a8\\u51fa\", \"\\u63d0\\u4f9b\", \"\\u63d0\\u4f9b\", \"\\u63d0\\u4f9b\", \"\\u63d0\\u4f9b\", \"\\u63d0\\u4f9b\", \"\\u63d0\\u4f9b\", \"\\u63d0\\u5347\", \"\\u63d0\\u5347\", \"\\u63d0\\u5347\", \"\\u63d0\\u5347\", \"\\u63d0\\u5347\", \"\\u63d0\\u5347\", \"\\u63f4\\u52a9\", \"\\u652f\\u6301\", \"\\u652f\\u6301\", \"\\u652f\\u6301\", \"\\u652f\\u6301\", \"\\u652f\\u6301\", \"\\u6536\\u76e4\", \"\\u6536\\u8cfc\", \"\\u6536\\u8cfc\", \"\\u653b\\u4e0b\", \"\\u653b\\u4e0b\", \"\\u653b\\u4e0b\", \"\\u653b\\u64ca\", \"\\u653b\\u64ca\", \"\\u653b\\u64ca\", \"\\u653f\\u5e9c\", \"\\u653f\\u5e9c\", \"\\u653f\\u5e9c\", \"\\u653f\\u5e9c\", \"\\u653f\\u5e9c\", \"\\u653f\\u6cbb\", \"\\u653f\\u6cbb\", \"\\u653f\\u6cbb\", \"\\u653f\\u6cbb\", \"\\u6559\\u7df4\", \"\\u6559\\u7df4\", \"\\u6578\\u64da\", \"\\u6578\\u64da\", \"\\u6578\\u64da\", \"\\u6578\\u64da\", \"\\u6587\\u5b57\", \"\\u6587\\u5b57\", \"\\u6587\\u5b57\", \"\\u6587\\u5b57\", \"\\u65b0\\u805e\", \"\\u65b0\\u805e\", \"\\u65b0\\u805e\", \"\\u65b0\\u805e\", \"\\u65b0\\u80fd\\u6e90\", \"\\u65b0\\u80fd\\u6e90\", \"\\u65b0\\u85e5\", \"\\u65b0\\u9ad8\", \"\\u65b0\\u9ad8\", \"\\u65b0\\u9ad8\", \"\\u65b0\\u9ad8\", \"\\u65c5\\u5ba2\", \"\\u65c5\\u904a\", \"\\u65c5\\u904a\", \"\\u65c5\\u904a\", \"\\u65e5\\u672c\", \"\\u65e5\\u672c\", \"\\u65e5\\u672c\", \"\\u65e5\\u672c\", \"\\u65e5\\u672c\", \"\\u660e\\u661f\", \"\\u660e\\u661f\", \"\\u660e\\u661f\", \"\\u660e\\u661f\", \"\\u6625\\u7bc0\", \"\\u6625\\u7bc0\", \"\\u6625\\u7bc0\", \"\\u6625\\u7bc0\", \"\\u6625\\u8a13\", \"\\u6642\\u9593\\u8868\", \"\\u6642\\u9593\\u8868\", \"\\u6649\\u7d1a\", \"\\u666e\\u4ead\", \"\\u6676\\u7247\", \"\\u6676\\u7247\", \"\\u6676\\u7247\", \"\\u667a\\u6167\", \"\\u667a\\u6167\", \"\\u667a\\u6167\", \"\\u667a\\u6167\", \"\\u667a\\u80fd\\u624b\\u6a5f\", \"\\u6700\\u5f8c\", \"\\u6700\\u5f8c\", \"\\u6700\\u5f8c\", \"\\u6700\\u5f8c\", \"\\u6700\\u5f8c\", \"\\u6700\\u7d42\", \"\\u6700\\u7d42\", \"\\u6700\\u7d42\", \"\\u6700\\u7d42\", \"\\u6700\\u7d42\", \"\\u6700\\u7d42\", \"\\u6703\\u8b70\", \"\\u6703\\u8b70\", \"\\u6703\\u8b70\", \"\\u6709\\u4eba\", \"\\u6709\\u4eba\", \"\\u6709\\u4eba\", \"\\u6709\\u4eba\", \"\\u6709\\u4eba\", \"\\u670d\\u52d9\", \"\\u670d\\u52d9\", \"\\u670d\\u52d9\", \"\\u671f\\u8ca8\", \"\\u671f\\u9593\", \"\\u671f\\u9593\", \"\\u671f\\u9593\", \"\\u671f\\u9593\", \"\\u671f\\u9593\", \"\\u671f\\u9593\", \"\\u672a\\u4f86\", \"\\u672a\\u4f86\", \"\\u672a\\u4f86\", \"\\u672a\\u4f86\", \"\\u672a\\u4f86\", \"\\u672c\\u5b63\", \"\\u672c\\u5b63\", \"\\u6771\\u5340\", \"\\u6771\\u897f\", \"\\u6771\\u897f\", \"\\u6771\\u897f\", \"\\u6771\\u897f\", \"\\u67ef\\u745e\", \"\\u6885\\u897f\", \"\\u68d2\\u7403\", \"\\u696d\\u52d9\", \"\\u696d\\u52d9\", \"\\u6a02\\u5929\", \"\\u6a21\\u578b\", \"\\u6a21\\u578b\", \"\\u6a21\\u578b\", \"\\u6a5f\\u5668\\u4eba\", \"\\u6a5f\\u5834\", \"\\u6a5f\\u5834\", \"\\u6a5f\\u5834\", \"\\u6a5f\\u5834\", \"\\u6a5f\\u6703\", \"\\u6a5f\\u6703\", \"\\u6a5f\\u6703\", \"\\u6a5f\\u6703\", \"\\u6a5f\\u6703\", \"\\u6b50\\u76df\", \"\\u6b50\\u76df\", \"\\u6bcd\\u89aa\", \"\\u6bcf\\u80a1\", \"\\u6bd4\\u4e9e\\u8fea\", \"\\u6bd4\\u5fb7\", \"\\u6bd4\\u8cfd\", \"\\u6bd4\\u8cfd\", \"\\u6bdb\\u5229\\u7387\", \"\\u6c11\\u773e\", \"\\u6c11\\u773e\", \"\\u6c11\\u773e\", \"\\u6c11\\u773e\", \"\\u6c23\\u9ad4\", \"\\u6c7d\\u8eca\", \"\\u6c7d\\u8eca\", \"\\u6c7d\\u8eca\", \"\\u6cd5\\u4eba\", \"\\u6d77\\u5357\", \"\\u6d88\\u8cbb\", \"\\u6d88\\u8cbb\", \"\\u6de8\\u5229\", \"\\u6de8\\u5229\\u6f64\", \"\\u6df1\\u5733\", \"\\u6df1\\u5733\", \"\\u6df1\\u8015\", \"\\u6e2f\\u5e9c\", \"\\u6e2f\\u6fb3\", \"\\u6e56\\u4eba\", \"\\u6e56\\u5317\", \"\\u6e56\\u5357\", \"\\u6e6f\\u666e\\u68ee\", \"\\u6f32\\u5e45\", \"\\u6f32\\u5e45\", \"\\u704c\\u7c43\", \"\\u706b\\u707d\", \"\\u70cf\\u514b\\u862d\", \"\\u71b1\\u706b\", \"\\u71b1\\u8eab\\u8cfd\", \"\\u71df\\u6536\", \"\\u71df\\u6536\", \"\\u7269\\u6d41\", \"\\u7269\\u6d41\", \"\\u7279\\u65af\\u62c9\", \"\\u7279\\u65af\\u62c9\", \"\\u7345\\u968a\", \"\\u7345\\u968a\", \"\\u7368\\u884c\\u4fe0\", \"\\u7372\\u5229\", \"\\u7372\\u5229\", \"\\u738b\\u6bc5\", \"\\u7403\\u54e1\", \"\\u7403\\u54e1\", \"\\u7403\\u5718\", \"\\u7403\\u5718\", \"\\u7403\\u5834\", \"\\u7403\\u5834\", \"\\u7403\\u5b63\", \"\\u7403\\u5b63\", \"\\u7403\\u8863\", \"\\u7403\\u8ff7\", \"\\u7403\\u8ff7\", \"\\u7403\\u968a\", \"\\u7403\\u968a\", \"\\u751f\\u7522\", \"\\u751f\\u7522\", \"\\u751f\\u7522\", \"\\u7522\\u54c1\", \"\\u7522\\u54c1\", \"\\u7522\\u54c1\", \"\\u7522\\u696d\", \"\\u7522\\u696d\", \"\\u7576\\u5730\", \"\\u7576\\u5730\", \"\\u7576\\u5730\", \"\\u7576\\u5730\", \"\\u75ab\\u82d7\", \"\\u767c\\u5c55\", \"\\u767c\\u5c55\", \"\\u767c\\u5c55\", \"\\u767c\\u5c55\", \"\\u767c\\u5c55\", \"\\u767c\\u5c55\", \"\\u767c\\u5e03\", \"\\u767c\\u5e03\", \"\\u767c\\u5e03\", \"\\u767c\\u5e03\", \"\\u767c\\u73fe\", \"\\u767c\\u73fe\", \"\\u767c\\u73fe\", \"\\u767c\\u73fe\", \"\\u767c\\u73fe\", \"\\u767c\\u751f\", \"\\u767c\\u751f\", \"\\u767c\\u751f\", \"\\u767c\\u751f\", \"\\u767c\\u751f\", \"\\u767c\\u751f\", \"\\u767d\\u540d\\u55ae\", \"\\u767d\\u5bae\", \"\\u76c8\\u9918\", \"\\u76e4\\u4e2d\", \"\\u76ee\\u524d\", \"\\u76ee\\u524d\", \"\\u76ee\\u524d\", \"\\u76ee\\u524d\", \"\\u76ee\\u524d\", \"\\u76ee\\u524d\", \"\\u76f4\\u64ad\", \"\\u76f4\\u64ad\", \"\\u771f\\u7684\", \"\\u771f\\u7684\", \"\\u771f\\u7684\", \"\\u7814\\u767c\", \"\\u7814\\u767c\", \"\\u79d1\\u6280\", \"\\u79d1\\u6280\", \"\\u79d1\\u6280\", \"\\u7a05\\u5f8c\", \"\\u7acb\\u6cd5\", \"\\u7b2c\\u56db\\u7bc0\", \"\\u7b2c\\u5b63\", \"\\u7b2c\\u5b63\", \"\\u7b2c\\u5b63\", \"\\u7c43\\u5354\", \"\\u7c43\\u677f\", \"\\u7cfb\\u7d71\", \"\\u7cfb\\u7d71\", \"\\u7cfb\\u7d71\", \"\\u7cfb\\u7d71\", \"\\u7d0d\\u74e6\\u5c3c\", \"\\u7d14\\u76ca\", \"\\u7d44\\u7e54\", \"\\u7d44\\u7e54\", \"\\u7d44\\u7e54\", \"\\u7d71\\u8a08\", \"\\u7d71\\u8a08\", \"\\u7d71\\u8a08\", \"\\u7d71\\u8a08\", \"\\u7d71\\u8a08\", \"\\u7d93\\u6fdf\", \"\\u7d93\\u6fdf\", \"\\u7d93\\u6fdf\", \"\\u7d93\\u6fdf\", \"\\u7da0\\u8272\", \"\\u7da0\\u8272\", \"\\u7db2\\u4e0a\", \"\\u7db2\\u4e0a\", \"\\u7db2\\u53cb\", \"\\u7db2\\u53cb\", \"\\u7db2\\u6c11\", \"\\u7df4\\u7fd2\", \"\\u7e3d\\u6c7a\\u8cfd\", \"\\u7e3d\\u7406\", \"\\u7e3d\\u7d71\", \"\\u7e3d\\u7d71\", \"\\u7f8e\\u5143\", \"\\u7f8e\\u5143\", \"\\u7f8e\\u5143\", \"\\u7f8e\\u5143\", \"\\u7f8e\\u5143\", \"\\u7f8e\\u570b\", \"\\u7f8e\\u570b\", \"\\u7f8e\\u570b\", \"\\u7f8e\\u570b\", \"\\u7f8e\\u570b\", \"\\u7f8e\\u80a1\", \"\\u7f8e\\u8ecd\", \"\\u7fd2\\u8fd1\\u5e73\", \"\\u7fd4\\u5e73\", \"\\u806f\\u5408\\u570b\", \"\\u806f\\u76df\", \"\\u806f\\u76df\", \"\\u806f\\u76df\", \"\\u806f\\u76df\", \"\\u8077\\u68d2\", \"\\u80a1\\u50f9\", \"\\u80a1\\u5229\", \"\\u80a1\\u606f\", \"\\u80a1\\u7968\", \"\\u80a1\\u7968\", \"\\u80b2\\u6210\", \"\\u81e8\\u5e8a\", \"\\u822a\\u5929\", \"\\u822a\\u73ed\", \"\\u822a\\u7a7a\", \"\\u822a\\u7a7a\", \"\\u822a\\u7a7a\", \"\\u82af\\u7247\", \"\\u82f1\\u570b\", \"\\u82f1\\u570b\", \"\\u82f1\\u570b\", \"\\u82f1\\u570b\", \"\\u83ef\\u70ba\", \"\\u83ef\\u70ba\", \"\\u842c\\u4eba\\u6b21\", \"\\u842c\\u5143\", \"\\u842c\\u5143\", \"\\u842c\\u5143\", \"\\u842c\\u5143\", \"\\u842c\\u8f1b\", \"\\u85e5\\u7269\", \"\\u878d\\u8cc7\", \"\\u878d\\u8cc7\", \"\\u885d\\u7a81\", \"\\u885d\\u7a81\", \"\\u885d\\u7a81\", \"\\u885d\\u7a81\", \"\\u8868\\u73fe\", \"\\u8868\\u73fe\", \"\\u8868\\u73fe\", \"\\u8868\\u73fe\", \"\\u8868\\u793a\", \"\\u8868\\u793a\", \"\\u8868\\u793a\", \"\\u8868\\u793a\", \"\\u8868\\u793a\", \"\\u8868\\u793a\", \"\\u88ab\\u544a\", \"\\u88dc\\u8cbc\", \"\\u88fd\\u9020\", \"\\u88fd\\u9020\", \"\\u88fd\\u9020\", \"\\u88fd\\u9020\", \"\\u897f\\u5340\", \"\\u897f\\u65b9\", \"\\u8996\\u983b\", \"\\u8a08\\u756b\", \"\\u8a08\\u756b\", \"\\u8a08\\u756b\", \"\\u8a08\\u756b\", \"\\u8a08\\u756b\", \"\\u8a13\\u7df4\", \"\\u8a13\\u7df4\", \"\\u8a13\\u7df4\", \"\\u8a2d\\u5099\", \"\\u8a2d\\u5099\", \"\\u8a66\\u9a57\", \"\\u8a79\\u59c6\\u65af\", \"\\u8a8d\\u70ba\", \"\\u8a8d\\u70ba\", \"\\u8a8d\\u70ba\", \"\\u8a8d\\u70ba\", \"\\u8a8d\\u70ba\", \"\\u8a8d\\u70ba\", \"\\u8b49\\u76e3\\u6703\", \"\\u8b66\\u65b9\", \"\\u8b66\\u65b9\", \"\\u8b80\\u8ce3\", \"\\u8ca1\\u5831\", \"\\u8ca1\\u5831\", \"\\u8cb4\\u5dde\", \"\\u8cb7\\u8d85\", \"\\u8cb7\\u9032\", \"\\u8cc7\\u5b89\", \"\\u8cc7\\u683c\\u8cfd\", \"\\u8cc7\\u683c\\u8cfd\", \"\\u8cfd\\u4e8b\", \"\\u8cfd\\u4e8b\", \"\\u8cfd\\u4e8b\", \"\\u8cfd\\u5b63\", \"\\u8cfd\\u5b63\", \"\\u8cfd\\u6cc1\", \"\\u8cfd\\u7a0b\", \"\\u8cfd\\u7a0b\", \"\\u8d70\\u52e2\", \"\\u8db3\\u7403\", \"\\u8eca\\u4f01\", \"\\u8eca\\u578b\", \"\\u8eca\\u5ee0\", \"\\u8ecd\\u4e8b\", \"\\u8f49\\u578b\", \"\\u8f49\\u578b\", \"\\u9019\\u88e1\", \"\\u9019\\u88e1\", \"\\u9019\\u88e1\", \"\\u9019\\u88e1\", \"\\u901a\\u4fe1\", \"\\u9023\\u52dd\", \"\\u9032\\u884c\", \"\\u9032\\u884c\", \"\\u9032\\u884c\", \"\\u9032\\u884c\", \"\\u9032\\u884c\", \"\\u9032\\u884c\", \"\\u904a\\u5ba2\", \"\\u904b\\u52d5\", \"\\u904b\\u52d5\", \"\\u904b\\u52d5\", \"\\u904b\\u52d5\", \"\\u9053\\u5947\", \"\\u9078\\u624b\", \"\\u9078\\u624b\", \"\\u9078\\u8209\", \"\\u9078\\u8209\", \"\\u9081\\u963f\\u5bc6\", \"\\u9081\\u963f\\u5bc6\", \"\\u914b\\u9577\", \"\\u914d\\u606f\", \"\\u914d\\u767c\", \"\\u9152\\u5e97\", \"\\u91ab\\u5b78\\u9662\", \"\\u91d1\\u584a\", \"\\u92b7\\u91cf\", \"\\u92b7\\u91cf\", \"\\u958b\\u767c\", \"\\u958b\\u767c\", \"\\u958b\\u767c\", \"\\u9632\\u5b88\", \"\\u9632\\u5b88\", \"\\u964d\\u606f\", \"\\u96c4\\u9df9\", \"\\u96c6\\u5718\", \"\\u96c6\\u5718\", \"\\u96c6\\u5718\", \"\\u96c6\\u5718\", \"\\u96f6\\u4ef6\", \"\\u96f6\\u4ef6\", \"\\u96fb\\u52d5\\u8eca\", \"\\u96fb\\u52d5\\u8eca\", \"\\u96fb\\u5546\", \"\\u96fb\\u5546\", \"\\u96fb\\u6c60\", \"\\u9700\\u6c42\", \"\\u9700\\u6c42\", \"\\u9700\\u6c42\", \"\\u9805\\u76ee\", \"\\u9805\\u76ee\", \"\\u9805\\u76ee\", \"\\u9805\\u76ee\", \"\\u9805\\u76ee\", \"\\u9810\\u4f30\", \"\\u9810\\u4f30\", \"\\u9810\\u4f30\", \"\\u9810\\u671f\", \"\\u9810\\u671f\", \"\\u9810\\u671f\", \"\\u9810\\u671f\", \"\\u9818\\u5148\", \"\\u9818\\u5148\", \"\\u9818\\u5148\", \"\\u9818\\u5148\", \"\\u9818\\u57df\", \"\\u9818\\u57df\", \"\\u9818\\u57df\", \"\\u986f\\u793a\", \"\\u986f\\u793a\", \"\\u986f\\u793a\", \"\\u986f\\u793a\", \"\\u986f\\u793a\", \"\\u9910\\u5ef3\", \"\\u9999\\u6e2f\", \"\\u9999\\u6e2f\", \"\\u9999\\u6e2f\", \"\\u9999\\u6e2f\", \"\\u9ad4\\u80b2\", \"\\u9ad4\\u80b2\", \"\\u9f8d\\u968a\"]}, \"R\": 30, \"lambda.step\": 0.01, \"plot.opts\": {\"xlab\": \"PC1\", \"ylab\": \"PC2\"}, \"topic.order\": [3, 4, 5, 6, 1, 2]};\n",
       "\n",
       "function LDAvis_load_lib(url, callback){\n",
       "  var s = document.createElement('script');\n",
       "  s.src = url;\n",
       "  s.async = true;\n",
       "  s.onreadystatechange = s.onload = callback;\n",
       "  s.onerror = function(){console.warn(\"failed to load library \" + url);};\n",
       "  document.getElementsByTagName(\"head\")[0].appendChild(s);\n",
       "}\n",
       "\n",
       "if(typeof(LDAvis) !== \"undefined\"){\n",
       "   // already loaded: just create the visualization\n",
       "   !function(LDAvis){\n",
       "       new LDAvis(\"#\" + \"ldavis_el49961140055283688360047993\", ldavis_el49961140055283688360047993_data);\n",
       "   }(LDAvis);\n",
       "}else if(typeof define === \"function\" && define.amd){\n",
       "   // require.js is available: use it to load d3/LDAvis\n",
       "   require.config({paths: {d3: \"https://d3js.org/d3.v5\"}});\n",
       "   require([\"d3\"], function(d3){\n",
       "      window.d3 = d3;\n",
       "      LDAvis_load_lib(\"https://cdn.jsdelivr.net/gh/bmabey/pyLDAvis@3.4.0/pyLDAvis/js/ldavis.v3.0.0.js\", function(){\n",
       "        new LDAvis(\"#\" + \"ldavis_el49961140055283688360047993\", ldavis_el49961140055283688360047993_data);\n",
       "      });\n",
       "    });\n",
       "}else{\n",
       "    // require.js not available: dynamically load d3 & LDAvis\n",
       "    LDAvis_load_lib(\"https://d3js.org/d3.v5.js\", function(){\n",
       "         LDAvis_load_lib(\"https://cdn.jsdelivr.net/gh/bmabey/pyLDAvis@3.4.0/pyLDAvis/js/ldavis.v3.0.0.js\", function(){\n",
       "                 new LDAvis(\"#\" + \"ldavis_el49961140055283688360047993\", ldavis_el49961140055283688360047993_data);\n",
       "            })\n",
       "         });\n",
       "}\n",
       "</script>"
      ],
      "text/plain": [
       "PreparedData(topic_coordinates=              x         y  topics  cluster       Freq\n",
       "topic                                                \n",
       "2     -0.155748 -0.214638       1        1  25.813142\n",
       "3     -0.048262  0.171333       2        1  21.468324\n",
       "4     -0.081324  0.216607       3        1  17.476062\n",
       "5     -0.189095 -0.099519       4        1  15.115054\n",
       "0      0.156167  0.017777       5        1  13.297527\n",
       "1      0.318262 -0.091560       6        1   6.829891, topic_info=     Term         Freq        Total Category  logprob  loglift\n",
       "2648   中國  7105.000000  7105.000000  Default  30.0000  30.0000\n",
       "1484   今天  3509.000000  3509.000000  Default  29.0000  29.0000\n",
       "1222   市場  4465.000000  4465.000000  Default  28.0000  28.0000\n",
       "6990   香港  2186.000000  2186.000000  Default  27.0000  27.0000\n",
       "2670   公司  3469.000000  3469.000000  Default  26.0000  26.0000\n",
       "...   ...          ...          ...      ...      ...      ...\n",
       "4816   統計   338.285891   776.945448   Topic6  -5.4286   1.8524\n",
       "1258   數據   412.127830  1585.046472   Topic6  -5.2311   1.3368\n",
       "22     交易   360.238900  1164.571885   Topic6  -5.3657   1.5105\n",
       "427    最後   305.356377   931.746848   Topic6  -5.5310   1.5683\n",
       "508    表現   369.219676  2371.464599   Topic6  -5.3411   0.8240\n",
       "\n",
       "[446 rows x 6 columns], token_table=      Topic      Freq Term\n",
       "term                      \n",
       "2008      2  0.128948   一名\n",
       "2008      3  0.723720   一名\n",
       "2008      5  0.119277   一名\n",
       "2008      6  0.029013   一名\n",
       "986       6  1.001568   三分\n",
       "...     ...       ...  ...\n",
       "6990      3  0.973563   香港\n",
       "6990      6  0.014176   香港\n",
       "2860      3  0.054743   體育\n",
       "2860      5  0.946270   體育\n",
       "580       5  1.000711   龍隊\n",
       "\n",
       "[875 rows x 3 columns], R=30, lambda_step=0.01, plot_opts={'xlab': 'PC1', 'ylab': 'PC2'}, topic_order=[3, 4, 5, 6, 1, 2])"
      ]
     },
     "execution_count": 58,
     "metadata": {},
     "output_type": "execute_result"
    }
   ],
   "source": [
    "n_top_words = 10\n",
    "topic_word = model.topic_word_\n",
    "\n",
    "for i, topic_dist in enumerate(topic_word):\n",
    "    topic_words = np.array(vocab)[np.argsort(topic_dist)][: -(n_top_words + 1) : -1]\n",
    "    print(\"Topic {}: {}\".format(i, \" \".join(topic_words)))\n",
    "    \n",
    "\n",
    "doc_topic = model.doc_topic_\n",
    "term_freq = tuple(dictionary.cfs.values())\n",
    "doc_len = [sum(v for k, v in doc) for doc in corpus]\n",
    "\n",
    "## LDAvis\n",
    "pyLDAvis.enable_notebook()\n",
    "p = pyLDAvis.prepare(topic_word, doc_topic, doc_len, vocab = vocab, term_frequency = term_freq)\n",
    "p"
   ]
  },
  {
   "cell_type": "markdown",
   "metadata": {},
   "source": [
    "## 7. 主題分佈的應用，搭配其他文章資訊"
   ]
  },
  {
   "cell_type": "markdown",
   "metadata": {},
   "source": [
    "訓練完LDA模型後，我們可以嘗試將訓練好的模型應用於資料集上，觀察每天主題文章的佔比變化"
   ]
  },
  {
   "cell_type": "code",
   "execution_count": 136,
   "metadata": {},
   "outputs": [],
   "source": [
    "# 取得每條新聞的主題分佈\n",
    "topics_doc = best_model.get_document_topics(corpus)"
   ]
  },
  {
   "cell_type": "code",
   "execution_count": 137,
   "metadata": {},
   "outputs": [
    {
     "data": {
      "text/plain": [
       "[(0, 0.055565648),\n",
       " (1, 0.055574484),\n",
       " (2, 0.38794836),\n",
       " (3, 0.05595293),\n",
       " (4, 0.38878667),\n",
       " (5, 0.05617192)]"
      ]
     },
     "execution_count": 137,
     "metadata": {},
     "output_type": "execute_result"
    }
   ],
   "source": [
    "topics_doc[100]"
   ]
  },
  {
   "cell_type": "markdown",
   "metadata": {},
   "source": [
    "#### 將 LDA 模型推論後的每篇文件的 主題分布（也就是 𝜃）轉換成一個 NumPy 矩陣（array）"
   ]
  },
  {
   "cell_type": "code",
   "execution_count": 138,
   "metadata": {},
   "outputs": [
    {
     "data": {
      "text/plain": [
       "array([[0.03333792, 0.03339433, 0.03361683, 0.0334272 , 0.03347511,\n",
       "        0.83274859],\n",
       "       [0.19106559, 0.02790345, 0.02784977, 0.02783767, 0.02808873,\n",
       "        0.69725478],\n",
       "       [0.02385801, 0.02397895, 0.02393391, 0.48403436, 0.023828  ,\n",
       "        0.42036673],\n",
       "       ...,\n",
       "       [0.24179929, 0.51606607, 0.02388615, 0.02417281, 0.02389338,\n",
       "        0.17018224],\n",
       "       [0.02092028, 0.02093452, 0.0209141 , 0.52242094, 0.39397606,\n",
       "        0.02083412],\n",
       "       [0.40140942, 0.01401298, 0.17686142, 0.01392097, 0.37983981,\n",
       "        0.01395544]])"
      ]
     },
     "execution_count": 138,
     "metadata": {},
     "output_type": "execute_result"
    }
   ],
   "source": [
    "# 把 gensim 的稀疏表示法轉成稀疏矩陣\n",
    "m_theta = corpus2csc(topics_doc).T.toarray() # 倒置讓shape變為(num_docs, num_topics)\n",
    "m_theta"
   ]
  },
  {
   "cell_type": "code",
   "execution_count": 139,
   "metadata": {},
   "outputs": [],
   "source": [
    "# 將主題的機率分布轉換成主題標籤\n",
    "udn['topic_label'] = m_theta.argmax(axis=1) + 1"
   ]
  },
  {
   "cell_type": "markdown",
   "metadata": {},
   "source": [
    "#### 統計一下各個主題的數量"
   ]
  },
  {
   "cell_type": "code",
   "execution_count": 140,
   "metadata": {},
   "outputs": [
    {
     "data": {
      "text/plain": [
       "topic_label\n",
       "6    927\n",
       "1    564\n",
       "3    485\n",
       "4    395\n",
       "5    334\n",
       "2    301\n",
       "Name: count, dtype: int64"
      ]
     },
     "execution_count": 140,
     "metadata": {},
     "output_type": "execute_result"
    }
   ],
   "source": [
    "udn['topic_label'].value_counts()"
   ]
  },
  {
   "cell_type": "code",
   "execution_count": 142,
   "metadata": {},
   "outputs": [
    {
     "data": {
      "text/html": [
       "<div>\n",
       "<style scoped>\n",
       "    .dataframe tbody tr th:only-of-type {\n",
       "        vertical-align: middle;\n",
       "    }\n",
       "\n",
       "    .dataframe tbody tr th {\n",
       "        vertical-align: top;\n",
       "    }\n",
       "\n",
       "    .dataframe thead th {\n",
       "        text-align: right;\n",
       "    }\n",
       "</style>\n",
       "<table border=\"1\" class=\"dataframe\">\n",
       "  <thead>\n",
       "    <tr style=\"text-align: right;\">\n",
       "      <th></th>\n",
       "      <th>reviewId</th>\n",
       "      <th>score</th>\n",
       "      <th>content</th>\n",
       "      <th>artDate</th>\n",
       "      <th>appVersion</th>\n",
       "      <th>topic_label</th>\n",
       "    </tr>\n",
       "  </thead>\n",
       "  <tbody>\n",
       "    <tr>\n",
       "      <th>0</th>\n",
       "      <td>179e2c16-8898-4086-96ff-b897f0284ac4</td>\n",
       "      <td>1</td>\n",
       "      <td>更新後完全登入不進去，請立即改善。</td>\n",
       "      <td>2017-12-29 18:17:05</td>\n",
       "      <td>3.15</td>\n",
       "      <td>6</td>\n",
       "    </tr>\n",
       "    <tr>\n",
       "      <th>1</th>\n",
       "      <td>781b02f8-bc78-4240-bb9e-45b2d9ccd61f</td>\n",
       "      <td>3</td>\n",
       "      <td>希望可以新增圖形手勢或是指紋登入</td>\n",
       "      <td>2017-12-22 16:00:34</td>\n",
       "      <td>3.15</td>\n",
       "      <td>6</td>\n",
       "    </tr>\n",
       "    <tr>\n",
       "      <th>2</th>\n",
       "      <td>ed390033-a91c-4146-bde7-d4533145e9ba</td>\n",
       "      <td>1</td>\n",
       "      <td>按五顆星的自己員工逆？ 載入都無法進入的app 有沒有搞錯啊 錢不是這樣花的阿大哥</td>\n",
       "      <td>2017-12-21 12:25:16</td>\n",
       "      <td>3.15</td>\n",
       "      <td>4</td>\n",
       "    </tr>\n",
       "    <tr>\n",
       "      <th>3</th>\n",
       "      <td>7eb57a03-e2dc-4bba-a0bd-9a059d6c0254</td>\n",
       "      <td>5</td>\n",
       "      <td>平安，很好。</td>\n",
       "      <td>2017-12-20 16:00:13</td>\n",
       "      <td>3.15</td>\n",
       "      <td>1</td>\n",
       "    </tr>\n",
       "    <tr>\n",
       "      <th>4</th>\n",
       "      <td>90a8f503-05a0-4459-9b53-a9d57439cc7b</td>\n",
       "      <td>3</td>\n",
       "      <td>為什麼沒有台幣定存</td>\n",
       "      <td>2017-12-20 08:43:32</td>\n",
       "      <td>3.15</td>\n",
       "      <td>5</td>\n",
       "    </tr>\n",
       "  </tbody>\n",
       "</table>\n",
       "</div>"
      ],
      "text/plain": [
       "                               reviewId  score  \\\n",
       "0  179e2c16-8898-4086-96ff-b897f0284ac4      1   \n",
       "1  781b02f8-bc78-4240-bb9e-45b2d9ccd61f      3   \n",
       "2  ed390033-a91c-4146-bde7-d4533145e9ba      1   \n",
       "3  7eb57a03-e2dc-4bba-a0bd-9a059d6c0254      5   \n",
       "4  90a8f503-05a0-4459-9b53-a9d57439cc7b      3   \n",
       "\n",
       "                                     content             artDate appVersion  \\\n",
       "0                          更新後完全登入不進去，請立即改善。 2017-12-29 18:17:05       3.15   \n",
       "1                           希望可以新增圖形手勢或是指紋登入 2017-12-22 16:00:34       3.15   \n",
       "2  按五顆星的自己員工逆？ 載入都無法進入的app 有沒有搞錯啊 錢不是這樣花的阿大哥 2017-12-21 12:25:16       3.15   \n",
       "3                                     平安，很好。 2017-12-20 16:00:13       3.15   \n",
       "4                                  為什麼沒有台幣定存 2017-12-20 08:43:32       3.15   \n",
       "\n",
       "   topic_label  \n",
       "0            6  \n",
       "1            6  \n",
       "2            4  \n",
       "3            1  \n",
       "4            5  "
      ]
     },
     "execution_count": 142,
     "metadata": {},
     "output_type": "execute_result"
    }
   ],
   "source": [
    "udn.head()"
   ]
  },
  {
   "cell_type": "markdown",
   "metadata": {},
   "source": [
    "#### 查看每天每個主題的文章相對比例（占比）"
   ]
  },
  {
   "cell_type": "code",
   "execution_count": 129,
   "metadata": {},
   "outputs": [
    {
     "data": {
      "text/plain": [
       "major_version  topic_label\n",
       "3.11           6              0.500000\n",
       "               2              0.250000\n",
       "               3              0.250000\n",
       "3.12           6              0.666667\n",
       "               4              0.333333\n",
       "                                ...   \n",
       "3.22           3              0.185393\n",
       "               1              0.179775\n",
       "               2              0.162921\n",
       "               4              0.140449\n",
       "               5              0.140449\n",
       "Name: proportion, Length: 65, dtype: float64"
      ]
     },
     "execution_count": 129,
     "metadata": {},
     "output_type": "execute_result"
    }
   ],
   "source": [
    "udn['major_version'] = udn['appVersion'].str.split('.').str[:2].str.join('.')\n",
    "udn.groupby('major_version')['topic_label'].value_counts(normalize=True)"
   ]
  },
  {
   "cell_type": "code",
   "execution_count": 143,
   "metadata": {},
   "outputs": [
    {
     "data": {
      "text/html": [
       "<div>\n",
       "<style scoped>\n",
       "    .dataframe tbody tr th:only-of-type {\n",
       "        vertical-align: middle;\n",
       "    }\n",
       "\n",
       "    .dataframe tbody tr th {\n",
       "        vertical-align: top;\n",
       "    }\n",
       "\n",
       "    .dataframe thead th {\n",
       "        text-align: right;\n",
       "    }\n",
       "</style>\n",
       "<table border=\"1\" class=\"dataframe\">\n",
       "  <thead>\n",
       "    <tr style=\"text-align: right;\">\n",
       "      <th>topic_label</th>\n",
       "      <th>1</th>\n",
       "      <th>2</th>\n",
       "      <th>3</th>\n",
       "      <th>4</th>\n",
       "      <th>5</th>\n",
       "      <th>6</th>\n",
       "    </tr>\n",
       "    <tr>\n",
       "      <th>appVersion</th>\n",
       "      <th></th>\n",
       "      <th></th>\n",
       "      <th></th>\n",
       "      <th></th>\n",
       "      <th></th>\n",
       "      <th></th>\n",
       "    </tr>\n",
       "  </thead>\n",
       "  <tbody>\n",
       "    <tr>\n",
       "      <th>3.11</th>\n",
       "      <td>NaN</td>\n",
       "      <td>0.250000</td>\n",
       "      <td>0.250000</td>\n",
       "      <td>NaN</td>\n",
       "      <td>NaN</td>\n",
       "      <td>0.500000</td>\n",
       "    </tr>\n",
       "    <tr>\n",
       "      <th>3.12</th>\n",
       "      <td>NaN</td>\n",
       "      <td>NaN</td>\n",
       "      <td>NaN</td>\n",
       "      <td>0.333333</td>\n",
       "      <td>NaN</td>\n",
       "      <td>0.666667</td>\n",
       "    </tr>\n",
       "    <tr>\n",
       "      <th>3.13</th>\n",
       "      <td>0.139130</td>\n",
       "      <td>0.113043</td>\n",
       "      <td>0.147826</td>\n",
       "      <td>0.069565</td>\n",
       "      <td>0.130435</td>\n",
       "      <td>0.400000</td>\n",
       "    </tr>\n",
       "    <tr>\n",
       "      <th>3.14</th>\n",
       "      <td>0.184211</td>\n",
       "      <td>0.105263</td>\n",
       "      <td>0.197368</td>\n",
       "      <td>0.144737</td>\n",
       "      <td>0.078947</td>\n",
       "      <td>0.289474</td>\n",
       "    </tr>\n",
       "    <tr>\n",
       "      <th>3.15</th>\n",
       "      <td>0.084507</td>\n",
       "      <td>0.042254</td>\n",
       "      <td>0.169014</td>\n",
       "      <td>0.154930</td>\n",
       "      <td>0.084507</td>\n",
       "      <td>0.464789</td>\n",
       "    </tr>\n",
       "  </tbody>\n",
       "</table>\n",
       "</div>"
      ],
      "text/plain": [
       "topic_label         1         2         3         4         5         6\n",
       "appVersion                                                             \n",
       "3.11              NaN  0.250000  0.250000       NaN       NaN  0.500000\n",
       "3.12              NaN       NaN       NaN  0.333333       NaN  0.666667\n",
       "3.13         0.139130  0.113043  0.147826  0.069565  0.130435  0.400000\n",
       "3.14         0.184211  0.105263  0.197368  0.144737  0.078947  0.289474\n",
       "3.15         0.084507  0.042254  0.169014  0.154930  0.084507  0.464789"
      ]
     },
     "execution_count": 143,
     "metadata": {},
     "output_type": "execute_result"
    }
   ],
   "source": [
    "date_topic = udn.groupby(udn['appVersion'])['topic_label'].value_counts(normalize=True).unstack()\n",
    "date_topic.head()"
   ]
  },
  {
   "cell_type": "markdown",
   "metadata": {},
   "source": [
    "#### 視覺化呈現主題文章趨勢變化"
   ]
  },
  {
   "cell_type": "code",
   "execution_count": 149,
   "metadata": {},
   "outputs": [
    {
     "data": {
      "text/plain": [
       "<matplotlib.legend.Legend at 0x28f37bda890>"
      ]
     },
     "execution_count": 149,
     "metadata": {},
     "output_type": "execute_result"
    },
    {
     "data": {
      "image/png": "[encoded data removed]",
      "text/plain": [
       "<Figure size 1500x600 with 1 Axes>"
      ]
     },
     "metadata": {},
     "output_type": "display_data"
    }
   ],
   "source": [
    "\"\"\"主題一 無法登入 (負面)\n",
    "主題二 忘記密碼 難以找回 (負面)\n",
    "主題三 轉帳金融 (中性)\n",
    "主題四 使用方便 (唯一好評)\n",
    "主題五 使用體驗 (中性)\n",
    "主題六 負面使用體驗 \"\"\"\n",
    "\n",
    "date_topic.columns = [\n",
    "    \"登入問題\",\n",
    "    \"難以重製密碼\",\n",
    "    \"金融業務\",\n",
    "    \"使用方便\",\n",
    "    \"使用體驗\",\n",
    "    \"負面使用體驗\"\n",
    "]\n",
    "\n",
    "\n",
    "fig, ax = plt.subplots(figsize=(15, 6))\n",
    "date_topic.plot.bar(ax=ax, stacked=True, color = plt.cm.Set3.colors)\n",
    "ax.legend(loc='lower right')"
   ]
  },
  {
   "cell_type": "markdown",
   "metadata": {},
   "source": [
    "可以看到主題3（中國各產業市場）在 2/15、2/16 被討論的比例很高，可以作為後續探索的目標，<br>\n",
    "大家可以像這樣，透過搭配文章的資訊（例如日期等），讓主題模型的結果做出更多的分析應用。"
   ]
  },
  {
   "cell_type": "markdown",
   "metadata": {},
   "source": [
    "# BERT Topic"
   ]
  },
  {
   "cell_type": "code",
   "execution_count": 1,
   "metadata": {},
   "outputs": [
    {
     "name": "stdout",
     "output_type": "stream",
     "text": [
      "WARNING:tensorflow:From c:\\Users\\hank\\Desktop\\sb\\.venv\\lib\\site-packages\\keras\\src\\losses.py:2976: The name tf.losses.sparse_softmax_cross_entropy is deprecated. Please use tf.compat.v1.losses.sparse_softmax_cross_entropy instead.\n",
      "\n"
     ]
    }
   ],
   "source": [
    "from bertopic import BERTopic\n",
    "from bertopic.vectorizers import ClassTfidfTransformer\n",
    "from hdbscan import HDBSCAN\n",
    "from sklearn.feature_extraction.text import CountVectorizer\n",
    "from sklearn.cluster import KMeans\n",
    "from transformers import BertTokenizerFast, AutoTokenizer, AutoModelForTokenClassification, AutoModelForSequenceClassification, pipeline\n",
    "from sentence_transformers import SentenceTransformer\n",
    "from ckip_transformers.nlp import CkipWordSegmenter, CkipPosTagger, CkipNerChunker\n",
    "import pandas as pd\n",
    "import re\n",
    "import numpy as np\n",
    "from collections import defaultdict\n",
    "import multiprocessing\n",
    "import jieba\n",
    "import matplotlib.pyplot as plt\n",
    "from matplotlib.font_manager import fontManager\n"
   ]
  },
  {
   "cell_type": "code",
   "execution_count": 2,
   "metadata": {},
   "outputs": [],
   "source": [
    "# 讀入中文示範資料集\n",
    "origin_data = pd.read_csv('merged_data.csv')"
   ]
  },
  {
   "cell_type": "code",
   "execution_count": 3,
   "metadata": {},
   "outputs": [
    {
     "data": {
      "text/html": [
       "<div>\n",
       "<style scoped>\n",
       "    .dataframe tbody tr th:only-of-type {\n",
       "        vertical-align: middle;\n",
       "    }\n",
       "\n",
       "    .dataframe tbody tr th {\n",
       "        vertical-align: top;\n",
       "    }\n",
       "\n",
       "    .dataframe thead th {\n",
       "        text-align: right;\n",
       "    }\n",
       "</style>\n",
       "<table border=\"1\" class=\"dataframe\">\n",
       "  <thead>\n",
       "    <tr style=\"text-align: right;\">\n",
       "      <th></th>\n",
       "      <th>reviewId</th>\n",
       "      <th>userName</th>\n",
       "      <th>userImage</th>\n",
       "      <th>content</th>\n",
       "      <th>score</th>\n",
       "      <th>thumbsUpCount</th>\n",
       "      <th>reviewCreatedVersion</th>\n",
       "      <th>at</th>\n",
       "      <th>replyContent</th>\n",
       "      <th>repliedAt</th>\n",
       "      <th>appVersion</th>\n",
       "    </tr>\n",
       "  </thead>\n",
       "  <tbody>\n",
       "    <tr>\n",
       "      <th>0</th>\n",
       "      <td>179e2c16-8898-4086-96ff-b897f0284ac4</td>\n",
       "      <td>Google 使用者</td>\n",
       "      <td>https://play-lh.googleusercontent.com/EGemoI2N...</td>\n",
       "      <td>更新後完全登入不進去，請立即改善。</td>\n",
       "      <td>1</td>\n",
       "      <td>0</td>\n",
       "      <td>3.15.1219</td>\n",
       "      <td>2017-12-29 18:17:05</td>\n",
       "      <td>有關本行行動網銀app交易係因帳務主機交易量大處理回應緩慢，致使行動網銀app交易遲緩，未能...</td>\n",
       "      <td>2018-01-11 11:02:41</td>\n",
       "      <td>3.15.1219</td>\n",
       "    </tr>\n",
       "    <tr>\n",
       "      <th>1</th>\n",
       "      <td>781b02f8-bc78-4240-bb9e-45b2d9ccd61f</td>\n",
       "      <td>Google 使用者</td>\n",
       "      <td>https://play-lh.googleusercontent.com/EGemoI2N...</td>\n",
       "      <td>希望可以新增圖形手勢或是指紋登入</td>\n",
       "      <td>3</td>\n",
       "      <td>0</td>\n",
       "      <td>3.15.1219</td>\n",
       "      <td>2017-12-22 16:00:34</td>\n",
       "      <td>您好，感謝您寶貴的建議，未來改版會納入考量。</td>\n",
       "      <td>2018-01-03 09:53:23</td>\n",
       "      <td>3.15.1219</td>\n",
       "    </tr>\n",
       "    <tr>\n",
       "      <th>2</th>\n",
       "      <td>ed390033-a91c-4146-bde7-d4533145e9ba</td>\n",
       "      <td>Google 使用者</td>\n",
       "      <td>https://play-lh.googleusercontent.com/EGemoI2N...</td>\n",
       "      <td>按五顆星的自己員工逆？ 載入都無法進入的app 有沒有搞錯啊 錢不是這樣花的阿大哥</td>\n",
       "      <td>1</td>\n",
       "      <td>7</td>\n",
       "      <td>3.15.1219</td>\n",
       "      <td>2017-12-21 12:25:16</td>\n",
       "      <td>您好，已於2017/12/20更新版本，請下載使用。</td>\n",
       "      <td>2018-01-03 09:54:09</td>\n",
       "      <td>3.15.1219</td>\n",
       "    </tr>\n",
       "  </tbody>\n",
       "</table>\n",
       "</div>"
      ],
      "text/plain": [
       "                               reviewId    userName  \\\n",
       "0  179e2c16-8898-4086-96ff-b897f0284ac4  Google 使用者   \n",
       "1  781b02f8-bc78-4240-bb9e-45b2d9ccd61f  Google 使用者   \n",
       "2  ed390033-a91c-4146-bde7-d4533145e9ba  Google 使用者   \n",
       "\n",
       "                                           userImage  \\\n",
       "0  https://play-lh.googleusercontent.com/EGemoI2N...   \n",
       "1  https://play-lh.googleusercontent.com/EGemoI2N...   \n",
       "2  https://play-lh.googleusercontent.com/EGemoI2N...   \n",
       "\n",
       "                                     content  score  thumbsUpCount  \\\n",
       "0                          更新後完全登入不進去，請立即改善。      1              0   \n",
       "1                           希望可以新增圖形手勢或是指紋登入      3              0   \n",
       "2  按五顆星的自己員工逆？ 載入都無法進入的app 有沒有搞錯啊 錢不是這樣花的阿大哥      1              7   \n",
       "\n",
       "  reviewCreatedVersion                   at  \\\n",
       "0            3.15.1219  2017-12-29 18:17:05   \n",
       "1            3.15.1219  2017-12-22 16:00:34   \n",
       "2            3.15.1219  2017-12-21 12:25:16   \n",
       "\n",
       "                                        replyContent            repliedAt  \\\n",
       "0  有關本行行動網銀app交易係因帳務主機交易量大處理回應緩慢，致使行動網銀app交易遲緩，未能...  2018-01-11 11:02:41   \n",
       "1                             您好，感謝您寶貴的建議，未來改版會納入考量。  2018-01-03 09:53:23   \n",
       "2                         您好，已於2017/12/20更新版本，請下載使用。  2018-01-03 09:54:09   \n",
       "\n",
       "  appVersion  \n",
       "0  3.15.1219  \n",
       "1  3.15.1219  \n",
       "2  3.15.1219  "
      ]
     },
     "execution_count": 3,
     "metadata": {},
     "output_type": "execute_result"
    }
   ],
   "source": [
    "origin_data.head(3)"
   ]
  },
  {
   "cell_type": "code",
   "execution_count": 4,
   "metadata": {},
   "outputs": [
    {
     "data": {
      "text/html": [
       "<div>\n",
       "<style scoped>\n",
       "    .dataframe tbody tr th:only-of-type {\n",
       "        vertical-align: middle;\n",
       "    }\n",
       "\n",
       "    .dataframe tbody tr th {\n",
       "        vertical-align: top;\n",
       "    }\n",
       "\n",
       "    .dataframe thead th {\n",
       "        text-align: right;\n",
       "    }\n",
       "</style>\n",
       "<table border=\"1\" class=\"dataframe\">\n",
       "  <thead>\n",
       "    <tr style=\"text-align: right;\">\n",
       "      <th></th>\n",
       "      <th>content</th>\n",
       "    </tr>\n",
       "  </thead>\n",
       "  <tbody>\n",
       "    <tr>\n",
       "      <th>0</th>\n",
       "      <td>更新後完全登入不進去請立即改善</td>\n",
       "    </tr>\n",
       "    <tr>\n",
       "      <th>1</th>\n",
       "      <td>希望可以新增圖形手勢或是指紋登入</td>\n",
       "    </tr>\n",
       "    <tr>\n",
       "      <th>2</th>\n",
       "      <td>按五顆星的自己員工逆載入都無法進入的有沒有搞錯啊錢不是這樣花的阿大哥</td>\n",
       "    </tr>\n",
       "    <tr>\n",
       "      <th>3</th>\n",
       "      <td>平安很好</td>\n",
       "    </tr>\n",
       "    <tr>\n",
       "      <th>4</th>\n",
       "      <td>為什麼沒有台幣定存</td>\n",
       "    </tr>\n",
       "  </tbody>\n",
       "</table>\n",
       "</div>"
      ],
      "text/plain": [
       "                              content\n",
       "0                     更新後完全登入不進去請立即改善\n",
       "1                    希望可以新增圖形手勢或是指紋登入\n",
       "2  按五顆星的自己員工逆載入都無法進入的有沒有搞錯啊錢不是這樣花的阿大哥\n",
       "3                                平安很好\n",
       "4                           為什麼沒有台幣定存"
      ]
     },
     "execution_count": 4,
     "metadata": {},
     "output_type": "execute_result"
    }
   ],
   "source": [
    "# 去除一些不需要的欄位\n",
    "metaData = origin_data[['content']]\n",
    "\n",
    "# 只留下中文字\n",
    "metaData['content'] = metaData['content'].str.replace(r'\\n\\n','。', regex=True)\n",
    "metaData['content'] = metaData['content'].str.replace(r'\\n','', regex=True)\n",
    "\n",
    "\n",
    "metaData = metaData.explode('content').reset_index(drop=True)\n",
    "\n",
    "metaData['content'] = metaData['content'].apply(lambda x: re.sub('[^\\u4e00-\\u9fff]+', '',x))\n",
    "metaData = metaData.dropna().reset_index(drop=True)\n",
    "metaData.head()"
   ]
  },
  {
   "cell_type": "code",
   "execution_count": 5,
   "metadata": {},
   "outputs": [
    {
     "data": {
      "application/vnd.jupyter.widget-view+json": {
       "model_id": "785511edf1104c0699a9427f7e7f8efb",
       "version_major": 2,
       "version_minor": 0
      },
      "text/plain": [
       "Batches:   0%|          | 0/16 [00:00<?, ?it/s]"
      ]
     },
     "metadata": {},
     "output_type": "display_data"
    },
    {
     "name": "stderr",
     "output_type": "stream",
     "text": [
      "2025-05-18 19:37:51,247 - BERTopic - Dimensionality - Fitting the dimensionality reduction algorithm\n",
      "2025-05-18 19:38:01,509 - BERTopic - Dimensionality - Completed ✓\n",
      "2025-05-18 19:38:01,510 - BERTopic - Cluster - Start clustering the reduced embeddings\n",
      "2025-05-18 19:38:01,541 - BERTopic - Cluster - Completed ✓\n",
      "2025-05-18 19:38:01,546 - BERTopic - Representation - Fine-tuning topics using representation models.\n",
      "Building prefix dict from c:\\Users\\hank\\Desktop\\sb\\dict\\dict.txt.big ...\n",
      "Loading model from cache C:\\Users\\hank\\AppData\\Local\\Temp\\jieba.u465ee282b7ba9db18471e8710c3c9621.cache\n",
      "Loading model cost 0.974 seconds.\n",
      "Prefix dict has been built successfully.\n",
      "2025-05-18 19:38:02,591 - BERTopic - Representation - Completed ✓\n"
     ]
    },
    {
     "data": {
      "text/html": [
       "<div>\n",
       "<style scoped>\n",
       "    .dataframe tbody tr th:only-of-type {\n",
       "        vertical-align: middle;\n",
       "    }\n",
       "\n",
       "    .dataframe tbody tr th {\n",
       "        vertical-align: top;\n",
       "    }\n",
       "\n",
       "    .dataframe thead th {\n",
       "        text-align: right;\n",
       "    }\n",
       "</style>\n",
       "<table border=\"1\" class=\"dataframe\">\n",
       "  <thead>\n",
       "    <tr style=\"text-align: right;\">\n",
       "      <th></th>\n",
       "      <th>Topic</th>\n",
       "      <th>Count</th>\n",
       "      <th>Name</th>\n",
       "      <th>Representation</th>\n",
       "      <th>Representative_Docs</th>\n",
       "    </tr>\n",
       "  </thead>\n",
       "  <tbody>\n",
       "    <tr>\n",
       "      <th>0</th>\n",
       "      <td>-1</td>\n",
       "      <td>110</td>\n",
       "      <td>-1_ _一直_登入_錯誤</td>\n",
       "      <td>[ , 一直, 登入, 錯誤, 伺服器, 問題, 顯示, 處理, 異常, 失敗, 憑證, 資...</td>\n",
       "      <td>[系統異常請洽銀行客服人員但一直沒人處理阿, 怎麼一直顯示伺服器錯誤, 更新後就無法登入一直...</td>\n",
       "    </tr>\n",
       "    <tr>\n",
       "      <th>1</th>\n",
       "      <td>0</td>\n",
       "      <td>73</td>\n",
       "      <td>0_登入_無法_ _一直</td>\n",
       "      <td>[登入, 無法,  , 一直, 登錄, 今天, 請, 辦法, 進入, 登, 幾天, 正常, ...</td>\n",
       "      <td>[無法登入, 無法登入, 無法登入]</td>\n",
       "    </tr>\n",
       "    <tr>\n",
       "      <th>2</th>\n",
       "      <td>1</td>\n",
       "      <td>50</td>\n",
       "      <td>1_銀行_信用卡_網銀_登入</td>\n",
       "      <td>[銀行, 信用卡, 網銀, 登入, 查詢, 成功,  , 使用, 合庫, 登, 失敗, 申請...</td>\n",
       "      <td>[為何要查詢信用卡帳單卻要我登入個人網銀明明在你們網頁版只要登入信用卡會員就能查詢在卻不同調...</td>\n",
       "    </tr>\n",
       "    <tr>\n",
       "      <th>3</th>\n",
       "      <td>2</td>\n",
       "      <td>43</td>\n",
       "      <td>2_更新_使用_無法_卻</td>\n",
       "      <td>[更新, 使用, 無法, 卻, 後,  , 開啟, 一直, 安裝, 人, 程式, 系統, 問...</td>\n",
       "      <td>[不能更新, 無法更新, 無法更新]</td>\n",
       "    </tr>\n",
       "    <tr>\n",
       "      <th>4</th>\n",
       "      <td>3</td>\n",
       "      <td>36</td>\n",
       "      <td>3_後_更新_無法_登入</td>\n",
       "      <td>[後, 更新, 無法, 登入, 進不去,  , 完全, 之後, 一直, 初始, 停, 初始化...</td>\n",
       "      <td>[更新後無法登入, 更新後無法登入, 更新後無法登入]</td>\n",
       "    </tr>\n",
       "    <tr>\n",
       "      <th>5</th>\n",
       "      <td>4</td>\n",
       "      <td>34</td>\n",
       "      <td>4_轉帳_簡訊_帳號_匯款</td>\n",
       "      <td>[轉帳, 簡訊, 帳號, 匯款,  , 密碼, 無法, 認證碼, 機制, 收不到, 認證, ...</td>\n",
       "      <td>[轉帳收不到簡訊密碼, 更新後不能轉帳, 無法轉帳]</td>\n",
       "    </tr>\n",
       "    <tr>\n",
       "      <th>6</th>\n",
       "      <td>5</td>\n",
       "      <td>32</td>\n",
       "      <td>5_方便_ _好_便利</td>\n",
       "      <td>[方便,  , 好, 便利, 服務, 平安, 加油, 讚, 好用, 行動, 謝謝, 实用, ...</td>\n",
       "      <td>[很方便, 方便, 很方便很好用]</td>\n",
       "    </tr>\n",
       "    <tr>\n",
       "      <th>7</th>\n",
       "      <td>6</td>\n",
       "      <td>26</td>\n",
       "      <td>6_手機_支援_版本_三星</td>\n",
       "      <td>[手機, 支援, 版本, 三星, 後, 解決, 重新安裝, 出現,  , 下載, 更新, 事...</td>\n",
       "      <td>[更新後無法開啟出現不支援此手機我明明是原廠系統沒更改過麻煩改改好嗎更新後仍然出現不支援此手...</td>\n",
       "    </tr>\n",
       "    <tr>\n",
       "      <th>8</th>\n",
       "      <td>7</td>\n",
       "      <td>23</td>\n",
       "      <td>7_很爛_ _奇葩_爛</td>\n",
       "      <td>[很爛,  , 奇葩, 爛, 東西, 超爛, 爛到, 搞, 帳號密碼, 一點, 錯誤, 版,...</td>\n",
       "      <td>[爛死了今天早上七八點也登入不進去爛客服也不知跑哪去馬的這麼多人反應爛了也不懂得改進, 真的...</td>\n",
       "    </tr>\n",
       "    <tr>\n",
       "      <th>9</th>\n",
       "      <td>8</td>\n",
       "      <td>22</td>\n",
       "      <td>8_打不開_開啟_ _開</td>\n",
       "      <td>[打不開, 開啟,  , 開, 死當, 程式, 連開, 完全, 改善, 客服, 卡住, 開是...</td>\n",
       "      <td>[打不開, 打不開啊, 打不開]</td>\n",
       "    </tr>\n",
       "    <tr>\n",
       "      <th>10</th>\n",
       "      <td>9</td>\n",
       "      <td>14</td>\n",
       "      <td>9_指紋_辨識_新增_登入</td>\n",
       "      <td>[指紋, 辨識, 新增, 登入, 方便, 設定, 快速, 輸入, 系統, 每次,  , 異常...</td>\n",
       "      <td>[新增的指紋辨識功能對使用者方便多了, 新增指紋登入很方便, 指紋]</td>\n",
       "    </tr>\n",
       "    <tr>\n",
       "      <th>11</th>\n",
       "      <td>10</td>\n",
       "      <td>14</td>\n",
       "      <td>10_連不上_伺服器_連接_連線</td>\n",
       "      <td>[連不上, 伺服器, 連接, 連線, 檢查, 一直, 無法,  , 實際, 腦子, 家中, ...</td>\n",
       "      <td>[連不上, 一直顯示無法連上伺服器請檢查網際網路是否正常, 無法連接伺服器故無法使用但實際有...</td>\n",
       "    </tr>\n",
       "    <tr>\n",
       "      <th>12</th>\n",
       "      <td>11</td>\n",
       "      <td>12</td>\n",
       "      <td>11_使用_無法_宴用_轉台幣</td>\n",
       "      <td>[使用, 無法, 宴用, 轉台幣, 失望, 感到,  , 情況, 華為, 權限, 讀取, 外...</td>\n",
       "      <td>[無法使用, 無法使用, 無法使用]</td>\n",
       "    </tr>\n",
       "    <tr>\n",
       "      <th>13</th>\n",
       "      <td>12</td>\n",
       "      <td>11</td>\n",
       "      <td>12_資料_錯誤_正確_密碼</td>\n",
       "      <td>[資料, 錯誤, 正確, 密碼, 一直, 出現, 登入, 輸入, 帳號密碼, 版, 直說, ...</td>\n",
       "      <td>[輸入正確的帳號密碼顯示資料不正確又發生了但是電腦版竟然也有這個問題, 一直出現資料不正確,...</td>\n",
       "    </tr>\n",
       "  </tbody>\n",
       "</table>\n",
       "</div>"
      ],
      "text/plain": [
       "    Topic  Count              Name  \\\n",
       "0      -1    110     -1_ _一直_登入_錯誤   \n",
       "1       0     73      0_登入_無法_ _一直   \n",
       "2       1     50    1_銀行_信用卡_網銀_登入   \n",
       "3       2     43      2_更新_使用_無法_卻   \n",
       "4       3     36      3_後_更新_無法_登入   \n",
       "5       4     34     4_轉帳_簡訊_帳號_匯款   \n",
       "6       5     32       5_方便_ _好_便利   \n",
       "7       6     26     6_手機_支援_版本_三星   \n",
       "8       7     23       7_很爛_ _奇葩_爛   \n",
       "9       8     22      8_打不開_開啟_ _開   \n",
       "10      9     14     9_指紋_辨識_新增_登入   \n",
       "11     10     14  10_連不上_伺服器_連接_連線   \n",
       "12     11     12   11_使用_無法_宴用_轉台幣   \n",
       "13     12     11    12_資料_錯誤_正確_密碼   \n",
       "\n",
       "                                       Representation  \\\n",
       "0   [ , 一直, 登入, 錯誤, 伺服器, 問題, 顯示, 處理, 異常, 失敗, 憑證, 資...   \n",
       "1   [登入, 無法,  , 一直, 登錄, 今天, 請, 辦法, 進入, 登, 幾天, 正常, ...   \n",
       "2   [銀行, 信用卡, 網銀, 登入, 查詢, 成功,  , 使用, 合庫, 登, 失敗, 申請...   \n",
       "3   [更新, 使用, 無法, 卻, 後,  , 開啟, 一直, 安裝, 人, 程式, 系統, 問...   \n",
       "4   [後, 更新, 無法, 登入, 進不去,  , 完全, 之後, 一直, 初始, 停, 初始化...   \n",
       "5   [轉帳, 簡訊, 帳號, 匯款,  , 密碼, 無法, 認證碼, 機制, 收不到, 認證, ...   \n",
       "6   [方便,  , 好, 便利, 服務, 平安, 加油, 讚, 好用, 行動, 謝謝, 实用, ...   \n",
       "7   [手機, 支援, 版本, 三星, 後, 解決, 重新安裝, 出現,  , 下載, 更新, 事...   \n",
       "8   [很爛,  , 奇葩, 爛, 東西, 超爛, 爛到, 搞, 帳號密碼, 一點, 錯誤, 版,...   \n",
       "9   [打不開, 開啟,  , 開, 死當, 程式, 連開, 完全, 改善, 客服, 卡住, 開是...   \n",
       "10  [指紋, 辨識, 新增, 登入, 方便, 設定, 快速, 輸入, 系統, 每次,  , 異常...   \n",
       "11  [連不上, 伺服器, 連接, 連線, 檢查, 一直, 無法,  , 實際, 腦子, 家中, ...   \n",
       "12  [使用, 無法, 宴用, 轉台幣, 失望, 感到,  , 情況, 華為, 權限, 讀取, 外...   \n",
       "13  [資料, 錯誤, 正確, 密碼, 一直, 出現, 登入, 輸入, 帳號密碼, 版, 直說, ...   \n",
       "\n",
       "                                  Representative_Docs  \n",
       "0   [系統異常請洽銀行客服人員但一直沒人處理阿, 怎麼一直顯示伺服器錯誤, 更新後就無法登入一直...  \n",
       "1                                  [無法登入, 無法登入, 無法登入]  \n",
       "2   [為何要查詢信用卡帳單卻要我登入個人網銀明明在你們網頁版只要登入信用卡會員就能查詢在卻不同調...  \n",
       "3                                  [不能更新, 無法更新, 無法更新]  \n",
       "4                         [更新後無法登入, 更新後無法登入, 更新後無法登入]  \n",
       "5                          [轉帳收不到簡訊密碼, 更新後不能轉帳, 無法轉帳]  \n",
       "6                                   [很方便, 方便, 很方便很好用]  \n",
       "7   [更新後無法開啟出現不支援此手機我明明是原廠系統沒更改過麻煩改改好嗎更新後仍然出現不支援此手...  \n",
       "8   [爛死了今天早上七八點也登入不進去爛客服也不知跑哪去馬的這麼多人反應爛了也不懂得改進, 真的...  \n",
       "9                                    [打不開, 打不開啊, 打不開]  \n",
       "10                 [新增的指紋辨識功能對使用者方便多了, 新增指紋登入很方便, 指紋]  \n",
       "11  [連不上, 一直顯示無法連上伺服器請檢查網際網路是否正常, 無法連接伺服器故無法使用但實際有...  \n",
       "12                                 [無法使用, 無法使用, 無法使用]  \n",
       "13  [輸入正確的帳號密碼顯示資料不正確又發生了但是電腦版竟然也有這個問題, 一直出現資料不正確,...  "
      ]
     },
     "execution_count": 5,
     "metadata": {},
     "output_type": "execute_result"
    }
   ],
   "source": [
    "\n",
    "# 中文文章\n",
    "docs_zh = metaData['content'].tolist()[:500]\n",
    "\n",
    "# 設定繁體中文詞庫\n",
    "jieba.set_dictionary(\"./dict/dict.txt.big\")\n",
    "\n",
    "# 新增 stopwords\n",
    "with open(\"./dict/stop_words.txt\", encoding=\"utf-8\") as f:\n",
    "    stopWords = [line.strip() for line in f.readlines()]\n",
    "\n",
    "# 設定中文 embedding model\n",
    "bert_sentence_model = SentenceTransformer(\"BAAI/bge-m3\")\n",
    "\n",
    "# 將中文文章轉換為 embedding\n",
    "embeddings = bert_sentence_model.encode(docs_zh, show_progress_bar=True)\n",
    "\n",
    "# 定義不同 clustering layer 所要使用的模型與方法（就用 default 的 HDBSCAN）\n",
    "hdbscan_model = HDBSCAN()\n",
    "\n",
    "# 定義一個適合中文的分詞函數\n",
    "def tokenize_zh(text):\n",
    "    words = jieba.lcut(text)\n",
    "    return words\n",
    "\n",
    "# 建立一個使用 jieba 分詞的 CountVectorizer\n",
    "jieba_vectorizer = CountVectorizer(tokenizer=tokenize_zh, stop_words=stopWords, analyzer='word', token_pattern=u\"(?u)\\\\b\\\\w+\\\\b\")\n",
    "\n",
    "# 使用 BERTopic 進行主題模型建立\n",
    "zh_topic_model = BERTopic(embedding_model=bert_sentence_model, vectorizer_model=jieba_vectorizer, verbose=True, top_n_words=30)\n",
    "topics, probs = zh_topic_model.fit_transform(docs_zh, embeddings)\n",
    "\n",
    "zh_topic_model.get_topic_info()"
   ]
  },
  {
   "cell_type": "code",
   "execution_count": 6,
   "metadata": {},
   "outputs": [
    {
     "data": {
      "application/vnd.plotly.v1+json": {
       "config": {
        "plotlyServerURL": "https://plot.ly"
       },
       "data": [
        {
         "customdata": [
          [
           0,
           "登入 | 無法 |   | 一直 | 登錄",
           73
          ],
          [
           1,
           "銀行 | 信用卡 | 網銀 | 登入 | 查詢",
           50
          ],
          [
           2,
           "更新 | 使用 | 無法 | 卻 | 後",
           43
          ],
          [
           3,
           "後 | 更新 | 無法 | 登入 | 進不去",
           36
          ],
          [
           4,
           "轉帳 | 簡訊 | 帳號 | 匯款 |  ",
           34
          ],
          [
           5,
           "方便 |   | 好 | 便利 | 服務",
           32
          ],
          [
           6,
           "手機 | 支援 | 版本 | 三星 | 後",
           26
          ],
          [
           7,
           "很爛 |   | 奇葩 | 爛 | 東西",
           23
          ],
          [
           8,
           "打不開 | 開啟 |   | 開 | 死當",
           22
          ],
          [
           9,
           "指紋 | 辨識 | 新增 | 登入 | 方便",
           14
          ],
          [
           10,
           "連不上 | 伺服器 | 連接 | 連線 | 檢查",
           14
          ],
          [
           11,
           "使用 | 無法 | 宴用 | 轉台幣 | 失望",
           12
          ],
          [
           12,
           "資料 | 錯誤 | 正確 | 密碼 | 一直",
           11
          ]
         ],
         "hovertemplate": "<b>Topic %{customdata[0]}</b><br>%{customdata[1]}<br>Size: %{customdata[2]}",
         "legendgroup": "",
         "marker": {
          "color": "#B0BEC5",
          "line": {
           "color": "DarkSlateGrey",
           "width": 2
          },
          "size": {
           "bdata": "STIrJCIgGhcWDg4MCw==",
           "dtype": "i1"
          },
          "sizemode": "area",
          "sizeref": 0.045625,
          "symbol": "circle"
         },
         "mode": "markers",
         "name": "",
         "orientation": "v",
         "showlegend": false,
         "type": "scatter",
         "x": {
          "bdata": "XARKQcZbw7+V3TVBJ0E6Qf9f4r9dQFpBhgkyQR8ZOEHehD5BCjNWQThIS0GKnjpBDAZEQQ==",
          "dtype": "f4"
         },
         "xaxis": "x",
         "y": {
          "bdata": "YvkLQX5xJ0F+Hc1A+Q7dQEuRI0FqrARBP+jAQKKcDkF+dhRB0c8KQVSHAUGFgBdBX2YGQQ==",
          "dtype": "f4"
         },
         "yaxis": "y"
        }
       ],
       "layout": {
        "annotations": [
         {
          "showarrow": false,
          "text": "D1",
          "x": -2.033837753534317,
          "y": 8.57954353094101,
          "yshift": 10
         },
         {
          "showarrow": false,
          "text": "D2",
          "x": 6.826491495966911,
          "xshift": 10,
          "y": 12.034989261627198
         }
        ],
        "height": 650,
        "hoverlabel": {
         "bgcolor": "white",
         "font": {
          "family": "Rockwell",
          "size": 16
         }
        },
        "legend": {
         "itemsizing": "constant",
         "tracegroupgap": 0
        },
        "margin": {
         "t": 60
        },
        "shapes": [
         {
          "line": {
           "color": "#CFD8DC",
           "width": 2
          },
          "type": "line",
          "x0": 6.826491495966911,
          "x1": 6.826491495966911,
          "y0": 5.124097800254821,
          "y1": 12.034989261627198
         },
         {
          "line": {
           "color": "#9E9E9E",
           "width": 2
          },
          "type": "line",
          "x0": -2.033837753534317,
          "x1": 15.68682074546814,
          "y0": 8.57954353094101,
          "y1": 8.57954353094101
         }
        ],
        "sliders": [
         {
          "active": 0,
          "pad": {
           "t": 50
          },
          "steps": [
           {
            "args": [
             {
              "marker.color": [
               [
                "red",
                "#B0BEC5",
                "#B0BEC5",
                "#B0BEC5",
                "#B0BEC5",
                "#B0BEC5",
                "#B0BEC5",
                "#B0BEC5",
                "#B0BEC5",
                "#B0BEC5",
                "#B0BEC5",
                "#B0BEC5",
                "#B0BEC5"
               ]
              ]
             }
            ],
            "label": "Topic 0",
            "method": "update"
           },
           {
            "args": [
             {
              "marker.color": [
               [
                "#B0BEC5",
                "red",
                "#B0BEC5",
                "#B0BEC5",
                "#B0BEC5",
                "#B0BEC5",
                "#B0BEC5",
                "#B0BEC5",
                "#B0BEC5",
                "#B0BEC5",
                "#B0BEC5",
                "#B0BEC5",
                "#B0BEC5"
               ]
              ]
             }
            ],
            "label": "Topic 1",
            "method": "update"
           },
           {
            "args": [
             {
              "marker.color": [
               [
                "#B0BEC5",
                "#B0BEC5",
                "red",
                "#B0BEC5",
                "#B0BEC5",
                "#B0BEC5",
                "#B0BEC5",
                "#B0BEC5",
                "#B0BEC5",
                "#B0BEC5",
                "#B0BEC5",
                "#B0BEC5",
                "#B0BEC5"
               ]
              ]
             }
            ],
            "label": "Topic 2",
            "method": "update"
           },
           {
            "args": [
             {
              "marker.color": [
               [
                "#B0BEC5",
                "#B0BEC5",
                "#B0BEC5",
                "red",
                "#B0BEC5",
                "#B0BEC5",
                "#B0BEC5",
                "#B0BEC5",
                "#B0BEC5",
                "#B0BEC5",
                "#B0BEC5",
                "#B0BEC5",
                "#B0BEC5"
               ]
              ]
             }
            ],
            "label": "Topic 3",
            "method": "update"
           },
           {
            "args": [
             {
              "marker.color": [
               [
                "#B0BEC5",
                "#B0BEC5",
                "#B0BEC5",
                "#B0BEC5",
                "red",
                "#B0BEC5",
                "#B0BEC5",
                "#B0BEC5",
                "#B0BEC5",
                "#B0BEC5",
                "#B0BEC5",
                "#B0BEC5",
                "#B0BEC5"
               ]
              ]
             }
            ],
            "label": "Topic 4",
            "method": "update"
           },
           {
            "args": [
             {
              "marker.color": [
               [
                "#B0BEC5",
                "#B0BEC5",
                "#B0BEC5",
                "#B0BEC5",
                "#B0BEC5",
                "red",
                "#B0BEC5",
                "#B0BEC5",
                "#B0BEC5",
                "#B0BEC5",
                "#B0BEC5",
                "#B0BEC5",
                "#B0BEC5"
               ]
              ]
             }
            ],
            "label": "Topic 5",
            "method": "update"
           },
           {
            "args": [
             {
              "marker.color": [
               [
                "#B0BEC5",
                "#B0BEC5",
                "#B0BEC5",
                "#B0BEC5",
                "#B0BEC5",
                "#B0BEC5",
                "red",
                "#B0BEC5",
                "#B0BEC5",
                "#B0BEC5",
                "#B0BEC5",
                "#B0BEC5",
                "#B0BEC5"
               ]
              ]
             }
            ],
            "label": "Topic 6",
            "method": "update"
           },
           {
            "args": [
             {
              "marker.color": [
               [
                "#B0BEC5",
                "#B0BEC5",
                "#B0BEC5",
                "#B0BEC5",
                "#B0BEC5",
                "#B0BEC5",
                "#B0BEC5",
                "red",
                "#B0BEC5",
                "#B0BEC5",
                "#B0BEC5",
                "#B0BEC5",
                "#B0BEC5"
               ]
              ]
             }
            ],
            "label": "Topic 7",
            "method": "update"
           },
           {
            "args": [
             {
              "marker.color": [
               [
                "#B0BEC5",
                "#B0BEC5",
                "#B0BEC5",
                "#B0BEC5",
                "#B0BEC5",
                "#B0BEC5",
                "#B0BEC5",
                "#B0BEC5",
                "red",
                "#B0BEC5",
                "#B0BEC5",
                "#B0BEC5",
                "#B0BEC5"
               ]
              ]
             }
            ],
            "label": "Topic 8",
            "method": "update"
           },
           {
            "args": [
             {
              "marker.color": [
               [
                "#B0BEC5",
                "#B0BEC5",
                "#B0BEC5",
                "#B0BEC5",
                "#B0BEC5",
                "#B0BEC5",
                "#B0BEC5",
                "#B0BEC5",
                "#B0BEC5",
                "red",
                "#B0BEC5",
                "#B0BEC5",
                "#B0BEC5"
               ]
              ]
             }
            ],
            "label": "Topic 9",
            "method": "update"
           },
           {
            "args": [
             {
              "marker.color": [
               [
                "#B0BEC5",
                "#B0BEC5",
                "#B0BEC5",
                "#B0BEC5",
                "#B0BEC5",
                "#B0BEC5",
                "#B0BEC5",
                "#B0BEC5",
                "#B0BEC5",
                "#B0BEC5",
                "red",
                "#B0BEC5",
                "#B0BEC5"
               ]
              ]
             }
            ],
            "label": "Topic 10",
            "method": "update"
           },
           {
            "args": [
             {
              "marker.color": [
               [
                "#B0BEC5",
                "#B0BEC5",
                "#B0BEC5",
                "#B0BEC5",
                "#B0BEC5",
                "#B0BEC5",
                "#B0BEC5",
                "#B0BEC5",
                "#B0BEC5",
                "#B0BEC5",
                "#B0BEC5",
                "red",
                "#B0BEC5"
               ]
              ]
             }
            ],
            "label": "Topic 11",
            "method": "update"
           },
           {
            "args": [
             {
              "marker.color": [
               [
                "#B0BEC5",
                "#B0BEC5",
                "#B0BEC5",
                "#B0BEC5",
                "#B0BEC5",
                "#B0BEC5",
                "#B0BEC5",
                "#B0BEC5",
                "#B0BEC5",
                "#B0BEC5",
                "#B0BEC5",
                "#B0BEC5",
                "red"
               ]
              ]
             }
            ],
            "label": "Topic 12",
            "method": "update"
           }
          ]
         }
        ],
        "template": {
         "data": {
          "bar": [
           {
            "error_x": {
             "color": "rgb(36,36,36)"
            },
            "error_y": {
             "color": "rgb(36,36,36)"
            },
            "marker": {
             "line": {
              "color": "white",
              "width": 0.5
             },
             "pattern": {
              "fillmode": "overlay",
              "size": 10,
              "solidity": 0.2
             }
            },
            "type": "bar"
           }
          ],
          "barpolar": [
           {
            "marker": {
             "line": {
              "color": "white",
              "width": 0.5
             },
             "pattern": {
              "fillmode": "overlay",
              "size": 10,
              "solidity": 0.2
             }
            },
            "type": "barpolar"
           }
          ],
          "carpet": [
           {
            "aaxis": {
             "endlinecolor": "rgb(36,36,36)",
             "gridcolor": "white",
             "linecolor": "white",
             "minorgridcolor": "white",
             "startlinecolor": "rgb(36,36,36)"
            },
            "baxis": {
             "endlinecolor": "rgb(36,36,36)",
             "gridcolor": "white",
             "linecolor": "white",
             "minorgridcolor": "white",
             "startlinecolor": "rgb(36,36,36)"
            },
            "type": "carpet"
           }
          ],
          "choropleth": [
           {
            "colorbar": {
             "outlinewidth": 1,
             "tickcolor": "rgb(36,36,36)",
             "ticks": "outside"
            },
            "type": "choropleth"
           }
          ],
          "contour": [
           {
            "colorbar": {
             "outlinewidth": 1,
             "tickcolor": "rgb(36,36,36)",
             "ticks": "outside"
            },
            "colorscale": [
             [
              0,
              "#440154"
             ],
             [
              0.1111111111111111,
              "#482878"
             ],
             [
              0.2222222222222222,
              "#3e4989"
             ],
             [
              0.3333333333333333,
              "#31688e"
             ],
             [
              0.4444444444444444,
              "#26828e"
             ],
             [
              0.5555555555555556,
              "#1f9e89"
             ],
             [
              0.6666666666666666,
              "#35b779"
             ],
             [
              0.7777777777777778,
              "#6ece58"
             ],
             [
              0.8888888888888888,
              "#b5de2b"
             ],
             [
              1,
              "#fde725"
             ]
            ],
            "type": "contour"
           }
          ],
          "contourcarpet": [
           {
            "colorbar": {
             "outlinewidth": 1,
             "tickcolor": "rgb(36,36,36)",
             "ticks": "outside"
            },
            "type": "contourcarpet"
           }
          ],
          "heatmap": [
           {
            "colorbar": {
             "outlinewidth": 1,
             "tickcolor": "rgb(36,36,36)",
             "ticks": "outside"
            },
            "colorscale": [
             [
              0,
              "#440154"
             ],
             [
              0.1111111111111111,
              "#482878"
             ],
             [
              0.2222222222222222,
              "#3e4989"
             ],
             [
              0.3333333333333333,
              "#31688e"
             ],
             [
              0.4444444444444444,
              "#26828e"
             ],
             [
              0.5555555555555556,
              "#1f9e89"
             ],
             [
              0.6666666666666666,
              "#35b779"
             ],
             [
              0.7777777777777778,
              "#6ece58"
             ],
             [
              0.8888888888888888,
              "#b5de2b"
             ],
             [
              1,
              "#fde725"
             ]
            ],
            "type": "heatmap"
           }
          ],
          "histogram": [
           {
            "marker": {
             "line": {
              "color": "white",
              "width": 0.6
             }
            },
            "type": "histogram"
           }
          ],
          "histogram2d": [
           {
            "colorbar": {
             "outlinewidth": 1,
             "tickcolor": "rgb(36,36,36)",
             "ticks": "outside"
            },
            "colorscale": [
             [
              0,
              "#440154"
             ],
             [
              0.1111111111111111,
              "#482878"
             ],
             [
              0.2222222222222222,
              "#3e4989"
             ],
             [
              0.3333333333333333,
              "#31688e"
             ],
             [
              0.4444444444444444,
              "#26828e"
             ],
             [
              0.5555555555555556,
              "#1f9e89"
             ],
             [
              0.6666666666666666,
              "#35b779"
             ],
             [
              0.7777777777777778,
              "#6ece58"
             ],
             [
              0.8888888888888888,
              "#b5de2b"
             ],
             [
              1,
              "#fde725"
             ]
            ],
            "type": "histogram2d"
           }
          ],
          "histogram2dcontour": [
           {
            "colorbar": {
             "outlinewidth": 1,
             "tickcolor": "rgb(36,36,36)",
             "ticks": "outside"
            },
            "colorscale": [
             [
              0,
              "#440154"
             ],
             [
              0.1111111111111111,
              "#482878"
             ],
             [
              0.2222222222222222,
              "#3e4989"
             ],
             [
              0.3333333333333333,
              "#31688e"
             ],
             [
              0.4444444444444444,
              "#26828e"
             ],
             [
              0.5555555555555556,
              "#1f9e89"
             ],
             [
              0.6666666666666666,
              "#35b779"
             ],
             [
              0.7777777777777778,
              "#6ece58"
             ],
             [
              0.8888888888888888,
              "#b5de2b"
             ],
             [
              1,
              "#fde725"
             ]
            ],
            "type": "histogram2dcontour"
           }
          ],
          "mesh3d": [
           {
            "colorbar": {
             "outlinewidth": 1,
             "tickcolor": "rgb(36,36,36)",
             "ticks": "outside"
            },
            "type": "mesh3d"
           }
          ],
          "parcoords": [
           {
            "line": {
             "colorbar": {
              "outlinewidth": 1,
              "tickcolor": "rgb(36,36,36)",
              "ticks": "outside"
             }
            },
            "type": "parcoords"
           }
          ],
          "pie": [
           {
            "automargin": true,
            "type": "pie"
           }
          ],
          "scatter": [
           {
            "fillpattern": {
             "fillmode": "overlay",
             "size": 10,
             "solidity": 0.2
            },
            "type": "scatter"
           }
          ],
          "scatter3d": [
           {
            "line": {
             "colorbar": {
              "outlinewidth": 1,
              "tickcolor": "rgb(36,36,36)",
              "ticks": "outside"
             }
            },
            "marker": {
             "colorbar": {
              "outlinewidth": 1,
              "tickcolor": "rgb(36,36,36)",
              "ticks": "outside"
             }
            },
            "type": "scatter3d"
           }
          ],
          "scattercarpet": [
           {
            "marker": {
             "colorbar": {
              "outlinewidth": 1,
              "tickcolor": "rgb(36,36,36)",
              "ticks": "outside"
             }
            },
            "type": "scattercarpet"
           }
          ],
          "scattergeo": [
           {
            "marker": {
             "colorbar": {
              "outlinewidth": 1,
              "tickcolor": "rgb(36,36,36)",
              "ticks": "outside"
             }
            },
            "type": "scattergeo"
           }
          ],
          "scattergl": [
           {
            "marker": {
             "colorbar": {
              "outlinewidth": 1,
              "tickcolor": "rgb(36,36,36)",
              "ticks": "outside"
             }
            },
            "type": "scattergl"
           }
          ],
          "scattermap": [
           {
            "marker": {
             "colorbar": {
              "outlinewidth": 1,
              "tickcolor": "rgb(36,36,36)",
              "ticks": "outside"
             }
            },
            "type": "scattermap"
           }
          ],
          "scattermapbox": [
           {
            "marker": {
             "colorbar": {
              "outlinewidth": 1,
              "tickcolor": "rgb(36,36,36)",
              "ticks": "outside"
             }
            },
            "type": "scattermapbox"
           }
          ],
          "scatterpolar": [
           {
            "marker": {
             "colorbar": {
              "outlinewidth": 1,
              "tickcolor": "rgb(36,36,36)",
              "ticks": "outside"
             }
            },
            "type": "scatterpolar"
           }
          ],
          "scatterpolargl": [
           {
            "marker": {
             "colorbar": {
              "outlinewidth": 1,
              "tickcolor": "rgb(36,36,36)",
              "ticks": "outside"
             }
            },
            "type": "scatterpolargl"
           }
          ],
          "scatterternary": [
           {
            "marker": {
             "colorbar": {
              "outlinewidth": 1,
              "tickcolor": "rgb(36,36,36)",
              "ticks": "outside"
             }
            },
            "type": "scatterternary"
           }
          ],
          "surface": [
           {
            "colorbar": {
             "outlinewidth": 1,
             "tickcolor": "rgb(36,36,36)",
             "ticks": "outside"
            },
            "colorscale": [
             [
              0,
              "#440154"
             ],
             [
              0.1111111111111111,
              "#482878"
             ],
             [
              0.2222222222222222,
              "#3e4989"
             ],
             [
              0.3333333333333333,
              "#31688e"
             ],
             [
              0.4444444444444444,
              "#26828e"
             ],
             [
              0.5555555555555556,
              "#1f9e89"
             ],
             [
              0.6666666666666666,
              "#35b779"
             ],
             [
              0.7777777777777778,
              "#6ece58"
             ],
             [
              0.8888888888888888,
              "#b5de2b"
             ],
             [
              1,
              "#fde725"
             ]
            ],
            "type": "surface"
           }
          ],
          "table": [
           {
            "cells": {
             "fill": {
              "color": "rgb(237,237,237)"
             },
             "line": {
              "color": "white"
             }
            },
            "header": {
             "fill": {
              "color": "rgb(217,217,217)"
             },
             "line": {
              "color": "white"
             }
            },
            "type": "table"
           }
          ]
         },
         "layout": {
          "annotationdefaults": {
           "arrowhead": 0,
           "arrowwidth": 1
          },
          "autotypenumbers": "strict",
          "coloraxis": {
           "colorbar": {
            "outlinewidth": 1,
            "tickcolor": "rgb(36,36,36)",
            "ticks": "outside"
           }
          },
          "colorscale": {
           "diverging": [
            [
             0,
             "rgb(103,0,31)"
            ],
            [
             0.1,
             "rgb(178,24,43)"
            ],
            [
             0.2,
             "rgb(214,96,77)"
            ],
            [
             0.3,
             "rgb(244,165,130)"
            ],
            [
             0.4,
             "rgb(253,219,199)"
            ],
            [
             0.5,
             "rgb(247,247,247)"
            ],
            [
             0.6,
             "rgb(209,229,240)"
            ],
            [
             0.7,
             "rgb(146,197,222)"
            ],
            [
             0.8,
             "rgb(67,147,195)"
            ],
            [
             0.9,
             "rgb(33,102,172)"
            ],
            [
             1,
             "rgb(5,48,97)"
            ]
           ],
           "sequential": [
            [
             0,
             "#440154"
            ],
            [
             0.1111111111111111,
             "#482878"
            ],
            [
             0.2222222222222222,
             "#3e4989"
            ],
            [
             0.3333333333333333,
             "#31688e"
            ],
            [
             0.4444444444444444,
             "#26828e"
            ],
            [
             0.5555555555555556,
             "#1f9e89"
            ],
            [
             0.6666666666666666,
             "#35b779"
            ],
            [
             0.7777777777777778,
             "#6ece58"
            ],
            [
             0.8888888888888888,
             "#b5de2b"
            ],
            [
             1,
             "#fde725"
            ]
           ],
           "sequentialminus": [
            [
             0,
             "#440154"
            ],
            [
             0.1111111111111111,
             "#482878"
            ],
            [
             0.2222222222222222,
             "#3e4989"
            ],
            [
             0.3333333333333333,
             "#31688e"
            ],
            [
             0.4444444444444444,
             "#26828e"
            ],
            [
             0.5555555555555556,
             "#1f9e89"
            ],
            [
             0.6666666666666666,
             "#35b779"
            ],
            [
             0.7777777777777778,
             "#6ece58"
            ],
            [
             0.8888888888888888,
             "#b5de2b"
            ],
            [
             1,
             "#fde725"
            ]
           ]
          },
          "colorway": [
           "#1F77B4",
           "#FF7F0E",
           "#2CA02C",
           "#D62728",
           "#9467BD",
           "#8C564B",
           "#E377C2",
           "#7F7F7F",
           "#BCBD22",
           "#17BECF"
          ],
          "font": {
           "color": "rgb(36,36,36)"
          },
          "geo": {
           "bgcolor": "white",
           "lakecolor": "white",
           "landcolor": "white",
           "showlakes": true,
           "showland": true,
           "subunitcolor": "white"
          },
          "hoverlabel": {
           "align": "left"
          },
          "hovermode": "closest",
          "mapbox": {
           "style": "light"
          },
          "paper_bgcolor": "white",
          "plot_bgcolor": "white",
          "polar": {
           "angularaxis": {
            "gridcolor": "rgb(232,232,232)",
            "linecolor": "rgb(36,36,36)",
            "showgrid": false,
            "showline": true,
            "ticks": "outside"
           },
           "bgcolor": "white",
           "radialaxis": {
            "gridcolor": "rgb(232,232,232)",
            "linecolor": "rgb(36,36,36)",
            "showgrid": false,
            "showline": true,
            "ticks": "outside"
           }
          },
          "scene": {
           "xaxis": {
            "backgroundcolor": "white",
            "gridcolor": "rgb(232,232,232)",
            "gridwidth": 2,
            "linecolor": "rgb(36,36,36)",
            "showbackground": true,
            "showgrid": false,
            "showline": true,
            "ticks": "outside",
            "zeroline": false,
            "zerolinecolor": "rgb(36,36,36)"
           },
           "yaxis": {
            "backgroundcolor": "white",
            "gridcolor": "rgb(232,232,232)",
            "gridwidth": 2,
            "linecolor": "rgb(36,36,36)",
            "showbackground": true,
            "showgrid": false,
            "showline": true,
            "ticks": "outside",
            "zeroline": false,
            "zerolinecolor": "rgb(36,36,36)"
           },
           "zaxis": {
            "backgroundcolor": "white",
            "gridcolor": "rgb(232,232,232)",
            "gridwidth": 2,
            "linecolor": "rgb(36,36,36)",
            "showbackground": true,
            "showgrid": false,
            "showline": true,
            "ticks": "outside",
            "zeroline": false,
            "zerolinecolor": "rgb(36,36,36)"
           }
          },
          "shapedefaults": {
           "fillcolor": "black",
           "line": {
            "width": 0
           },
           "opacity": 0.3
          },
          "ternary": {
           "aaxis": {
            "gridcolor": "rgb(232,232,232)",
            "linecolor": "rgb(36,36,36)",
            "showgrid": false,
            "showline": true,
            "ticks": "outside"
           },
           "baxis": {
            "gridcolor": "rgb(232,232,232)",
            "linecolor": "rgb(36,36,36)",
            "showgrid": false,
            "showline": true,
            "ticks": "outside"
           },
           "bgcolor": "white",
           "caxis": {
            "gridcolor": "rgb(232,232,232)",
            "linecolor": "rgb(36,36,36)",
            "showgrid": false,
            "showline": true,
            "ticks": "outside"
           }
          },
          "title": {
           "x": 0.05
          },
          "xaxis": {
           "automargin": true,
           "gridcolor": "rgb(232,232,232)",
           "linecolor": "rgb(36,36,36)",
           "showgrid": false,
           "showline": true,
           "ticks": "outside",
           "title": {
            "standoff": 15
           },
           "zeroline": false,
           "zerolinecolor": "rgb(36,36,36)"
          },
          "yaxis": {
           "automargin": true,
           "gridcolor": "rgb(232,232,232)",
           "linecolor": "rgb(36,36,36)",
           "showgrid": false,
           "showline": true,
           "ticks": "outside",
           "title": {
            "standoff": 15
           },
           "zeroline": false,
           "zerolinecolor": "rgb(36,36,36)"
          }
         }
        },
        "title": {
         "font": {
          "color": "Black",
          "size": 22
         },
         "text": "<b>Intertopic Distance Map</b>",
         "x": 0.5,
         "xanchor": "center",
         "y": 0.95,
         "yanchor": "top"
        },
        "width": 650,
        "xaxis": {
         "anchor": "y",
         "domain": [
          0,
          1
         ],
         "range": [
          -2.033837753534317,
          15.68682074546814
         ],
         "title": {
          "text": ""
         },
         "visible": false
        },
        "yaxis": {
         "anchor": "x",
         "domain": [
          0,
          1
         ],
         "range": [
          5.124097800254821,
          12.034989261627198
         ],
         "title": {
          "text": ""
         },
         "visible": false
        }
       }
      }
     },
     "metadata": {},
     "output_type": "display_data"
    }
   ],
   "source": [
    "zh_topic_model.visualize_topics()"
   ]
  },
  {
   "cell_type": "code",
   "execution_count": 7,
   "metadata": {},
   "outputs": [
    {
     "name": "stderr",
     "output_type": "stream",
     "text": [
      "100%|██████████| 1/1 [00:00<00:00,  4.24it/s]\n"
     ]
    }
   ],
   "source": [
    "# 估算每個文件對BERTopic每個主題的機率分布\n",
    "topic_distr, _ = zh_topic_model.approximate_distribution(docs_zh)"
   ]
  },
  {
   "cell_type": "code",
   "execution_count": 9,
   "metadata": {},
   "outputs": [
    {
     "data": {
      "application/vnd.plotly.v1+json": {
       "config": {
        "plotlyServerURL": "https://plot.ly"
       },
       "data": [
        {
         "marker": {
          "color": "#C8D2D7",
          "line": {
           "color": "#6E8484",
           "width": 1
          }
         },
         "orientation": "h",
         "type": "bar",
         "x": [
          0.1849470939526006,
          0.2478655545865712,
          0.19384846870379474,
          0.28939467012318354,
          0.08394421263384999
         ],
         "y": [
          "<b>Topic 0</b>: 登入_無法_ _一直_登錄",
          "<b>Topic 2</b>: 更新_使用_無法_卻_後",
          "<b>Topic 3</b>: 後_更新_無法_登入_進不去",
          "<b>Topic 7</b>: 很爛_ _奇葩_爛_東西",
          "<b>Topic 10</b>: 連不上_伺服器_連接_連線_檢查"
         ]
        }
       ],
       "layout": {
        "height": 600,
        "hoverlabel": {
         "bgcolor": "white",
         "font": {
          "family": "Rockwell",
          "size": 16
         }
        },
        "template": {
         "data": {
          "bar": [
           {
            "error_x": {
             "color": "rgb(36,36,36)"
            },
            "error_y": {
             "color": "rgb(36,36,36)"
            },
            "marker": {
             "line": {
              "color": "white",
              "width": 0.5
             },
             "pattern": {
              "fillmode": "overlay",
              "size": 10,
              "solidity": 0.2
             }
            },
            "type": "bar"
           }
          ],
          "barpolar": [
           {
            "marker": {
             "line": {
              "color": "white",
              "width": 0.5
             },
             "pattern": {
              "fillmode": "overlay",
              "size": 10,
              "solidity": 0.2
             }
            },
            "type": "barpolar"
           }
          ],
          "carpet": [
           {
            "aaxis": {
             "endlinecolor": "rgb(36,36,36)",
             "gridcolor": "white",
             "linecolor": "white",
             "minorgridcolor": "white",
             "startlinecolor": "rgb(36,36,36)"
            },
            "baxis": {
             "endlinecolor": "rgb(36,36,36)",
             "gridcolor": "white",
             "linecolor": "white",
             "minorgridcolor": "white",
             "startlinecolor": "rgb(36,36,36)"
            },
            "type": "carpet"
           }
          ],
          "choropleth": [
           {
            "colorbar": {
             "outlinewidth": 1,
             "tickcolor": "rgb(36,36,36)",
             "ticks": "outside"
            },
            "type": "choropleth"
           }
          ],
          "contour": [
           {
            "colorbar": {
             "outlinewidth": 1,
             "tickcolor": "rgb(36,36,36)",
             "ticks": "outside"
            },
            "colorscale": [
             [
              0,
              "#440154"
             ],
             [
              0.1111111111111111,
              "#482878"
             ],
             [
              0.2222222222222222,
              "#3e4989"
             ],
             [
              0.3333333333333333,
              "#31688e"
             ],
             [
              0.4444444444444444,
              "#26828e"
             ],
             [
              0.5555555555555556,
              "#1f9e89"
             ],
             [
              0.6666666666666666,
              "#35b779"
             ],
             [
              0.7777777777777778,
              "#6ece58"
             ],
             [
              0.8888888888888888,
              "#b5de2b"
             ],
             [
              1,
              "#fde725"
             ]
            ],
            "type": "contour"
           }
          ],
          "contourcarpet": [
           {
            "colorbar": {
             "outlinewidth": 1,
             "tickcolor": "rgb(36,36,36)",
             "ticks": "outside"
            },
            "type": "contourcarpet"
           }
          ],
          "heatmap": [
           {
            "colorbar": {
             "outlinewidth": 1,
             "tickcolor": "rgb(36,36,36)",
             "ticks": "outside"
            },
            "colorscale": [
             [
              0,
              "#440154"
             ],
             [
              0.1111111111111111,
              "#482878"
             ],
             [
              0.2222222222222222,
              "#3e4989"
             ],
             [
              0.3333333333333333,
              "#31688e"
             ],
             [
              0.4444444444444444,
              "#26828e"
             ],
             [
              0.5555555555555556,
              "#1f9e89"
             ],
             [
              0.6666666666666666,
              "#35b779"
             ],
             [
              0.7777777777777778,
              "#6ece58"
             ],
             [
              0.8888888888888888,
              "#b5de2b"
             ],
             [
              1,
              "#fde725"
             ]
            ],
            "type": "heatmap"
           }
          ],
          "histogram": [
           {
            "marker": {
             "line": {
              "color": "white",
              "width": 0.6
             }
            },
            "type": "histogram"
           }
          ],
          "histogram2d": [
           {
            "colorbar": {
             "outlinewidth": 1,
             "tickcolor": "rgb(36,36,36)",
             "ticks": "outside"
            },
            "colorscale": [
             [
              0,
              "#440154"
             ],
             [
              0.1111111111111111,
              "#482878"
             ],
             [
              0.2222222222222222,
              "#3e4989"
             ],
             [
              0.3333333333333333,
              "#31688e"
             ],
             [
              0.4444444444444444,
              "#26828e"
             ],
             [
              0.5555555555555556,
              "#1f9e89"
             ],
             [
              0.6666666666666666,
              "#35b779"
             ],
             [
              0.7777777777777778,
              "#6ece58"
             ],
             [
              0.8888888888888888,
              "#b5de2b"
             ],
             [
              1,
              "#fde725"
             ]
            ],
            "type": "histogram2d"
           }
          ],
          "histogram2dcontour": [
           {
            "colorbar": {
             "outlinewidth": 1,
             "tickcolor": "rgb(36,36,36)",
             "ticks": "outside"
            },
            "colorscale": [
             [
              0,
              "#440154"
             ],
             [
              0.1111111111111111,
              "#482878"
             ],
             [
              0.2222222222222222,
              "#3e4989"
             ],
             [
              0.3333333333333333,
              "#31688e"
             ],
             [
              0.4444444444444444,
              "#26828e"
             ],
             [
              0.5555555555555556,
              "#1f9e89"
             ],
             [
              0.6666666666666666,
              "#35b779"
             ],
             [
              0.7777777777777778,
              "#6ece58"
             ],
             [
              0.8888888888888888,
              "#b5de2b"
             ],
             [
              1,
              "#fde725"
             ]
            ],
            "type": "histogram2dcontour"
           }
          ],
          "mesh3d": [
           {
            "colorbar": {
             "outlinewidth": 1,
             "tickcolor": "rgb(36,36,36)",
             "ticks": "outside"
            },
            "type": "mesh3d"
           }
          ],
          "parcoords": [
           {
            "line": {
             "colorbar": {
              "outlinewidth": 1,
              "tickcolor": "rgb(36,36,36)",
              "ticks": "outside"
             }
            },
            "type": "parcoords"
           }
          ],
          "pie": [
           {
            "automargin": true,
            "type": "pie"
           }
          ],
          "scatter": [
           {
            "fillpattern": {
             "fillmode": "overlay",
             "size": 10,
             "solidity": 0.2
            },
            "type": "scatter"
           }
          ],
          "scatter3d": [
           {
            "line": {
             "colorbar": {
              "outlinewidth": 1,
              "tickcolor": "rgb(36,36,36)",
              "ticks": "outside"
             }
            },
            "marker": {
             "colorbar": {
              "outlinewidth": 1,
              "tickcolor": "rgb(36,36,36)",
              "ticks": "outside"
             }
            },
            "type": "scatter3d"
           }
          ],
          "scattercarpet": [
           {
            "marker": {
             "colorbar": {
              "outlinewidth": 1,
              "tickcolor": "rgb(36,36,36)",
              "ticks": "outside"
             }
            },
            "type": "scattercarpet"
           }
          ],
          "scattergeo": [
           {
            "marker": {
             "colorbar": {
              "outlinewidth": 1,
              "tickcolor": "rgb(36,36,36)",
              "ticks": "outside"
             }
            },
            "type": "scattergeo"
           }
          ],
          "scattergl": [
           {
            "marker": {
             "colorbar": {
              "outlinewidth": 1,
              "tickcolor": "rgb(36,36,36)",
              "ticks": "outside"
             }
            },
            "type": "scattergl"
           }
          ],
          "scattermap": [
           {
            "marker": {
             "colorbar": {
              "outlinewidth": 1,
              "tickcolor": "rgb(36,36,36)",
              "ticks": "outside"
             }
            },
            "type": "scattermap"
           }
          ],
          "scattermapbox": [
           {
            "marker": {
             "colorbar": {
              "outlinewidth": 1,
              "tickcolor": "rgb(36,36,36)",
              "ticks": "outside"
             }
            },
            "type": "scattermapbox"
           }
          ],
          "scatterpolar": [
           {
            "marker": {
             "colorbar": {
              "outlinewidth": 1,
              "tickcolor": "rgb(36,36,36)",
              "ticks": "outside"
             }
            },
            "type": "scatterpolar"
           }
          ],
          "scatterpolargl": [
           {
            "marker": {
             "colorbar": {
              "outlinewidth": 1,
              "tickcolor": "rgb(36,36,36)",
              "ticks": "outside"
             }
            },
            "type": "scatterpolargl"
           }
          ],
          "scatterternary": [
           {
            "marker": {
             "colorbar": {
              "outlinewidth": 1,
              "tickcolor": "rgb(36,36,36)",
              "ticks": "outside"
             }
            },
            "type": "scatterternary"
           }
          ],
          "surface": [
           {
            "colorbar": {
             "outlinewidth": 1,
             "tickcolor": "rgb(36,36,36)",
             "ticks": "outside"
            },
            "colorscale": [
             [
              0,
              "#440154"
             ],
             [
              0.1111111111111111,
              "#482878"
             ],
             [
              0.2222222222222222,
              "#3e4989"
             ],
             [
              0.3333333333333333,
              "#31688e"
             ],
             [
              0.4444444444444444,
              "#26828e"
             ],
             [
              0.5555555555555556,
              "#1f9e89"
             ],
             [
              0.6666666666666666,
              "#35b779"
             ],
             [
              0.7777777777777778,
              "#6ece58"
             ],
             [
              0.8888888888888888,
              "#b5de2b"
             ],
             [
              1,
              "#fde725"
             ]
            ],
            "type": "surface"
           }
          ],
          "table": [
           {
            "cells": {
             "fill": {
              "color": "rgb(237,237,237)"
             },
             "line": {
              "color": "white"
             }
            },
            "header": {
             "fill": {
              "color": "rgb(217,217,217)"
             },
             "line": {
              "color": "white"
             }
            },
            "type": "table"
           }
          ]
         },
         "layout": {
          "annotationdefaults": {
           "arrowhead": 0,
           "arrowwidth": 1
          },
          "autotypenumbers": "strict",
          "coloraxis": {
           "colorbar": {
            "outlinewidth": 1,
            "tickcolor": "rgb(36,36,36)",
            "ticks": "outside"
           }
          },
          "colorscale": {
           "diverging": [
            [
             0,
             "rgb(103,0,31)"
            ],
            [
             0.1,
             "rgb(178,24,43)"
            ],
            [
             0.2,
             "rgb(214,96,77)"
            ],
            [
             0.3,
             "rgb(244,165,130)"
            ],
            [
             0.4,
             "rgb(253,219,199)"
            ],
            [
             0.5,
             "rgb(247,247,247)"
            ],
            [
             0.6,
             "rgb(209,229,240)"
            ],
            [
             0.7,
             "rgb(146,197,222)"
            ],
            [
             0.8,
             "rgb(67,147,195)"
            ],
            [
             0.9,
             "rgb(33,102,172)"
            ],
            [
             1,
             "rgb(5,48,97)"
            ]
           ],
           "sequential": [
            [
             0,
             "#440154"
            ],
            [
             0.1111111111111111,
             "#482878"
            ],
            [
             0.2222222222222222,
             "#3e4989"
            ],
            [
             0.3333333333333333,
             "#31688e"
            ],
            [
             0.4444444444444444,
             "#26828e"
            ],
            [
             0.5555555555555556,
             "#1f9e89"
            ],
            [
             0.6666666666666666,
             "#35b779"
            ],
            [
             0.7777777777777778,
             "#6ece58"
            ],
            [
             0.8888888888888888,
             "#b5de2b"
            ],
            [
             1,
             "#fde725"
            ]
           ],
           "sequentialminus": [
            [
             0,
             "#440154"
            ],
            [
             0.1111111111111111,
             "#482878"
            ],
            [
             0.2222222222222222,
             "#3e4989"
            ],
            [
             0.3333333333333333,
             "#31688e"
            ],
            [
             0.4444444444444444,
             "#26828e"
            ],
            [
             0.5555555555555556,
             "#1f9e89"
            ],
            [
             0.6666666666666666,
             "#35b779"
            ],
            [
             0.7777777777777778,
             "#6ece58"
            ],
            [
             0.8888888888888888,
             "#b5de2b"
            ],
            [
             1,
             "#fde725"
            ]
           ]
          },
          "colorway": [
           "#1F77B4",
           "#FF7F0E",
           "#2CA02C",
           "#D62728",
           "#9467BD",
           "#8C564B",
           "#E377C2",
           "#7F7F7F",
           "#BCBD22",
           "#17BECF"
          ],
          "font": {
           "color": "rgb(36,36,36)"
          },
          "geo": {
           "bgcolor": "white",
           "lakecolor": "white",
           "landcolor": "white",
           "showlakes": true,
           "showland": true,
           "subunitcolor": "white"
          },
          "hoverlabel": {
           "align": "left"
          },
          "hovermode": "closest",
          "mapbox": {
           "style": "light"
          },
          "paper_bgcolor": "white",
          "plot_bgcolor": "white",
          "polar": {
           "angularaxis": {
            "gridcolor": "rgb(232,232,232)",
            "linecolor": "rgb(36,36,36)",
            "showgrid": false,
            "showline": true,
            "ticks": "outside"
           },
           "bgcolor": "white",
           "radialaxis": {
            "gridcolor": "rgb(232,232,232)",
            "linecolor": "rgb(36,36,36)",
            "showgrid": false,
            "showline": true,
            "ticks": "outside"
           }
          },
          "scene": {
           "xaxis": {
            "backgroundcolor": "white",
            "gridcolor": "rgb(232,232,232)",
            "gridwidth": 2,
            "linecolor": "rgb(36,36,36)",
            "showbackground": true,
            "showgrid": false,
            "showline": true,
            "ticks": "outside",
            "zeroline": false,
            "zerolinecolor": "rgb(36,36,36)"
           },
           "yaxis": {
            "backgroundcolor": "white",
            "gridcolor": "rgb(232,232,232)",
            "gridwidth": 2,
            "linecolor": "rgb(36,36,36)",
            "showbackground": true,
            "showgrid": false,
            "showline": true,
            "ticks": "outside",
            "zeroline": false,
            "zerolinecolor": "rgb(36,36,36)"
           },
           "zaxis": {
            "backgroundcolor": "white",
            "gridcolor": "rgb(232,232,232)",
            "gridwidth": 2,
            "linecolor": "rgb(36,36,36)",
            "showbackground": true,
            "showgrid": false,
            "showline": true,
            "ticks": "outside",
            "zeroline": false,
            "zerolinecolor": "rgb(36,36,36)"
           }
          },
          "shapedefaults": {
           "fillcolor": "black",
           "line": {
            "width": 0
           },
           "opacity": 0.3
          },
          "ternary": {
           "aaxis": {
            "gridcolor": "rgb(232,232,232)",
            "linecolor": "rgb(36,36,36)",
            "showgrid": false,
            "showline": true,
            "ticks": "outside"
           },
           "baxis": {
            "gridcolor": "rgb(232,232,232)",
            "linecolor": "rgb(36,36,36)",
            "showgrid": false,
            "showline": true,
            "ticks": "outside"
           },
           "bgcolor": "white",
           "caxis": {
            "gridcolor": "rgb(232,232,232)",
            "linecolor": "rgb(36,36,36)",
            "showgrid": false,
            "showline": true,
            "ticks": "outside"
           }
          },
          "title": {
           "x": 0.05
          },
          "xaxis": {
           "automargin": true,
           "gridcolor": "rgb(232,232,232)",
           "linecolor": "rgb(36,36,36)",
           "showgrid": false,
           "showline": true,
           "ticks": "outside",
           "title": {
            "standoff": 15
           },
           "zeroline": false,
           "zerolinecolor": "rgb(36,36,36)"
          },
          "yaxis": {
           "automargin": true,
           "gridcolor": "rgb(232,232,232)",
           "linecolor": "rgb(36,36,36)",
           "showgrid": false,
           "showline": true,
           "ticks": "outside",
           "title": {
            "standoff": 15
           },
           "zeroline": false,
           "zerolinecolor": "rgb(36,36,36)"
          }
         }
        },
        "title": {
         "font": {
          "color": "Black",
          "size": 22
         },
         "text": "<b>Topic Probability Distribution</b>",
         "x": 0.5,
         "xanchor": "center",
         "y": 0.95,
         "yanchor": "top"
        },
        "width": 800,
        "xaxis": {
         "title": {
          "text": "Probability"
         }
        }
       }
      }
     },
     "metadata": {},
     "output_type": "display_data"
    }
   ],
   "source": [
    "# 以第18個文件為例，列出這份文件對每個主題的機率分布\n",
    "zh_topic_model.visualize_distribution(topic_distr[13])"
   ]
  },
  {
   "cell_type": "code",
   "execution_count": 10,
   "metadata": {},
   "outputs": [
    {
     "data": {
      "text/plain": [
       "[('更新', 0.17601102111153255),\n",
       " ('使用', 0.07746503103225992),\n",
       " ('無法', 0.06755337292227993),\n",
       " ('卻', 0.06375427002077816),\n",
       " ('後', 0.05668109945704502),\n",
       " (' ', 0.05219428650268092),\n",
       " ('開啟', 0.04481942032820539),\n",
       " ('一直', 0.03742030152843072),\n",
       " ('安裝', 0.03722836123450204),\n",
       " ('人', 0.03722836123450204),\n",
       " ('程式', 0.03324976552917237),\n",
       " ('系統', 0.031047937979315036),\n",
       " ('問題', 0.030165804815225506),\n",
       " ('強制', 0.028911360681799895),\n",
       " ('下載', 0.02832689959321674),\n",
       " ('櫃檯', 0.02553632970592024),\n",
       " ('這麼久', 0.02553632970592024),\n",
       " ('商店', 0.02349964872663861),\n",
       " ('真是', 0.02349964872663861),\n",
       " ('找', 0.02349964872663861),\n",
       " ('已經', 0.023313433838889466),\n",
       " ('說', 0.023313433838889466),\n",
       " ('好好', 0.022059285198428313),\n",
       " ('越', 0.022059285198428313),\n",
       " ('最新版', 0.022059285198428313),\n",
       " ('要求', 0.020945646977752166),\n",
       " ('修正', 0.020945646977752166),\n",
       " ('搞', 0.020038650717368094),\n",
       " ('解除', 0.020038650717368094),\n",
       " ('閃退', 0.01861418061725102)]"
      ]
     },
     "execution_count": 10,
     "metadata": {},
     "output_type": "execute_result"
    }
   ],
   "source": [
    "# 列出主題的代表詞和其對應的權重\n",
    "zh_topic_model.get_topic(2)"
   ]
  },
  {
   "cell_type": "code",
   "execution_count": 30,
   "metadata": {},
   "outputs": [
    {
     "data": {
      "image/png": "[encoded data removed]",
      "text/plain": [
       "<Figure size 1000x600 with 1 Axes>"
      ]
     },
     "metadata": {},
     "output_type": "display_data"
    },
    {
     "data": {
      "image/png": "[encoded data removed]",
      "text/plain": [
       "<Figure size 1000x600 with 1 Axes>"
      ]
     },
     "metadata": {},
     "output_type": "display_data"
    },
    {
     "data": {
      "image/png": "[encoded data removed]",
      "text/plain": [
       "<Figure size 1000x600 with 1 Axes>"
      ]
     },
     "metadata": {},
     "output_type": "display_data"
    },
    {
     "data": {
      "image/png": "[encoded data removed]",
      "text/plain": [
       "<Figure size 1000x600 with 1 Axes>"
      ]
     },
     "metadata": {},
     "output_type": "display_data"
    },
    {
     "data": {
      "image/png": "[encoded data removed]",
      "text/plain": [
       "<Figure size 1000x600 with 1 Axes>"
      ]
     },
     "metadata": {},
     "output_type": "display_data"
    }
   ],
   "source": [
    "top_distribution = [10,7,3,2,0]\n",
    "for i in top_distribution:\n",
    "    # 取得每個主題的關鍵詞\n",
    "    topic_words = zh_topic_model.get_topic(i)\n",
    "    \n",
    "    # 轉換為DataFrame\n",
    "    df = pd.DataFrame(topic_words, columns=['word', 'prob'])\n",
    "    df = df[df['word'] != ' ']\n",
    "    \n",
    "    # 根據prob排序並選出前10名\n",
    "    top_10 = df.sort_values('prob', ascending=False).head(10)\n",
    "    \n",
    "    # 畫出長條圖\n",
    "    plt.figure(figsize=(10,6))\n",
    "    plt.barh(top_10['word'], top_10['prob'], color='navy')\n",
    "    plt.xlabel('機率')\n",
    "    plt.title(f'主題 {i} 詞彙機率前10名 ')\n",
    "    plt.gca().invert_yaxis()\n",
    "    plt.show()"
   ]
  },
  {
   "cell_type": "markdown",
   "metadata": {},
   "source": [
    "# 社群網路"
   ]
  },
  {
   "cell_type": "code",
   "execution_count": 2,
   "metadata": {},
   "outputs": [],
   "source": [
    "import pandas as pd\n",
    "import numpy as np\n",
    "import pyvis\n",
    "import networkx as nx\n",
    "import matplotlib.pyplot as plt\n",
    "from IPython.display import Image"
   ]
  },
  {
   "cell_type": "code",
   "execution_count": null,
   "metadata": {},
   "outputs": [
    {
     "data": {
      "text/html": [
       "<div>\n",
       "<style scoped>\n",
       "    .dataframe tbody tr th:only-of-type {\n",
       "        vertical-align: middle;\n",
       "    }\n",
       "\n",
       "    .dataframe tbody tr th {\n",
       "        vertical-align: top;\n",
       "    }\n",
       "\n",
       "    .dataframe thead th {\n",
       "        text-align: right;\n",
       "    }\n",
       "</style>\n",
       "<table border=\"1\" class=\"dataframe\">\n",
       "  <thead>\n",
       "    <tr style=\"text-align: right;\">\n",
       "      <th></th>\n",
       "      <th>reviewId</th>\n",
       "      <th>score</th>\n",
       "      <th>content</th>\n",
       "      <th>artDate</th>\n",
       "      <th>appVersion</th>\n",
       "      <th>userName</th>\n",
       "      <th>words</th>\n",
       "    </tr>\n",
       "  </thead>\n",
       "  <tbody>\n",
       "    <tr>\n",
       "      <th>0</th>\n",
       "      <td>179e2c16-8898-4086-96ff-b897f0284ac4</td>\n",
       "      <td>1</td>\n",
       "      <td>更新後完全登入不進去，請立即改善。</td>\n",
       "      <td>2017-12-29 18:17:05</td>\n",
       "      <td>3.15</td>\n",
       "      <td>Google 使用者</td>\n",
       "      <td>[更新, 完全, 登入, 立即, 改善]</td>\n",
       "    </tr>\n",
       "    <tr>\n",
       "      <th>1</th>\n",
       "      <td>781b02f8-bc78-4240-bb9e-45b2d9ccd61f</td>\n",
       "      <td>3</td>\n",
       "      <td>希望可以新增圖形手勢或是指紋登入</td>\n",
       "      <td>2017-12-22 16:00:34</td>\n",
       "      <td>3.15</td>\n",
       "      <td>Google 使用者</td>\n",
       "      <td>[希望, 新增, 圖形, 手勢, 指紋, 登入]</td>\n",
       "    </tr>\n",
       "    <tr>\n",
       "      <th>2</th>\n",
       "      <td>ed390033-a91c-4146-bde7-d4533145e9ba</td>\n",
       "      <td>1</td>\n",
       "      <td>按五顆星的自己員工逆？ 載入都無法進入的app 有沒有搞錯啊 錢不是這樣花的阿大哥</td>\n",
       "      <td>2017-12-21 12:25:16</td>\n",
       "      <td>3.15</td>\n",
       "      <td>Google 使用者</td>\n",
       "      <td>[五顆星, 員工, 載入, 無法, 進入, app, 有沒有, 搞錯, 大哥]</td>\n",
       "    </tr>\n",
       "    <tr>\n",
       "      <th>3</th>\n",
       "      <td>7eb57a03-e2dc-4bba-a0bd-9a059d6c0254</td>\n",
       "      <td>5</td>\n",
       "      <td>平安，很好。</td>\n",
       "      <td>2017-12-20 16:00:13</td>\n",
       "      <td>3.15</td>\n",
       "      <td>Google 使用者</td>\n",
       "      <td>[平安]</td>\n",
       "    </tr>\n",
       "    <tr>\n",
       "      <th>4</th>\n",
       "      <td>90a8f503-05a0-4459-9b53-a9d57439cc7b</td>\n",
       "      <td>3</td>\n",
       "      <td>為什麼沒有台幣定存</td>\n",
       "      <td>2017-12-20 08:43:32</td>\n",
       "      <td>3.15</td>\n",
       "      <td>Google 使用者</td>\n",
       "      <td>[台幣, 定存]</td>\n",
       "    </tr>\n",
       "  </tbody>\n",
       "</table>\n",
       "</div>"
      ],
      "text/plain": [
       "                               reviewId  score  \\\n",
       "0  179e2c16-8898-4086-96ff-b897f0284ac4      1   \n",
       "1  781b02f8-bc78-4240-bb9e-45b2d9ccd61f      3   \n",
       "2  ed390033-a91c-4146-bde7-d4533145e9ba      1   \n",
       "3  7eb57a03-e2dc-4bba-a0bd-9a059d6c0254      5   \n",
       "4  90a8f503-05a0-4459-9b53-a9d57439cc7b      3   \n",
       "\n",
       "                                     content             artDate appVersion  \\\n",
       "0                          更新後完全登入不進去，請立即改善。 2017-12-29 18:17:05       3.15   \n",
       "1                           希望可以新增圖形手勢或是指紋登入 2017-12-22 16:00:34       3.15   \n",
       "2  按五顆星的自己員工逆？ 載入都無法進入的app 有沒有搞錯啊 錢不是這樣花的阿大哥 2017-12-21 12:25:16       3.15   \n",
       "3                                     平安，很好。 2017-12-20 16:00:13       3.15   \n",
       "4                                  為什麼沒有台幣定存 2017-12-20 08:43:32       3.15   \n",
       "\n",
       "     userName                                    words  \n",
       "0  Google 使用者                     [更新, 完全, 登入, 立即, 改善]  \n",
       "1  Google 使用者                 [希望, 新增, 圖形, 手勢, 指紋, 登入]  \n",
       "2  Google 使用者  [五顆星, 員工, 載入, 無法, 進入, app, 有沒有, 搞錯, 大哥]  \n",
       "3  Google 使用者                                     [平安]  \n",
       "4  Google 使用者                                 [台幣, 定存]  "
      ]
     },
     "execution_count": 11,
     "metadata": {},
     "output_type": "execute_result"
    }
   ],
   "source": [
    "\n",
    "\n",
    "udn.head()"
   ]
  },
  {
   "cell_type": "code",
   "execution_count": null,
   "metadata": {},
   "outputs": [
    {
     "name": "stdout",
     "output_type": "stream",
     "text": [
      "       src   dis  weight  color\n",
      "0      - 0  3.22      -1    red\n",
      "1  -RG Pro  3.18      -1    red\n",
      "2      1 1  3.22       2  green\n",
      "3   22 蔡承儒  3.20      -1    red\n",
      "4    3CK S  3.18      -1    red\n"
     ]
    }
   ],
   "source": [
    "#parse comment\n",
    "\n",
    "\n",
    "re_df = udn[['userName','appVersion','score']].rename(columns = {'userName':'src','appVersion':'dis','score':'weight'})\n",
    "re_df = re_df[~re_df['src'].isna()]\n",
    "re_df = re_df[~re_df['dis'].isna()]\n",
    "re_df = re_df[~re_df['weight'].isna()]\n",
    "\n",
    "\n",
    "def convertStatus(s):\n",
    "  if s >3:\n",
    "    return 2\n",
    "  else :\n",
    "    return -1\n",
    "re_df['weight'] = re_df['weight'].map(convertStatus)\n",
    "re_df = re_df.groupby(['src','dis']).sum().reset_index()\n",
    "\n",
    "# 設定分數低的為紅色\n",
    "def getColor(w):\n",
    "  if w>0:\n",
    "    return 'green'\n",
    "  else:\n",
    "    return 'red'\n",
    "re_df['color'] = re_df.weight.map(getColor)\n",
    "\n",
    "print(re_df.head(5))"
   ]
  },
  {
   "cell_type": "code",
   "execution_count": null,
   "metadata": {},
   "outputs": [
    {
     "ename": "AssertionError",
     "evalue": "non existent node 'nan'",
     "output_type": "error",
     "traceback": [
      "\u001b[1;31m---------------------------------------------------------------------------\u001b[0m",
      "\u001b[1;31mAssertionError\u001b[0m                            Traceback (most recent call last)",
      "Cell \u001b[1;32mIn[17], line 23\u001b[0m\n\u001b[0;32m     16\u001b[0m netWork\u001b[38;5;241m.\u001b[39madd_nodes(\n\u001b[0;32m     17\u001b[0m     nodes\u001b[38;5;241m=\u001b[39murl_clean,\n\u001b[0;32m     18\u001b[0m     value\u001b[38;5;241m=\u001b[39m[\u001b[38;5;241m2\u001b[39m \u001b[38;5;28;01mfor\u001b[39;00m _ \u001b[38;5;129;01min\u001b[39;00m \u001b[38;5;28mrange\u001b[39m(\u001b[38;5;28mlen\u001b[39m(url_clean))],\n\u001b[0;32m     19\u001b[0m     color\u001b[38;5;241m=\u001b[39m[\u001b[38;5;124m'\u001b[39m\u001b[38;5;124m#FFB366\u001b[39m\u001b[38;5;124m'\u001b[39m \u001b[38;5;28;01mfor\u001b[39;00m _ \u001b[38;5;129;01min\u001b[39;00m \u001b[38;5;28mrange\u001b[39m(\u001b[38;5;28mlen\u001b[39m(url_clean))],\n\u001b[0;32m     20\u001b[0m     title\u001b[38;5;241m=\u001b[39murl_clean\n\u001b[0;32m     21\u001b[0m )\n\u001b[0;32m     22\u001b[0m \u001b[38;5;28;01mfor\u001b[39;00m i \u001b[38;5;129;01min\u001b[39;00m po_df\u001b[38;5;241m.\u001b[39mto_numpy():\n\u001b[1;32m---> 23\u001b[0m   \u001b[43mnetWork\u001b[49m\u001b[38;5;241;43m.\u001b[39;49m\u001b[43madd_edge\u001b[49m\u001b[43m(\u001b[49m\u001b[43mi\u001b[49m\u001b[43m[\u001b[49m\u001b[38;5;241;43m0\u001b[39;49m\u001b[43m]\u001b[49m\u001b[43m,\u001b[49m\u001b[43mi\u001b[49m\u001b[43m[\u001b[49m\u001b[38;5;241;43m1\u001b[39;49m\u001b[43m]\u001b[49m\u001b[43m,\u001b[49m\u001b[43mwidth\u001b[49m\u001b[43m \u001b[49m\u001b[38;5;241;43m=\u001b[39;49m\u001b[43m \u001b[49m\u001b[38;5;241;43m2\u001b[39;49m\u001b[43m,\u001b[49m\u001b[43mcolor\u001b[49m\u001b[38;5;241;43m=\u001b[39;49m\u001b[38;5;124;43m'\u001b[39;49m\u001b[38;5;124;43mgrey\u001b[39;49m\u001b[38;5;124;43m'\u001b[39;49m\u001b[43m)\u001b[49m\n\u001b[0;32m     24\u001b[0m \u001b[38;5;28;01mfor\u001b[39;00m i \u001b[38;5;129;01min\u001b[39;00m re_df\u001b[38;5;241m.\u001b[39mto_numpy():\n\u001b[0;32m     25\u001b[0m   netWork\u001b[38;5;241m.\u001b[39madd_edge(i[\u001b[38;5;241m0\u001b[39m],i[\u001b[38;5;241m1\u001b[39m],width \u001b[38;5;241m=\u001b[39m \u001b[38;5;241m2\u001b[39m,color\u001b[38;5;241m=\u001b[39mi[\u001b[38;5;241m3\u001b[39m])\n",
      "File \u001b[1;32mc:\\Users\\hank\\Desktop\\sb\\.venv\\lib\\site-packages\\pyvis\\network.py:372\u001b[0m, in \u001b[0;36mNetwork.add_edge\u001b[1;34m(self, source, to, **options)\u001b[0m\n\u001b[0;32m    368\u001b[0m \u001b[38;5;66;03m# verify nodes exists\u001b[39;00m\n\u001b[0;32m    369\u001b[0m \u001b[38;5;28;01massert\u001b[39;00m source \u001b[38;5;129;01min\u001b[39;00m \u001b[38;5;28mself\u001b[39m\u001b[38;5;241m.\u001b[39mget_nodes(), \\\n\u001b[0;32m    370\u001b[0m     \u001b[38;5;124m\"\u001b[39m\u001b[38;5;124mnon existent node \u001b[39m\u001b[38;5;124m'\u001b[39m\u001b[38;5;124m\"\u001b[39m \u001b[38;5;241m+\u001b[39m \u001b[38;5;28mstr\u001b[39m(source) \u001b[38;5;241m+\u001b[39m \u001b[38;5;124m\"\u001b[39m\u001b[38;5;124m'\u001b[39m\u001b[38;5;124m\"\u001b[39m\n\u001b[1;32m--> 372\u001b[0m \u001b[38;5;28;01massert\u001b[39;00m to \u001b[38;5;129;01min\u001b[39;00m \u001b[38;5;28mself\u001b[39m\u001b[38;5;241m.\u001b[39mget_nodes(), \\\n\u001b[0;32m    373\u001b[0m     \u001b[38;5;124m\"\u001b[39m\u001b[38;5;124mnon existent node \u001b[39m\u001b[38;5;124m'\u001b[39m\u001b[38;5;124m\"\u001b[39m \u001b[38;5;241m+\u001b[39m \u001b[38;5;28mstr\u001b[39m(to) \u001b[38;5;241m+\u001b[39m \u001b[38;5;124m\"\u001b[39m\u001b[38;5;124m'\u001b[39m\u001b[38;5;124m\"\u001b[39m\n\u001b[0;32m    375\u001b[0m \u001b[38;5;66;03m# we only check existing edge for undirected graphs\u001b[39;00m\n\u001b[0;32m    376\u001b[0m \u001b[38;5;28;01mif\u001b[39;00m \u001b[38;5;129;01mnot\u001b[39;00m \u001b[38;5;28mself\u001b[39m\u001b[38;5;241m.\u001b[39mdirected:\n",
      "\u001b[1;31mAssertionError\u001b[0m: non existent node 'nan'"
     ]
    }
   ],
   "source": [
    "import pyvis\n",
    "from PIL import Image\n",
    "\n",
    "netWork = pyvis.network.Network(notebook=True, cdn_resources='in_line',directed=True)\n",
    "\n",
    "\n",
    "person = list(set(re_df.src.unique().tolist()))\n",
    "\n",
    "url = po_df.dis.unique().tolist()\n",
    "netWork.add_nodes(\n",
    "    nodes = person,\n",
    "    value = [1 for i in range(len(person))],\n",
    "    color = ['#66CDAA' for i in range(len(person))],\n",
    "    title = person\n",
    ")\n",
    "netWork.add_nodes(\n",
    "    nodes = url,\n",
    "    value = [2 for i in range(len(url))],\n",
    "    color = ['#FFB366' for i in range(len(url))],\n",
    "    title = url\n",
    ")\n",
    "for i in po_df.to_numpy():\n",
    "  netWork.add_edge(i[0],i[1],width = 2,color='grey')\n",
    "for i in re_df.to_numpy():\n",
    "  netWork.add_edge(i[0],i[1],width = 2,color=i[3])\n",
    "\n",
    "# 設定layout\n",
    "netWork.repulsion()\n",
    "\n",
    "netWork.save_graph('network.html')\n"
   ]
  },
  {
   "cell_type": "code",
   "execution_count": null,
   "metadata": {},
   "outputs": [],
   "source": []
  }
 ],
 "metadata": {
  "kernelspec": {
   "display_name": ".venv",
   "language": "python",
   "name": "python3"
  },
  "language_info": {
   "codemirror_mode": {
    "name": "ipython",
    "version": 3
   },
   "file_extension": ".py",
   "mimetype": "text/x-python",
   "name": "python",
   "nbconvert_exporter": "python",
   "pygments_lexer": "ipython3",
   "version": "3.10.11"
  },
  "orig_nbformat": 4
 },
 "nbformat": 4,
 "nbformat_minor": 2
}
